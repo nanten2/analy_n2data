{
 "cells": [
  {
   "cell_type": "code",
   "execution_count": 4,
   "metadata": {
    "collapsed": true
   },
   "outputs": [],
   "source": [
    "import sys\n",
    "sys.path.append(\"/home/amigos/shiotani/analy_n2data_1221/\")"
   ]
  },
  {
   "cell_type": "code",
   "execution_count": 5,
   "metadata": {},
   "outputs": [
    {
     "name": "stdout",
     "output_type": "stream",
     "text": [
      "1.4G\t/home/amigos/nfs_hdd2/data/observation/focus_planet/20191219_052723\n",
      "1.4G\t/home/amigos/nfs_hdd2/data/observation/focus_planet/20191219_053052\n",
      "2.5G\t/home/amigos/nfs_hdd2/data/observation/focus_planet/20191219_053512\n",
      "1.5G\t/home/amigos/nfs_hdd2/data/observation/focus_planet/20191219_075628\n",
      "1.2G\t/home/amigos/nfs_hdd2/data/observation/focus_planet/20191219_081925\n",
      "2.5M\t/home/amigos/nfs_hdd2/data/observation/focus_planet/20191219_083247\n",
      "1.5G\t/home/amigos/nfs_hdd2/data/observation/focus_planet/20191219_083432\n",
      "1.5G\t/home/amigos/nfs_hdd2/data/observation/focus_planet/20191219_085803\n",
      "1.5G\t/home/amigos/nfs_hdd2/data/observation/focus_planet/20191219_091559\n",
      "1.5G\t/home/amigos/nfs_hdd2/data/observation/focus_planet/20191219_093933\n",
      "1.5G\t/home/amigos/nfs_hdd2/data/observation/focus_planet/20191219_100457\n",
      "2.6G\t/home/amigos/nfs_hdd2/data/observation/focus_planet/20191224_070109\n",
      "157M\t/home/amigos/nfs_hdd2/data/observation/focus_planet/20191224_070741\n",
      "13G\t/home/amigos/nfs_hdd2/data/observation/focus_planet/20191224_070819\n",
      "12G\t/home/amigos/nfs_hdd2/data/observation/focus_planet/20191224_073306\n",
      "12G\t/home/amigos/nfs_hdd2/data/observation/focus_planet/20191224_075121\n",
      "27M\t/home/amigos/nfs_hdd2/data/observation/focus_planet/20191224_081245\n",
      "3.7G\t/home/amigos/nfs_hdd2/data/observation/focus_planet/20191224_081811\n",
      "12G\t/home/amigos/nfs_hdd2/data/observation/focus_planet/20191224_082905\n",
      "8.7G\t/home/amigos/nfs_hdd2/data/observation/focus_planet/20191224_084824\n",
      "8.0K\t/home/amigos/nfs_hdd2/data/observation/focus_planet/20191224_092756\n",
      "8.0K\t/home/amigos/nfs_hdd2/data/observation/focus_planet/20191224_094426\n"
     ]
    }
   ],
   "source": [
    "!du -sh /home/amigos/nfs_hdd2/data/observation/focus_planet/*"
   ]
  },
  {
   "cell_type": "code",
   "execution_count": 61,
   "metadata": {
    "collapsed": true
   },
   "outputs": [],
   "source": [
    "path = \"/home/amigos/nfs_hdd/data/observation/focus_planet/20191219_053512/\"\n",
    "path = \"/home/amigos/nfs_hdd/data/observation/focus_planet/20191219_075628/\"\n",
    "path = \"/home/amigos/nfs_hdd/data/observation/focus_planet/20191219_083432/\"\n",
    "path = \"/home/amigos/nfs_hdd/data/observation/focus_planet/20191219_085803/\"\n",
    "path = \"/home/amigos/nfs_hdd/data/observation/focus_planet/20191219_091559/\"\n",
    "path = \"/home/amigos/nfs_hdd2/data/observation/focus_planet/20191224_073306/\"\n",
    "#path = \"/home/amigos/nfs_hdd2/data/observation/focus_planet/20191224_070819/\"\n",
    "#path = \"/home/amigos/nfs_hdd2/data/observation/focus_planet/20191224_075121/\"\n",
    "#path = \"/home/amigos/nfs_hdd2/data/observation/focus_planet/20191224_082905/\"\n",
    "#path = \"/home/amigos/nfs_hdd2/data/observation/focus_planet/20191224_084824/\"\n",
    "path = \"/home/amigos/nfs_hdd3/data/observation/focus_planet/20191226_070413/\"\n",
    "path = \"/home/amigos/nfs_hdd3/data/observation/focus_planet/20191226_074204/\"\n",
    "path = \"/home/amigos/nfs_hdd3/data/observation/focus_planet/20191226_075811/\"\n",
    "path = \"/home/amigos/nfs_hdd3/data/observation/focus_planet/20191226_081830/\"\n",
    "path = \"/home/amigos/nfs_hdd3/data/observation/focus_planet/20191226_083630/\"\n",
    "path = \"/home/amigos/nfs_hdd3/data/observation/focus_planet/20191226_085212/\"\n",
    "path = \"/home/amigos/nfs_hdd/data/observation/focus_planet/20200320_033959/\"\n",
    "path = \"/home/amigos/nfs_hdd/data/observation/focus_planet/20200320_042448/\""
   ]
  },
  {
   "cell_type": "code",
   "execution_count": 62,
   "metadata": {
    "collapsed": true
   },
   "outputs": [],
   "source": [
    "import n2analy\n",
    "import numpy\n",
    "from scipy.optimize import curve_fit\n",
    "import matplotlib.pyplot as plt\n",
    "%matplotlib inline\n",
    "plt.rcParams[\"font.family\"] = \"Arial,freesans\"\n",
    "plt.rcParams[\"figure.facecolor\"] = \"white\"\n",
    "plt.rcParams[\"font.size\"] = 14"
   ]
  },
  {
   "cell_type": "code",
   "execution_count": 63,
   "metadata": {},
   "outputs": [
    {
     "name": "stderr",
     "output_type": "stream",
     "text": [
      "\r",
      "  0%|          | 0/3 [00:00<?, ?it/s]"
     ]
    },
    {
     "name": "stdout",
     "output_type": "stream",
     "text": [
      "read end\n",
      "HOT 1.0\n",
      "HOT 10.0\n",
      "HOT 11.0\n",
      "HOT 12.0\n",
      "HOT 13.0\n",
      "HOT 15.0\n",
      "HOT 2.0\n",
      "HOT 3.0\n",
      "HOT 4.0\n",
      "HOT 5.0\n",
      "HOT 6.0\n",
      "HOT 8.0\n",
      "HOT 9.0\n",
      "0.0 OFF -0.009999999776482582 0.0\n",
      "0.0 OFF -0.029999999329447746 0.0\n",
      "0.0 OFF -0.05000000074505806 0.0\n",
      "0.0 OFF -0.07000000029802322 0.0\n",
      "0.0 OFF -0.09000000357627869 0.0\n",
      "0.0 OFF -0.10999999940395355 0.0\n",
      "0.0 OFF -0.12999999523162842 0.0\n",
      "0.0 OFF -0.15000000596046448 0.0\n",
      "0.0 OFF -0.17000000178813934 0.0\n",
      "0.0 OFF -0.1899999976158142 0.0\n",
      "0.0 OFF -0.20999999344348907 0.0\n",
      "0.0 OFF -0.23000000417232513 0.0\n",
      "0.0 OFF -0.25 0.0\n",
      "0.0 OFF -0.25999999046325684 0.0\n",
      "0.0 OFF 0.0 0.0\n",
      "1.0 OFF -0.009999999776482582 0.0\n",
      "1.0 OFF -0.029999999329447746 0.0\n",
      "1.0 OFF -0.05000000074505806 0.0\n",
      "1.0 OFF -0.07000000029802322 0.0\n",
      "1.0 OFF -0.09000000357627869 0.0\n",
      "1.0 OFF -0.10999999940395355 0.0\n",
      "1.0 OFF -0.12999999523162842 0.0\n",
      "1.0 OFF -0.15000000596046448 0.0\n",
      "1.0 OFF -0.17000000178813934 0.0\n",
      "1.0 OFF -0.1899999976158142 0.0\n",
      "1.0 OFF -0.20999999344348907 0.0\n",
      "1.0 OFF -0.23000000417232513 0.0\n",
      "1.0 OFF -0.25 0.0\n",
      "1.0 OFF -0.2800000011920929 0.0\n",
      "1.0 OFF 0.0 0.0\n",
      "10.0 OFF -0.009999999776482582 0.0\n",
      "10.0 OFF -0.029999999329447746 0.0\n",
      "10.0 OFF -0.05000000074505806 0.0\n",
      "10.0 OFF -0.07000000029802322 0.0\n",
      "10.0 OFF -0.10999999940395355 0.0\n",
      "10.0 OFF -0.12999999523162842 0.0\n",
      "10.0 OFF -0.15000000596046448 0.0\n",
      "10.0 OFF -0.17000000178813934 0.0\n",
      "10.0 OFF -0.1899999976158142 0.0\n",
      "10.0 OFF -0.20999999344348907 0.0\n",
      "10.0 OFF -0.23000000417232513 0.0\n",
      "10.0 OFF -0.25 0.0\n",
      "10.0 OFF -0.25999999046325684 0.0\n",
      "10.0 OFF -0.2800000011920929 0.0\n",
      "10.0 OFF 0.0 0.0\n",
      "11.0 OFF -0.009999999776482582 0.0\n",
      "11.0 OFF -0.029999999329447746 0.0\n",
      "11.0 OFF -0.05000000074505806 0.0\n",
      "11.0 OFF -0.09000000357627869 0.0\n",
      "11.0 OFF -0.10999999940395355 0.0\n",
      "11.0 OFF -0.12999999523162842 0.0\n",
      "11.0 OFF -0.15000000596046448 0.0\n",
      "11.0 OFF -0.17000000178813934 0.0\n",
      "11.0 OFF -0.1899999976158142 0.0\n",
      "11.0 OFF -0.20999999344348907 0.0\n",
      "11.0 OFF -0.23000000417232513 0.0\n",
      "11.0 OFF -0.25 0.0\n",
      "11.0 OFF -0.25999999046325684 0.0\n",
      "11.0 OFF -0.2800000011920929 0.0\n",
      "11.0 OFF 0.0 0.0\n",
      "12.0 OFF -0.009999999776482582 0.0\n",
      "12.0 OFF -0.029999999329447746 0.0\n",
      "12.0 OFF -0.07000000029802322 0.0\n",
      "12.0 OFF -0.09000000357627869 0.0\n",
      "12.0 OFF -0.10999999940395355 0.0\n",
      "12.0 OFF -0.12999999523162842 0.0\n",
      "12.0 OFF -0.15000000596046448 0.0\n",
      "12.0 OFF -0.17000000178813934 0.0\n",
      "12.0 OFF -0.1899999976158142 0.0\n",
      "12.0 OFF -0.20999999344348907 0.0\n",
      "12.0 OFF -0.23000000417232513 0.0\n",
      "12.0 OFF -0.25 0.0\n",
      "12.0 OFF -0.25999999046325684 0.0\n",
      "12.0 OFF -0.2800000011920929 0.0\n",
      "12.0 OFF 0.0 0.0\n",
      "13.0 OFF -0.009999999776482582 0.0\n",
      "13.0 OFF -0.05000000074505806 0.0\n",
      "13.0 OFF -0.07000000029802322 0.0\n",
      "13.0 OFF -0.09000000357627869 0.0\n",
      "13.0 OFF -0.10999999940395355 0.0\n",
      "13.0 OFF -0.12999999523162842 0.0\n",
      "13.0 OFF -0.15000000596046448 0.0\n",
      "13.0 OFF -0.17000000178813934 0.0\n",
      "13.0 OFF -0.1899999976158142 0.0\n",
      "13.0 OFF -0.20999999344348907 0.0\n",
      "13.0 OFF -0.23000000417232513 0.0\n",
      "13.0 OFF -0.25 0.0\n",
      "13.0 OFF -0.25999999046325684 0.0\n",
      "13.0 OFF -0.2800000011920929 0.0\n",
      "13.0 OFF 0.0 0.0\n",
      "14.0 OFF -0.029999999329447746 0.0\n",
      "14.0 OFF -0.05000000074505806 0.0\n",
      "14.0 OFF -0.07000000029802322 0.0\n",
      "14.0 OFF -0.09000000357627869 0.0\n",
      "14.0 OFF -0.10999999940395355 0.0\n",
      "14.0 OFF -0.12999999523162842 0.0\n",
      "14.0 OFF -0.15000000596046448 0.0\n",
      "14.0 OFF -0.17000000178813934 0.0\n",
      "14.0 OFF -0.1899999976158142 0.0\n",
      "14.0 OFF -0.20999999344348907 0.0\n",
      "14.0 OFF -0.23000000417232513 0.0\n",
      "14.0 OFF -0.25 0.0\n",
      "14.0 OFF -0.25999999046325684 0.0\n",
      "14.0 OFF -0.2800000011920929 0.0\n",
      "14.0 OFF 0.0 0.0\n",
      "15.0 OFF -0.009999999776482582 0.0\n",
      "15.0 OFF -0.029999999329447746 0.0\n",
      "15.0 OFF -0.05000000074505806 0.0\n",
      "15.0 OFF -0.07000000029802322 0.0\n",
      "15.0 OFF -0.09000000357627869 0.0\n",
      "15.0 OFF -0.10999999940395355 0.0\n",
      "15.0 OFF -0.12999999523162842 0.0\n",
      "15.0 OFF -0.15000000596046448 0.0\n",
      "15.0 OFF -0.17000000178813934 0.0\n",
      "15.0 OFF -0.1899999976158142 0.0\n",
      "15.0 OFF -0.20999999344348907 0.0\n",
      "15.0 OFF -0.23000000417232513 0.0\n",
      "15.0 OFF -0.25 0.0\n",
      "15.0 OFF -0.25999999046325684 0.0\n",
      "15.0 OFF -0.2800000011920929 0.0\n",
      "16.0 OFF -0.009999999776482582 0.0\n",
      "16.0 OFF -0.029999999329447746 0.0\n",
      "16.0 OFF -0.05000000074505806 0.0\n",
      "16.0 OFF -0.07000000029802322 0.0\n",
      "16.0 OFF -0.09000000357627869 0.0\n",
      "16.0 OFF -0.10999999940395355 0.0\n",
      "16.0 OFF -0.12999999523162842 0.0\n",
      "16.0 OFF -0.15000000596046448 0.0\n",
      "16.0 OFF -0.17000000178813934 0.0\n",
      "16.0 OFF -0.1899999976158142 0.0\n",
      "16.0 OFF -0.20999999344348907 0.0\n",
      "16.0 OFF -0.23000000417232513 0.0\n",
      "16.0 OFF -0.25 0.0\n",
      "16.0 OFF -0.25999999046325684 0.0\n",
      "16.0 OFF -0.2800000011920929 0.0\n",
      "16.0 OFF 0.0 0.0\n",
      "2.0 OFF -0.009999999776482582 0.0\n",
      "2.0 OFF -0.029999999329447746 0.0\n",
      "2.0 OFF -0.05000000074505806 0.0\n",
      "2.0 OFF -0.07000000029802322 0.0\n",
      "2.0 OFF -0.09000000357627869 0.0\n",
      "2.0 OFF -0.10999999940395355 0.0\n",
      "2.0 OFF -0.12999999523162842 0.0\n",
      "2.0 OFF -0.15000000596046448 0.0\n",
      "2.0 OFF -0.17000000178813934 0.0\n",
      "2.0 OFF -0.1899999976158142 0.0\n",
      "2.0 OFF -0.20999999344348907 0.0\n",
      "2.0 OFF -0.23000000417232513 0.0\n",
      "2.0 OFF -0.25999999046325684 0.0\n",
      "2.0 OFF -0.2800000011920929 0.0\n",
      "2.0 OFF 0.0 0.0\n",
      "3.0 OFF -0.009999999776482582 0.0\n",
      "3.0 OFF -0.029999999329447746 0.0\n",
      "3.0 OFF -0.05000000074505806 0.0\n",
      "3.0 OFF -0.07000000029802322 0.0\n",
      "3.0 OFF -0.09000000357627869 0.0\n",
      "3.0 OFF -0.10999999940395355 0.0\n",
      "3.0 OFF -0.12999999523162842 0.0\n",
      "3.0 OFF -0.15000000596046448 0.0\n",
      "3.0 OFF -0.17000000178813934 0.0\n",
      "3.0 OFF -0.1899999976158142 0.0\n",
      "3.0 OFF -0.20999999344348907 0.0\n",
      "3.0 OFF -0.25 0.0\n",
      "3.0 OFF -0.25999999046325684 0.0\n",
      "3.0 OFF -0.2800000011920929 0.0\n",
      "3.0 OFF 0.0 0.0\n",
      "4.0 OFF -0.009999999776482582 0.0\n",
      "4.0 OFF -0.029999999329447746 0.0\n",
      "4.0 OFF -0.05000000074505806 0.0\n",
      "4.0 OFF -0.07000000029802322 0.0\n",
      "4.0 OFF -0.09000000357627869 0.0\n",
      "4.0 OFF -0.10999999940395355 0.0\n",
      "4.0 OFF -0.12999999523162842 0.0\n",
      "4.0 OFF -0.15000000596046448 0.0\n",
      "4.0 OFF -0.17000000178813934 0.0\n",
      "4.0 OFF -0.1899999976158142 0.0\n",
      "4.0 OFF -0.23000000417232513 0.0\n",
      "4.0 OFF -0.25 0.0\n",
      "4.0 OFF -0.25999999046325684 0.0\n",
      "4.0 OFF -0.2800000011920929 0.0\n",
      "4.0 OFF 0.0 0.0\n",
      "5.0 OFF -0.009999999776482582 0.0\n",
      "5.0 OFF -0.029999999329447746 0.0\n",
      "5.0 OFF -0.05000000074505806 0.0\n",
      "5.0 OFF -0.07000000029802322 0.0\n",
      "5.0 OFF -0.09000000357627869 0.0\n",
      "5.0 OFF -0.10999999940395355 0.0\n",
      "5.0 OFF -0.12999999523162842 0.0\n",
      "5.0 OFF -0.15000000596046448 0.0\n",
      "5.0 OFF -0.17000000178813934 0.0\n",
      "5.0 OFF -0.20999999344348907 0.0\n",
      "5.0 OFF -0.23000000417232513 0.0\n",
      "5.0 OFF -0.25 0.0\n",
      "5.0 OFF -0.25999999046325684 0.0\n",
      "5.0 OFF -0.2800000011920929 0.0\n",
      "5.0 OFF 0.0 0.0\n",
      "6.0 OFF -0.009999999776482582 0.0\n",
      "6.0 OFF -0.029999999329447746 0.0\n",
      "6.0 OFF -0.05000000074505806 0.0\n",
      "6.0 OFF -0.07000000029802322 0.0\n",
      "6.0 OFF -0.09000000357627869 0.0\n",
      "6.0 OFF -0.10999999940395355 0.0\n",
      "6.0 OFF -0.12999999523162842 0.0\n",
      "6.0 OFF -0.15000000596046448 0.0\n",
      "6.0 OFF -0.1899999976158142 0.0\n",
      "6.0 OFF -0.20999999344348907 0.0\n",
      "6.0 OFF -0.23000000417232513 0.0\n",
      "6.0 OFF -0.25 0.0\n",
      "6.0 OFF -0.25999999046325684 0.0\n",
      "6.0 OFF -0.2800000011920929 0.0\n",
      "6.0 OFF 0.0 0.0\n",
      "7.0 OFF -0.009999999776482582 0.0\n",
      "7.0 OFF -0.029999999329447746 0.0\n",
      "7.0 OFF -0.05000000074505806 0.0\n",
      "7.0 OFF -0.07000000029802322 0.0\n"
     ]
    },
    {
     "name": "stderr",
     "output_type": "stream",
     "text": [
      "\r",
      " 67%|██████▋   | 2/3 [00:00<00:00,  9.72it/s]"
     ]
    },
    {
     "name": "stdout",
     "output_type": "stream",
     "text": [
      "7.0 OFF -0.09000000357627869 0.0\n",
      "7.0 OFF -0.10999999940395355 0.0\n",
      "7.0 OFF -0.12999999523162842 0.0\n",
      "7.0 OFF -0.17000000178813934 0.0\n",
      "7.0 OFF -0.1899999976158142 0.0\n",
      "7.0 OFF -0.20999999344348907 0.0\n",
      "7.0 OFF -0.23000000417232513 0.0\n",
      "7.0 OFF -0.25 0.0\n",
      "7.0 OFF -0.25999999046325684 0.0\n",
      "7.0 OFF -0.2800000011920929 0.0\n",
      "7.0 OFF 0.0 0.0\n",
      "8.0 OFF -0.009999999776482582 0.0\n",
      "8.0 OFF -0.029999999329447746 0.0\n",
      "8.0 OFF -0.05000000074505806 0.0\n",
      "8.0 OFF -0.07000000029802322 0.0\n",
      "8.0 OFF -0.09000000357627869 0.0\n",
      "8.0 OFF -0.10999999940395355 0.0\n",
      "8.0 OFF -0.15000000596046448 0.0\n",
      "8.0 OFF -0.17000000178813934 0.0\n",
      "8.0 OFF -0.1899999976158142 0.0\n",
      "8.0 OFF -0.20999999344348907 0.0\n",
      "8.0 OFF -0.23000000417232513 0.0\n",
      "8.0 OFF -0.25 0.0\n",
      "8.0 OFF -0.25999999046325684 0.0\n",
      "8.0 OFF -0.2800000011920929 0.0\n",
      "8.0 OFF 0.0 0.0\n",
      "9.0 OFF -0.009999999776482582 0.0\n",
      "9.0 OFF -0.029999999329447746 0.0\n",
      "9.0 OFF -0.05000000074505806 0.0\n",
      "9.0 OFF -0.07000000029802322 0.0\n",
      "9.0 OFF -0.09000000357627869 0.0\n",
      "9.0 OFF -0.12999999523162842 0.0\n",
      "9.0 OFF -0.15000000596046448 0.0\n",
      "9.0 OFF -0.17000000178813934 0.0\n",
      "9.0 OFF -0.1899999976158142 0.0\n",
      "9.0 OFF -0.20999999344348907 0.0\n",
      "9.0 OFF -0.23000000417232513 0.0\n",
      "9.0 OFF -0.25 0.0\n",
      "9.0 OFF -0.25999999046325684 0.0\n",
      "9.0 OFF -0.2800000011920929 0.0\n",
      "9.0 OFF 0.0 0.0\n",
      "0.0 ON -0.009999999776482582 0.0\n",
      "0.0 ON -0.029999999329447746 0.0\n",
      "0.0 ON -0.05000000074505806 0.0\n",
      "0.0 ON -0.07000000029802322 0.0\n",
      "0.0 ON -0.09000000357627869 0.0\n",
      "0.0 ON -0.10999999940395355 0.0\n",
      "0.0 ON -0.12999999523162842 0.0\n",
      "0.0 ON -0.15000000596046448 0.0\n",
      "0.0 ON -0.17000000178813934 0.0\n",
      "0.0 ON -0.1899999976158142 0.0\n",
      "0.0 ON -0.20999999344348907 0.0\n",
      "0.0 ON -0.23000000417232513 0.0\n",
      "0.0 ON -0.25 0.0\n",
      "0.0 ON -0.25999999046325684 0.0\n",
      "0.0 ON 0.0 0.0\n",
      "1.0 ON -0.009999999776482582 0.0\n",
      "1.0 ON -0.029999999329447746 0.0\n",
      "1.0 ON -0.05000000074505806 0.0\n",
      "1.0 ON -0.07000000029802322 0.0\n",
      "1.0 ON -0.09000000357627869 0.0\n",
      "1.0 ON -0.10999999940395355 0.0\n",
      "1.0 ON -0.12999999523162842 0.0\n",
      "1.0 ON -0.15000000596046448 0.0\n",
      "1.0 ON -0.17000000178813934 0.0\n",
      "1.0 ON -0.1899999976158142 0.0\n",
      "1.0 ON -0.20999999344348907 0.0\n",
      "1.0 ON -0.23000000417232513 0.0\n",
      "1.0 ON -0.25 0.0\n",
      "1.0 ON -0.2800000011920929 0.0\n",
      "1.0 ON 0.0 0.0\n",
      "10.0 ON -0.009999999776482582 0.0\n",
      "10.0 ON -0.029999999329447746 0.0\n",
      "10.0 ON -0.05000000074505806 0.0\n",
      "10.0 ON -0.07000000029802322 0.0\n",
      "10.0 ON -0.10999999940395355 0.0\n",
      "10.0 ON -0.12999999523162842 0.0\n",
      "10.0 ON -0.15000000596046448 0.0\n",
      "10.0 ON -0.17000000178813934 0.0\n",
      "10.0 ON -0.1899999976158142 0.0\n",
      "10.0 ON -0.20999999344348907 0.0\n",
      "10.0 ON -0.23000000417232513 0.0\n",
      "10.0 ON -0.25 0.0\n",
      "10.0 ON -0.25999999046325684 0.0\n",
      "10.0 ON -0.2800000011920929 0.0\n",
      "10.0 ON 0.0 0.0\n",
      "11.0 ON -0.009999999776482582 0.0\n",
      "11.0 ON -0.029999999329447746 0.0\n",
      "11.0 ON -0.05000000074505806 0.0\n",
      "11.0 ON -0.09000000357627869 0.0\n",
      "11.0 ON -0.10999999940395355 0.0\n",
      "11.0 ON -0.12999999523162842 0.0\n",
      "11.0 ON -0.15000000596046448 0.0\n",
      "11.0 ON -0.17000000178813934 0.0\n",
      "11.0 ON -0.1899999976158142 0.0\n",
      "11.0 ON -0.20999999344348907 0.0\n",
      "11.0 ON -0.23000000417232513 0.0\n",
      "11.0 ON -0.25 0.0\n",
      "11.0 ON -0.25999999046325684 0.0\n",
      "11.0 ON -0.2800000011920929 0.0\n",
      "11.0 ON 0.0 0.0\n",
      "12.0 ON -0.009999999776482582 0.0\n",
      "12.0 ON -0.029999999329447746 0.0\n",
      "12.0 ON -0.07000000029802322 0.0\n",
      "12.0 ON -0.09000000357627869 0.0\n",
      "12.0 ON -0.10999999940395355 0.0\n",
      "12.0 ON -0.12999999523162842 0.0\n",
      "12.0 ON -0.15000000596046448 0.0\n",
      "12.0 ON -0.17000000178813934 0.0\n",
      "12.0 ON -0.1899999976158142 0.0\n",
      "12.0 ON -0.20999999344348907 0.0\n",
      "12.0 ON -0.23000000417232513 0.0\n",
      "12.0 ON -0.25 0.0\n",
      "12.0 ON -0.25999999046325684 0.0\n",
      "12.0 ON -0.2800000011920929 0.0\n",
      "12.0 ON 0.0 0.0\n",
      "13.0 ON -0.009999999776482582 0.0\n",
      "13.0 ON -0.05000000074505806 0.0\n",
      "13.0 ON -0.07000000029802322 0.0\n",
      "13.0 ON -0.09000000357627869 0.0\n",
      "13.0 ON -0.10999999940395355 0.0\n",
      "13.0 ON -0.12999999523162842 0.0\n",
      "13.0 ON -0.15000000596046448 0.0\n",
      "13.0 ON -0.17000000178813934 0.0\n",
      "13.0 ON -0.1899999976158142 0.0\n",
      "13.0 ON -0.20999999344348907 0.0\n",
      "13.0 ON -0.23000000417232513 0.0\n",
      "13.0 ON -0.25 0.0\n",
      "13.0 ON -0.25999999046325684 0.0\n",
      "13.0 ON -0.2800000011920929 0.0\n",
      "13.0 ON 0.0 0.0\n",
      "14.0 ON -0.029999999329447746 0.0\n",
      "14.0 ON -0.05000000074505806 0.0\n",
      "14.0 ON -0.07000000029802322 0.0\n",
      "14.0 ON -0.09000000357627869 0.0\n",
      "14.0 ON -0.10999999940395355 0.0\n",
      "14.0 ON -0.12999999523162842 0.0\n",
      "14.0 ON -0.15000000596046448 0.0\n",
      "14.0 ON -0.17000000178813934 0.0\n",
      "14.0 ON -0.1899999976158142 0.0\n",
      "14.0 ON -0.20999999344348907 0.0\n",
      "14.0 ON -0.23000000417232513 0.0\n",
      "14.0 ON -0.25 0.0\n",
      "14.0 ON -0.25999999046325684 0.0\n",
      "14.0 ON -0.2800000011920929 0.0\n",
      "14.0 ON 0.0 0.0\n",
      "15.0 ON -0.009999999776482582 0.0\n",
      "15.0 ON -0.029999999329447746 0.0\n",
      "15.0 ON -0.05000000074505806 0.0\n",
      "15.0 ON -0.07000000029802322 0.0\n",
      "15.0 ON -0.09000000357627869 0.0\n",
      "15.0 ON -0.10999999940395355 0.0\n",
      "15.0 ON -0.12999999523162842 0.0\n",
      "15.0 ON -0.15000000596046448 0.0\n",
      "15.0 ON -0.17000000178813934 0.0\n",
      "15.0 ON -0.1899999976158142 0.0\n",
      "15.0 ON -0.20999999344348907 0.0\n",
      "15.0 ON -0.23000000417232513 0.0\n",
      "15.0 ON -0.25 0.0\n",
      "15.0 ON -0.25999999046325684 0.0\n",
      "15.0 ON -0.2800000011920929 0.0\n",
      "16.0 ON -0.009999999776482582 0.0\n",
      "16.0 ON -0.029999999329447746 0.0\n",
      "16.0 ON -0.05000000074505806 0.0\n",
      "16.0 ON -0.07000000029802322 0.0\n",
      "16.0 ON -0.09000000357627869 0.0\n",
      "16.0 ON -0.10999999940395355 0.0\n",
      "16.0 ON -0.12999999523162842 0.0\n",
      "16.0 ON -0.15000000596046448 0.0\n",
      "16.0 ON -0.17000000178813934 0.0\n",
      "16.0 ON -0.1899999976158142 0.0\n",
      "16.0 ON -0.20999999344348907 0.0\n",
      "16.0 ON -0.23000000417232513 0.0\n",
      "16.0 ON -0.25 0.0\n",
      "16.0 ON -0.25999999046325684 0.0\n",
      "16.0 ON -0.2800000011920929 0.0\n",
      "16.0 ON 0.0 0.0\n",
      "2.0 ON -0.009999999776482582 0.0\n",
      "2.0 ON -0.029999999329447746 0.0\n",
      "2.0 ON -0.05000000074505806 0.0\n",
      "2.0 ON -0.07000000029802322 0.0\n",
      "2.0 ON -0.09000000357627869 0.0\n",
      "2.0 ON -0.10999999940395355 0.0\n",
      "2.0 ON -0.12999999523162842 0.0\n",
      "2.0 ON -0.15000000596046448 0.0\n",
      "2.0 ON -0.17000000178813934 0.0\n",
      "2.0 ON -0.1899999976158142 0.0\n",
      "2.0 ON -0.20999999344348907 0.0\n",
      "2.0 ON -0.23000000417232513 0.0\n",
      "2.0 ON -0.25999999046325684 0.0\n",
      "2.0 ON -0.2800000011920929 0.0\n",
      "2.0 ON 0.0 0.0\n",
      "3.0 ON -0.009999999776482582 0.0\n",
      "3.0 ON -0.029999999329447746 0.0\n",
      "3.0 ON -0.05000000074505806 0.0\n",
      "3.0 ON -0.07000000029802322 0.0\n",
      "3.0 ON -0.09000000357627869 0.0\n",
      "3.0 ON -0.10999999940395355 0.0\n",
      "3.0 ON -0.12999999523162842 0.0\n",
      "3.0 ON -0.15000000596046448 0.0\n",
      "3.0 ON -0.17000000178813934 0.0\n",
      "3.0 ON -0.1899999976158142 0.0\n",
      "3.0 ON -0.20999999344348907 0.0\n",
      "3.0 ON -0.25 0.0\n",
      "3.0 ON -0.25999999046325684 0.0\n",
      "3.0 ON -0.2800000011920929 0.0\n",
      "3.0 ON 0.0 0.0\n",
      "4.0 ON -0.009999999776482582 0.0\n",
      "4.0 ON -0.029999999329447746 0.0\n",
      "4.0 ON -0.05000000074505806 0.0\n",
      "4.0 ON -0.07000000029802322 0.0\n",
      "4.0 ON -0.09000000357627869 0.0\n",
      "4.0 ON -0.10999999940395355 0.0\n",
      "4.0 ON -0.12999999523162842 0.0\n",
      "4.0 ON -0.15000000596046448 0.0\n",
      "4.0 ON -0.17000000178813934 0.0\n",
      "4.0 ON -0.1899999976158142 0.0\n",
      "4.0 ON -0.23000000417232513 0.0\n",
      "4.0 ON -0.25 0.0\n",
      "4.0 ON -0.25999999046325684 0.0\n",
      "4.0 ON -0.2800000011920929 0.0\n",
      "4.0 ON 0.0 0.0\n",
      "5.0 ON -0.009999999776482582 0.0\n",
      "5.0 ON -0.029999999329447746 0.0\n",
      "5.0 ON -0.05000000074505806 0.0\n",
      "5.0 ON -0.07000000029802322 0.0\n",
      "5.0 ON -0.09000000357627869 0.0\n",
      "5.0 ON -0.10999999940395355 0.0\n",
      "5.0 ON -0.12999999523162842 0.0\n",
      "5.0 ON -0.15000000596046448 0.0\n",
      "5.0 ON -0.17000000178813934 0.0\n",
      "5.0 ON -0.20999999344348907 0.0\n",
      "5.0 ON -0.23000000417232513 0.0\n"
     ]
    },
    {
     "name": "stderr",
     "output_type": "stream",
     "text": [
      "100%|██████████| 3/3 [00:00<00:00,  7.02it/s]"
     ]
    },
    {
     "name": "stdout",
     "output_type": "stream",
     "text": [
      "5.0 ON -0.25 0.0\n",
      "5.0 ON -0.25999999046325684 0.0\n",
      "5.0 ON -0.2800000011920929 0.0\n",
      "5.0 ON 0.0 0.0\n",
      "6.0 ON -0.009999999776482582 0.0\n",
      "6.0 ON -0.029999999329447746 0.0\n",
      "6.0 ON -0.05000000074505806 0.0\n",
      "6.0 ON -0.07000000029802322 0.0\n",
      "6.0 ON -0.09000000357627869 0.0\n",
      "6.0 ON -0.10999999940395355 0.0\n",
      "6.0 ON -0.12999999523162842 0.0\n",
      "6.0 ON -0.15000000596046448 0.0\n",
      "6.0 ON -0.1899999976158142 0.0\n",
      "6.0 ON -0.20999999344348907 0.0\n",
      "6.0 ON -0.23000000417232513 0.0\n",
      "6.0 ON -0.25 0.0\n",
      "6.0 ON -0.25999999046325684 0.0\n",
      "6.0 ON -0.2800000011920929 0.0\n",
      "6.0 ON 0.0 0.0\n",
      "7.0 ON -0.009999999776482582 0.0\n",
      "7.0 ON -0.029999999329447746 0.0\n",
      "7.0 ON -0.05000000074505806 0.0\n",
      "7.0 ON -0.07000000029802322 0.0\n",
      "7.0 ON -0.09000000357627869 0.0\n",
      "7.0 ON -0.10999999940395355 0.0\n",
      "7.0 ON -0.12999999523162842 0.0\n",
      "7.0 ON -0.17000000178813934 0.0\n",
      "7.0 ON -0.1899999976158142 0.0\n",
      "7.0 ON -0.20999999344348907 0.0\n",
      "7.0 ON -0.23000000417232513 0.0\n",
      "7.0 ON -0.25 0.0\n",
      "7.0 ON -0.25999999046325684 0.0\n",
      "7.0 ON -0.2800000011920929 0.0\n",
      "7.0 ON 0.0 0.0\n",
      "8.0 ON -0.009999999776482582 0.0\n",
      "8.0 ON -0.029999999329447746 0.0\n",
      "8.0 ON -0.05000000074505806 0.0\n",
      "8.0 ON -0.07000000029802322 0.0\n",
      "8.0 ON -0.09000000357627869 0.0\n",
      "8.0 ON -0.10999999940395355 0.0\n",
      "8.0 ON -0.15000000596046448 0.0\n",
      "8.0 ON -0.17000000178813934 0.0\n",
      "8.0 ON -0.1899999976158142 0.0\n",
      "8.0 ON -0.20999999344348907 0.0\n",
      "8.0 ON -0.23000000417232513 0.0\n",
      "8.0 ON -0.25 0.0\n",
      "8.0 ON -0.25999999046325684 0.0\n",
      "8.0 ON -0.2800000011920929 0.0\n",
      "8.0 ON 0.0 0.0\n",
      "9.0 ON -0.009999999776482582 0.0\n",
      "9.0 ON -0.029999999329447746 0.0\n",
      "9.0 ON -0.05000000074505806 0.0\n",
      "9.0 ON -0.07000000029802322 0.0\n",
      "9.0 ON -0.09000000357627869 0.0\n",
      "9.0 ON -0.12999999523162842 0.0\n",
      "9.0 ON -0.15000000596046448 0.0\n",
      "9.0 ON -0.17000000178813934 0.0\n",
      "9.0 ON -0.1899999976158142 0.0\n",
      "9.0 ON -0.20999999344348907 0.0\n",
      "9.0 ON -0.23000000417232513 0.0\n",
      "9.0 ON -0.25 0.0\n",
      "9.0 ON -0.25999999046325684 0.0\n",
      "9.0 ON -0.2800000011920929 0.0\n",
      "9.0 ON 0.0 0.0\n"
     ]
    },
    {
     "name": "stderr",
     "output_type": "stream",
     "text": [
      "\n"
     ]
    }
   ],
   "source": [
    "IF = \"2\"\n",
    "#data = n2analy.get_data(path, IF)\n",
    "data = n2analy.get_ac240data(path , IF)"
   ]
  },
  {
   "cell_type": "code",
   "execution_count": 64,
   "metadata": {
    "collapsed": true
   },
   "outputs": [],
   "source": [
    "onmask = data[\"obsmode\"] == \"ON\"\n",
    "offmask = data[\"obsmode\"] == \"OFF\"\n",
    "hotmask = data[\"obsmode\"] == \"HOT\""
   ]
  },
  {
   "cell_type": "code",
   "execution_count": 65,
   "metadata": {
    "collapsed": true
   },
   "outputs": [],
   "source": [
    "scannum = data[\"scannum\"]"
   ]
  },
  {
   "cell_type": "code",
   "execution_count": 66,
   "metadata": {
    "collapsed": true
   },
   "outputs": [],
   "source": [
    "scans = numpy.unique(scannum)"
   ]
  },
  {
   "cell_type": "code",
   "execution_count": 67,
   "metadata": {},
   "outputs": [
    {
     "data": {
      "text/plain": [
       "[<matplotlib.lines.Line2D at 0x7efe40af8358>]"
      ]
     },
     "execution_count": 67,
     "metadata": {},
     "output_type": "execute_result"
    },
    {
     "data": {
      "image/png": "[encoded data removed]",
      "text/plain": [
       "<matplotlib.figure.Figure at 0x7efe3e58ff98>"
      ]
     },
     "metadata": {},
     "output_type": "display_data"
    }
   ],
   "source": [
    "plt.plot(onmask)\n",
    "# plt.plot(offmask)\n",
    "# plt.plot(hotmask)\n",
    "# plt.plot(scannum)"
   ]
  },
  {
   "cell_type": "code",
   "execution_count": 68,
   "metadata": {
    "collapsed": true
   },
   "outputs": [],
   "source": [
    "#scannum = scannum.astype(numpy.float64)"
   ]
  },
  {
   "cell_type": "code",
   "execution_count": 69,
   "metadata": {
    "collapsed": true
   },
   "outputs": [],
   "source": [
    "scans = scans[1:]\n",
    "#scans = scans.astype(numpy.float64)"
   ]
  },
  {
   "cell_type": "code",
   "execution_count": 70,
   "metadata": {
    "collapsed": true
   },
   "outputs": [],
   "source": [
    "#scans.sort()"
   ]
  },
  {
   "cell_type": "code",
   "execution_count": 71,
   "metadata": {},
   "outputs": [
    {
     "name": "stdout",
     "output_type": "stream",
     "text": [
      "0.0\n",
      "1.0\n",
      "10.0\n",
      "11.0\n",
      "12.0\n",
      "13.0\n",
      "14.0\n",
      "15.0\n",
      "16.0\n",
      "index 0 is out of bounds for axis 0 with size 0\n",
      "2.0\n",
      "3.0\n",
      "4.0\n",
      "5.0\n",
      "6.0\n",
      "7.0\n",
      "8.0\n",
      "9.0\n"
     ]
    }
   ],
   "source": [
    "onlist = []\n",
    "x = []\n",
    "for i in scans:\n",
    "    print(i)\n",
    "    try:\n",
    "        mask = scannum == i\n",
    "        masks = numpy.logical_and(onmask, mask)\n",
    "        x.append(numpy.unique(data[\"x\"][masks])[0])\n",
    "        onlist.append(numpy.mean(data[masks], axis=0))\n",
    "        #x.append(i)\n",
    "    except Exception as e:\n",
    "        print(e)"
   ]
  },
  {
   "cell_type": "code",
   "execution_count": 72,
   "metadata": {},
   "outputs": [
    {
     "name": "stderr",
     "output_type": "stream",
     "text": [
      "/home/amigos/.pyenv/versions/anaconda3-4.4.0/lib/python3.6/site-packages/xarray/core/nanops.py:140: RuntimeWarning: Mean of empty slice\n",
      "  return np.nanmean(a, axis=axis, dtype=dtype)\n"
     ]
    }
   ],
   "source": [
    "offlist = []\n",
    "for i in scans:\n",
    "    mask = scannum == i\n",
    "    masks = numpy.logical_and(offmask, mask)\n",
    "    offlist.append(numpy.mean(data[masks], axis=0))"
   ]
  },
  {
   "cell_type": "code",
   "execution_count": 73,
   "metadata": {},
   "outputs": [
    {
     "name": "stderr",
     "output_type": "stream",
     "text": [
      "/home/amigos/.pyenv/versions/anaconda3-4.4.0/lib/python3.6/site-packages/xarray/core/nanops.py:140: RuntimeWarning: Mean of empty slice\n",
      "  return np.nanmean(a, axis=axis, dtype=dtype)\n",
      "/home/amigos/.pyenv/versions/anaconda3-4.4.0/lib/python3.6/site-packages/xarray/core/nanops.py:140: RuntimeWarning: Mean of empty slice\n",
      "  return np.nanmean(a, axis=axis, dtype=dtype)\n",
      "/home/amigos/.pyenv/versions/anaconda3-4.4.0/lib/python3.6/site-packages/xarray/core/nanops.py:140: RuntimeWarning: Mean of empty slice\n",
      "  return np.nanmean(a, axis=axis, dtype=dtype)\n",
      "/home/amigos/.pyenv/versions/anaconda3-4.4.0/lib/python3.6/site-packages/xarray/core/nanops.py:140: RuntimeWarning: Mean of empty slice\n",
      "  return np.nanmean(a, axis=axis, dtype=dtype)\n",
      "/home/amigos/.pyenv/versions/anaconda3-4.4.0/lib/python3.6/site-packages/xarray/core/nanops.py:140: RuntimeWarning: Mean of empty slice\n",
      "  return np.nanmean(a, axis=axis, dtype=dtype)\n",
      "/home/amigos/.pyenv/versions/anaconda3-4.4.0/lib/python3.6/site-packages/xarray/core/nanops.py:140: RuntimeWarning: Mean of empty slice\n",
      "  return np.nanmean(a, axis=axis, dtype=dtype)\n",
      "/home/amigos/.pyenv/versions/anaconda3-4.4.0/lib/python3.6/site-packages/xarray/core/nanops.py:140: RuntimeWarning: Mean of empty slice\n",
      "  return np.nanmean(a, axis=axis, dtype=dtype)\n",
      "/home/amigos/.pyenv/versions/anaconda3-4.4.0/lib/python3.6/site-packages/xarray/core/nanops.py:140: RuntimeWarning: Mean of empty slice\n",
      "  return np.nanmean(a, axis=axis, dtype=dtype)\n",
      "/home/amigos/.pyenv/versions/anaconda3-4.4.0/lib/python3.6/site-packages/xarray/core/nanops.py:140: RuntimeWarning: Mean of empty slice\n",
      "  return np.nanmean(a, axis=axis, dtype=dtype)\n",
      "/home/amigos/.pyenv/versions/anaconda3-4.4.0/lib/python3.6/site-packages/xarray/core/nanops.py:140: RuntimeWarning: Mean of empty slice\n",
      "  return np.nanmean(a, axis=axis, dtype=dtype)\n",
      "/home/amigos/.pyenv/versions/anaconda3-4.4.0/lib/python3.6/site-packages/xarray/core/nanops.py:140: RuntimeWarning: Mean of empty slice\n",
      "  return np.nanmean(a, axis=axis, dtype=dtype)\n",
      "/home/amigos/.pyenv/versions/anaconda3-4.4.0/lib/python3.6/site-packages/xarray/core/nanops.py:140: RuntimeWarning: Mean of empty slice\n",
      "  return np.nanmean(a, axis=axis, dtype=dtype)\n",
      "/home/amigos/.pyenv/versions/anaconda3-4.4.0/lib/python3.6/site-packages/xarray/core/nanops.py:140: RuntimeWarning: Mean of empty slice\n",
      "  return np.nanmean(a, axis=axis, dtype=dtype)\n"
     ]
    }
   ],
   "source": [
    "hotlist = []\n",
    "for i in scans:\n",
    "    mask = scannum == i\n",
    "    masks = numpy.logical_and(hotmask, mask)\n",
    "    hotlist.append(numpy.mean(data[masks], axis=0))"
   ]
  },
  {
   "cell_type": "code",
   "execution_count": 77,
   "metadata": {
    "collapsed": true
   },
   "outputs": [],
   "source": [
    "Ta = []\n",
    "for i in range(len(onlist)):\n",
    "    Ta.append(300*(onlist[i] - offlist[i])/(hotlist[0] - offlist[i]))"
   ]
  },
  {
   "cell_type": "code",
   "execution_count": 75,
   "metadata": {
    "collapsed": true
   },
   "outputs": [],
   "source": [
    "def f(x, a, b, c, d):\n",
    "    return a*x**3 + b*x**2+ c*x + d\n",
    "\n",
    "def f(x, c, d):\n",
    "    return c*x + d"
   ]
  },
  {
   "cell_type": "code",
   "execution_count": 30,
   "metadata": {},
   "outputs": [
    {
     "data": {
      "text/plain": [
       "[<xarray.DataArray (GHz: 16384)>\n",
       " array([3.21998787e+08, 2.10798597e+05, 2.21578266e+05, ...,\n",
       "        5.39412757e+06, 5.38516777e+06, 5.39576611e+06])\n",
       " Coordinates:\n",
       "   * GHz      (GHz) float64 0.0 6.104e-05 0.0001221 ... 0.9998 0.9999 0.9999,\n",
       " <xarray.DataArray (GHz: 16384)>\n",
       " array([3.21817640e+08, 2.13923268e+05, 2.23744268e+05, ...,\n",
       "        5.31501282e+06, 5.32192456e+06, 5.32646295e+06])\n",
       " Coordinates:\n",
       "   * GHz      (GHz) float64 0.0 6.104e-05 0.0001221 ... 0.9998 0.9999 0.9999,\n",
       " <xarray.DataArray (GHz: 16384)>\n",
       " array([3.26495615e+08, 2.11237828e+05, 2.22918111e+05, ...,\n",
       "        5.37883343e+06, 5.39077103e+06, 5.37323778e+06])\n",
       " Coordinates:\n",
       "   * GHz      (GHz) float64 0.0 6.104e-05 0.0001221 ... 0.9998 0.9999 0.9999,\n",
       " <xarray.DataArray (GHz: 16384)>\n",
       " array([3.20677526e+08, 2.14113000e+05, 2.24688070e+05, ...,\n",
       "        5.33384862e+06, 5.32336309e+06, 5.31900990e+06])\n",
       " Coordinates:\n",
       "   * GHz      (GHz) float64 0.0 6.104e-05 0.0001221 ... 0.9998 0.9999 0.9999,\n",
       " <xarray.DataArray (GHz: 16384)>\n",
       " array([3.20309306e+08, 2.15524579e+05, 2.25904379e+05, ...,\n",
       "        5.35850889e+06, 5.34069606e+06, 5.33941056e+06])\n",
       " Coordinates:\n",
       "   * GHz      (GHz) float64 0.0 6.104e-05 0.0001221 ... 0.9998 0.9999 0.9999,\n",
       " <xarray.DataArray (GHz: 16384)>\n",
       " array([3.25720704e+08, 2.16195256e+05, 2.25251152e+05, ...,\n",
       "        5.36032253e+06, 5.35264450e+06, 5.34617318e+06])\n",
       " Coordinates:\n",
       "   * GHz      (GHz) float64 0.0 6.104e-05 0.0001221 ... 0.9998 0.9999 0.9999,\n",
       " <xarray.DataArray (GHz: 16384)>\n",
       " array([3.21702917e+08, 2.15763042e+05, 2.24707611e+05, ...,\n",
       "        5.36104136e+06, 5.35107109e+06, 5.35352385e+06])\n",
       " Coordinates:\n",
       "   * GHz      (GHz) float64 0.0 6.104e-05 0.0001221 ... 0.9998 0.9999 0.9999,\n",
       " <xarray.DataArray (GHz: 16384)>\n",
       " array([3.22418323e+08, 2.15982724e+05, 2.25595790e+05, ...,\n",
       "        5.39159185e+06, 5.38994002e+06, 5.38829244e+06])\n",
       " Coordinates:\n",
       "   * GHz      (GHz) float64 0.0 6.104e-05 0.0001221 ... 0.9998 0.9999 0.9999,\n",
       " <xarray.DataArray (GHz: 16384)>\n",
       " array([nan, nan, nan, ..., nan, nan, nan])\n",
       " Coordinates:\n",
       "   * GHz      (GHz) float64 0.0 6.104e-05 0.0001221 ... 0.9998 0.9999 0.9999,\n",
       " <xarray.DataArray (GHz: 16384)>\n",
       " array([3.23280901e+08, 2.14755491e+05, 2.24706900e+05, ...,\n",
       "        5.31864474e+06, 5.33302338e+06, 5.30521991e+06])\n",
       " Coordinates:\n",
       "   * GHz      (GHz) float64 0.0 6.104e-05 0.0001221 ... 0.9998 0.9999 0.9999,\n",
       " <xarray.DataArray (GHz: 16384)>\n",
       " array([3.21860783e+08, 2.15344136e+05, 2.25859854e+05, ...,\n",
       "        5.30694423e+06, 5.32369533e+06, 5.30372500e+06])\n",
       " Coordinates:\n",
       "   * GHz      (GHz) float64 0.0 6.104e-05 0.0001221 ... 0.9998 0.9999 0.9999,\n",
       " <xarray.DataArray (GHz: 16384)>\n",
       " array([3.25972339e+08, 2.14789758e+05, 2.25488000e+05, ...,\n",
       "        5.30448847e+06, 5.30708791e+06, 5.30324116e+06])\n",
       " Coordinates:\n",
       "   * GHz      (GHz) float64 0.0 6.104e-05 0.0001221 ... 0.9998 0.9999 0.9999,\n",
       " <xarray.DataArray (GHz: 16384)>\n",
       " array([3.23827321e+08, 2.16025793e+05, 2.24584405e+05, ...,\n",
       "        5.26988730e+06, 5.26957404e+06, 5.25795940e+06])\n",
       " Coordinates:\n",
       "   * GHz      (GHz) float64 0.0 6.104e-05 0.0001221 ... 0.9998 0.9999 0.9999,\n",
       " <xarray.DataArray (GHz: 16384)>\n",
       " array([3.22591436e+08, 2.15512245e+05, 2.24111088e+05, ...,\n",
       "        5.30411335e+06, 5.30198215e+06, 5.29999597e+06])\n",
       " Coordinates:\n",
       "   * GHz      (GHz) float64 0.0 6.104e-05 0.0001221 ... 0.9998 0.9999 0.9999,\n",
       " <xarray.DataArray (GHz: 16384)>\n",
       " array([3.20165946e+08, 2.16905492e+05, 2.26172683e+05, ...,\n",
       "        5.29129187e+06, 5.29417317e+06, 5.29892532e+06])\n",
       " Coordinates:\n",
       "   * GHz      (GHz) float64 0.0 6.104e-05 0.0001221 ... 0.9998 0.9999 0.9999,\n",
       " <xarray.DataArray (GHz: 16384)>\n",
       " array([3.21792454e+08, 2.16558420e+05, 2.25681839e+05, ...,\n",
       "        5.30655602e+06, 5.30373545e+06, 5.29913409e+06])\n",
       " Coordinates:\n",
       "   * GHz      (GHz) float64 0.0 6.104e-05 0.0001221 ... 0.9998 0.9999 0.9999,\n",
       " <xarray.DataArray (GHz: 16384)>\n",
       " array([3.19722191e+08, 2.16514718e+05, 2.25445476e+05, ...,\n",
       "        5.30097648e+06, 5.29917094e+06, 5.30765581e+06])\n",
       " Coordinates:\n",
       "   * GHz      (GHz) float64 0.0 6.104e-05 0.0001221 ... 0.9998 0.9999 0.9999]"
      ]
     },
     "execution_count": 30,
     "metadata": {},
     "output_type": "execute_result"
    }
   ],
   "source": [
    "offlist"
   ]
  },
  {
   "cell_type": "code",
   "execution_count": 76,
   "metadata": {
    "collapsed": true
   },
   "outputs": [],
   "source": [
    "offlist[8] = offlist[9]"
   ]
  },
  {
   "cell_type": "code",
   "execution_count": 78,
   "metadata": {},
   "outputs": [
    {
     "data": {
      "text/html": [
       "<pre>&lt;xarray.DataArray (GHz: 16384)&gt;\n",
       "array([-64.67557749,  95.26181887,  26.27315351, ...,  -0.56106327,\n",
       "        -0.77222802,  -1.18110956])\n",
       "Coordinates:\n",
       "  * GHz      (GHz) float64 0.0 6.104e-05 0.0001221 ... 0.9998 0.9999 0.9999</pre>"
      ],
      "text/plain": [
       "<xarray.DataArray (GHz: 16384)>\n",
       "array([-64.67557749,  95.26181887,  26.27315351, ...,  -0.56106327,\n",
       "        -0.77222802,  -1.18110956])\n",
       "Coordinates:\n",
       "  * GHz      (GHz) float64 0.0 6.104e-05 0.0001221 ... 0.9998 0.9999 0.9999"
      ]
     },
     "execution_count": 78,
     "metadata": {},
     "output_type": "execute_result"
    }
   ],
   "source": [
    "Ta[8]\n",
    "#offlist[8]"
   ]
  },
  {
   "cell_type": "code",
   "execution_count": 79,
   "metadata": {
    "collapsed": true
   },
   "outputs": [],
   "source": [
    "arr_x = numpy.linspace(0, 16384, 16384)\n",
    "def  baseline_fitting(arr_x, arr_y, index1, index2, index3, index4):\n",
    "    tmpdata_y1 = arr_y[index1:index2]\n",
    "    tmpdata_y2 = arr_y[index3:index4]\n",
    "    tmpdata_x1 = arr_x[index1:index2]\n",
    "    tmpdata_x2 = arr_x[index3:index4]\n",
    "    x = numpy.concatenate([tmpdata_x1, tmpdata_x2])\n",
    "    y = numpy.concatenate([tmpdata_y1, tmpdata_y2])\n",
    "    #param = numpy.polyfit(x, y, 2)\n",
    "    param = numpy.polyfit(x, y, 1)\n",
    "    arr_y = arr_y - f(arr_x, *param)\n",
    "    return arr_y"
   ]
  },
  {
   "cell_type": "code",
   "execution_count": 80,
   "metadata": {},
   "outputs": [],
   "source": [
    "ff = numpy.ones(10)/10\n",
    "for i in range(len(onlist)):\n",
    "    try:\n",
    "        #Ta[i] = baseline_fitting(arr_x, Ta[i], 22650, 22750, 23200, 23300)#12CO2-1\n",
    "        #Ta[i] = baseline_fitting(arr_x, Ta[i], 17000, 17500, 18500, 19000)#12CO1-0\n",
    "        Ta[i] = baseline_fitting(arr_x, Ta[i], 7550,7750, 8400, 8600)#12CO1-0\n",
    "        #Ta[i] = numpy.convolve(ff, Ta[i], \"same\")\n",
    "    except Exception as e:\n",
    "        print(e, i)"
   ]
  },
  {
   "cell_type": "code",
   "execution_count": 81,
   "metadata": {},
   "outputs": [
    {
     "data": {
      "image/png": "[encoded data removed]",
      "text/plain": [
       "<matplotlib.figure.Figure at 0x7efe3e74e898>"
      ]
     },
     "metadata": {},
     "output_type": "display_data"
    }
   ],
   "source": [
    "plt.figure(figsize=(10, 5))\n",
    "for i in range(len(Ta)):\n",
    "    plt.plot(Ta[i], label=i)\n",
    "plt.xlim(7500, 8600)\n",
    "#plt.legend()\n",
    "plt.grid()\n",
    "plt.ylim(-1,7)\n",
    "plt.xlabel(\"ch\")\n",
    "plt.ylabel(\"Ta* (K)\")\n",
    "plt.show()"
   ]
  },
  {
   "cell_type": "code",
   "execution_count": 82,
   "metadata": {
    "collapsed": true
   },
   "outputs": [],
   "source": [
    "integ_ta = []\n",
    "for i in range(len(Ta)):\n",
    "    #integ_ta.append(numpy.sum(Ta[i][22800:23200], axis=0))#22800, 23200\n",
    "    integ_ta.append(numpy.sum(Ta[i][7930:8300], axis=0))#22800, 23200"
   ]
  },
  {
   "cell_type": "code",
   "execution_count": 55,
   "metadata": {
    "collapsed": true
   },
   "outputs": [],
   "source": [
    "#x = list(map(float, list(x)))"
   ]
  },
  {
   "cell_type": "code",
   "execution_count": 56,
   "metadata": {
    "collapsed": true
   },
   "outputs": [],
   "source": [
    "#x = sorted(x)"
   ]
  },
  {
   "cell_type": "code",
   "execution_count": 83,
   "metadata": {},
   "outputs": [
    {
     "data": {
      "text/plain": [
       "['-0.2800000011920929',\n",
       " '-0.25999999046325684',\n",
       " '-0.09000000357627869',\n",
       " '-0.07000000029802322',\n",
       " '-0.05000000074505806',\n",
       " '-0.029999999329447746',\n",
       " '-0.009999999776482582',\n",
       " '0.0',\n",
       " '-0.25',\n",
       " '-0.23000000417232513',\n",
       " '-0.20999999344348907',\n",
       " '-0.1899999976158142',\n",
       " '-0.17000000178813934',\n",
       " '-0.15000000596046448',\n",
       " '-0.12999999523162842',\n",
       " '-0.10999999940395355']"
      ]
     },
     "execution_count": 83,
     "metadata": {},
     "output_type": "execute_result"
    }
   ],
   "source": [
    "x"
   ]
  },
  {
   "cell_type": "code",
   "execution_count": 84,
   "metadata": {
    "scrolled": false
   },
   "outputs": [
    {
     "data": {
      "image/png": "[encoded data removed]",
      "text/plain": [
       "<matplotlib.figure.Figure at 0x7efe40a6e940>"
      ]
     },
     "metadata": {},
     "output_type": "display_data"
    }
   ],
   "source": [
    "#plt.plot(x[1:-1], integ_ta[1:], \".\")\n",
    "integmask = numpy.array(integ_ta) > 0\n",
    "integ_ta = numpy.array(integ_ta)\n",
    "plt.plot(x, integ_ta[integmask], \"o\")\n",
    "plt.title(f\"Focusing 200GHz {path}\")\n",
    "plt.xlabel(\"M2 (mm)\")\n",
    "plt.ylabel(\"K ch\")\n",
    "#plt.ylim(1280, 1360)\n",
    "#plt.xlim(0, 20)\n",
    "plt.grid()"
   ]
  },
  {
   "cell_type": "code",
   "execution_count": 1228,
   "metadata": {
    "collapsed": true
   },
   "outputs": [],
   "source": [
    "#xx1, yy1 = x, integ_ta[integmask]\n",
    "#xx2, yy2 = x, integ_ta[integmask]\n",
    "#xx3, yy3 = x, integ_ta[integmask]\n",
    "#xx4, yy4 = x, integ_ta[integmask]\n",
    "#xx5, yy5 = x, integ_ta[integmask]\n",
    "#x４,y４ =x, integ_ta[integmask]\n",
    "#x3,y3 =x, integ_ta[integmask]\n",
    "#x2,y2 =x, integ_ta[integmask]\n",
    "#x1,y1 =x, integ_ta[integmask]"
   ]
  },
  {
   "cell_type": "code",
   "execution_count": 1260,
   "metadata": {
    "collapsed": true
   },
   "outputs": [],
   "source": [
    "new_x = xx1 + xx2 + xx3# + xx4# +xx5\n",
    "new_y = list(yy1) + list(yy2)+ list(yy3)#+ list(yy4) #+ list(yy5)"
   ]
  },
  {
   "cell_type": "code",
   "execution_count": 1261,
   "metadata": {
    "collapsed": true
   },
   "outputs": [],
   "source": [
    "new_x = list(map(float, new_x))"
   ]
  },
  {
   "cell_type": "code",
   "execution_count": 1262,
   "metadata": {
    "collapsed": true
   },
   "outputs": [],
   "source": [
    "xy = []\n",
    "for i in range(len(new_x)):\n",
    "    xy.append([new_x[i], new_y[i]])"
   ]
  },
  {
   "cell_type": "code",
   "execution_count": 1263,
   "metadata": {
    "collapsed": true
   },
   "outputs": [],
   "source": [
    "sorted_data = sorted(xy, key=lambda x:x[0])"
   ]
  },
  {
   "cell_type": "code",
   "execution_count": 1264,
   "metadata": {
    "collapsed": true
   },
   "outputs": [],
   "source": [
    "sorted_data = numpy.array(sorted_data)"
   ]
  },
  {
   "cell_type": "code",
   "execution_count": 1265,
   "metadata": {},
   "outputs": [
    {
     "data": {
      "text/plain": [
       "array([-1.01999998, -0.92000002, -0.92000002, -0.82999998, -0.82999998,\n",
       "       -0.77999997, -0.73000002, -0.73000002, -0.69      , -0.63      ,\n",
       "       -0.63      , -0.58999997, -0.52999997, -0.52999997, -0.49000001,\n",
       "       -0.43000001, -0.43000001, -0.38999999, -0.33000001, -0.33000001,\n",
       "       -0.28999999, -0.23      , -0.23      , -0.19      , -0.13      ,\n",
       "       -0.13      , -0.1       , -0.04      , -0.04      ,  0.        ,\n",
       "        0.06      ,  0.06      ,  0.1       ,  0.16      ,  0.16      ,\n",
       "        0.2       ,  0.25      ,  0.25      ,  0.28999999,  0.34999999,\n",
       "        0.34999999,  0.38999999,  0.44999999,  0.44999999,  0.49000001,\n",
       "        0.55000001,  0.58999997,  0.69      ])"
      ]
     },
     "execution_count": 1265,
     "metadata": {},
     "output_type": "execute_result"
    }
   ],
   "source": [
    "sorted_data.T[0]"
   ]
  },
  {
   "cell_type": "code",
   "execution_count": 1266,
   "metadata": {},
   "outputs": [
    {
     "ename": "ValueError",
     "evalue": "Expect x to be a 1-D sorted array_like.",
     "output_type": "error",
     "traceback": [
      "\u001b[0;31m---------------------------------------------------------------------------\u001b[0m",
      "\u001b[0;31mValueError\u001b[0m                                Traceback (most recent call last)",
      "\u001b[0;32m<ipython-input-1266-e5bd280ebc19>\u001b[0m in \u001b[0;36m<module>\u001b[0;34m()\u001b[0m\n\u001b[1;32m      1\u001b[0m \u001b[0;32mfrom\u001b[0m \u001b[0mscipy\u001b[0m \u001b[0;32mimport\u001b[0m \u001b[0minterpolate\u001b[0m\u001b[0;34m\u001b[0m\u001b[0m\n\u001b[0;32m----> 2\u001b[0;31m \u001b[0mf2\u001b[0m \u001b[0;34m=\u001b[0m \u001b[0minterpolate\u001b[0m\u001b[0;34m.\u001b[0m\u001b[0minterp1d\u001b[0m\u001b[0;34m(\u001b[0m\u001b[0msorted_data\u001b[0m\u001b[0;34m.\u001b[0m\u001b[0mT\u001b[0m\u001b[0;34m[\u001b[0m\u001b[0;36m0\u001b[0m\u001b[0;34m]\u001b[0m\u001b[0;34m,\u001b[0m \u001b[0msorted_data\u001b[0m\u001b[0;34m.\u001b[0m\u001b[0mT\u001b[0m\u001b[0;34m[\u001b[0m\u001b[0;36m1\u001b[0m\u001b[0;34m]\u001b[0m\u001b[0;34m,\u001b[0m \u001b[0mkind\u001b[0m\u001b[0;34m=\u001b[0m\u001b[0;34m'cubic'\u001b[0m\u001b[0;34m)\u001b[0m\u001b[0;34m\u001b[0m\u001b[0m\n\u001b[0m",
      "\u001b[0;32m/home/amigos/.pyenv/versions/anaconda3-4.4.0/lib/python3.6/site-packages/scipy/interpolate/interpolate.py\u001b[0m in \u001b[0;36m__init__\u001b[0;34m(***failed resolving arguments***)\u001b[0m\n\u001b[1;32m    494\u001b[0m \u001b[0;34m\u001b[0m\u001b[0m\n\u001b[1;32m    495\u001b[0m             self._spline = make_interp_spline(xx, yy, k=order,\n\u001b[0;32m--> 496\u001b[0;31m                                               check_finite=False)\n\u001b[0m\u001b[1;32m    497\u001b[0m             \u001b[0;32mif\u001b[0m \u001b[0mrewrite_nan\u001b[0m\u001b[0;34m:\u001b[0m\u001b[0;34m\u001b[0m\u001b[0m\n\u001b[1;32m    498\u001b[0m                 \u001b[0mself\u001b[0m\u001b[0;34m.\u001b[0m\u001b[0m_call\u001b[0m \u001b[0;34m=\u001b[0m \u001b[0mself\u001b[0m\u001b[0;34m.\u001b[0m\u001b[0m__class__\u001b[0m\u001b[0;34m.\u001b[0m\u001b[0m_call_nan_spline\u001b[0m\u001b[0;34m\u001b[0m\u001b[0m\n",
      "\u001b[0;32m/home/amigos/.pyenv/versions/anaconda3-4.4.0/lib/python3.6/site-packages/scipy/interpolate/_bsplines.py\u001b[0m in \u001b[0;36mmake_interp_spline\u001b[0;34m(x, y, k, t, bc_type, axis, check_finite)\u001b[0m\n\u001b[1;32m    662\u001b[0m \u001b[0;34m\u001b[0m\u001b[0m\n\u001b[1;32m    663\u001b[0m     \u001b[0;32mif\u001b[0m \u001b[0mx\u001b[0m\u001b[0;34m.\u001b[0m\u001b[0mndim\u001b[0m \u001b[0;34m!=\u001b[0m \u001b[0;36m1\u001b[0m \u001b[0;32mor\u001b[0m \u001b[0mnp\u001b[0m\u001b[0;34m.\u001b[0m\u001b[0many\u001b[0m\u001b[0;34m(\u001b[0m\u001b[0mx\u001b[0m\u001b[0;34m[\u001b[0m\u001b[0;36m1\u001b[0m\u001b[0;34m:\u001b[0m\u001b[0;34m]\u001b[0m \u001b[0;34m<=\u001b[0m \u001b[0mx\u001b[0m\u001b[0;34m[\u001b[0m\u001b[0;34m:\u001b[0m\u001b[0;34m-\u001b[0m\u001b[0;36m1\u001b[0m\u001b[0;34m]\u001b[0m\u001b[0;34m)\u001b[0m\u001b[0;34m:\u001b[0m\u001b[0;34m\u001b[0m\u001b[0m\n\u001b[0;32m--> 664\u001b[0;31m         \u001b[0;32mraise\u001b[0m \u001b[0mValueError\u001b[0m\u001b[0;34m(\u001b[0m\u001b[0;34m\"Expect x to be a 1-D sorted array_like.\"\u001b[0m\u001b[0;34m)\u001b[0m\u001b[0;34m\u001b[0m\u001b[0m\n\u001b[0m\u001b[1;32m    665\u001b[0m     \u001b[0;32mif\u001b[0m \u001b[0mk\u001b[0m \u001b[0;34m<\u001b[0m \u001b[0;36m0\u001b[0m\u001b[0;34m:\u001b[0m\u001b[0;34m\u001b[0m\u001b[0m\n\u001b[1;32m    666\u001b[0m         \u001b[0;32mraise\u001b[0m \u001b[0mValueError\u001b[0m\u001b[0;34m(\u001b[0m\u001b[0;34m\"Expect non-negative k.\"\u001b[0m\u001b[0;34m)\u001b[0m\u001b[0;34m\u001b[0m\u001b[0m\n",
      "\u001b[0;31mValueError\u001b[0m: Expect x to be a 1-D sorted array_like."
     ]
    }
   ],
   "source": [
    "from scipy import interpolate\n",
    "f2 = interpolate.interp1d(sorted_data.T[0], sorted_data.T[1], kind='cubic')"
   ]
  },
  {
   "cell_type": "code",
   "execution_count": 1267,
   "metadata": {
    "collapsed": true
   },
   "outputs": [],
   "source": [
    "mask=  sorted_data.T[1]<240"
   ]
  },
  {
   "cell_type": "code",
   "execution_count": 1269,
   "metadata": {
    "scrolled": false
   },
   "outputs": [
    {
     "data": {
      "image/png": "[encoded data removed]",
      "text/plain": [
       "<matplotlib.figure.Figure at 0x7f7334eab630>"
      ]
     },
     "metadata": {},
     "output_type": "display_data"
    }
   ],
   "source": [
    "plt.figure(figsize=(8, 6))\n",
    "ff = numpy.ones(4)/4\n",
    "#plt.plot(xx1, yy1, \"bo\")\n",
    "#plt.plot(xx2, yy2, \"bo\")\n",
    "plt.plot(new_x, new_y, \"bx\")\n",
    "plt.plot(sorted_data.T[0],numpy.convolve(ff, sorted_data.T[1], \"same\"), \"ro-\")\n",
    "#plt.plot(x3, y3, \"o\")\n",
    "#plt.plot(x4, y4, \"o\")\n",
    "plt.title(f\"Focusing 2019/12/26 100GHz IRC+10216\")\n",
    "plt.xlabel(\"M2 (mm)\")\n",
    "plt.ylabel(\"K ch\")\n",
    "plt.ylim(170,250)\n",
    "plt.xlim(-1, 0.75)\n",
    "plt.grid()"
   ]
  },
  {
   "cell_type": "code",
   "execution_count": 1153,
   "metadata": {},
   "outputs": [
    {
     "data": {
      "text/plain": [
       "array([ True,  True,  True,  True,  True,  True,  True,  True,  True,\n",
       "        True,  True,  True,  True,  True,  True,  True])"
      ]
     },
     "execution_count": 1153,
     "metadata": {},
     "output_type": "execute_result"
    }
   ],
   "source": [
    "x\n",
    "#integ_ta[integmask]\n",
    "integmask"
   ]
  },
  {
   "cell_type": "code",
   "execution_count": 243,
   "metadata": {},
   "outputs": [
    {
     "data": {
      "text/plain": [
       "array(['0.0', '1.0', '10.0', '11.0', '12.0', '13.0', '14.0', '15.0',\n",
       "       '16.0', '17.0', '18.0', '19.0', '2.0', '20.0', '3.0', '31.0',\n",
       "       '4.0', '5.0', '6.0', '7.0', '8.0', '9.0'], dtype='<U21')"
      ]
     },
     "execution_count": 243,
     "metadata": {},
     "output_type": "execute_result"
    }
   ],
   "source": [
    "scans"
   ]
  },
  {
   "cell_type": "code",
   "execution_count": 239,
   "metadata": {
    "collapsed": true
   },
   "outputs": [],
   "source": [
    "x = numpy.unique(data[\"x\"])"
   ]
  },
  {
   "cell_type": "code",
   "execution_count": 242,
   "metadata": {},
   "outputs": [
    {
     "data": {
      "text/plain": [
       "array(['-0.019999999552965164', '-0.03999999910593033',\n",
       "       '-0.05999999865889549', '-0.07999999821186066',\n",
       "       '-0.10000000149011612', '-0.10999999940395355',\n",
       "       '-0.12999999523162842', '-0.15000000596046448',\n",
       "       '-0.17000000178813934', '-0.1899999976158142',\n",
       "       '-0.20999999344348907', '-0.23000000417232513', '-0.25',\n",
       "       '-0.27000001072883606', '-0.28999999165534973',\n",
       "       '-0.3100000023841858', '-0.33000001311302185', '0', '0.0',\n",
       "       '0.019999999552965164', '0.03999999910593033'], dtype='<U21')"
      ]
     },
     "execution_count": 242,
     "metadata": {},
     "output_type": "execute_result"
    }
   ],
   "source": []
  },
  {
   "cell_type": "code",
   "execution_count": null,
   "metadata": {
    "collapsed": true
   },
   "outputs": [],
   "source": []
  }
 ],
 "metadata": {
  "kernelspec": {
   "display_name": "Python 3",
   "language": "python",
   "name": "python3"
  },
  "language_info": {
   "codemirror_mode": {
    "name": "ipython",
    "version": 3
   },
   "file_extension": ".py",
   "mimetype": "text/x-python",
   "name": "python",
   "nbconvert_exporter": "python",
   "pygments_lexer": "ipython3",
   "version": "3.6.1"
  }
 },
 "nbformat": 4,
 "nbformat_minor": 2
}
