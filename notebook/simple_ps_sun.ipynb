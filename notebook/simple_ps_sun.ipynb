{
 "cells": [
  {
   "cell_type": "code",
   "execution_count": 1,
   "metadata": {
    "collapsed": true
   },
   "outputs": [],
   "source": [
    "import sys\n",
    "if not sys.argv[1] == \"-f\":\n",
    "    path = sys.argv[1]\n",
    "    IF = \"01\"\n",
    "    mode = \"commandline\"\n",
    "else:\n",
    "    # 手動で解析する場合はデータのあるpathを指定してください\n",
    "    data_path = \"/home/amigos/nfs_hdd/data/observation/simple_ps/20191211_120354/\"\n",
    "    #IF = \"03\"#XFFTSのboard番号　1-->\"01\"  12-->\"12\"\n",
    "    mode = \"notebook\""
   ]
  },
  {
   "cell_type": "code",
   "execution_count": 2,
   "metadata": {
    "collapsed": true
   },
   "outputs": [],
   "source": [
    "import necstdb\n",
    "import numpy\n",
    "import matplotlib.pyplot as plt\n",
    "import os\n",
    "import pandas"
   ]
  },
  {
   "cell_type": "code",
   "execution_count": 3,
   "metadata": {
    "collapsed": true
   },
   "outputs": [],
   "source": [
    "import sys\n",
    "sys.path.append(\"/home/amigos/git/analy_n2data/\")"
   ]
  },
  {
   "cell_type": "code",
   "execution_count": 4,
   "metadata": {},
   "outputs": [],
   "source": [
    "import n2analy"
   ]
  },
  {
   "cell_type": "code",
   "execution_count": null,
   "metadata": {},
   "outputs": [
    {
     "name": "stderr",
     "output_type": "stream",
     "text": [
      "100%|██████████| 3/3 [00:00<00:00, 5053.38it/s]"
     ]
    }
   ],
   "source": [
    "iflist = [\"01\",\"02\",\"03\",\"04\",\"05\",\"06\",\"07\",\"08\",\"09\",\"10\",\"11\",\"12\",\"13\",\"14\",\"15\",\"16\"]\n",
    "tplist = []\n",
    "for i in iflist:\n",
    "    tp = n2analy.get_tpdata(path=data_path, array_num=i)\n",
    "    tp = numpy.array(tp)\n",
    "    tp = tp.T[2:].T\n",
    "    tplist.append(tp)"
   ]
  },
  {
   "cell_type": "code",
   "execution_count": null,
   "metadata": {
    "collapsed": true
   },
   "outputs": [],
   "source": []
  }
 ],
 "metadata": {
  "kernelspec": {
   "display_name": "Python 3",
   "language": "python",
   "name": "python3"
  },
  "language_info": {
   "codemirror_mode": {
    "name": "ipython",
    "version": 3
   },
   "file_extension": ".py",
   "mimetype": "text/x-python",
   "name": "python",
   "nbconvert_exporter": "python",
   "pygments_lexer": "ipython3",
   "version": "3.6.1"
  }
 },
 "nbformat": 4,
 "nbformat_minor": 2
}
