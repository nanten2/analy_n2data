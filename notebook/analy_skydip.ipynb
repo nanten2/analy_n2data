{
 "cells": [
  {
   "cell_type": "code",
   "execution_count": 3,
   "metadata": {
    "collapsed": true
   },
   "outputs": [],
   "source": [
    "import numpy as np\n",
    "import astropy.io as fits\n",
    "import math\n",
    "import matplotlib as mpl\n",
    "import matplotlib.pylab as plt\n",
    "from scipy.optimize import curve_fit\n",
    "import sys\n",
    "\n",
<<<<<<< HEAD
    "sys.path.append('/home/amigos/git/analy_n2data')"
=======
    "sys.path.append('../')"
>>>>>>> cf169dfa36cb4fd00489b7ca35b455d252cc033a
   ]
  },
  {
   "cell_type": "code",
   "execution_count": 4,
   "metadata": {},
   "outputs": [],
   "source": [
    "import n2analy"
   ]
  },
  {
   "cell_type": "code",
<<<<<<< HEAD
   "execution_count": null,
=======
   "execution_count": 4,
   "metadata": {},
   "outputs": [],
   "source": [
    "path = \"/home/amigos/seigyo/hdd4/HDD2_copy/observation/skydip_xffts/20191123043041\"#データまでのpath"
   ]
  },
  {
   "cell_type": "code",
   "execution_count": 5,
>>>>>>> cf169dfa36cb4fd00489b7ca35b455d252cc033a
   "metadata": {},
   "outputs": [
    {
     "name": "stderr",
     "output_type": "stream",
     "text": [
<<<<<<< HEAD
      "100%|██████████| 3/3 [00:00<00:00, 407.25it/s]"
=======
      "100%|██████████| 3/3 [00:00<00:00, 289.76it/s]\n",
      "100%|██████████| 3/3 [00:00<00:00, 297.52it/s]"
     ]
    },
    {
     "name": "stdout",
     "output_type": "stream",
     "text": [
      "read end\n",
      " 20.0\n",
      " 25.0\n",
      " 30.0\n",
      " 45.0\n",
      " 60.0\n",
      " 70.0\n",
      " 80.0\n",
      " 99.0\n",
      "HOT 0.0\n",
      "HOT 20.0\n",
      "HOT 25.0\n",
      "HOT 30.0\n",
      "HOT 45.0\n",
      "HOT 60.0\n",
      "HOT 70.0\n",
      "HOT 80.0\n",
      "SKY 0.0\n",
      "SKY 99.0\n",
      "read end\n",
      " 20.0\n",
      " 25.0\n",
      " 30.0\n",
      " 45.0\n",
      " 60.0\n",
      " 70.0\n",
      " 80.0\n",
      " 99.0\n",
      "HOT 0.0\n",
      "HOT 20.0\n",
      "HOT 25.0\n",
      "HOT 30.0\n",
      "HOT 45.0\n",
      "HOT 60.0\n",
      "HOT 70.0\n",
      "HOT 80.0\n",
      "SKY 0.0\n",
      "SKY 99.0\n",
      "read end\n"
     ]
    },
    {
     "name": "stderr",
     "output_type": "stream",
     "text": [
      "\n",
      "100%|██████████| 3/3 [00:00<00:00, 293.40it/s]\n",
      "100%|██████████| 3/3 [00:00<00:00, 315.16it/s]\n",
      "100%|██████████| 3/3 [00:00<00:00, 312.67it/s]\n",
      "100%|██████████| 3/3 [00:00<00:00, 306.99it/s]"
     ]
    },
    {
     "name": "stdout",
     "output_type": "stream",
     "text": [
      " 20.0\n",
      " 25.0\n",
      " 30.0\n",
      " 45.0\n",
      " 60.0\n",
      " 70.0\n",
      " 80.0\n",
      " 99.0\n",
      "HOT 0.0\n",
      "HOT 20.0\n",
      "HOT 25.0\n",
      "HOT 30.0\n",
      "HOT 45.0\n",
      "HOT 60.0\n",
      "HOT 70.0\n",
      "HOT 80.0\n",
      "SKY 0.0\n",
      "SKY 99.0\n",
      "read end\n",
      " 20.0\n",
      " 25.0\n",
      " 30.0\n",
      " 45.0\n",
      " 60.0\n",
      " 70.0\n",
      " 80.0\n",
      " 99.0\n",
      "HOT 0.0\n",
      "HOT 20.0\n",
      "HOT 25.0\n",
      "HOT 30.0\n",
      "HOT 45.0\n",
      "HOT 60.0\n",
      "HOT 70.0\n",
      "HOT 80.0\n",
      "SKY 0.0\n",
      "SKY 99.0\n",
      "read end\n",
      " 20.0\n",
      " 25.0\n",
      " 30.0\n",
      " 45.0\n",
      " 60.0\n",
      " 70.0\n",
      " 80.0\n",
      " 99.0\n",
      "HOT 0.0\n",
      "HOT 20.0\n",
      "HOT 25.0\n",
      "HOT 30.0\n",
      "HOT 45.0\n",
      "HOT 60.0\n",
      "HOT 70.0\n",
      "HOT 80.0\n",
      "SKY 0.0\n",
      "SKY 99.0\n",
      "read end\n",
      " 20.0\n",
      " 25.0\n",
      " 30.0\n",
      " 45.0\n",
      " 60.0\n",
      " 70.0\n",
      " 80.0\n",
      " 99.0\n",
      "HOT 0.0\n",
      "HOT 20.0\n",
      "HOT 25.0\n",
      "HOT 30.0\n",
      "HOT 45.0\n",
      "HOT 60.0\n",
      "HOT 70.0\n",
      "HOT 80.0\n",
      "SKY 0.0\n",
      "SKY 99.0\n"
     ]
    },
    {
     "name": "stderr",
     "output_type": "stream",
     "text": [
      "\n",
      "100%|██████████| 3/3 [00:00<00:00, 300.57it/s]\n",
      "100%|██████████| 3/3 [00:00<00:00, 298.91it/s]\n",
      "100%|██████████| 3/3 [00:00<00:00, 300.24it/s]\n",
      "100%|██████████| 3/3 [00:00<00:00, 300.88it/s]"
     ]
    },
    {
     "name": "stdout",
     "output_type": "stream",
     "text": [
      "read end\n",
      " 20.0\n",
      " 25.0\n",
      " 30.0\n",
      " 45.0\n",
      " 60.0\n",
      " 70.0\n",
      " 80.0\n",
      " 99.0\n",
      "HOT 0.0\n",
      "HOT 20.0\n",
      "HOT 25.0\n",
      "HOT 30.0\n",
      "HOT 45.0\n",
      "HOT 60.0\n",
      "HOT 70.0\n",
      "HOT 80.0\n",
      "SKY 0.0\n",
      "SKY 99.0\n",
      "read end\n",
      " 20.0\n",
      " 25.0\n",
      " 30.0\n",
      " 45.0\n",
      " 60.0\n",
      " 70.0\n",
      " 80.0\n",
      " 99.0\n",
      "HOT 0.0\n",
      "HOT 20.0\n",
      "HOT 25.0\n",
      "HOT 30.0\n",
      "HOT 45.0\n",
      "HOT 60.0\n",
      "HOT 70.0\n",
      "HOT 80.0\n",
      "SKY 0.0\n",
      "SKY 99.0\n",
      "read end\n",
      " 20.0\n",
      " 25.0\n",
      " 30.0\n",
      " 45.0\n",
      " 60.0\n",
      " 70.0\n",
      " 80.0\n",
      " 99.0\n",
      "HOT 0.0\n",
      "HOT 20.0\n",
      "HOT 25.0\n",
      "HOT 30.0\n",
      "HOT 45.0\n",
      "HOT 60.0\n",
      "HOT 70.0\n",
      "HOT 80.0\n",
      "SKY 0.0\n",
      "SKY 99.0\n",
      "read end\n",
      " 20.0\n",
      " 25.0\n",
      " 30.0\n",
      " 45.0\n",
      " 60.0\n",
      " 70.0\n",
      " 80.0\n",
      " 99.0\n",
      "HOT 0.0\n",
      "HOT 20.0\n",
      "HOT 25.0\n",
      "HOT 30.0\n",
      "HOT 45.0\n",
      "HOT 60.0\n",
      "HOT 70.0\n",
      "HOT 80.0\n",
      "SKY 0.0\n",
      "SKY 99.0\n"
     ]
    },
    {
     "name": "stderr",
     "output_type": "stream",
     "text": [
      "\n",
      "100%|██████████| 3/3 [00:00<00:00, 298.74it/s]\n",
      "100%|██████████| 3/3 [00:00<00:00, 305.38it/s]\n",
      "100%|██████████| 3/3 [00:00<00:00, 332.76it/s]\n",
      "100%|██████████| 3/3 [00:00<00:00, 353.13it/s]"
     ]
    },
    {
     "name": "stdout",
     "output_type": "stream",
     "text": [
      "read end\n",
      " 20.0\n",
      " 25.0\n",
      " 30.0\n",
      " 45.0\n",
      " 60.0\n",
      " 70.0\n",
      " 80.0\n",
      " 99.0\n",
      "HOT 0.0\n",
      "HOT 20.0\n",
      "HOT 25.0\n",
      "HOT 30.0\n",
      "HOT 45.0\n",
      "HOT 60.0\n",
      "HOT 70.0\n",
      "HOT 80.0\n",
      "SKY 0.0\n",
      "SKY 99.0\n",
      "read end\n",
      " 20.0\n",
      " 25.0\n",
      " 30.0\n",
      " 45.0\n",
      " 60.0\n",
      " 70.0\n",
      " 80.0\n",
      " 99.0\n",
      "HOT 0.0\n",
      "HOT 20.0\n",
      "HOT 25.0\n",
      "HOT 30.0\n",
      "HOT 45.0\n",
      "HOT 60.0\n",
      "HOT 70.0\n",
      "HOT 80.0\n",
      "SKY 0.0\n",
      "SKY 99.0\n",
      "read end\n",
      " 20.0\n",
      " 25.0\n",
      " 30.0\n",
      " 45.0\n",
      " 60.0\n",
      " 70.0\n",
      " 80.0\n",
      " 99.0\n",
      "HOT 0.0\n",
      "HOT 20.0\n",
      "HOT 25.0\n",
      "HOT 30.0\n",
      "HOT 45.0\n",
      "HOT 60.0\n",
      "HOT 70.0\n",
      "HOT 80.0\n",
      "SKY 0.0\n",
      "SKY 99.0\n",
      "read end\n",
      " 20.0\n",
      " 25.0\n",
      " 30.0\n",
      " 45.0\n",
      " 60.0\n",
      " 70.0\n",
      " 80.0\n",
      " 99.0\n",
      "HOT 0.0\n",
      "HOT 20.0\n",
      "HOT 25.0\n",
      "HOT 30.0\n",
      "HOT 45.0\n",
      "HOT 60.0\n",
      "HOT 70.0\n",
      "HOT 80.0\n",
      "SKY 0.0\n",
      "SKY 99.0\n",
      "read end\n"
     ]
    },
    {
     "name": "stderr",
     "output_type": "stream",
     "text": [
      "\n",
      "100%|██████████| 3/3 [00:00<00:00, 360.66it/s]\n",
      "100%|██████████| 3/3 [00:00<00:00, 341.39it/s]\n"
     ]
    },
    {
     "name": "stdout",
     "output_type": "stream",
     "text": [
      " 20.0\n",
      " 25.0\n",
      " 30.0\n",
      " 45.0\n",
      " 60.0\n",
      " 70.0\n",
      " 80.0\n",
      " 99.0\n",
      "HOT 0.0\n",
      "HOT 20.0\n",
      "HOT 25.0\n",
      "HOT 30.0\n",
      "HOT 45.0\n",
      "HOT 60.0\n",
      "HOT 70.0\n",
      "HOT 80.0\n",
      "SKY 0.0\n",
      "SKY 99.0\n",
      "read end\n",
      " 20.0\n",
      " 25.0\n",
      " 30.0\n",
      " 45.0\n",
      " 60.0\n",
      " 70.0\n",
      " 80.0\n",
      " 99.0\n",
      "HOT 0.0\n",
      "HOT 20.0\n",
      "HOT 25.0\n",
      "HOT 30.0\n",
      "HOT 45.0\n",
      "HOT 60.0\n",
      "HOT 70.0\n",
      "HOT 80.0\n",
      "SKY 0.0\n",
      "SKY 99.0\n"
>>>>>>> cf169dfa36cb4fd00489b7ca35b455d252cc033a
     ]
    }
   ],
   "source": [
<<<<<<< HEAD
    "path = ('/home/amigos/seigyo/hdd/HDD_4/data/home/amigos/hdd/data/skydip_xffts/20191010071059/')\n",
    "path = ('/home/amigos/seigyo/hdd/HDD_4/data/home/amigos/hdd/data/skydip_xffts/20191010130141/')\n",
    "path = ('/home/amigos/seigyo/hdd/HDD_4/data/home/amigos/hdd/data/skydip_xffts/20191011085746/')\n",
    "path = ('/home/amigos/nfs_hdd/data/observation/skydip_xffts/20191203064005')\n",
    "path = ('/home/amigos/nfs_hdd/data/observation/skydip_xffts/20191211112724')\n",
=======
>>>>>>> cf169dfa36cb4fd00489b7ca35b455d252cc033a
    "data_1 = n2analy.get_tpdata(path, '01')\n",
    "data_2 = n2analy.get_tpdata(path, '02')\n",
    "data_3 = n2analy.get_tpdata(path, '03')\n",
    "data_4 = n2analy.get_tpdata(path, '04')\n",
    "data_5 = n2analy.get_tpdata(path, '05')\n",
    "data_6 = n2analy.get_tpdata(path, '06')\n",
    "data_7 = n2analy.get_tpdata(path, '07')\n",
    "data_8 = n2analy.get_tpdata(path, '08')\n",
    "data_9 = n2analy.get_tpdata(path, '09')\n",
    "data_10 = n2analy.get_tpdata(path, '10')\n",
    "data_11 = n2analy.get_tpdata(path, '11')\n",
    "data_12 = n2analy.get_tpdata(path, '12')\n",
    "data_13 = n2analy.get_tpdata(path, '13')\n",
    "data_14 = n2analy.get_tpdata(path, '14')\n",
    "data_15 = n2analy.get_tpdata(path, '15')\n",
    "data_16 = n2analy.get_tpdata(path, '16')"
   ]
  },
  {
   "cell_type": "code",
<<<<<<< HEAD
   "execution_count": 1,
=======
   "execution_count": 6,
>>>>>>> cf169dfa36cb4fd00489b7ca35b455d252cc033a
   "metadata": {},
   "outputs": [
    {
     "ename": "NameError",
     "evalue": "name 'data_1' is not defined",
     "output_type": "error",
     "traceback": [
      "\u001b[0;31m---------------------------------------------------------------------------\u001b[0m",
      "\u001b[0;31mNameError\u001b[0m                                 Traceback (most recent call last)",
      "\u001b[0;32m<ipython-input-1-66ae890a4680>\u001b[0m in \u001b[0;36m<module>\u001b[0;34m()\u001b[0m\n\u001b[0;32m----> 1\u001b[0;31m \u001b[0mdata_list\u001b[0m \u001b[0;34m=\u001b[0m \u001b[0;34m[\u001b[0m\u001b[0mdata_1\u001b[0m\u001b[0;34m,\u001b[0m \u001b[0mdata_2\u001b[0m\u001b[0;34m,\u001b[0m \u001b[0mdata_3\u001b[0m\u001b[0;34m,\u001b[0m \u001b[0mdata_4\u001b[0m\u001b[0;34m,\u001b[0m \u001b[0mdata_5\u001b[0m\u001b[0;34m,\u001b[0m \u001b[0mdata_6\u001b[0m\u001b[0;34m,\u001b[0m \u001b[0mdata_7\u001b[0m\u001b[0;34m,\u001b[0m \u001b[0mdata_8\u001b[0m\u001b[0;34m,\u001b[0m \u001b[0mdata_9\u001b[0m\u001b[0;34m,\u001b[0m \u001b[0mdata_10\u001b[0m\u001b[0;34m,\u001b[0m \u001b[0mdata_11\u001b[0m\u001b[0;34m,\u001b[0m \u001b[0mdata_12\u001b[0m\u001b[0;34m,\u001b[0m \u001b[0mdata_13\u001b[0m\u001b[0;34m,\u001b[0m \u001b[0mdata_14\u001b[0m\u001b[0;34m,\u001b[0m \u001b[0mdata_15\u001b[0m\u001b[0;34m,\u001b[0m \u001b[0mdata_16\u001b[0m\u001b[0;34m]\u001b[0m\u001b[0;34m\u001b[0m\u001b[0m\n\u001b[0m",
      "\u001b[0;31mNameError\u001b[0m: name 'data_1' is not defined"
     ]
    }
   ],
   "source": [
    "data_list = [data_1, data_2, data_3, data_4, data_5, data_6, data_7, data_8, data_9, data_10, data_11, data_12, data_13, data_14, data_15, data_16]"
   ]
  },
  {
   "cell_type": "code",
<<<<<<< HEAD
   "execution_count": 5,
   "metadata": {},
   "outputs": [
    {
     "ename": "NameError",
     "evalue": "name 'data_list' is not defined",
     "output_type": "error",
     "traceback": [
      "\u001b[0;31m---------------------------------------------------------------------------\u001b[0m",
      "\u001b[0;31mNameError\u001b[0m                                 Traceback (most recent call last)",
      "\u001b[0;32m<ipython-input-5-0d72b6115395>\u001b[0m in \u001b[0;36m<module>\u001b[0;34m()\u001b[0m\n\u001b[0;32m----> 1\u001b[0;31m \u001b[0mprint\u001b[0m\u001b[0;34m(\u001b[0m\u001b[0mnp\u001b[0m\u001b[0;34m.\u001b[0m\u001b[0marray\u001b[0m\u001b[0;34m(\u001b[0m\u001b[0mdata_list\u001b[0m\u001b[0;34m[\u001b[0m\u001b[0;36m0\u001b[0m\u001b[0;34m]\u001b[0m\u001b[0;34m)\u001b[0m\u001b[0;34m)\u001b[0m\u001b[0;34m\u001b[0m\u001b[0m\n\u001b[0m",
      "\u001b[0;31mNameError\u001b[0m: name 'data_list' is not defined"
=======
   "execution_count": 7,
   "metadata": {},
   "outputs": [
    {
     "name": "stdout",
     "output_type": "stream",
     "text": [
      "[3.78478941e+13 3.77335695e+13 3.76413722e+13 ... 3.81356741e+13\n",
      " 3.79806606e+13 3.80770673e+13]\n"
>>>>>>> cf169dfa36cb4fd00489b7ca35b455d252cc033a
     ]
    }
   ],
   "source": [
    "print(np.array(data_list[0]))"
   ]
  },
  {
   "cell_type": "code",
   "execution_count": null,
   "metadata": {
    "collapsed": true
   },
   "outputs": [],
   "source": []
  },
  {
   "cell_type": "code",
<<<<<<< HEAD
   "execution_count": 6,
   "metadata": {},
   "outputs": [
    {
     "ename": "NameError",
     "evalue": "name 'data_list' is not defined",
     "output_type": "error",
     "traceback": [
      "\u001b[0;31m---------------------------------------------------------------------------\u001b[0m",
      "\u001b[0;31mNameError\u001b[0m                                 Traceback (most recent call last)",
      "\u001b[0;32m<ipython-input-6-6586a42a993b>\u001b[0m in \u001b[0;36m<module>\u001b[0;34m()\u001b[0m\n\u001b[1;32m      3\u001b[0m \u001b[0mhot_list\u001b[0m \u001b[0;34m=\u001b[0m \u001b[0;34m[\u001b[0m\u001b[0;34m]\u001b[0m\u001b[0;34m\u001b[0m\u001b[0m\n\u001b[1;32m      4\u001b[0m \u001b[0;34m\u001b[0m\u001b[0m\n\u001b[0;32m----> 5\u001b[0;31m \u001b[0;32mfor\u001b[0m \u001b[0mi\u001b[0m \u001b[0;32min\u001b[0m \u001b[0mdata_list\u001b[0m\u001b[0;34m:\u001b[0m\u001b[0;34m\u001b[0m\u001b[0m\n\u001b[0m\u001b[1;32m      6\u001b[0m     \u001b[0mskymask\u001b[0m \u001b[0;34m=\u001b[0m \u001b[0mi\u001b[0m\u001b[0;34m[\u001b[0m\u001b[0;34m'obsmode'\u001b[0m\u001b[0;34m]\u001b[0m \u001b[0;34m==\u001b[0m \u001b[0;34m'SKY'\u001b[0m\u001b[0;34m\u001b[0m\u001b[0m\n\u001b[1;32m      7\u001b[0m     \u001b[0mhotmask\u001b[0m \u001b[0;34m=\u001b[0m \u001b[0mi\u001b[0m\u001b[0;34m[\u001b[0m\u001b[0;34m'obsmode'\u001b[0m\u001b[0;34m]\u001b[0m \u001b[0;34m==\u001b[0m \u001b[0;34m'HOT'\u001b[0m\u001b[0;34m\u001b[0m\u001b[0m\n",
      "\u001b[0;31mNameError\u001b[0m: name 'data_list' is not defined"
=======
   "execution_count": 8,
   "metadata": {},
   "outputs": [
    {
     "name": "stdout",
     "output_type": "stream",
     "text": [
      "(16, 149)\n"
>>>>>>> cf169dfa36cb4fd00489b7ca35b455d252cc033a
     ]
    }
   ],
   "source": [
    "#classify obsmode\n",
    "data_list2 = []\n",
    "hot_list = []\n",
    "\n",
    "for i in data_list:\n",
    "    skymask = i['obsmode'] == 'SKY'\n",
    "    hotmask = i['obsmode'] == 'HOT'\n",
    "    data_list2.append(np.array(i)[skymask])\n",
    "    hot_list.append(np.array(i)[hotmask])\n",
    "    \n",
    "print(np.array(hot_list).shape)"
   ]
  },
  {
   "cell_type": "code",
<<<<<<< HEAD
   "execution_count": 7,
=======
   "execution_count": 9,
>>>>>>> cf169dfa36cb4fd00489b7ca35b455d252cc033a
   "metadata": {},
   "outputs": [
    {
     "ename": "NameError",
     "evalue": "name 'data_list' is not defined",
     "output_type": "error",
     "traceback": [
      "\u001b[0;31m---------------------------------------------------------------------------\u001b[0m",
      "\u001b[0;31mNameError\u001b[0m                                 Traceback (most recent call last)",
      "\u001b[0;32m<ipython-input-7-1cb445e0f401>\u001b[0m in \u001b[0;36m<module>\u001b[0;34m()\u001b[0m\n\u001b[1;32m      1\u001b[0m \u001b[0mtp_list\u001b[0m \u001b[0;34m=\u001b[0m \u001b[0;34m[\u001b[0m\u001b[0;34m]\u001b[0m\u001b[0;34m\u001b[0m\u001b[0m\n\u001b[1;32m      2\u001b[0m \u001b[0;34m\u001b[0m\u001b[0m\n\u001b[0;32m----> 3\u001b[0;31m \u001b[0;32mfor\u001b[0m \u001b[0mi\u001b[0m \u001b[0;32min\u001b[0m \u001b[0mdata_list\u001b[0m\u001b[0;34m:\u001b[0m\u001b[0;34m\u001b[0m\u001b[0m\n\u001b[0m\u001b[1;32m      4\u001b[0m     \u001b[0msequence1\u001b[0m \u001b[0;34m=\u001b[0m \u001b[0;34m[\u001b[0m\u001b[0;34m]\u001b[0m\u001b[0;34m\u001b[0m\u001b[0m\n\u001b[1;32m      5\u001b[0m     \u001b[0mel_80_mask\u001b[0m \u001b[0;34m=\u001b[0m \u001b[0mi\u001b[0m\u001b[0;34m[\u001b[0m\u001b[0;34m'scannum'\u001b[0m\u001b[0;34m]\u001b[0m \u001b[0;34m==\u001b[0m \u001b[0;34m'80.0'\u001b[0m\u001b[0;34m\u001b[0m\u001b[0m\n",
      "\u001b[0;31mNameError\u001b[0m: name 'data_list' is not defined"
     ]
    }
   ],
   "source": [
    "tp_list = []\n",
    "\n",
    "for i in data_list:\n",
    "    sequence1 = []\n",
    "    el_80_mask = i['scannum'] == '80.0'\n",
    "    el_70_mask = i['scannum'] == '70.0'\n",
    "    el_60_mask = i['scannum'] == '60.0'\n",
    "    el_45_mask = i['scannum'] == '45.0'\n",
    "    el_30_mask = i['scannum'] == '30.0'\n",
    "    el_25_mask = i['scannum'] == '25.0'\n",
    "    el_20_mask = i['scannum'] == '20.0'\n",
    "    \n",
    "    sequence1.append(np.mean(np.array(i[el_80_mask])))\n",
    "    sequence1.append(np.mean(np.array(i[el_70_mask])))\n",
    "    sequence1.append(np.mean(np.array(i[el_60_mask])))\n",
    "    sequence1.append(np.mean(np.array(i[el_45_mask])))\n",
    "    sequence1.append(np.mean(np.array(i[el_30_mask])))\n",
    "    sequence1.append(np.mean(np.array(i[el_25_mask])))\n",
    "    sequence1.append(np.mean(np.array(i[el_20_mask])))\n",
    "    \n",
    "    tp_list.append(sequence1)"
   ]
  },
  {
   "cell_type": "code",
<<<<<<< HEAD
   "execution_count": 8,
=======
   "execution_count": 10,
>>>>>>> cf169dfa36cb4fd00489b7ca35b455d252cc033a
   "metadata": {},
   "outputs": [
    {
     "data": {
      "text/plain": [
       "(0,)"
      ]
     },
<<<<<<< HEAD
     "execution_count": 8,
=======
     "execution_count": 10,
>>>>>>> cf169dfa36cb4fd00489b7ca35b455d252cc033a
     "metadata": {},
     "output_type": "execute_result"
    }
   ],
   "source": [
    "np.array(tp_list).shape"
   ]
  },
  {
   "cell_type": "code",
<<<<<<< HEAD
   "execution_count": 9,
=======
   "execution_count": 11,
>>>>>>> cf169dfa36cb4fd00489b7ca35b455d252cc033a
   "metadata": {},
   "outputs": [
    {
     "name": "stdout",
     "output_type": "stream",
     "text": [
      "(0,)\n",
      "(0,)\n"
     ]
    }
   ],
   "source": [
    "# calc tau\n",
    "#log(p_hot-p_sky)のlistの作成   \n",
    "\n",
    "hot_list_mean = []\n",
    "for i in hot_list:\n",
    "    hot_list_mean.append(np.mean(np.array(i)))\n",
    "    \n",
    "print(np.array(hot_list_mean).shape)\n",
    "\n",
    "print(np.array(tp_list).shape)"
   ]
  },
  {
   "cell_type": "code",
<<<<<<< HEAD
   "execution_count": 10,
   "metadata": {
    "collapsed": true
   },
=======
   "execution_count": 12,
   "metadata": {},
>>>>>>> cf169dfa36cb4fd00489b7ca35b455d252cc033a
   "outputs": [],
   "source": [
    "d_hot_sky = []\n",
    "d_hot_sky_tempo = []\n",
    "\n",
    "tp_list = np.array(tp_list)\n",
    "\n",
    "\n",
    "for j in range(len(tp_list)):\n",
    "    d_hot_sky1=[]\n",
    "    hot_list_mean_ = hot_list_mean[j]\n",
    "    for i in tp_list[j]:\n",
    "        #print(i)\n",
    "        #print(hot_list_mean)\n",
    "        #print(i)\n",
    "        d_temp = hot_list_mean_ - i\n",
    "        #print(d_temp)\n",
    "        #print(d_temp)\n",
    "        try:\n",
    "            d_temp2 = math.log(d_temp)\n",
    "        except:\n",
    "            d_temp2 = 0\n",
    "        d_hot_sky1.append(d_temp2)\n",
    "    d_hot_sky.append(d_hot_sky1)"
   ]
  },
  {
   "cell_type": "code",
<<<<<<< HEAD
   "execution_count": 11,
=======
   "execution_count": 13,
>>>>>>> cf169dfa36cb4fd00489b7ca35b455d252cc033a
   "metadata": {},
   "outputs": [
    {
     "data": {
      "text/plain": [
       "(0,)"
      ]
     },
<<<<<<< HEAD
     "execution_count": 11,
=======
     "execution_count": 13,
>>>>>>> cf169dfa36cb4fd00489b7ca35b455d252cc033a
     "metadata": {},
     "output_type": "execute_result"
    }
   ],
   "source": [
    "np.array(d_hot_sky).shape"
   ]
  },
  {
   "cell_type": "code",
<<<<<<< HEAD
   "execution_count": 12,
=======
   "execution_count": 14,
>>>>>>> cf169dfa36cb4fd00489b7ca35b455d252cc033a
   "metadata": {},
   "outputs": [
    {
     "name": "stdout",
     "output_type": "stream",
     "text": [
<<<<<<< HEAD
      "(0,)\n"
=======
      "(16, 7)\n"
>>>>>>> cf169dfa36cb4fd00489b7ca35b455d252cc033a
     ]
    }
   ],
   "source": [
    "#seczの計算  \n",
    "z = [80, 70, 60, 45, 30, 25, 20]\n",
    "_z = []\n",
    "for i in range(len(z)):\n",
    "    __z = 90 - z[i]\n",
    "    _z.append(__z)\n",
    "\n",
    "secz = []\n",
    "for i in range(len(_z)):\n",
    "    secz_temp = (_z[i]/180)*math.pi\n",
    "    secz.append(1/math.cos(secz_temp))\n",
    "\n",
    "#print(d_hot_sky1)\n",
    "#print(d_hot_sky2)\n",
    "\n",
    "#print(secz)\n",
    "\n",
    "_secz = sorted(secz, reverse=False)\n",
    "#print(secz)\n",
    "import matplotlib.pyplot as plt2\n",
    "#fig = plt2.figure(figsize=(20.0, 6.0))\n",
    "#ax = fig.add_subplot(111)\n",
    "#ax.plot(d_hot_sky1)\n",
    "#plt2.plot(secz, d_hot_sky[0])\n",
    "#plt2.plot(secz, d_hot_sky[1])\n",
    "#plt2.show\n",
    "\n",
    "print(np.array(d_hot_sky).shape)"
   ]
  },
  {
   "cell_type": "code",
   "execution_count": null,
   "metadata": {
    "collapsed": true
   },
   "outputs": [],
   "source": []
  },
  {
   "cell_type": "code",
<<<<<<< HEAD
   "execution_count": 13,
   "metadata": {
    "collapsed": true
   },
=======
   "execution_count": 15,
   "metadata": {},
>>>>>>> cf169dfa36cb4fd00489b7ca35b455d252cc033a
   "outputs": [],
   "source": [
    "fit_array_list =[]\n",
    "\n",
    "for i in d_hot_sky:\n",
    "    try:\n",
    "        fit = np.polyfit(secz, np.array(i),1)\n",
    "        fit_array_list.append(fit)\n",
    "    except:\n",
    "        fit_array_list.append(np.zeros(2))\n",
    "    \n",
    "#print(np.array(fit_array_list[1][0][1]))\n",
    "\n",
    "\n",
    "fit_array_list_debug=[]\n",
    "\n",
    "\n",
    "        \n"
   ]
  },
  {
   "cell_type": "code",
<<<<<<< HEAD
   "execution_count": 14,
   "metadata": {},
   "outputs": [
    {
     "ename": "IndexError",
     "evalue": "list index out of range",
     "output_type": "error",
     "traceback": [
      "\u001b[0;31m---------------------------------------------------------------------------\u001b[0m",
      "\u001b[0;31mIndexError\u001b[0m                                Traceback (most recent call last)",
      "\u001b[0;32m<ipython-input-14-98eb3ff24419>\u001b[0m in \u001b[0;36m<module>\u001b[0;34m()\u001b[0m\n\u001b[1;32m      3\u001b[0m \u001b[0;34m\u001b[0m\u001b[0m\n\u001b[1;32m      4\u001b[0m \u001b[0;32mfor\u001b[0m \u001b[0mi\u001b[0m\u001b[0;34m,\u001b[0m \u001b[0m_ax\u001b[0m \u001b[0;32min\u001b[0m \u001b[0menumerate\u001b[0m\u001b[0;34m(\u001b[0m\u001b[0max\u001b[0m\u001b[0;34m)\u001b[0m\u001b[0;34m:\u001b[0m\u001b[0;34m\u001b[0m\u001b[0m\n\u001b[0;32m----> 5\u001b[0;31m     \u001b[0;32mif\u001b[0m \u001b[0;34m(\u001b[0m\u001b[0;34m-\u001b[0m\u001b[0;36m1\u001b[0m\u001b[0;34m*\u001b[0m\u001b[0mfit_array_list\u001b[0m\u001b[0;34m[\u001b[0m\u001b[0mi\u001b[0m\u001b[0;34m]\u001b[0m\u001b[0;34m[\u001b[0m\u001b[0;36m0\u001b[0m\u001b[0;34m]\u001b[0m \u001b[0;34m>=\u001b[0m \u001b[0;36m1\u001b[0m\u001b[0;34m)\u001b[0m \u001b[0;32mor\u001b[0m \u001b[0;34m(\u001b[0m\u001b[0;34m-\u001b[0m\u001b[0;36m1\u001b[0m\u001b[0;34m*\u001b[0m\u001b[0mfit_array_list\u001b[0m\u001b[0;34m[\u001b[0m\u001b[0mi\u001b[0m\u001b[0;34m]\u001b[0m\u001b[0;34m[\u001b[0m\u001b[0;36m0\u001b[0m\u001b[0;34m]\u001b[0m \u001b[0;34m<=\u001b[0m \u001b[0;36m0\u001b[0m\u001b[0;34m)\u001b[0m\u001b[0;34m:\u001b[0m\u001b[0;34m\u001b[0m\u001b[0m\n\u001b[0m\u001b[1;32m      6\u001b[0m         \u001b[0m_ax\u001b[0m\u001b[0;34m.\u001b[0m\u001b[0mtext\u001b[0m\u001b[0;34m(\u001b[0m\u001b[0;36m0.3\u001b[0m\u001b[0;34m,\u001b[0m \u001b[0;36m0.5\u001b[0m\u001b[0;34m,\u001b[0m \u001b[0;34m'bad data'\u001b[0m\u001b[0;34m,\u001b[0m \u001b[0mtransform\u001b[0m \u001b[0;34m=\u001b[0m \u001b[0m_ax\u001b[0m\u001b[0;34m.\u001b[0m\u001b[0mtransAxes\u001b[0m\u001b[0;34m,\u001b[0m \u001b[0mfontsize\u001b[0m\u001b[0;34m=\u001b[0m\u001b[0;36m25\u001b[0m\u001b[0;34m)\u001b[0m\u001b[0;34m\u001b[0m\u001b[0m\n\u001b[1;32m      7\u001b[0m     \u001b[0;32melse\u001b[0m\u001b[0;34m:\u001b[0m\u001b[0;34m\u001b[0m\u001b[0m\n",
      "\u001b[0;31mIndexError\u001b[0m: list index out of range"
=======
   "execution_count": 16,
   "metadata": {},
   "outputs": [
    {
     "name": "stderr",
     "output_type": "stream",
     "text": [
      "No handles with labels found to put in legend.\n",
      "No handles with labels found to put in legend.\n",
      "No handles with labels found to put in legend.\n",
      "No handles with labels found to put in legend.\n",
      "No handles with labels found to put in legend.\n",
      "No handles with labels found to put in legend.\n",
      "No handles with labels found to put in legend.\n",
      "No handles with labels found to put in legend.\n",
      "No handles with labels found to put in legend.\n"
>>>>>>> cf169dfa36cb4fd00489b7ca35b455d252cc033a
     ]
    },
    {
     "data": {
<<<<<<< HEAD
      "image/png": "iVBORw0KGgoAAAANSUhEUgAAA6oAAAOJCAYAAAAURN+GAAAABHNCSVQICAgIfAhkiAAAAAlwSFlz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\nbaQ5rcx/DRwAAAAASUVORK5CYII=\n",
=======
      "image/png": "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\n",
>>>>>>> cf169dfa36cb4fd00489b7ca35b455d252cc033a
      "text/plain": [
       "<matplotlib.figure.Figure at 0x7faa89935b00>"
      ]
     },
     "metadata": {},
     "output_type": "display_data"
    }
   ],
   "source": [
    "fig = plt.figure(figsize=(16,16))\n",
    "ax = [fig.add_subplot(4, 4, i+1) for i in range(16)]\n",
    "    \n",
    "for i, _ax in enumerate(ax):\n",
    "    if (-1*fit_array_list[i][0] >= 1) or (-1*fit_array_list[i][0] <= 0):\n",
    "        _ax.text(0.3, 0.5, 'bad data', transform = _ax.transAxes, fontsize=25)\n",
    "    else:\n",
    "        try:\n",
    "            _ax.plot(secz, np.poly1d(fit_array_list[i])(secz))\n",
    "            _ax.plot(secz, d_hot_sky[i], 'o')\n",
    "            _ax.text(0.1, 0.1, 'tau = {:.4f}'.format(-1*fit_array_list[i][0]), transform = _ax.transAxes)\n",
    "        except:\n",
    "            _ax.text(0.3, 0.5, 'bad data', transform = _ax.transAxes, fontsize=25)\n",
    "\n",
    "    _ax.set_xlabel('secZ')\n",
    "    _ax.set_ylabel(\"count\")\n",
    "    _ax.set_yscale(\"log\")\n",
    "    _ax.set_title('IF : {}'.format(i+1))\n",
    "    _ax.legend()\n",
    "    _ax.grid()\n",
    "    \n",
    "plt.tight_layout()\n",
    "plt.show()"
   ]
<<<<<<< HEAD
  },
  {
   "cell_type": "code",
   "execution_count": null,
   "metadata": {
    "collapsed": true
   },
   "outputs": [],
   "source": []
  },
  {
   "cell_type": "code",
   "execution_count": null,
   "metadata": {
    "collapsed": true,
    "scrolled": true
   },
   "outputs": [],
   "source": []
  },
  {
   "cell_type": "code",
   "execution_count": null,
   "metadata": {
    "collapsed": true
   },
   "outputs": [],
   "source": []
  },
  {
   "cell_type": "code",
   "execution_count": null,
   "metadata": {
    "collapsed": true
   },
   "outputs": [],
   "source": []
  },
  {
   "cell_type": "code",
   "execution_count": null,
   "metadata": {
    "collapsed": true
   },
   "outputs": [],
   "source": []
  },
  {
   "cell_type": "code",
   "execution_count": null,
   "metadata": {
    "collapsed": true
   },
   "outputs": [],
   "source": []
  },
  {
   "cell_type": "code",
   "execution_count": null,
   "metadata": {
    "collapsed": true
   },
   "outputs": [],
   "source": []
  },
  {
   "cell_type": "code",
   "execution_count": null,
   "metadata": {
    "collapsed": true
   },
   "outputs": [],
   "source": []
  },
  {
   "cell_type": "code",
   "execution_count": null,
   "metadata": {
    "collapsed": true
   },
   "outputs": [],
   "source": []
  },
  {
   "cell_type": "code",
   "execution_count": null,
   "metadata": {
    "collapsed": true
   },
   "outputs": [],
   "source": []
  },
  {
   "cell_type": "code",
   "execution_count": null,
   "metadata": {
    "collapsed": true
   },
   "outputs": [],
   "source": []
  },
  {
   "cell_type": "code",
   "execution_count": null,
   "metadata": {
    "collapsed": true
   },
   "outputs": [],
   "source": []
  },
  {
   "cell_type": "code",
   "execution_count": null,
   "metadata": {
    "collapsed": true
   },
   "outputs": [],
   "source": []
  },
  {
   "cell_type": "code",
   "execution_count": null,
   "metadata": {
    "collapsed": true
   },
   "outputs": [],
   "source": []
  },
  {
   "cell_type": "code",
   "execution_count": null,
   "metadata": {
    "collapsed": true
   },
   "outputs": [],
   "source": []
  },
  {
   "cell_type": "code",
   "execution_count": null,
   "metadata": {
    "collapsed": true
   },
   "outputs": [],
   "source": []
  },
  {
   "cell_type": "code",
   "execution_count": null,
   "metadata": {
    "collapsed": true
   },
   "outputs": [],
   "source": []
=======
>>>>>>> cf169dfa36cb4fd00489b7ca35b455d252cc033a
  }
 ],
 "metadata": {
  "kernelspec": {
   "display_name": "Python 3",
   "language": "python",
   "name": "python3"
  },
  "language_info": {
   "codemirror_mode": {
    "name": "ipython",
    "version": 3
   },
   "file_extension": ".py",
   "mimetype": "text/x-python",
   "name": "python",
   "nbconvert_exporter": "python",
   "pygments_lexer": "ipython3",
   "version": "3.6.1"
  }
 },
 "nbformat": 4,
 "nbformat_minor": 2
}
