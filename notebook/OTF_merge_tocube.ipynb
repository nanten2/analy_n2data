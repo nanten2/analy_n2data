{
 "cells": [
  {
   "cell_type": "code",
   "execution_count": 1,
   "metadata": {},
   "outputs": [],
   "source": [
    "import xarray as xr\n",
    "import numpy\n",
    "from tqdm import tqdm\n",
    "import astropy.io.fits as fits\n",
    "from scipy.special import jv"
   ]
  },
  {
   "cell_type": "code",
   "execution_count": 2,
   "metadata": {},
   "outputs": [],
   "source": [
    "%matplotlib inline\n",
    "import matplotlib.pyplot as plt\n",
    "plt.rcParams[\"font.family\"] = \"Arial,freesans\"\n",
    "plt.rcParams[\"figure.facecolor\"] = \"white\"\n",
    "plt.rcParams[\"font.size\"] = 14#23\n",
    "plt.rcParams[\"mathtext.fontset\"] = \"stix\" "
   ]
  },
  {
   "cell_type": "code",
   "execution_count": 118,
   "metadata": {},
   "outputs": [],
   "source": [
    "#OriKL\n",
    "#lamda_on = 209*3600\n",
    "lamda_on = 83.80613*3600\n",
    "#lamda_on = 211*3600\n",
    "#lamda_on = 84.05613 *3600\n",
    "grid = 30\n",
    "#beta_on = -20*3600\n",
    "beta_on = -5.374320*3600\n",
    "#beta_on = -5.1*3600\n",
    "#beta_on = -18*3600\n",
    "#beta_on = -14*3600\n",
    "#N=150\n",
    "N = 300\n",
    "# lamda_on = 0\n",
    "# beta_on = 0\n",
    "# grid = 30\n",
    "# N = 50\n",
    "\n",
    "# #M17SW\n",
    "# lamda_on = -84.9232  *3600\n",
    "# grid = 30\n",
    "# beta_on =  -16.2003 *3600\n",
    "\n",
    "# N=31"
   ]
  },
  {
   "cell_type": "code",
   "execution_count": 102,
   "metadata": {},
   "outputs": [],
   "source": [
    "#中間データ読み込み\n",
    "#tastar_cube = xr.open_dataarray(\"/home/amigos/seigyo/analy/shiotani/nasco/raw/n20191201033807_OrionB5_IF12.cdf\")\n",
    "#tastar_cube = xr.open_dataarray(\"/home/amigos/seigyo/analy/shiotani/nasco/raw/n20191201033807_OrionB5_IF07_hosei.cdf\")\n",
    "#tastar_cube1 = xr.open_dataarray(\"/home/amigos/seigyo/analy/shiotani/nasco/raw/n20191201033807_Orion_B5_IF07hoseibeam3.cdf\")\n",
    "#tastar_cube = xr.open_dataarray(\"/home/amigos/seigyo/analy/shiotani/nasco/raw/n20191201045618_orion_IF11_A5.cdf\")\n",
    "#tastar_cube2 = xr.open_dataarray(\"/home/amigos/seigyo/analy/shiotani/nasco/raw/n20191201033807_B5_IF11_hosei.cdf\")\n",
    "#tastar_cube = xr.open_dataarray(\"/home/amigos/seigyo/analy/shiotani/nasco/raw/n20191202042027_D1_IF11_hosei.cdf\")\n",
    "#tastar_cube1 = xr.open_dataarray(\"/home/amigos/seigyo/analy/shiotani/nasco/raw/n20191201072604_A6_IF11_hosei.cdf\")\n",
    "#tastar_cube2 = xr.open_dataarray(\"/home/amigos/seigyo/analy/shiotani/nasco/raw/n20191201072604_A6_IF07_hosei.cdf\")\n",
    "#tastar_cube = xr.open_dataarray(\"/home/amigos/seigyo/analy/shiotani/nasco/raw/n20191202083010_D5_IF12_hosei.cdf\")\n",
    "#tastar_cube = xr.open_dataarray(\"/home/amigos/seigyo/analy/shiotani/nasco/raw/IRC.cdf\")\n",
    "# tastar_cube1 = xr.open_dataarray(\"/home/amigos/seigyo/analy/shiotani/nasco/raw/n20191201033807_B5_IF07_hosei.cdf\")\n",
    "# tastar_cube2 = xr.open_dataarray(\"/home/amigos/seigyo/analy/shiotani/nasco/raw/n20191201033807_B5_IF11_hosei.cdf\")\n",
    "# tastar_cube1 = xr.open_dataarray(\"/home/amigos/seigyo/analy/shiotani/nasco/raw/n20191201045618_A5_IF11_hosei.cdf\")\n",
    "# tastar_cube2 = xr.open_dataarray(\"/home/amigos/seigyo/analy/shiotani/nasco/raw/n20191201045618_A5_IF07_hosei.cdf\")\n",
    "# tastar_cube1 = xr.open_dataarray(\"/home/amigos/seigyo/analy/shiotani/nasco/raw/n20191201085135_B6_IF11_hosei.cdf\")\n",
    "# tastar_cube2 = xr.open_dataarray(\"/home/amigos/seigyo/analy/shiotani/nasco/raw/n20191201085135_B6_IF07_hosei.cdf\")\n",
    "# tastar_cube1 = xr.open_dataarray(\"/home/amigos/seigyo/analy/shiotani/nasco/raw/n20191202071529_B4_IF07_hosei.cdf\")\n",
    "# tastar_cube2 = xr.open_dataarray(\"/home/amigos/seigyo/analy/shiotani/nasco/raw/n20191202071529_B4_IF11_hosei.cdf\")\n",
    "# tastar_cube1 = xr.open_dataarray(\"/home/amigos/seigyo/analy/shiotani/nasco/raw/n20191202015317_D2_IF11_hosei.cdf\")\n",
    "# tastar_cube2 = xr.open_dataarray(\"/home/amigos/seigyo/analy/shiotani/nasco/raw/n20191202015317_D2_IF07_hosei.cdf\")\n",
    "# tastar_cube1 = xr.open_dataarray(\"/home/amigos/seigyo/analy/shiotani/nasco/raw/n20191202030138_C2_IF11_hosei.cdf\")\n",
    "# tastar_cube2 = xr.open_dataarray(\"/home/amigos/seigyo/analy/shiotani/nasco/raw/n20191202030138_C2_IF07_hosei.cdf\")\n",
    "# tastar_cube1 = xr.open_dataarray(\"/home/amigos/seigyo/analy/shiotani/nasco/raw/n20191202042027_D1_IF11_hosei.cdf\")\n",
    "# tastar_cube2 = xr.open_dataarray(\"/home/amigos/seigyo/analy/shiotani/nasco/raw/n20191202042027_D1_IF07_hosei.cdf\")\n",
    "#tastar_cube1 = xr.open_dataarray(\"/home/amigos/seigyo/analy/shiotani/nasco/raw/n20191202055522_C1_IF11_hosei.cdf\")\n",
    "#tastar_cube2 = xr.open_dataarray(\"/home/amigos/seigyo/analy/shiotani/nasco/raw/n20191202055522_C1_IF07_hosei.cdf\")\n",
    "#tastar_cube = xr.open_dataarray(\"/home/amigos/seigyo/analy/shiotani/nasco/raw/n20191201033807_B5_IF12_hosei.cdf\")\n",
    "#tastar_cube1 = xr.open_dataarray(\"/home/amigos/seigyo/analy/shiotani/nasco/raw/n20191203082306_D6_IF11_hosei.cdf\")\n",
    "#tastar_cube2 = xr.open_dataarray(\"/home/amigos/seigyo/analy/shiotani/nasco/raw/n20191203082306_D6_IF07_hosei.cdf\")\n",
    "# tastar_cube1 = xr.open_dataarray(\"/home/amigos/seigyo/analy/shiotani/nasco/raw/n20191202083010_D5_IF07_hosei.cdf\")\n",
    "# tastar_cube2 = xr.open_dataarray(\"/home/amigos/seigyo/analy/shiotani/nasco/raw/n20191202083010_D5_IF11_hosei.cdf\")\n",
    "# tastar_cube1 = xr.open_dataarray(\"/home/amigos/seigyo_/analy/shiotani/nasco/raw/n20191203071118_C5_IF11_hosei.cdf\")\n",
    "# tastar_cube2 = xr.open_dataarray(\"/home/amigos/seigyo/analy/shiotani/nasco/raw/n20191203071118_C5_IF07_hosei.cdf\")\n",
    "#tastar_cube1 = xr.open_dataarray(\"/home/amigos/seigyo/analy/shiotani/nasco/raw/n20191201033807_B5_IF12_hosei.cdf\")\n",
    "#tastar_cube2 = xr.open_dataarray(\"/home/amigos/seigyo/analy/shiotani/nasco/raw/n20191201033807_B5_IF07_hosei.cdf\")\n",
    "#tastar_cube = xr.open_dataarray(\"/home/amigos/seigyo/analy/shiotani/nasco/raw/n20191130040729_D4_IF11_hosei.cdf\")\n",
    "#tastar_cube = xr.open_dataarray(\"/home/amigos/seigyo/analy/shiotani/nasco/raw/n20191130052434_D3_IF11_hosei.cdf\")\n",
    "#tastar_cube = xr.open_dataarray(\"/home/amigos/seigyo/analy/shiotani/nasco/raw/n20191130065109_C4_IF11_hosei.cdf\")\n",
    "#tastar_cube = xr.open_dataarray(\"/home/amigos/seigyo/analy/shiotani/nasco/raw/n20191130082144_C3_IF11_hosei.cdf\")\n",
    "#tastar_cube = xr.open_dataarray(\"/home/amigos/seigyo/analy/shiotani/nasco/raw/n20191210014357_C6_IF11_hosei.cdf\")\n",
    "#tastar_cube = xr.open_dataarray(\"/home/amigos/seigyo/analy/shiotani/nasco/raw/n20191210031339_B1_IF11_hosei.cdf\")\n",
    "#tastar_cube = xr.open_dataarray(\"/home/amigos/seigyo/analy/shiotani/nasco/raw/n20191210081049_A4_IF11_hosei.cdf\")\n",
    "#tastar_cube = xr.open_dataarray(\"/home/amigos/seigyo/analy/shiotani/nasco/raw/n20191218010049_OrionA_IF11_hosei.cdf\")\n",
    "#tastar_cube = xr.open_dataarray(\"/home/amigos/seigyo/analy/shiotani/nasco/raw/n20191218010049_OrionA_IF11_hosei_test20190107.cdf\")\n",
    "# tastar_cube = xr.open_dataarray(\"/home/amigos/seigyo/analy/shiotani/nasco/raw/n20191130040729_D4_IF12_hosei.cdf\")\n",
    "#tastar_cube = xr.open_dataarray(\"/home/amigos/seigyo/analy/shiotani/nasco/raw/n20191218010049_OrionA_IF11_hosei.cdf\")\n",
    "t1 = xr.open_dataarray(\"/home/amigos/seigyo/analy/shiotani/nasco/raw/n20191218010049_OrionA_IF11_hosei_fixbug.cdf\")\n",
    "t2 = xr.open_dataarray(\"/home/amigos/seigyo/analy/shiotani/nasco/raw/n20191218021902_OrionA_IF11_hosei_fixbug.cdf\")\n",
    "t3 = xr.open_dataarray(\"/home/amigos/seigyo/analy/shiotani/nasco/raw/n20191220014021_OrionA_IF11_hosei_fixbug.cdf\")\n",
    "t4 = xr.open_dataarray(\"/home/amigos/seigyo/analy/shiotani/nasco/raw/n20191220024521_OrionA_IF11_hosei_fixbug.cdf\")\n",
    "t5 = xr.open_dataarray(\"/home/amigos/seigyo/analy/shiotani/nasco/raw/n20191218010049_OrionA_IF07_hosei.cdf\")\n",
    "t6 = xr.open_dataarray(\"/home/amigos/seigyo/analy/shiotani/nasco/raw/n20191218021902_OrionA_IF07_hosei.cdf\")\n",
    "t7 = xr.open_dataarray(\"/home/amigos/seigyo/analy/shiotani/nasco/raw/n20191220014021_OrionA_IF07_hosei.cdf\")\n",
    "t8 = xr.open_dataarray(\"/home/amigos/seigyo/analy/shiotani/nasco/raw/n20191220024521_OrionA_IF07_hosei.cdf\")\n",
    "#13CO\n",
    "#t1 = xr.open_dataarray(\"/home/amigos/seigyo/analy/shiotani/nasco/raw/n20191201072604_A6_IF12_hosei.cdf\")\n",
    "#t2 = xr.open_dataarray(\"/home/amigos/seigyo/analy/shiotani/nasco/raw/n20191201072604_A6_IF08_hosei.cdf\")\n",
    "# t1 = xr.open_dataarray(\"/home/amigos/seigyo/analy/shiotani/nasco/raw/n20191201085135_B6_IF08_hosei.cdf\")\n",
    "# t2 = xr.open_dataarray(\"/home/amigos/seigyo/analy/shiotani/nasco/raw/n20191201085135_B6_IF12_hosei.cdf\")\n",
    "# t1 = xr.open_dataarray(\"/home/amigos/seigyo/analy/shiotani/nasco/raw/n20191202015317_D2_IF08_hosei.cdf\")\n",
    "# t2 = xr.open_dataarray(\"/home/amigos/seigyo/analy/shiotani/nasco/raw/n20191202015317_D2_IF12_hosei.cdf\")\n",
    "# t1 = xr.open_dataarray(\"/home/amigos/seigyo/analy/shiotani/nasco/raw/n20191202030138_C2_IF08_hosei.cdf\")\n",
    "# t2 = xr.open_dataarray(\"/home/amigos/seigyo/analy/shiotani/nasco/raw/n20191202030138_C2_IF12_hosei.cdf\")\n",
    "# t1 = xr.open_dataarray(\"/home/amigos/seigyo/analy/shiotani/nasco/raw/n20191202042027_D1_IF08_hosei.cdf\")\n",
    "# t2 = xr.open_dataarray(\"/home/amigos/seigyo/analy/shiotani/nasco/raw/n20191202042027_D1_IF12_hosei.cdf\")\n",
    "#t1 = xr.open_dataarray(\"/home/amigos/seigyo/analy/shiotani/nasco/raw/n20191130040729_D4_IF12_hosei.cdf\")\n",
    "#t2 = xr.open_dataarray(\"/home/amigos/seigyo/analy/shiotani/nasco/raw/n20191130040729_D4_IF08_hosei.cdf\")\n",
    "#t1 = xr.open_dataarray(\"/home/amigos/seigyo/analy/shiotani/nasco/raw/n20191130052434_D3_IF08_hosei.cdf\")\n",
    "#t2 = xr.open_dataarray(\"/home/amigos/seigyo/analy/shiotani/nasco/raw/n20191130052434_D3_IF12_hosei.cdf\")\n",
    "# t1 = xr.open_dataarray(\"/home/amigos/seigyo/analy/shiotani/nasco/raw/n20191130082144_C3_IF12_hosei.cdf\")\n",
    "# t2 = xr.open_dataarray(\"/home/amigos/seigyo/analy/shiotani/nasco/raw/n20191130082144_C3_IF08_hosei.cdf\")\n",
    "# t1 = xr.open_dataarray(\"/home/amigos/seigyo/analy/shiotani/nasco/raw/n20191130065109_C4_IF12_hosei.cdf\")\n",
    "# t2 = xr.open_dataarray(\"/home/amigos/seigyo/analy/shiotani/nasco/raw/n20191130065109_C4_IF08_hosei.cdf\")\n",
    "# t1 = xr.open_dataarray(\"/home/amigos/seigyo/analy/shiotani/nasco/raw/n20191201033807_B5_IF12_hosei.cdf\")\n",
    "# t2 = xr.open_dataarray(\"/home/amigos/seigyo/analy/shiotani/nasco/raw/n20191201033807_B5_IF08_hosei.cdf\")\n",
    "# t1 = xr.open_dataarray(\"/home/amigos/seigyo/analy/shiotani/nasco/raw/n20191201045618_A5_IF12_hosei.cdf\")\n",
    "# t2 = xr.open_dataarray(\"/home/amigos/seigyo/analy/shiotani/nasco/raw/n20191201045618_A5_IF08_hosei.cdf\")\n",
    "#tastar_cube = xr.open_dataarray(\"/home/amigos/seigyo/analy/shiotani/nasco/raw/n20191130040729_D4_IF12_C18O_hosei.cdf\")\n",
    "#t1 = t1[:,23500:24500]\n",
    "#t2 = t2[:,23500:24500]\n",
    "#tastar_cube  = xr.open_dataarray(\"/home/amigos/seigyo/analy/shiotani/nasco/raw/n20191218010049_OrionA_IF07_hosei.cdf\")\n",
    "# tastar_cube = xr.open_dataarray(\"/home/amigos/seigyo/analy/shiotani/nasco/raw/n20191218010049_OrionA_IF11_hosei_fixbug.cdf\")\n",
    "# tastar_cube = tastar_cube[:,16600:17300]\n",
    "#tastar_cube = tastar_cube[:,17000:17500]\n",
    "t1 = t1[:,16600:17300]\n",
    "t2 = t2[:,16600:17300]\n",
    "t3 = t3[:,16600:17300]\n",
    "t4 = t4[:,16600:17300]\n",
    "t5 = t5[:,16600:17300]\n",
    "t6 = t6[:,16600:17300]\n",
    "t7 = t7[:,16600:17300]\n",
    "t8 = t8[:,16600:17300]\n",
    "#tastar_cube =  xr.open_dataarray(\"/home/amigos/seigyo/analy/shiotani/nasco/raw/nict.cdf\")\n",
    "#tastar_cube =  xr.open_dataarray(\"/home/amigos/seigyo/analy/shiotani/nasco/raw/nict2.cdf\")#x0\n",
    "#tastar_cube =  xr.open_dataarray(\"/home/amigos/seigyo/analy/shiotani/nasco/raw/nict3.cdf\")#x1\n",
    "#tastar_cube = xr.open_dataarray(\"/home/amigos/seigyo/analy/shiotani/nasco/raw/n20191121050456_IF12nict3.cdf\")\n",
    "#tastar_cube = xr.open_dataarray(\"/home/amigos/seigyo/analy/shiotani/nasco/raw/n20191218010049_12CO_2-1IF01.cdf\")#21500-22500\n",
    "#tastar_cube = xr.open_dataarray(\"/home/amigos/seigyo/analy/shiotani/nasco/raw/n20191218010049_12CO_2-1IF01_fix2.cdf\")#21500-22500\n",
    "tastar_cube = xr.open_dataarray(\"/home/amigos/seigyo/analy/shiotani/nasco/raw/test.cdf\")#21500-22500\n",
    "tastar_cube = tastar_cube[:,20500:21500]\n",
    "#import pickle\n",
    "#with open(\"/home/amigos/seigyo/analy/shiotani/git/analy_n2data/testirc.pickle\", \"rb\") as f:\n",
    " #   tastar_cube = pickle.load(f)"
   ]
  },
  {
   "cell_type": "code",
   "execution_count": null,
   "metadata": {},
   "outputs": [],
   "source": [
    "#tastar_cube1 = tastar_cube1[:,23700:24100]\n",
    "#tastar_cube2 = tastar_cube2[:,23700:24100]"
   ]
  },
  {
   "cell_type": "code",
   "execution_count": null,
   "metadata": {},
   "outputs": [],
   "source": [
    "#tastar_cube = xr.concat([t5,t6,t7,t8], dim=\"t\")\n",
    "#tastar_cube = xr.concat([t1,t2,t3,t4], dim=\"t\")\n",
    "tastar_cube = xr.concat([t1,t2,t3,t4,t5,t6,t7,t8], dim=\"t\")\n",
    "#tastar_cube = xr.concat([t1,t2], dim=\"t\")"
   ]
  },
  {
   "cell_type": "code",
   "execution_count": null,
   "metadata": {},
   "outputs": [],
   "source": [
    "tastar_cube[1000]"
   ]
  },
  {
   "cell_type": "code",
   "execution_count": 56,
   "metadata": {},
   "outputs": [],
   "source": [
    "# dec1 = numpy.array(tastar_cube1[\"DEC\"])\n",
    "# ra1 = numpy.array(tastar_cube1[\"RA\"])\n",
    "# dec2 = numpy.array(tastar_cube2[\"DEC\"])\n",
    "# ra2 = numpy.array(tastar_cube2[\"RA\"])\n",
    "dec2 = numpy.array(tastar_cube[\"DEC\"])\n",
    "ra2 = numpy.array(tastar_cube[\"RA\"])"
   ]
  },
  {
   "cell_type": "code",
   "execution_count": 57,
   "metadata": {},
   "outputs": [
    {
     "data": {
      "text/plain": [
       "[<matplotlib.lines.Line2D at 0x7fadd8f94278>]"
      ]
     },
     "execution_count": 57,
     "metadata": {},
     "output_type": "execute_result"
    },
    {
     "data": {
      "image/png": "[encoded data removed]",
      "text/plain": [
       "<Figure size 432x288 with 1 Axes>"
      ]
     },
     "metadata": {
      "needs_background": "light"
     },
     "output_type": "display_data"
    }
   ],
   "source": [
    "# plt.plot(ra1, dec1, \".\", alpha=0.07)\n",
    "plt.plot(ra2, dec2, \".\", alpha=0.07)\n",
    "# plt.grid()"
   ]
  },
  {
   "cell_type": "code",
   "execution_count": 119,
   "metadata": {},
   "outputs": [],
   "source": [
    "#Azgrid と書いているけど、実際はRadecのgridを上より作成\n",
    "azgrid = numpy.linspace(lamda_on + ((N-1)/2)*grid, lamda_on - ((N-1)/2)*grid, num=N, endpoint=True) #減る # 間違ってるかも\n",
    "elgrid = numpy.linspace(beta_on - ((N-1)/2)*grid, beta_on + ((N-1)/2)*grid, num=N, endpoint=True) #増える\n",
    "azel_grid = numpy.meshgrid(azgrid, elgrid)\n",
    "offset = 300#grid中心から15arcsec のデータを採用しますというパラメータ astropy units 使うべき"
   ]
  },
  {
   "cell_type": "code",
   "execution_count": 151,
   "metadata": {},
   "outputs": [
    {
     "data": {
      "image/png": "[encoded data removed]",
      "text/plain": [
       "<Figure size 720x360 with 1 Axes>"
      ]
     },
     "metadata": {
      "needs_background": "light"
     },
     "output_type": "display_data"
    }
   ],
   "source": [
    "fig = plt.figure(figsize=(10,5))\n",
    "ax = fig.add_subplot(1,1,1)\n",
    "ax.plot(tastar_cube[\"Vlsr\"], numpy.mean(tastar_cube, axis=0))\n",
    "#ax.plot(numpy.mean(tastar_cube, axis=0))\n",
    "#ax.plot(tastar_cube[5000])\n",
    "#ax.set_xlim(-20, 30)\n",
    "#ax.set_ylim(-1, 0.9)\n",
    "ax.set_xlabel(\"Vlsr (km/s)\")\n",
    "ax.set_ylabel(\"Ta* (K)\")\n",
    "ax.grid(True)"
   ]
  },
  {
   "cell_type": "code",
   "execution_count": 152,
   "metadata": {
    "scrolled": true
   },
   "outputs": [
    {
     "name": "stderr",
     "output_type": "stream",
     "text": [
      "  1%|▏         | 4/300 [00:03<04:08,  1.19it/s]\n"
     ]
    },
    {
     "ename": "KeyboardInterrupt",
     "evalue": "",
     "output_type": "error",
     "traceback": [
      "\u001b[0;31m------------------------------------------------------\u001b[0m",
      "\u001b[0;31mKeyboardInterrupt\u001b[0m    Traceback (most recent call last)",
      "\u001b[0;32m<ipython-input-152-5631e3d1301c>\u001b[0m in \u001b[0;36m<module>\u001b[0;34m\u001b[0m\n\u001b[1;32m      8\u001b[0m     \u001b[0;32mfor\u001b[0m \u001b[0mj\u001b[0m \u001b[0;32min\u001b[0m \u001b[0mrange\u001b[0m\u001b[0;34m(\u001b[0m\u001b[0mmax_scannum\u001b[0m\u001b[0;34m)\u001b[0m\u001b[0;34m:\u001b[0m \u001b[0;31m#y\u001b[0m\u001b[0;34m\u001b[0m\u001b[0m\n\u001b[1;32m      9\u001b[0m         \u001b[0;31m#tmp.append(numpy.sqrt((azgrid[i] - ta_ra)**2 + (elgrid[j] - ta_dec)**2) < 30)\u001b[0m\u001b[0;34m\u001b[0m\u001b[0;34m\u001b[0m\u001b[0m\n\u001b[0;32m---> 10\u001b[0;31m         \u001b[0mtmp\u001b[0m\u001b[0;34m.\u001b[0m\u001b[0mappend\u001b[0m\u001b[0;34m(\u001b[0m\u001b[0mnumpy\u001b[0m\u001b[0;34m.\u001b[0m\u001b[0msqrt\u001b[0m\u001b[0;34m(\u001b[0m\u001b[0;34m(\u001b[0m\u001b[0mazgrid\u001b[0m\u001b[0;34m[\u001b[0m\u001b[0mi\u001b[0m\u001b[0;34m]\u001b[0m \u001b[0;34m-\u001b[0m \u001b[0mtastar_cube\u001b[0m\u001b[0;34m[\u001b[0m\u001b[0;34m\"RA\"\u001b[0m\u001b[0;34m]\u001b[0m\u001b[0;34m*\u001b[0m\u001b[0;36m3600\u001b[0m\u001b[0;34m)\u001b[0m\u001b[0;34m**\u001b[0m\u001b[0;36m2\u001b[0m \u001b[0;34m+\u001b[0m \u001b[0;34m(\u001b[0m\u001b[0melgrid\u001b[0m\u001b[0;34m[\u001b[0m\u001b[0mj\u001b[0m\u001b[0;34m]\u001b[0m \u001b[0;34m-\u001b[0m \u001b[0mtastar_cube\u001b[0m\u001b[0;34m[\u001b[0m\u001b[0;34m\"DEC\"\u001b[0m\u001b[0;34m]\u001b[0m\u001b[0;34m*\u001b[0m\u001b[0;36m3600\u001b[0m\u001b[0;34m)\u001b[0m\u001b[0;34m**\u001b[0m\u001b[0;36m2\u001b[0m\u001b[0;34m)\u001b[0m \u001b[0;34m<\u001b[0m \u001b[0moffset\u001b[0m\u001b[0;34m)\u001b[0m\u001b[0;34m\u001b[0m\u001b[0m\n\u001b[0m\u001b[1;32m     11\u001b[0m     \u001b[0mindex_list\u001b[0m\u001b[0;34m.\u001b[0m\u001b[0mappend\u001b[0m\u001b[0;34m(\u001b[0m\u001b[0mtmp\u001b[0m\u001b[0;34m)\u001b[0m\u001b[0;34m\u001b[0m\u001b[0m\n",
      "\u001b[0;32m~/.local/share/virtualenvs/analy-Eyq-irNF/lib/python3.7/site-packages/xarray/core/dataarray.py\u001b[0m in \u001b[0;36mfunc\u001b[0;34m(self, other)\u001b[0m\n\u001b[1;32m   2576\u001b[0m                 \u001b[0;32melse\u001b[0m \u001b[0mf\u001b[0m\u001b[0;34m(\u001b[0m\u001b[0mother_variable\u001b[0m\u001b[0;34m,\u001b[0m \u001b[0mself\u001b[0m\u001b[0;34m.\u001b[0m\u001b[0mvariable\u001b[0m\u001b[0;34m)\u001b[0m\u001b[0;34m\u001b[0m\u001b[0m\n\u001b[1;32m   2577\u001b[0m             )\n\u001b[0;32m-> 2578\u001b[0;31m             \u001b[0mcoords\u001b[0m\u001b[0;34m,\u001b[0m \u001b[0mindexes\u001b[0m \u001b[0;34m=\u001b[0m \u001b[0mself\u001b[0m\u001b[0;34m.\u001b[0m\u001b[0mcoords\u001b[0m\u001b[0;34m.\u001b[0m\u001b[0m_merge_raw\u001b[0m\u001b[0;34m(\u001b[0m\u001b[0mother_coords\u001b[0m\u001b[0;34m)\u001b[0m\u001b[0;34m\u001b[0m\u001b[0m\n\u001b[0m\u001b[1;32m   2579\u001b[0m             \u001b[0mname\u001b[0m \u001b[0;34m=\u001b[0m \u001b[0mself\u001b[0m\u001b[0;34m.\u001b[0m\u001b[0m_result_name\u001b[0m\u001b[0;34m(\u001b[0m\u001b[0mother\u001b[0m\u001b[0;34m)\u001b[0m\u001b[0;34m\u001b[0m\u001b[0m\n\u001b[1;32m   2580\u001b[0m \u001b[0;34m\u001b[0m\u001b[0m\n",
      "\u001b[0;32m~/.local/share/virtualenvs/analy-Eyq-irNF/lib/python3.7/site-packages/xarray/core/coordinates.py\u001b[0m in \u001b[0;36m_merge_raw\u001b[0;34m(self, other)\u001b[0m\n\u001b[1;32m    124\u001b[0m             \u001b[0mindexes\u001b[0m \u001b[0;34m=\u001b[0m \u001b[0mdict\u001b[0m\u001b[0;34m(\u001b[0m\u001b[0mself\u001b[0m\u001b[0;34m.\u001b[0m\u001b[0mindexes\u001b[0m\u001b[0;34m)\u001b[0m\u001b[0;34m\u001b[0m\u001b[0m\n\u001b[1;32m    125\u001b[0m         \u001b[0;32melse\u001b[0m\u001b[0;34m:\u001b[0m\u001b[0;34m\u001b[0m\u001b[0m\n\u001b[0;32m--> 126\u001b[0;31m             \u001b[0mvariables\u001b[0m\u001b[0;34m,\u001b[0m \u001b[0mindexes\u001b[0m \u001b[0;34m=\u001b[0m \u001b[0mmerge_coordinates_without_align\u001b[0m\u001b[0;34m(\u001b[0m\u001b[0;34m[\u001b[0m\u001b[0mself\u001b[0m\u001b[0;34m,\u001b[0m \u001b[0mother\u001b[0m\u001b[0;34m]\u001b[0m\u001b[0;34m)\u001b[0m\u001b[0;34m\u001b[0m\u001b[0m\n\u001b[0m\u001b[1;32m    127\u001b[0m         \u001b[0;32mreturn\u001b[0m \u001b[0mvariables\u001b[0m\u001b[0;34m,\u001b[0m \u001b[0mindexes\u001b[0m\u001b[0;34m\u001b[0m\u001b[0m\n\u001b[1;32m    128\u001b[0m \u001b[0;34m\u001b[0m\u001b[0m\n",
      "\u001b[0;32m~/.local/share/virtualenvs/analy-Eyq-irNF/lib/python3.7/site-packages/xarray/core/merge.py\u001b[0m in \u001b[0;36mmerge_coordinates_without_align\u001b[0;34m(objects, prioritized, exclude_dims)\u001b[0m\n\u001b[1;32m    326\u001b[0m         \u001b[0mfiltered\u001b[0m \u001b[0;34m=\u001b[0m \u001b[0mcollected\u001b[0m\u001b[0;34m\u001b[0m\u001b[0m\n\u001b[1;32m    327\u001b[0m \u001b[0;34m\u001b[0m\u001b[0m\n\u001b[0;32m--> 328\u001b[0;31m     \u001b[0;32mreturn\u001b[0m \u001b[0mmerge_collected\u001b[0m\u001b[0;34m(\u001b[0m\u001b[0mfiltered\u001b[0m\u001b[0;34m,\u001b[0m \u001b[0mprioritized\u001b[0m\u001b[0;34m)\u001b[0m\u001b[0;34m\u001b[0m\u001b[0m\n\u001b[0m\u001b[1;32m    329\u001b[0m \u001b[0;34m\u001b[0m\u001b[0m\n\u001b[1;32m    330\u001b[0m \u001b[0;34m\u001b[0m\u001b[0m\n",
      "\u001b[0;32m~/.local/share/virtualenvs/analy-Eyq-irNF/lib/python3.7/site-packages/xarray/core/merge.py\u001b[0m in \u001b[0;36mmerge_collected\u001b[0;34m(grouped, prioritized, compat)\u001b[0m\n\u001b[1;32m    226\u001b[0m                 \u001b[0mvariables\u001b[0m \u001b[0;34m=\u001b[0m \u001b[0;34m[\u001b[0m\u001b[0mvariable\u001b[0m \u001b[0;32mfor\u001b[0m \u001b[0mvariable\u001b[0m\u001b[0;34m,\u001b[0m \u001b[0m_\u001b[0m \u001b[0;32min\u001b[0m \u001b[0melements_list\u001b[0m\u001b[0;34m]\u001b[0m\u001b[0;34m\u001b[0m\u001b[0m\n\u001b[1;32m    227\u001b[0m                 \u001b[0;32mtry\u001b[0m\u001b[0;34m:\u001b[0m\u001b[0;34m\u001b[0m\u001b[0m\n\u001b[0;32m--> 228\u001b[0;31m                     \u001b[0mmerged_vars\u001b[0m\u001b[0;34m[\u001b[0m\u001b[0mname\u001b[0m\u001b[0;34m]\u001b[0m \u001b[0;34m=\u001b[0m \u001b[0munique_variable\u001b[0m\u001b[0;34m(\u001b[0m\u001b[0mname\u001b[0m\u001b[0;34m,\u001b[0m \u001b[0mvariables\u001b[0m\u001b[0;34m,\u001b[0m \u001b[0mcompat\u001b[0m\u001b[0;34m)\u001b[0m\u001b[0;34m\u001b[0m\u001b[0m\n\u001b[0m\u001b[1;32m    229\u001b[0m                 \u001b[0;32mexcept\u001b[0m \u001b[0mMergeError\u001b[0m\u001b[0;34m:\u001b[0m\u001b[0;34m\u001b[0m\u001b[0m\n\u001b[1;32m    230\u001b[0m                     \u001b[0;32mif\u001b[0m \u001b[0mcompat\u001b[0m \u001b[0;34m!=\u001b[0m \u001b[0;34m\"minimal\"\u001b[0m\u001b[0;34m:\u001b[0m\u001b[0;34m\u001b[0m\u001b[0m\n",
      "\u001b[0;32m~/.local/share/virtualenvs/analy-Eyq-irNF/lib/python3.7/site-packages/xarray/core/merge.py\u001b[0m in \u001b[0;36munique_variable\u001b[0;34m(name, variables, compat, equals)\u001b[0m\n\u001b[1;32m    135\u001b[0m             \u001b[0mout\u001b[0m \u001b[0;34m=\u001b[0m \u001b[0mout\u001b[0m\u001b[0;34m.\u001b[0m\u001b[0mcompute\u001b[0m\u001b[0;34m(\u001b[0m\u001b[0;34m)\u001b[0m\u001b[0;34m\u001b[0m\u001b[0m\n\u001b[1;32m    136\u001b[0m             \u001b[0;32mfor\u001b[0m \u001b[0mvar\u001b[0m \u001b[0;32min\u001b[0m \u001b[0mvariables\u001b[0m\u001b[0;34m[\u001b[0m\u001b[0;36m1\u001b[0m\u001b[0;34m:\u001b[0m\u001b[0;34m]\u001b[0m\u001b[0;34m:\u001b[0m\u001b[0;34m\u001b[0m\u001b[0m\n\u001b[0;32m--> 137\u001b[0;31m                 \u001b[0mequals\u001b[0m \u001b[0;34m=\u001b[0m \u001b[0mgetattr\u001b[0m\u001b[0;34m(\u001b[0m\u001b[0mout\u001b[0m\u001b[0;34m,\u001b[0m \u001b[0mcompat\u001b[0m\u001b[0;34m)\u001b[0m\u001b[0;34m(\u001b[0m\u001b[0mvar\u001b[0m\u001b[0;34m)\u001b[0m\u001b[0;34m\u001b[0m\u001b[0m\n\u001b[0m\u001b[1;32m    138\u001b[0m                 \u001b[0;32mif\u001b[0m \u001b[0;32mnot\u001b[0m \u001b[0mequals\u001b[0m\u001b[0;34m:\u001b[0m\u001b[0;34m\u001b[0m\u001b[0m\n\u001b[1;32m    139\u001b[0m                     \u001b[0;32mbreak\u001b[0m\u001b[0;34m\u001b[0m\u001b[0m\n",
      "\u001b[0;32m~/.local/share/virtualenvs/analy-Eyq-irNF/lib/python3.7/site-packages/xarray/core/variable.py\u001b[0m in \u001b[0;36mbroadcast_equals\u001b[0;34m(self, other, equiv)\u001b[0m\n\u001b[1;32m   1654\u001b[0m         \u001b[0;32mexcept\u001b[0m \u001b[0;34m(\u001b[0m\u001b[0mValueError\u001b[0m\u001b[0;34m,\u001b[0m \u001b[0mAttributeError\u001b[0m\u001b[0;34m)\u001b[0m\u001b[0;34m:\u001b[0m\u001b[0;34m\u001b[0m\u001b[0m\n\u001b[1;32m   1655\u001b[0m             \u001b[0;32mreturn\u001b[0m \u001b[0;32mFalse\u001b[0m\u001b[0;34m\u001b[0m\u001b[0m\n\u001b[0;32m-> 1656\u001b[0;31m         \u001b[0;32mreturn\u001b[0m \u001b[0mself\u001b[0m\u001b[0;34m.\u001b[0m\u001b[0mequals\u001b[0m\u001b[0;34m(\u001b[0m\u001b[0mother\u001b[0m\u001b[0;34m,\u001b[0m \u001b[0mequiv\u001b[0m\u001b[0;34m=\u001b[0m\u001b[0mequiv\u001b[0m\u001b[0;34m)\u001b[0m\u001b[0;34m\u001b[0m\u001b[0m\n\u001b[0m\u001b[1;32m   1657\u001b[0m \u001b[0;34m\u001b[0m\u001b[0m\n\u001b[1;32m   1658\u001b[0m     \u001b[0;32mdef\u001b[0m \u001b[0midentical\u001b[0m\u001b[0;34m(\u001b[0m\u001b[0mself\u001b[0m\u001b[0;34m,\u001b[0m \u001b[0mother\u001b[0m\u001b[0;34m,\u001b[0m \u001b[0mequiv\u001b[0m\u001b[0;34m=\u001b[0m\u001b[0mduck_array_ops\u001b[0m\u001b[0;34m.\u001b[0m\u001b[0marray_equiv\u001b[0m\u001b[0;34m)\u001b[0m\u001b[0;34m:\u001b[0m\u001b[0;34m\u001b[0m\u001b[0m\n",
      "\u001b[0;32m~/.local/share/virtualenvs/analy-Eyq-irNF/lib/python3.7/site-packages/xarray/core/variable.py\u001b[0m in \u001b[0;36mequals\u001b[0;34m(self, other, equiv)\u001b[0m\n\u001b[1;32m   1638\u001b[0m         \u001b[0;32mtry\u001b[0m\u001b[0;34m:\u001b[0m\u001b[0;34m\u001b[0m\u001b[0m\n\u001b[1;32m   1639\u001b[0m             return self.dims == other.dims and (\n\u001b[0;32m-> 1640\u001b[0;31m                 \u001b[0mself\u001b[0m\u001b[0;34m.\u001b[0m\u001b[0m_data\u001b[0m \u001b[0;32mis\u001b[0m \u001b[0mother\u001b[0m\u001b[0;34m.\u001b[0m\u001b[0m_data\u001b[0m \u001b[0;32mor\u001b[0m \u001b[0mequiv\u001b[0m\u001b[0;34m(\u001b[0m\u001b[0mself\u001b[0m\u001b[0;34m.\u001b[0m\u001b[0mdata\u001b[0m\u001b[0;34m,\u001b[0m \u001b[0mother\u001b[0m\u001b[0;34m.\u001b[0m\u001b[0mdata\u001b[0m\u001b[0;34m)\u001b[0m\u001b[0;34m\u001b[0m\u001b[0m\n\u001b[0m\u001b[1;32m   1641\u001b[0m             )\n\u001b[1;32m   1642\u001b[0m         \u001b[0;32mexcept\u001b[0m \u001b[0;34m(\u001b[0m\u001b[0mTypeError\u001b[0m\u001b[0;34m,\u001b[0m \u001b[0mAttributeError\u001b[0m\u001b[0;34m)\u001b[0m\u001b[0;34m:\u001b[0m\u001b[0;34m\u001b[0m\u001b[0m\n",
      "\u001b[0;32m~/.local/share/virtualenvs/analy-Eyq-irNF/lib/python3.7/site-packages/xarray/core/duck_array_ops.py\u001b[0m in \u001b[0;36marray_equiv\u001b[0;34m(arr1, arr2)\u001b[0m\n\u001b[1;32m    222\u001b[0m         \u001b[0;32mwith\u001b[0m \u001b[0mwarnings\u001b[0m\u001b[0;34m.\u001b[0m\u001b[0mcatch_warnings\u001b[0m\u001b[0;34m(\u001b[0m\u001b[0;34m)\u001b[0m\u001b[0;34m:\u001b[0m\u001b[0;34m\u001b[0m\u001b[0m\n\u001b[1;32m    223\u001b[0m             \u001b[0mwarnings\u001b[0m\u001b[0;34m.\u001b[0m\u001b[0mfilterwarnings\u001b[0m\u001b[0;34m(\u001b[0m\u001b[0;34m\"ignore\"\u001b[0m\u001b[0;34m,\u001b[0m \u001b[0;34m\"In the future, 'NAT == x'\"\u001b[0m\u001b[0;34m)\u001b[0m\u001b[0;34m\u001b[0m\u001b[0m\n\u001b[0;32m--> 224\u001b[0;31m             \u001b[0mflag_array\u001b[0m \u001b[0;34m=\u001b[0m \u001b[0;34m(\u001b[0m\u001b[0marr1\u001b[0m \u001b[0;34m==\u001b[0m \u001b[0marr2\u001b[0m\u001b[0;34m)\u001b[0m \u001b[0;34m|\u001b[0m \u001b[0;34m(\u001b[0m\u001b[0misnull\u001b[0m\u001b[0;34m(\u001b[0m\u001b[0marr1\u001b[0m\u001b[0;34m)\u001b[0m \u001b[0;34m&\u001b[0m \u001b[0misnull\u001b[0m\u001b[0;34m(\u001b[0m\u001b[0marr2\u001b[0m\u001b[0;34m)\u001b[0m\u001b[0;34m)\u001b[0m\u001b[0;34m\u001b[0m\u001b[0m\n\u001b[0m\u001b[1;32m    225\u001b[0m             \u001b[0;32mreturn\u001b[0m \u001b[0mbool\u001b[0m\u001b[0;34m(\u001b[0m\u001b[0mflag_array\u001b[0m\u001b[0;34m.\u001b[0m\u001b[0mall\u001b[0m\u001b[0;34m(\u001b[0m\u001b[0;34m)\u001b[0m\u001b[0;34m)\u001b[0m\u001b[0;34m\u001b[0m\u001b[0m\n\u001b[1;32m    226\u001b[0m     \u001b[0;32melse\u001b[0m\u001b[0;34m:\u001b[0m\u001b[0;34m\u001b[0m\u001b[0m\n",
      "\u001b[0;31mKeyboardInterrupt\u001b[0m: "
     ]
    }
   ],
   "source": [
    "#plt.plot(numpy.sqrt((azgrid[0] - tastar_cube[\"RA\"]*3600)**2 + (elgrid[0] - tastar_cube[\"DEC\"]*3600)**2)/3600)\n",
    "index_list = []\n",
    "max_scannum = 300#よう変更\n",
    "ta_ra = tastar_cube['RA']*3600\n",
    "ta_dec = tastar_cube['DEC']*3600\n",
    "for i in tqdm(range(max_scannum)): #x\n",
    "    tmp = []\n",
    "    for j in range(max_scannum): #y\n",
    "        #tmp.append(numpy.sqrt((azgrid[i] - ta_ra)**2 + (elgrid[j] - ta_dec)**2) < 30)\n",
    "        tmp.append(numpy.sqrt((azgrid[i] - tastar_cube[\"RA\"]*3600)**2 + (elgrid[j] - tastar_cube[\"DEC\"]*3600)**2) < offset)\n",
    "    index_list.append(tmp)"
   ]
  },
  {
   "cell_type": "code",
   "execution_count": null,
   "metadata": {
    "scrolled": true
   },
   "outputs": [],
   "source": [
    "#修論用\n",
    "fig = plt.figure(figsize=(7,7))\n",
    "ax = fig.add_subplot(1,1,1)\n",
    "ax.plot(tastar_cube[\"RA\"][index_list[60][60]],tastar_cube[\"DEC\"][index_list[60][60]], \".\", label=\"XFFTS data\")\n",
    "ax.plot(azgrid[60]/3600, elgrid[60]/3600, \"r*\", label=\"Grid\")\n",
    "ax.set_ylabel(\"Dec J2000 (deg)\")\n",
    "ax.set_xlabel(\"Ra J2000 (deg)\")\n",
    "ax.legend()\n",
    "ax.set_xlim(83.95, 84.15)\n",
    "ax.set_ylim(-5.70, -5.52)\n",
    "ax.grid(1)\n",
    "print(azgrid[60]/3600, elgrid[60]/3600)"
   ]
  },
  {
   "cell_type": "code",
   "execution_count": null,
   "metadata": {},
   "outputs": [],
   "source": [
    "tastar_cube[index_list[50][50]]"
   ]
  },
  {
   "cell_type": "code",
   "execution_count": 122,
   "metadata": {},
   "outputs": [],
   "source": [
    "# 重みつけ\n",
    "def weight_besselgauss(dis):\n",
    "    print(dis)\n",
    "    a = 1.55/numpy.pi\n",
    "    b = 2.52\n",
    "    v = 1\n",
    "    res = jv(v, dis/a)/(dis/a)*numpy.exp(-(dis/b)**2.0) # x [pixels] #rmsとIFの能率\n",
    "    return res\n",
    "\n",
    "def gauss(dis):\n",
    "    b = 2.52\n",
    "    res = numpy.exp(-(dis)**2.0)\n",
    "    return res\n",
    "\n",
    "def mean(dis):\n",
    "    return 1\n",
    "\n",
    "def sincg(dis):\n",
    "    a = 1.55/numpy.pi\n",
    "    b = 2.52\n",
    "    return numpy.sin(dis/a)/(dis/a)*numpy.exp(-(dis/b)**2.0)\n",
    "\n",
    "def sin(dis):\n",
    "    return numpy.exp(-(dis/0.1)**2.0)"
   ]
  },
  {
   "cell_type": "code",
   "execution_count": 123,
   "metadata": {},
   "outputs": [],
   "source": [
    "# 重みつけ\n",
    "def weight_rms(d): ##tempolary\n",
    "    mean_array = numpy.mean(d[:,900:1000], axis=1)\n",
    "    d_zeroave = numpy.array([d[ind]-mean_array[ind] for ind in range(len(mean_array))])\n",
    "    res = numpy.std(d_zeroave[:,900:1000], axis=1)\n",
    "    return res**-2"
   ]
  },
  {
   "cell_type": "code",
   "execution_count": 66,
   "metadata": {},
   "outputs": [],
   "source": [
    "# 重みつけ\n",
    "def weight_if(d):##tempolary\n",
    "    res = 1.0\n",
    "    return res"
   ]
  },
  {
   "cell_type": "code",
   "execution_count": 150,
   "metadata": {
    "scrolled": true
   },
   "outputs": [
    {
     "name": "stderr",
     "output_type": "stream",
     "text": [
      "\r",
      "  0%|          | 0/300 [00:00<?, ?it/s]"
     ]
    },
    {
     "name": "stdout",
     "output_type": "stream",
     "text": [
      "0 0 too many indices for array\n",
      "0 1 too many indices for array\n",
      "0 2 too many indices for array\n",
      "0 3 too many indices for array\n",
      "0 4 too many indices for array\n",
      "0 5 too many indices for array\n",
      "0 6 too many indices for array\n",
      "0 7 too many indices for array\n",
      "0 8 too many indices for array\n",
      "0 9 too many indices for array\n",
      "0 10 too many indices for array\n",
      "0 11 too many indices for array\n",
      "0 12 too many indices for array\n",
      "0 13 too many indices for array\n",
      "0 14 too many indices for array\n",
      "0 15 too many indices for array\n",
      "0 16 too many indices for array\n",
      "0 17 too many indices for array\n",
      "0 18 too many indices for array\n",
      "0 19 too many indices for array\n",
      "0 20 too many indices for array\n",
      "0 21 too many indices for array\n",
      "0 22 too many indices for array\n",
      "0 23 too many indices for array\n",
      "0 24 too many indices for array\n",
      "0 25 too many indices for array\n",
      "0 26 too many indices for array\n",
      "0 27 too many indices for array\n",
      "0 28 too many indices for array\n",
      "0 29 too many indices for array\n",
      "0 30 too many indices for array\n",
      "0 31 too many indices for array\n",
      "0 32 too many indices for array\n",
      "0 33 too many indices for array\n",
      "0 34 too many indices for array\n",
      "0 35 too many indices for array\n",
      "0 36 too many indices for array\n",
      "0 37 too many indices for array\n",
      "0 38 too many indices for array\n",
      "0 39 too many indices for array\n",
      "0 40 too many indices for array\n",
      "0 41 too many indices for array\n",
      "0 42 too many indices for array\n",
      "0 43 too many indices for array\n",
      "0 44 too many indices for array\n",
      "0 45 too many indices for array\n",
      "0 46 too many indices for array\n",
      "0 47 too many indices for array\n",
      "0 48 too many indices for array\n",
      "0 49 too many indices for array\n",
      "0 50 too many indices for array\n",
      "0 51 too many indices for array\n",
      "0 52 too many indices for array\n",
      "0 53 too many indices for array\n",
      "0 54 too many indices for array\n",
      "0 55 too many indices for array\n",
      "0 56 too many indices for array\n",
      "0 57 too many indices for array\n",
      "0 58 too many indices for array\n",
      "0 59 too many indices for array\n",
      "0 60 too many indices for array\n",
      "0 61 too many indices for array\n",
      "0 62 too many indices for array\n",
      "0 63 too many indices for array\n",
      "0 64 too many indices for array\n",
      "0 65 too many indices for array\n",
      "0 66 too many indices for array\n",
      "0 67 too many indices for array\n",
      "0 68 too many indices for array\n",
      "0 69 too many indices for array\n",
      "0 70 too many indices for array\n",
      "0 71 too many indices for array\n",
      "0 72 too many indices for array\n",
      "0 73 too many indices for array\n",
      "0 74 too many indices for array\n",
      "0 75 too many indices for array\n",
      "0 76 too many indices for array\n",
      "0 77 too many indices for array\n",
      "0 78 too many indices for array\n",
      "0 79 too many indices for array\n",
      "0 80 too many indices for array\n",
      "0 81 too many indices for array\n",
      "0 82 too many indices for array\n",
      "0 83 too many indices for array\n",
      "0 84 too many indices for array\n",
      "0 85 too many indices for array\n",
      "0 86 too many indices for array\n",
      "0 87 too many indices for array\n",
      "0 88 too many indices for array\n",
      "0 89 too many indices for array\n",
      "0 90 too many indices for array\n",
      "0 91 too many indices for array\n",
      "0 92 too many indices for array\n",
      "0 93 too many indices for array\n",
      "0 94 too many indices for array\n",
      "0 95 too many indices for array\n",
      "0 96 too many indices for array\n",
      "0 97 too many indices for array\n",
      "0 98 too many indices for array\n",
      "0 99 too many indices for array\n",
      "0 100 too many indices for array\n",
      "0 101 too many indices for array\n",
      "0 102 too many indices for array\n",
      "0 103 too many indices for array\n",
      "0 104 too many indices for array\n",
      "0 105 too many indices for array\n",
      "0 106 too many indices for array\n",
      "0 107 too many indices for array\n",
      "0 108 too many indices for array\n",
      "0 109 too many indices for array\n",
      "0 110 too many indices for array\n",
      "0 111 too many indices for array\n",
      "0 112 too many indices for array\n",
      "0 113 too many indices for array\n",
      "0 114 too many indices for array\n",
      "0 115 too many indices for array\n",
      "0 116 too many indices for array\n",
      "0 117 too many indices for array\n",
      "0 118 too many indices for array\n",
      "0 119 too many indices for array\n",
      "0 120 too many indices for array\n",
      "0 121 too many indices for array\n",
      "0 122 too many indices for array\n",
      "0 123 too many indices for array\n",
      "0 124 too many indices for array\n",
      "0 125 too many indices for array\n",
      "0 126 too many indices for array\n",
      "0 127 too many indices for array\n",
      "0 128 too many indices for array\n",
      "0 129 too many indices for array\n",
      "0 130 too many indices for array\n",
      "0 131 too many indices for array\n",
      "0 132 too many indices for array\n",
      "0 133 too many indices for array\n",
      "0 134 too many indices for array\n",
      "0 135 too many indices for array\n",
      "0 136 too many indices for array\n",
      "0 137 too many indices for array\n",
      "0 138 too many indices for array\n",
      "0 139 too many indices for array\n",
      "0 140 too many indices for array\n",
      "0 141 too many indices for array\n",
      "0 142 too many indices for array\n",
      "0 143 too many indices for array\n",
      "0 144 too many indices for array\n",
      "0 145 too many indices for array\n",
      "0 146 too many indices for array\n",
      "0 147 too many indices for array\n",
      "0 148 too many indices for array\n",
      "0 149 too many indices for array\n",
      "0 150 too many indices for array\n",
      "0 151 too many indices for array\n",
      "0 152 too many indices for array\n",
      "0 153 too many indices for array\n",
      "0 154 too many indices for array\n",
      "0 155 too many indices for array\n",
      "0 156 too many indices for array\n",
      "0 157 too many indices for array\n",
      "0 158 too many indices for array\n",
      "0 159 too many indices for array\n",
      "0 160 too many indices for array\n",
      "0 161 too many indices for array\n",
      "0 162 too many indices for array\n",
      "0 163 too many indices for array\n",
      "0 164 too many indices for array\n",
      "0 165 too many indices for array\n",
      "0 166 too many indices for array\n",
      "0 167 too many indices for array\n",
      "0 168 too many indices for array\n",
      "0 169 too many indices for array\n",
      "0 170 too many indices for array\n",
      "0 171 too many indices for array\n",
      "0 172 too many indices for array\n",
      "0 173 too many indices for array\n",
      "0 174 too many indices for array\n",
      "0 175 too many indices for array\n",
      "0 176 too many indices for array\n",
      "0 177 too many indices for array\n",
      "0 178 too many indices for array\n",
      "0 179 too many indices for array\n",
      "0 180 too many indices for array\n",
      "0 181 too many indices for array\n",
      "0 182 too many indices for array\n",
      "0 183 too many indices for array\n",
      "0 184 too many indices for array\n",
      "0 185 too many indices for array\n",
      "0 186 too many indices for array\n",
      "0 187 too many indices for array\n",
      "0 188 too many indices for array\n",
      "0 189 too many indices for array\n",
      "0 190 too many indices for array\n",
      "0 191 too many indices for array\n",
      "0 192 too many indices for array\n",
      "0 193 too many indices for array\n",
      "0 194 too many indices for array\n",
      "0 195 too many indices for array\n",
      "0 196 too many indices for array\n",
      "0 197 too many indices for array\n",
      "0 198 too many indices for array\n",
      "0 199 too many indices for array\n",
      "0 200 too many indices for array\n",
      "0 201 too many indices for array\n",
      "0 202 too many indices for array\n",
      "0 203 too many indices for array\n",
      "0 204 too many indices for array\n",
      "0 205 too many indices for array\n",
      "0 206 too many indices for array\n",
      "0 207 too many indices for array\n",
      "0 208 too many indices for array\n",
      "0 209 too many indices for array\n",
      "0 210 too many indices for array\n",
      "0 211 too many indices for array\n",
      "0 212 too many indices for array\n",
      "0 213 too many indices for array\n",
      "0 214 too many indices for array\n",
      "0 215 too many indices for array\n",
      "0 216 too many indices for array\n",
      "0 217 too many indices for array\n",
      "0 218 too many indices for array\n",
      "0 219 too many indices for array\n",
      "0 220 too many indices for array\n",
      "0 221 too many indices for array\n",
      "0 222 too many indices for array\n",
      "0 223 too many indices for array\n",
      "0 224 too many indices for array\n",
      "0 225 too many indices for array\n",
      "0 226 too many indices for array\n",
      "0 227 too many indices for array\n",
      "0 228 too many indices for array\n",
      "0 229 too many indices for array\n",
      "0 230 too many indices for array\n",
      "0 231 too many indices for array\n",
      "0 232 too many indices for array\n",
      "0 233 too many indices for array\n",
      "0 234 too many indices for array\n",
      "0 235 too many indices for array\n",
      "0 236 too many indices for array\n",
      "0 237 too many indices for array\n",
      "0 238 too many indices for array\n",
      "0 239 too many indices for array\n",
      "0 240 too many indices for array\n",
      "0 241 too many indices for array\n",
      "0 242 too many indices for array\n",
      "0 243 too many indices for array\n",
      "0 244 too many indices for array\n",
      "0 245 too many indices for array\n",
      "0 246 too many indices for array\n",
      "0 247 too many indices for array\n",
      "0 248 too many indices for array\n",
      "0 249 too many indices for array\n",
      "0 250 too many indices for array\n",
      "0 251 too many indices for array\n",
      "0 252 too many indices for array\n",
      "0 253 too many indices for array\n",
      "0 254 too many indices for array\n",
      "0 255 too many indices for array\n",
      "0 256 too many indices for array\n",
      "0 257 too many indices for array\n",
      "0 258 too many indices for array\n",
      "0 259 too many indices for array\n",
      "0 260 too many indices for array\n",
      "0 261 too many indices for array\n",
      "0 262 too many indices for array\n",
      "0 263 too many indices for array\n",
      "0 264 too many indices for array\n",
      "0 265 too many indices for array\n",
      "0 266 too many indices for array\n",
      "0 267 too many indices for array\n",
      "0 268 too many indices for array\n",
      "0 269 too many indices for array\n",
      "0 270 too many indices for array\n",
      "0 271 too many indices for array\n",
      "0 272 too many indices for array\n",
      "0 273 too many indices for array\n",
      "0 274 too many indices for array\n",
      "0 275 too many indices for array\n",
      "0 276 too many indices for array\n",
      "0 277 too many indices for array\n",
      "0 278 too many indices for array\n",
      "0 279 too many indices for array\n",
      "0 280 too many indices for array\n",
      "0 281 too many indices for array\n",
      "0 282 too many indices for array\n"
     ]
    },
    {
     "name": "stderr",
     "output_type": "stream",
     "text": [
      "\r",
      "  0%|          | 1/300 [00:01<09:44,  1.96s/it]"
     ]
    },
    {
     "name": "stdout",
     "output_type": "stream",
     "text": [
      "0 283 too many indices for array\n",
      "0 284 too many indices for array\n",
      "0 285 too many indices for array\n",
      "0 286 too many indices for array\n",
      "0 287 too many indices for array\n",
      "0 288 too many indices for array\n",
      "0 289 too many indices for array\n",
      "0 290 too many indices for array\n",
      "0 291 too many indices for array\n",
      "0 292 too many indices for array\n",
      "0 293 too many indices for array\n",
      "0 294 too many indices for array\n",
      "0 295 too many indices for array\n",
      "0 296 too many indices for array\n",
      "0 297 too many indices for array\n",
      "0 298 too many indices for array\n",
      "0 299 too many indices for array\n",
      "1 0 too many indices for array\n",
      "1 1 too many indices for array\n",
      "1 2 too many indices for array\n",
      "1 3 too many indices for array\n",
      "1 4 too many indices for array\n",
      "1 5 too many indices for array\n",
      "1 6 too many indices for array\n",
      "1 7 too many indices for array\n",
      "1 8 too many indices for array\n",
      "1 9 too many indices for array\n",
      "1 10 too many indices for array\n",
      "1 11 too many indices for array\n",
      "1 12 too many indices for array\n",
      "1 13 too many indices for array\n",
      "1 14 too many indices for array\n",
      "1 15 too many indices for array\n",
      "1 16 too many indices for array\n",
      "1 17 too many indices for array\n",
      "1 18 too many indices for array\n",
      "1 19 too many indices for array\n",
      "1 20 too many indices for array\n",
      "1 21 too many indices for array\n",
      "1 22 too many indices for array\n",
      "1 23 too many indices for array\n",
      "1 24 too many indices for array\n",
      "1 25 too many indices for array\n",
      "1 26 too many indices for array\n",
      "1 27 too many indices for array\n",
      "1 28 too many indices for array\n",
      "1 29 too many indices for array\n",
      "1 30 too many indices for array\n",
      "1 31 too many indices for array\n",
      "1 32 too many indices for array\n",
      "1 33 too many indices for array\n",
      "1 34 too many indices for array\n",
      "1 35 too many indices for array\n",
      "1 36 too many indices for array\n",
      "1 37 too many indices for array\n",
      "1 38 too many indices for array\n",
      "1 39 too many indices for array\n",
      "1 40 too many indices for array\n",
      "1 41 too many indices for array\n",
      "1 42 too many indices for array\n",
      "1 43 too many indices for array\n",
      "1 44 too many indices for array\n",
      "1 45 too many indices for array\n",
      "1 46 too many indices for array\n",
      "1 47 too many indices for array\n",
      "1 48 too many indices for array\n",
      "1 49 too many indices for array\n",
      "1 50 too many indices for array\n",
      "1 51 too many indices for array\n",
      "1 52 too many indices for array\n",
      "1 53 too many indices for array\n",
      "1 54 too many indices for array\n",
      "1 55 too many indices for array\n",
      "1 56 too many indices for array\n",
      "1 57 too many indices for array\n",
      "1 58 too many indices for array\n",
      "1 59 too many indices for array\n",
      "1 60 too many indices for array\n",
      "1 61 too many indices for array\n",
      "1 62 too many indices for array\n",
      "1 63 too many indices for array\n",
      "1 64 too many indices for array\n",
      "1 65 too many indices for array\n",
      "1 66 too many indices for array\n",
      "1 67 too many indices for array\n",
      "1 68 too many indices for array\n",
      "1 69 too many indices for array\n",
      "1 70 too many indices for array\n",
      "1 71 too many indices for array\n",
      "1 72 too many indices for array\n",
      "1 73 too many indices for array\n",
      "1 74 too many indices for array\n",
      "1 75 too many indices for array\n",
      "1 76 too many indices for array\n",
      "1 77 too many indices for array\n",
      "1 78 too many indices for array\n",
      "1 79 too many indices for array\n",
      "1 80 too many indices for array\n",
      "1 81 too many indices for array\n",
      "1 82 too many indices for array\n",
      "1 83 too many indices for array\n",
      "1 84 too many indices for array\n",
      "1 85 too many indices for array\n",
      "1 86 too many indices for array\n",
      "1 87 too many indices for array\n",
      "1 88 too many indices for array\n",
      "1 89 too many indices for array\n",
      "1 90 too many indices for array\n",
      "1 91 too many indices for array\n",
      "1 92 too many indices for array\n",
      "1 93 too many indices for array\n",
      "1 94 too many indices for array\n",
      "1 95 too many indices for array\n",
      "1 96 too many indices for array\n",
      "1 97 too many indices for array\n",
      "1 98 too many indices for array\n",
      "1 99 too many indices for array\n",
      "1 100 too many indices for array\n",
      "1 101 too many indices for array\n",
      "1 102 too many indices for array\n",
      "1 103 too many indices for array\n",
      "1 104 too many indices for array\n",
      "1 105 too many indices for array\n",
      "1 106 too many indices for array\n",
      "1 107 too many indices for array\n",
      "1 108 too many indices for array\n",
      "1 109 too many indices for array\n",
      "1 110 too many indices for array\n",
      "1 111 too many indices for array\n",
      "1 112 too many indices for array\n",
      "1 113 too many indices for array\n",
      "1 114 too many indices for array\n",
      "1 115 too many indices for array\n",
      "1 116 too many indices for array\n",
      "1 117 too many indices for array\n",
      "1 118 too many indices for array\n",
      "1 119 too many indices for array\n",
      "1 120 too many indices for array\n",
      "1 121 too many indices for array\n"
     ]
    },
    {
     "name": "stderr",
     "output_type": "stream",
     "text": [
      "\r",
      "  0%|          | 1/300 [00:02<13:26,  2.70s/it]"
     ]
    },
    {
     "name": "stdout",
     "output_type": "stream",
     "text": [
      "1 122 too many indices for array\n",
      "1 123 too many indices for array\n",
      "1 124 too many indices for array\n",
      "1 125 too many indices for array\n"
     ]
    },
    {
     "name": "stderr",
     "output_type": "stream",
     "text": [
      "\n"
     ]
    },
    {
     "ename": "KeyboardInterrupt",
     "evalue": "",
     "output_type": "error",
     "traceback": [
      "\u001b[0;31m------------------------------------------------------\u001b[0m",
      "\u001b[0;31mKeyboardInterrupt\u001b[0m    Traceback (most recent call last)",
      "\u001b[0;32m<ipython-input-150-ca3e12d73383>\u001b[0m in \u001b[0;36m<module>\u001b[0;34m\u001b[0m\n\u001b[1;32m      7\u001b[0m     \u001b[0;32mfor\u001b[0m \u001b[0mj\u001b[0m \u001b[0;32min\u001b[0m \u001b[0mrange\u001b[0m\u001b[0;34m(\u001b[0m\u001b[0mmax_scannum\u001b[0m\u001b[0;34m)\u001b[0m\u001b[0;34m:\u001b[0m \u001b[0;31m#y\u001b[0m\u001b[0;34m\u001b[0m\u001b[0m\n\u001b[1;32m      8\u001b[0m         \u001b[0mdis_x\u001b[0m \u001b[0;34m=\u001b[0m \u001b[0mtastar_cube\u001b[0m\u001b[0;34m[\u001b[0m\u001b[0;34m'RA'\u001b[0m\u001b[0;34m]\u001b[0m\u001b[0;34m[\u001b[0m\u001b[0mindex_list\u001b[0m\u001b[0;34m[\u001b[0m\u001b[0mi\u001b[0m\u001b[0;34m]\u001b[0m\u001b[0;34m[\u001b[0m\u001b[0mj\u001b[0m\u001b[0;34m]\u001b[0m\u001b[0;34m]\u001b[0m\u001b[0;34m*\u001b[0m\u001b[0;36m3600\u001b[0m \u001b[0;34m-\u001b[0m \u001b[0mazgrid\u001b[0m\u001b[0;34m[\u001b[0m\u001b[0mi\u001b[0m\u001b[0;34m]\u001b[0m \u001b[0;31m#RAの値をcosで補正する必要があるかも, 単位[arcsec]\u001b[0m\u001b[0;34m\u001b[0m\u001b[0m\n\u001b[0;32m----> 9\u001b[0;31m         \u001b[0mdis_y\u001b[0m \u001b[0;34m=\u001b[0m \u001b[0mtastar_cube\u001b[0m\u001b[0;34m[\u001b[0m\u001b[0;34m'DEC'\u001b[0m\u001b[0;34m]\u001b[0m\u001b[0;34m[\u001b[0m\u001b[0mindex_list\u001b[0m\u001b[0;34m[\u001b[0m\u001b[0mi\u001b[0m\u001b[0;34m]\u001b[0m\u001b[0;34m[\u001b[0m\u001b[0mj\u001b[0m\u001b[0;34m]\u001b[0m\u001b[0;34m]\u001b[0m\u001b[0;34m*\u001b[0m\u001b[0;36m3600\u001b[0m \u001b[0;34m-\u001b[0m \u001b[0melgrid\u001b[0m\u001b[0;34m[\u001b[0m\u001b[0mj\u001b[0m\u001b[0;34m]\u001b[0m  \u001b[0;31m#[arcsec]\u001b[0m\u001b[0;34m\u001b[0m\u001b[0m\n\u001b[0m\u001b[1;32m     10\u001b[0m         \u001b[0mdis\u001b[0m \u001b[0;34m=\u001b[0m \u001b[0mnumpy\u001b[0m\u001b[0;34m.\u001b[0m\u001b[0msqrt\u001b[0m\u001b[0;34m(\u001b[0m\u001b[0;34m(\u001b[0m\u001b[0mdis_x\u001b[0m\u001b[0;34m)\u001b[0m\u001b[0;34m**\u001b[0m\u001b[0;36m2\u001b[0m \u001b[0;34m+\u001b[0m \u001b[0;34m(\u001b[0m\u001b[0mdis_y\u001b[0m\u001b[0;34m)\u001b[0m\u001b[0;34m**\u001b[0m\u001b[0;36m2\u001b[0m\u001b[0;34m)\u001b[0m \u001b[0;34m/\u001b[0m\u001b[0mgrid\u001b[0m\u001b[0;31m#ピクセルにしたい、deg/(ピクセル/3600)\u001b[0m\u001b[0;34m\u001b[0m\u001b[0m\n\u001b[1;32m     11\u001b[0m         \u001b[0;31m#print(dis)\u001b[0m\u001b[0;34m\u001b[0m\u001b[0;34m\u001b[0m\u001b[0m\n",
      "\u001b[0;32m~/.local/share/virtualenvs/analy-Eyq-irNF/lib/python3.7/site-packages/xarray/core/dataarray.py\u001b[0m in \u001b[0;36m__getitem__\u001b[0;34m(self, key)\u001b[0m\n\u001b[1;32m    638\u001b[0m         \u001b[0;32melse\u001b[0m\u001b[0;34m:\u001b[0m\u001b[0;34m\u001b[0m\u001b[0m\n\u001b[1;32m    639\u001b[0m             \u001b[0;31m# xarray-style array indexing\u001b[0m\u001b[0;34m\u001b[0m\u001b[0;34m\u001b[0m\u001b[0m\n\u001b[0;32m--> 640\u001b[0;31m             \u001b[0;32mreturn\u001b[0m \u001b[0mself\u001b[0m\u001b[0;34m.\u001b[0m\u001b[0misel\u001b[0m\u001b[0;34m(\u001b[0m\u001b[0mindexers\u001b[0m\u001b[0;34m=\u001b[0m\u001b[0mself\u001b[0m\u001b[0;34m.\u001b[0m\u001b[0m_item_key_to_dict\u001b[0m\u001b[0;34m(\u001b[0m\u001b[0mkey\u001b[0m\u001b[0;34m)\u001b[0m\u001b[0;34m)\u001b[0m\u001b[0;34m\u001b[0m\u001b[0m\n\u001b[0m\u001b[1;32m    641\u001b[0m \u001b[0;34m\u001b[0m\u001b[0m\n\u001b[1;32m    642\u001b[0m     \u001b[0;32mdef\u001b[0m \u001b[0m__setitem__\u001b[0m\u001b[0;34m(\u001b[0m\u001b[0mself\u001b[0m\u001b[0;34m,\u001b[0m \u001b[0mkey\u001b[0m\u001b[0;34m:\u001b[0m \u001b[0mAny\u001b[0m\u001b[0;34m,\u001b[0m \u001b[0mvalue\u001b[0m\u001b[0;34m:\u001b[0m \u001b[0mAny\u001b[0m\u001b[0;34m)\u001b[0m \u001b[0;34m->\u001b[0m \u001b[0;32mNone\u001b[0m\u001b[0;34m:\u001b[0m\u001b[0;34m\u001b[0m\u001b[0m\n",
      "\u001b[0;32m~/.local/share/virtualenvs/analy-Eyq-irNF/lib/python3.7/site-packages/xarray/core/dataarray.py\u001b[0m in \u001b[0;36misel\u001b[0;34m(self, indexers, drop, **indexers_kwargs)\u001b[0m\n\u001b[1;32m   1012\u001b[0m         \"\"\"\n\u001b[1;32m   1013\u001b[0m         \u001b[0mindexers\u001b[0m \u001b[0;34m=\u001b[0m \u001b[0meither_dict_or_kwargs\u001b[0m\u001b[0;34m(\u001b[0m\u001b[0mindexers\u001b[0m\u001b[0;34m,\u001b[0m \u001b[0mindexers_kwargs\u001b[0m\u001b[0;34m,\u001b[0m \u001b[0;34m\"isel\"\u001b[0m\u001b[0;34m)\u001b[0m\u001b[0;34m\u001b[0m\u001b[0m\n\u001b[0;32m-> 1014\u001b[0;31m         \u001b[0mds\u001b[0m \u001b[0;34m=\u001b[0m \u001b[0mself\u001b[0m\u001b[0;34m.\u001b[0m\u001b[0m_to_temp_dataset\u001b[0m\u001b[0;34m(\u001b[0m\u001b[0;34m)\u001b[0m\u001b[0;34m.\u001b[0m\u001b[0misel\u001b[0m\u001b[0;34m(\u001b[0m\u001b[0mdrop\u001b[0m\u001b[0;34m=\u001b[0m\u001b[0mdrop\u001b[0m\u001b[0;34m,\u001b[0m \u001b[0mindexers\u001b[0m\u001b[0;34m=\u001b[0m\u001b[0mindexers\u001b[0m\u001b[0;34m)\u001b[0m\u001b[0;34m\u001b[0m\u001b[0m\n\u001b[0m\u001b[1;32m   1015\u001b[0m         \u001b[0;32mreturn\u001b[0m \u001b[0mself\u001b[0m\u001b[0;34m.\u001b[0m\u001b[0m_from_temp_dataset\u001b[0m\u001b[0;34m(\u001b[0m\u001b[0mds\u001b[0m\u001b[0;34m)\u001b[0m\u001b[0;34m\u001b[0m\u001b[0m\n\u001b[1;32m   1016\u001b[0m \u001b[0;34m\u001b[0m\u001b[0m\n",
      "\u001b[0;32m~/.local/share/virtualenvs/analy-Eyq-irNF/lib/python3.7/site-packages/xarray/core/dataset.py\u001b[0m in \u001b[0;36misel\u001b[0;34m(self, indexers, drop, **indexers_kwargs)\u001b[0m\n\u001b[1;32m   1935\u001b[0m \u001b[0;34m\u001b[0m\u001b[0m\n\u001b[1;32m   1936\u001b[0m         \u001b[0;31m# Extract coordinates from indexers\u001b[0m\u001b[0;34m\u001b[0m\u001b[0;34m\u001b[0m\u001b[0m\n\u001b[0;32m-> 1937\u001b[0;31m         \u001b[0mcoord_vars\u001b[0m\u001b[0;34m,\u001b[0m \u001b[0mnew_indexes\u001b[0m \u001b[0;34m=\u001b[0m \u001b[0mselected\u001b[0m\u001b[0;34m.\u001b[0m\u001b[0m_get_indexers_coords_and_indexes\u001b[0m\u001b[0;34m(\u001b[0m\u001b[0mindexers\u001b[0m\u001b[0;34m)\u001b[0m\u001b[0;34m\u001b[0m\u001b[0m\n\u001b[0m\u001b[1;32m   1938\u001b[0m         \u001b[0mvariables\u001b[0m\u001b[0;34m.\u001b[0m\u001b[0mupdate\u001b[0m\u001b[0;34m(\u001b[0m\u001b[0mcoord_vars\u001b[0m\u001b[0;34m)\u001b[0m\u001b[0;34m\u001b[0m\u001b[0m\n\u001b[1;32m   1939\u001b[0m         \u001b[0mindexes\u001b[0m\u001b[0;34m.\u001b[0m\u001b[0mupdate\u001b[0m\u001b[0;34m(\u001b[0m\u001b[0mnew_indexes\u001b[0m\u001b[0;34m)\u001b[0m\u001b[0;34m\u001b[0m\u001b[0m\n",
      "\u001b[0;32m~/.local/share/virtualenvs/analy-Eyq-irNF/lib/python3.7/site-packages/xarray/core/dataset.py\u001b[0m in \u001b[0;36m_get_indexers_coords_and_indexes\u001b[0;34m(self, indexers)\u001b[0m\n\u001b[1;32m   1842\u001b[0m                     \u001b[0;31m# Make sure in case of boolean DataArray, its\u001b[0m\u001b[0;34m\u001b[0m\u001b[0;34m\u001b[0m\u001b[0m\n\u001b[1;32m   1843\u001b[0m                     \u001b[0;31m# coordinate also should be indexed.\u001b[0m\u001b[0;34m\u001b[0m\u001b[0;34m\u001b[0m\u001b[0m\n\u001b[0;32m-> 1844\u001b[0;31m                     \u001b[0mv_coords\u001b[0m \u001b[0;34m=\u001b[0m \u001b[0mv\u001b[0m\u001b[0;34m[\u001b[0m\u001b[0mv\u001b[0m\u001b[0;34m.\u001b[0m\u001b[0mvalues\u001b[0m\u001b[0;34m.\u001b[0m\u001b[0mnonzero\u001b[0m\u001b[0;34m(\u001b[0m\u001b[0;34m)\u001b[0m\u001b[0;34m[\u001b[0m\u001b[0;36m0\u001b[0m\u001b[0;34m]\u001b[0m\u001b[0;34m]\u001b[0m\u001b[0;34m.\u001b[0m\u001b[0mcoords\u001b[0m\u001b[0;34m\u001b[0m\u001b[0m\n\u001b[0m\u001b[1;32m   1845\u001b[0m                 \u001b[0;32melse\u001b[0m\u001b[0;34m:\u001b[0m\u001b[0;34m\u001b[0m\u001b[0m\n\u001b[1;32m   1846\u001b[0m                     \u001b[0mv_coords\u001b[0m \u001b[0;34m=\u001b[0m \u001b[0mv\u001b[0m\u001b[0;34m.\u001b[0m\u001b[0mcoords\u001b[0m\u001b[0;34m\u001b[0m\u001b[0m\n",
      "\u001b[0;32m~/.local/share/virtualenvs/analy-Eyq-irNF/lib/python3.7/site-packages/xarray/core/dataarray.py\u001b[0m in \u001b[0;36m__getitem__\u001b[0;34m(self, key)\u001b[0m\n\u001b[1;32m    638\u001b[0m         \u001b[0;32melse\u001b[0m\u001b[0;34m:\u001b[0m\u001b[0;34m\u001b[0m\u001b[0m\n\u001b[1;32m    639\u001b[0m             \u001b[0;31m# xarray-style array indexing\u001b[0m\u001b[0;34m\u001b[0m\u001b[0;34m\u001b[0m\u001b[0m\n\u001b[0;32m--> 640\u001b[0;31m             \u001b[0;32mreturn\u001b[0m \u001b[0mself\u001b[0m\u001b[0;34m.\u001b[0m\u001b[0misel\u001b[0m\u001b[0;34m(\u001b[0m\u001b[0mindexers\u001b[0m\u001b[0;34m=\u001b[0m\u001b[0mself\u001b[0m\u001b[0;34m.\u001b[0m\u001b[0m_item_key_to_dict\u001b[0m\u001b[0;34m(\u001b[0m\u001b[0mkey\u001b[0m\u001b[0;34m)\u001b[0m\u001b[0;34m)\u001b[0m\u001b[0;34m\u001b[0m\u001b[0m\n\u001b[0m\u001b[1;32m    641\u001b[0m \u001b[0;34m\u001b[0m\u001b[0m\n\u001b[1;32m    642\u001b[0m     \u001b[0;32mdef\u001b[0m \u001b[0m__setitem__\u001b[0m\u001b[0;34m(\u001b[0m\u001b[0mself\u001b[0m\u001b[0;34m,\u001b[0m \u001b[0mkey\u001b[0m\u001b[0;34m:\u001b[0m \u001b[0mAny\u001b[0m\u001b[0;34m,\u001b[0m \u001b[0mvalue\u001b[0m\u001b[0;34m:\u001b[0m \u001b[0mAny\u001b[0m\u001b[0;34m)\u001b[0m \u001b[0;34m->\u001b[0m \u001b[0;32mNone\u001b[0m\u001b[0;34m:\u001b[0m\u001b[0;34m\u001b[0m\u001b[0m\n",
      "\u001b[0;32m~/.local/share/virtualenvs/analy-Eyq-irNF/lib/python3.7/site-packages/xarray/core/dataarray.py\u001b[0m in \u001b[0;36misel\u001b[0;34m(self, indexers, drop, **indexers_kwargs)\u001b[0m\n\u001b[1;32m   1012\u001b[0m         \"\"\"\n\u001b[1;32m   1013\u001b[0m         \u001b[0mindexers\u001b[0m \u001b[0;34m=\u001b[0m \u001b[0meither_dict_or_kwargs\u001b[0m\u001b[0;34m(\u001b[0m\u001b[0mindexers\u001b[0m\u001b[0;34m,\u001b[0m \u001b[0mindexers_kwargs\u001b[0m\u001b[0;34m,\u001b[0m \u001b[0;34m\"isel\"\u001b[0m\u001b[0;34m)\u001b[0m\u001b[0;34m\u001b[0m\u001b[0m\n\u001b[0;32m-> 1014\u001b[0;31m         \u001b[0mds\u001b[0m \u001b[0;34m=\u001b[0m \u001b[0mself\u001b[0m\u001b[0;34m.\u001b[0m\u001b[0m_to_temp_dataset\u001b[0m\u001b[0;34m(\u001b[0m\u001b[0;34m)\u001b[0m\u001b[0;34m.\u001b[0m\u001b[0misel\u001b[0m\u001b[0;34m(\u001b[0m\u001b[0mdrop\u001b[0m\u001b[0;34m=\u001b[0m\u001b[0mdrop\u001b[0m\u001b[0;34m,\u001b[0m \u001b[0mindexers\u001b[0m\u001b[0;34m=\u001b[0m\u001b[0mindexers\u001b[0m\u001b[0;34m)\u001b[0m\u001b[0;34m\u001b[0m\u001b[0m\n\u001b[0m\u001b[1;32m   1015\u001b[0m         \u001b[0;32mreturn\u001b[0m \u001b[0mself\u001b[0m\u001b[0;34m.\u001b[0m\u001b[0m_from_temp_dataset\u001b[0m\u001b[0;34m(\u001b[0m\u001b[0mds\u001b[0m\u001b[0;34m)\u001b[0m\u001b[0;34m\u001b[0m\u001b[0m\n\u001b[1;32m   1016\u001b[0m \u001b[0;34m\u001b[0m\u001b[0m\n",
      "\u001b[0;32m~/.local/share/virtualenvs/analy-Eyq-irNF/lib/python3.7/site-packages/xarray/core/dataset.py\u001b[0m in \u001b[0;36misel\u001b[0;34m(self, indexers, drop, **indexers_kwargs)\u001b[0m\n\u001b[1;32m   1920\u001b[0m             \u001b[0;32mif\u001b[0m \u001b[0mname\u001b[0m \u001b[0;32min\u001b[0m \u001b[0mself\u001b[0m\u001b[0;34m.\u001b[0m\u001b[0mindexes\u001b[0m\u001b[0;34m:\u001b[0m\u001b[0;34m\u001b[0m\u001b[0m\n\u001b[1;32m   1921\u001b[0m                 new_var, new_index = isel_variable_and_index(\n\u001b[0;32m-> 1922\u001b[0;31m                     \u001b[0mname\u001b[0m\u001b[0;34m,\u001b[0m \u001b[0mvar\u001b[0m\u001b[0;34m,\u001b[0m \u001b[0mself\u001b[0m\u001b[0;34m.\u001b[0m\u001b[0mindexes\u001b[0m\u001b[0;34m[\u001b[0m\u001b[0mname\u001b[0m\u001b[0;34m]\u001b[0m\u001b[0;34m,\u001b[0m \u001b[0mvar_indexers\u001b[0m\u001b[0;34m\u001b[0m\u001b[0m\n\u001b[0m\u001b[1;32m   1923\u001b[0m                 )\n\u001b[1;32m   1924\u001b[0m                 \u001b[0;32mif\u001b[0m \u001b[0mnew_index\u001b[0m \u001b[0;32mis\u001b[0m \u001b[0;32mnot\u001b[0m \u001b[0;32mNone\u001b[0m\u001b[0;34m:\u001b[0m\u001b[0;34m\u001b[0m\u001b[0m\n",
      "\u001b[0;32m~/.local/share/virtualenvs/analy-Eyq-irNF/lib/python3.7/site-packages/xarray/core/indexes.py\u001b[0m in \u001b[0;36misel_variable_and_index\u001b[0;34m(name, variable, index, indexers)\u001b[0m\n\u001b[1;32m     79\u001b[0m         )\n\u001b[1;32m     80\u001b[0m \u001b[0;34m\u001b[0m\u001b[0m\n\u001b[0;32m---> 81\u001b[0;31m     \u001b[0mnew_variable\u001b[0m \u001b[0;34m=\u001b[0m \u001b[0mvariable\u001b[0m\u001b[0;34m.\u001b[0m\u001b[0misel\u001b[0m\u001b[0;34m(\u001b[0m\u001b[0mindexers\u001b[0m\u001b[0;34m)\u001b[0m\u001b[0;34m\u001b[0m\u001b[0m\n\u001b[0m\u001b[1;32m     82\u001b[0m \u001b[0;34m\u001b[0m\u001b[0m\n\u001b[1;32m     83\u001b[0m     \u001b[0;32mif\u001b[0m \u001b[0mnew_variable\u001b[0m\u001b[0;34m.\u001b[0m\u001b[0mdims\u001b[0m \u001b[0;34m!=\u001b[0m \u001b[0;34m(\u001b[0m\u001b[0mname\u001b[0m\u001b[0;34m,\u001b[0m\u001b[0;34m)\u001b[0m\u001b[0;34m:\u001b[0m\u001b[0;34m\u001b[0m\u001b[0m\n",
      "\u001b[0;32m~/.local/share/virtualenvs/analy-Eyq-irNF/lib/python3.7/site-packages/xarray/core/variable.py\u001b[0m in \u001b[0;36misel\u001b[0;34m(self, indexers, **indexers_kwargs)\u001b[0m\n\u001b[1;32m   1045\u001b[0m             \u001b[0mindexer\u001b[0m\u001b[0;34m,\u001b[0m \u001b[0;32min\u001b[0m \u001b[0mwhich\u001b[0m \u001b[0mcase\u001b[0m \u001b[0mthe\u001b[0m \u001b[0mdata\u001b[0m \u001b[0mwill\u001b[0m \u001b[0mbe\u001b[0m \u001b[0ma\u001b[0m \u001b[0mcopy\u001b[0m\u001b[0;34m.\u001b[0m\u001b[0;34m\u001b[0m\u001b[0m\n\u001b[1;32m   1046\u001b[0m         \"\"\"\n\u001b[0;32m-> 1047\u001b[0;31m         \u001b[0mindexers\u001b[0m \u001b[0;34m=\u001b[0m \u001b[0meither_dict_or_kwargs\u001b[0m\u001b[0;34m(\u001b[0m\u001b[0mindexers\u001b[0m\u001b[0;34m,\u001b[0m \u001b[0mindexers_kwargs\u001b[0m\u001b[0;34m,\u001b[0m \u001b[0;34m\"isel\"\u001b[0m\u001b[0;34m)\u001b[0m\u001b[0;34m\u001b[0m\u001b[0m\n\u001b[0m\u001b[1;32m   1048\u001b[0m \u001b[0;34m\u001b[0m\u001b[0m\n\u001b[1;32m   1049\u001b[0m         \u001b[0minvalid\u001b[0m \u001b[0;34m=\u001b[0m \u001b[0mindexers\u001b[0m\u001b[0;34m.\u001b[0m\u001b[0mkeys\u001b[0m\u001b[0;34m(\u001b[0m\u001b[0;34m)\u001b[0m \u001b[0;34m-\u001b[0m \u001b[0mset\u001b[0m\u001b[0;34m(\u001b[0m\u001b[0mself\u001b[0m\u001b[0;34m.\u001b[0m\u001b[0mdims\u001b[0m\u001b[0;34m)\u001b[0m\u001b[0;34m\u001b[0m\u001b[0m\n",
      "\u001b[0;32m~/.local/share/virtualenvs/analy-Eyq-irNF/lib/python3.7/site-packages/xarray/core/utils.py\u001b[0m in \u001b[0;36meither_dict_or_kwargs\u001b[0;34m(pos_kwargs, kw_kwargs, func_name)\u001b[0m\n\u001b[1;32m    252\u001b[0m     \u001b[0mfunc_name\u001b[0m\u001b[0;34m:\u001b[0m \u001b[0mstr\u001b[0m\u001b[0;34m,\u001b[0m\u001b[0;34m\u001b[0m\u001b[0m\n\u001b[1;32m    253\u001b[0m ) -> Mapping[Hashable, T]:\n\u001b[0;32m--> 254\u001b[0;31m     \u001b[0;32mif\u001b[0m \u001b[0mpos_kwargs\u001b[0m \u001b[0;32mis\u001b[0m \u001b[0;32mnot\u001b[0m \u001b[0;32mNone\u001b[0m\u001b[0;34m:\u001b[0m\u001b[0;34m\u001b[0m\u001b[0m\n\u001b[0m\u001b[1;32m    255\u001b[0m         \u001b[0;32mif\u001b[0m \u001b[0;32mnot\u001b[0m \u001b[0mis_dict_like\u001b[0m\u001b[0;34m(\u001b[0m\u001b[0mpos_kwargs\u001b[0m\u001b[0;34m)\u001b[0m\u001b[0;34m:\u001b[0m\u001b[0;34m\u001b[0m\u001b[0m\n\u001b[1;32m    256\u001b[0m             raise ValueError(\n",
      "\u001b[0;31mKeyboardInterrupt\u001b[0m: "
     ]
    }
   ],
   "source": [
    "#離れ具合のリスト\n",
    "#on_num = numpy.zeros((700, max_scannum, max_scannum))\n",
    "on_num = numpy.zeros((1000, max_scannum, max_scannum))\n",
    "#on_num = numpy.zeros((32768, max_scannum, max_scannum))\n",
    "\n",
    "for i in tqdm(range(max_scannum)): #x\n",
    "    for j in range(max_scannum): #y\n",
    "        dis_x = tastar_cube['RA'][index_list[i][j]]*3600 - azgrid[i] #RAの値をcosで補正する必要があるかも, 単位[arcsec]\n",
    "        dis_y = tastar_cube['DEC'][index_list[i][j]]*3600 - elgrid[j]  #[arcsec]\n",
    "        dis = numpy.sqrt((dis_x)**2 + (dis_y)**2) /grid#ピクセルにしたい、deg/(ピクセル/3600)\n",
    "        #print(dis)\n",
    "        try:\n",
    "            #weight_ar = gauss(dis)*weight_rms(tastar_cube[index_list[i][j]].values)#*weight_if(tastar_cube[index_list[i][j]])\n",
    "            weight_ar = gauss(dis)*weight_rms(tastar_cube[index_list[i][j]].values)#*weight_if(tastar_cube[index_list[i][j]]\n",
    "            #weight_ar = weight_besselgauss(dis)*weight_rms(tastar_cube[index_list[i][j]].values)#*weight_if(tastar_cube[index_list[i][j]])\n",
    "            weighted = numpy.average(tastar_cube[index_list[i][j]], weights = weight_ar, axis = 0)\n",
    "            #on_num[len(on_num):len(on_num)] = [weighted]\n",
    "            ###on_num[:, j, i] = weighted\n",
    "            if len(index_list[i][j]) < 20 or len(index_list[i][j]) > 50:\n",
    "                on_num[:, j, i] =  weighted\n",
    "            else:\n",
    "                on_num[:, j, i] = weighted\n",
    "        except Exception as e:\n",
    "            print(i,j,e)\n",
    "numpy.shape(on_num)"
   ]
  },
  {
   "cell_type": "code",
   "execution_count": 133,
   "metadata": {},
   "outputs": [
    {
     "name": "stderr",
     "output_type": "stream",
     "text": [
      "100%|██████████| 300/300 [00:05<00:00, 56.62it/s]\n"
     ]
    }
   ],
   "source": [
    "#_on_num = numpy.zeros(( max_scannum, max_scannum, 30768))\n",
    "_on_num = numpy.zeros(( max_scannum, max_scannum, 1000))\n",
    "#_on_num = numpy.zeros(( max_scannum, max_scannum, 700))\n",
    "ff = numpy.ones(40)/40\n",
    "tmp = numpy.swapaxes(on_num, 2, 0)\n",
    "for i in tqdm(range(max_scannum)):\n",
    "    for j in range(max_scannum):\n",
    "        _on_num[i][j] = numpy.convolve(ff, tmp[i][j], \"same\")\n",
    "_on_num = numpy.swapaxes(_on_num, 2, 0)"
   ]
  },
  {
   "cell_type": "code",
   "execution_count": 70,
   "metadata": {},
   "outputs": [],
   "source": [
    "import pickle\n",
    "with open(\"/home/amigos/seigyo/analy/cmap_likeidl.pickle\", \"rb\") as f:\n",
    "    cmp = pickle.load(f)"
   ]
  },
  {
   "cell_type": "code",
   "execution_count": null,
   "metadata": {},
   "outputs": [],
   "source": []
  },
  {
   "cell_type": "code",
   "execution_count": 149,
   "metadata": {},
   "outputs": [
    {
     "data": {
      "text/plain": [
       "(-1, 1)"
      ]
     },
     "execution_count": 149,
     "metadata": {},
     "output_type": "execute_result"
    },
    {
     "data": {
      "image/png": "[encoded data removed]",
      "text/plain": [
       "<Figure size 1440x360 with 1 Axes>"
      ]
     },
     "metadata": {
      "needs_background": "light"
     },
     "output_type": "display_data"
    }
   ],
   "source": [
    "plt.figure(figsize=(20, 5))\n",
    "#plt.plot(tastar_cube[\"Vlsr\"], _on_num[:,30,40])\n",
    "#plt.plot(numpy.mean(on_num[:,30:33,18:20]))\n",
    "#plt.plot(on_num[:,36,22])\n",
    "#xfreq = numpy.linspace(0, 2000, 32768)\n",
    "plt.plot(tastar_cube[\"Vlsr\"], numpy.mean(_on_num[:, 20:51, 20:41], axis=(1,2)))\n",
    "#plt.xlim(-40, 40)\n",
    "#plt.xlim(15000, 30000)\n",
    "plt.ylabel(\"Ta* (K)\")\n",
    "plt.xlabel(\"Vlsr km/s\")\n",
    "plt.grid()\n",
    "plt.ylim(-1, 1)\n",
    "#plt.savefig(\"100GHz12CO.eps\")"
   ]
  },
  {
   "cell_type": "code",
   "execution_count": null,
   "metadata": {},
   "outputs": [],
   "source": [
    "integ_map[num_mask].shape"
   ]
  },
  {
   "cell_type": "code",
   "execution_count": 140,
   "metadata": {
    "scrolled": true
   },
   "outputs": [
    {
     "data": {
      "image/png": "[encoded data removed]",
      "text/plain": [
       "<Figure size 504x504 with 2 Axes>"
      ]
     },
     "metadata": {
      "needs_background": "light"
     },
     "output_type": "display_data"
    }
   ],
   "source": [
    "on_num = numpy.where(on_num == 0, numpy.nan, on_num)\n",
    "#max_map= numpy.max(_on_num[20000:20500], axis=0)#12CO1-0\n",
    "integ_map = numpy.sum(on_num[300:400], axis=0)\n",
    "max_map= numpy.max(_on_num[0:1000], axis=0)#12CO1-0\n",
    "max_map = numpy.max(_on_num[800:1000], axis=0)\n",
    "#max_map= numpy.max(_on_num[23800:24100], axis=0)#13CO1-0\n",
    "plt.figure(figsize=(7, 7))\n",
    "plt.imshow(max_map,cmap=cmp, vmin=0, vmax=50, origin=True)#, vmax=10)#, vmax=30)\n",
    "#plt.imshow(integ_map, cmap=cmp, vmin=0, vmax=5, origin=True)#, vmax=10)#, vmax=30)\n",
    "plt.title(\"n20191218010049 12CO 2-1\")\n",
    "plt.colorbar(label=\"Ta*\")\n",
    "#plt.ylim(50,90)\n",
    "#plt.xlim(50, 90)\n",
    "plt.xlabel(\"Ra (J2000)\")\n",
    "plt.ylabel(\"Dec (J2000)\")\n",
    "plt.show()"
   ]
  },
  {
   "cell_type": "code",
   "execution_count": null,
   "metadata": {},
   "outputs": [],
   "source": [
    "plt.figure(figsize=(6,6))\n",
    "plt.imshow(numpy.std(on_num[350:400] ,axis=0), vmax=3, origin=True, cmap=cmp)\n",
    "plt.colorbar()"
   ]
  },
  {
   "cell_type": "code",
   "execution_count": null,
   "metadata": {},
   "outputs": [],
   "source": [
    "plt.figure(figsize=(7,7))\n",
    "plt.imshow(max_map, cmap=cmp, vmin=0.5, vmax=2, origin=True)#, vmax=10)#, vmax=30)\n",
    "# plt.title(\"OriKL 20191005 12CO 2-1\")\n",
    "plt.colorbar(label=\"Ta*\")\n",
    "# plt.ylim(18,131)\n",
    "# plt.xlim(18, 138)\n",
    "plt.xlabel(\"Ra (J2000)\")\n",
    "plt.ylabel(\"Dec (J2000)\")\n",
    "plt.show()"
   ]
  },
  {
   "cell_type": "code",
   "execution_count": null,
   "metadata": {},
   "outputs": [],
   "source": [
    "_k = _on_num\n",
    "delta_dv"
   ]
  },
  {
   "cell_type": "code",
   "execution_count": 143,
   "metadata": {},
   "outputs": [],
   "source": [
    "delta_dv = float(tastar_cube['Vlsr'][1] - tastar_cube['Vlsr'][0])#13CO 2-1  \n",
    "header_dict = {\n",
    "\"object\": \"OriKL\",\n",
    "\"crval1\": lamda_on/3600,\n",
    "\"cdelt1\": -grid/3600,\n",
    "\"crpix1\": (N)/2,#中心ピクセル (N+1)/2#\n",
    "\"crval2\": beta_on/3600,\n",
    "\"cdelt2\": grid/3600,\n",
    "\"crpix2\": (N)/2, #中心ピクセル (N+1)/2\n",
    "\"cdelt3\": delta_dv*1000,# km/s  #defalut がm/s\n",
    "\"crval3\": numpy.array(tastar_cube['Vlsr'])[0]*1000,\n",
    "\"crpix3\": 0\n",
    "}"
   ]
  },
  {
   "cell_type": "code",
   "execution_count": 144,
   "metadata": {},
   "outputs": [],
   "source": [
    "temp = \"\"\"\n",
    "SIMPLE  =                    T                                                  \n",
    "BITPIX  =                  -32                                                  \n",
    "NAXIS   =                    3                                                  \n",
    "NAXIS1  =                  300                                                 \n",
    "NAXIS2  =                  300                                                 \n",
    "NAXIS3  =                   1000                                                  \n",
    "OBJECT  = '{object}              '                                                  \n",
    "TELESCOP= 'NANTEN2            '                                                  \n",
    "INSTRUME= 'nasco          '                                                  \n",
    "OBSERVER= 'amigos           '                                                  \n",
    "DATE-OBS= '2007-12-30        '                                                  \n",
    "DATE-MAP= '2012-01-19        '   \n",
    "BSCALE  =    0.10000000000E+01                                                  \n",
    "BZERO   =    0.00000000000E+01                                                  \n",
    "BUNIT   = 'K                 '                                                  \n",
    "EPOCH   =    0.20000000000E+04                                                  \n",
    "OBSRA   =    8.38104170000E+01                                                  \n",
    "OBSDEC  =   -5.37511100000E+00                                                  \n",
    "DATAMAX =    1.16774444580E+01                                                  \n",
    "DATAMIN =   0E+00\n",
    "CTYPE1  = 'RA---GLS          '                                             \n",
    "CRVAL1  =    {crval1}                                                  \n",
    "CDELT1  =    {cdelt1}                                                  \n",
    "CRPIX1  =      {crpix1}\n",
    "CROTA1  =     0.0000000000E+00                                                  \n",
    "CTYPE2  = 'DEC--GLS          '                            \n",
    "CRVAL2  =   {crval2}                                                  \n",
    "CDELT2  =   {cdelt2}                                               \n",
    "CRPIX2  =     {crpix2}                                               \n",
    "CROTA2  =     0.0000000000E+00                                                  \n",
    "CTYPE3  = 'VELO-LSR          '                                                  \n",
    "CRVAL3  =    {crval3}                                                  \n",
    "CDELT3  =    {cdelt3}                                                  \n",
    "CRPIX3  =      {crpix3}                                                 \n",
    "CROTA3  =    0.00000000000E+00                                                  \n",
    "BLANK   =   -1.00000000000E+00 \"\"\".format(**header_dict)\n",
    "#CTYPE1  = 'RA---GLS          '     \n",
    "#CTYPE2  = 'GLAT-CAR          ' \n",
    "#CTYPE1  = 'GLON-CAR          '         \n",
    "#CTYPE2  = 'DEC--GLS          '    \n",
    "#'GLAT-CAR'\n",
    "#'GLON-CAR'\n",
    "header = temp.format(**header_dict)\n",
    "target_header = fits.Header.fromstring(header, sep = \"\\n\")"
   ]
  },
  {
   "cell_type": "code",
   "execution_count": 145,
   "metadata": {},
   "outputs": [
    {
     "name": "stderr",
     "output_type": "stream",
     "text": [
      "WARNING: VerifyWarning: Invalid value for 'BLANK' keyword in header: -1.0 The 'BLANK' keyword must be an integer.  It will be ignored in the meantime. [astropy.io.fits.hdu.image]\n",
      "WARNING: VerifyWarning: Invalid 'BLANK' keyword in header.  The 'BLANK' keyword is only applicable to integer data, and will be ignored in this HDU. [astropy.io.fits.hdu.image]\n"
     ]
    }
   ],
   "source": [
    "hdu = fits.PrimaryHDU(on_num, target_header)\n",
    "hdulist = fits.HDUList([hdu])\n",
    "hdulist.writeto(\"n20191218010049_12CO_2-1_xy150R45_gauss_fix.fits\", overwrite = False)"
   ]
  },
  {
   "cell_type": "code",
   "execution_count": null,
   "metadata": {},
   "outputs": [],
   "source": [
    "count_map = numpy.zeros((150,150))"
   ]
  },
  {
   "cell_type": "code",
   "execution_count": null,
   "metadata": {},
   "outputs": [],
   "source": [
    "for i in range(150):\n",
    "    for j in range(150):\n",
    "        count_map[i][j] = len(index_list[i][j])"
   ]
  },
  {
   "cell_type": "code",
   "execution_count": null,
   "metadata": {},
   "outputs": [],
   "source": [
    "plt.figure(figsize=(7,7))\n",
    "plt.imshow(count_map, vmin=0, vmax=50, origin=True)\n",
    "plt.colorbar()"
   ]
  },
  {
   "cell_type": "code",
   "execution_count": null,
   "metadata": {},
   "outputs": [],
   "source": [
    "countmask = numpy.where(count_map>20, 1, 0)"
   ]
  },
  {
   "cell_type": "code",
   "execution_count": null,
   "metadata": {},
   "outputs": [],
   "source": [
    "rmsmap = numpy.zeros((150,150))\n",
    "for i in range(150):\n",
    "    for j in range(150):\n",
    "        rmsmap[i][j] = numpy.sqrt(numpy.mean(_on_num[:,i,j])**2)"
   ]
  },
  {
   "cell_type": "code",
   "execution_count": null,
   "metadata": {},
   "outputs": [],
   "source": [
    "plt.figure(figsize=(7,7))\n",
    "plt.imshow(rmsmap, vmax=100)\n",
    "plt.colorbar()"
   ]
  },
  {
   "cell_type": "code",
   "execution_count": null,
   "metadata": {},
   "outputs": [],
   "source": []
  },
  {
   "cell_type": "code",
   "execution_count": null,
   "metadata": {},
   "outputs": [],
   "source": []
  }
 ],
 "metadata": {
  "kernelspec": {
   "display_name": "analy-Eyq-irNF",
   "language": "python",
   "name": "analy-eyq-irnf"
  },
  "language_info": {
   "codemirror_mode": {
    "name": "ipython",
    "version": 3
   },
   "file_extension": ".py",
   "mimetype": "text/x-python",
   "name": "python",
   "nbconvert_exporter": "python",
   "pygments_lexer": "ipython3",
   "version": "3.7.0"
  }
 },
 "nbformat": 4,
 "nbformat_minor": 2
}
