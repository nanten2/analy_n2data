{
 "cells": [
  {
   "cell_type": "code",
   "execution_count": 1,
   "metadata": {
    "collapsed": true
   },
   "outputs": [],
   "source": [
    "import numpy as np\n",
    "import astropy.io as fits\n",
    "import math\n",
    "import matplotlib as mpl\n",
    "import matplotlib.pylab as plt\n",
    "from scipy.optimize import curve_fit\n",
    "import sys\n",
    "\n",
    "sys.path.append('/home/amigos/git/analy_n2data')"
   ]
  },
  {
   "cell_type": "code",
   "execution_count": 2,
   "metadata": {},
   "outputs": [],
   "source": [
    "import n2analy"
   ]
  },
  {
   "cell_type": "code",
   "execution_count": null,
   "metadata": {},
   "outputs": [
    {
     "name": "stderr",
     "output_type": "stream",
     "text": [
      "100%|██████████| 3/3 [00:00<00:00, 500.02it/s]"
     ]
    }
   ],
   "source": [
    "path = ('/home/amigos/seigyo/hdd/HDD_4/data/home/amigos/hdd/data/skydip_xffts/20191010071059/')\n",
    "path = ('/home/amigos/seigyo/hdd/HDD_4/data/home/amigos/hdd/data/skydip_xffts/20191010130141/')\n",
    "path = ('/home/amigos/seigyo/hdd/HDD_4/data/home/amigos/hdd/data/skydip_xffts/20191011085746/')\n",
    "path = ('/home/amigos/nfs_hdd/data/observation/skydip_xffts/20191203064005')\n",
    "data_1 = n2analy.get_tpdata(path, '01')\n",
    "data_2 = n2analy.get_tpdata(path, '02')\n",
    "data_3 = n2analy.get_tpdata(path, '03')\n",
    "data_4 = n2analy.get_tpdata(path, '04')\n",
    "data_5 = n2analy.get_tpdata(path, '05')\n",
    "data_6 = n2analy.get_tpdata(path, '06')\n",
    "data_7 = n2analy.get_tpdata(path, '07')\n",
    "data_8 = n2analy.get_tpdata(path, '08')\n",
    "data_9 = n2analy.get_tpdata(path, '09')\n",
    "data_10 = n2analy.get_tpdata(path, '10')\n",
    "data_11 = n2analy.get_tpdata(path, '11')\n",
    "data_12 = n2analy.get_tpdata(path, '12')\n",
    "data_13 = n2analy.get_tpdata(path, '13')\n",
    "data_14 = n2analy.get_tpdata(path, '14')\n",
    "data_15 = n2analy.get_tpdata(path, '15')\n",
    "data_16 = n2analy.get_tpdata(path, '16')"
   ]
  },
  {
   "cell_type": "code",
   "execution_count": 4,
   "metadata": {},
   "outputs": [
    {
     "ename": "NameError",
     "evalue": "name 'data_1' is not defined",
     "output_type": "error",
     "traceback": [
      "\u001b[0;31m---------------------------------------------------------------------------\u001b[0m",
      "\u001b[0;31mNameError\u001b[0m                                 Traceback (most recent call last)",
      "\u001b[0;32m<ipython-input-4-66ae890a4680>\u001b[0m in \u001b[0;36m<module>\u001b[0;34m()\u001b[0m\n\u001b[0;32m----> 1\u001b[0;31m \u001b[0mdata_list\u001b[0m \u001b[0;34m=\u001b[0m \u001b[0;34m[\u001b[0m\u001b[0mdata_1\u001b[0m\u001b[0;34m,\u001b[0m \u001b[0mdata_2\u001b[0m\u001b[0;34m,\u001b[0m \u001b[0mdata_3\u001b[0m\u001b[0;34m,\u001b[0m \u001b[0mdata_4\u001b[0m\u001b[0;34m,\u001b[0m \u001b[0mdata_5\u001b[0m\u001b[0;34m,\u001b[0m \u001b[0mdata_6\u001b[0m\u001b[0;34m,\u001b[0m \u001b[0mdata_7\u001b[0m\u001b[0;34m,\u001b[0m \u001b[0mdata_8\u001b[0m\u001b[0;34m,\u001b[0m \u001b[0mdata_9\u001b[0m\u001b[0;34m,\u001b[0m \u001b[0mdata_10\u001b[0m\u001b[0;34m,\u001b[0m \u001b[0mdata_11\u001b[0m\u001b[0;34m,\u001b[0m \u001b[0mdata_12\u001b[0m\u001b[0;34m,\u001b[0m \u001b[0mdata_13\u001b[0m\u001b[0;34m,\u001b[0m \u001b[0mdata_14\u001b[0m\u001b[0;34m,\u001b[0m \u001b[0mdata_15\u001b[0m\u001b[0;34m,\u001b[0m \u001b[0mdata_16\u001b[0m\u001b[0;34m]\u001b[0m\u001b[0;34m\u001b[0m\u001b[0m\n\u001b[0m",
      "\u001b[0;31mNameError\u001b[0m: name 'data_1' is not defined"
     ]
    }
   ],
   "source": [
    "data_list = [data_1, data_2, data_3, data_4, data_5, data_6, data_7, data_8, data_9, data_10, data_11, data_12, data_13, data_14, data_15, data_16]"
   ]
  },
  {
   "cell_type": "code",
   "execution_count": 5,
   "metadata": {},
   "outputs": [
    {
     "ename": "NameError",
     "evalue": "name 'data_list' is not defined",
     "output_type": "error",
     "traceback": [
      "\u001b[0;31m---------------------------------------------------------------------------\u001b[0m",
      "\u001b[0;31mNameError\u001b[0m                                 Traceback (most recent call last)",
      "\u001b[0;32m<ipython-input-5-0d72b6115395>\u001b[0m in \u001b[0;36m<module>\u001b[0;34m()\u001b[0m\n\u001b[0;32m----> 1\u001b[0;31m \u001b[0mprint\u001b[0m\u001b[0;34m(\u001b[0m\u001b[0mnp\u001b[0m\u001b[0;34m.\u001b[0m\u001b[0marray\u001b[0m\u001b[0;34m(\u001b[0m\u001b[0mdata_list\u001b[0m\u001b[0;34m[\u001b[0m\u001b[0;36m0\u001b[0m\u001b[0;34m]\u001b[0m\u001b[0;34m)\u001b[0m\u001b[0;34m)\u001b[0m\u001b[0;34m\u001b[0m\u001b[0m\n\u001b[0m",
      "\u001b[0;31mNameError\u001b[0m: name 'data_list' is not defined"
     ]
    }
   ],
   "source": [
    "print(np.array(data_list[0]))"
   ]
  },
  {
   "cell_type": "code",
   "execution_count": null,
   "metadata": {
    "collapsed": true
   },
   "outputs": [],
   "source": []
  },
  {
   "cell_type": "code",
   "execution_count": 6,
   "metadata": {},
   "outputs": [
    {
     "ename": "NameError",
     "evalue": "name 'data_list' is not defined",
     "output_type": "error",
     "traceback": [
      "\u001b[0;31m---------------------------------------------------------------------------\u001b[0m",
      "\u001b[0;31mNameError\u001b[0m                                 Traceback (most recent call last)",
      "\u001b[0;32m<ipython-input-6-6586a42a993b>\u001b[0m in \u001b[0;36m<module>\u001b[0;34m()\u001b[0m\n\u001b[1;32m      3\u001b[0m \u001b[0mhot_list\u001b[0m \u001b[0;34m=\u001b[0m \u001b[0;34m[\u001b[0m\u001b[0;34m]\u001b[0m\u001b[0;34m\u001b[0m\u001b[0m\n\u001b[1;32m      4\u001b[0m \u001b[0;34m\u001b[0m\u001b[0m\n\u001b[0;32m----> 5\u001b[0;31m \u001b[0;32mfor\u001b[0m \u001b[0mi\u001b[0m \u001b[0;32min\u001b[0m \u001b[0mdata_list\u001b[0m\u001b[0;34m:\u001b[0m\u001b[0;34m\u001b[0m\u001b[0m\n\u001b[0m\u001b[1;32m      6\u001b[0m     \u001b[0mskymask\u001b[0m \u001b[0;34m=\u001b[0m \u001b[0mi\u001b[0m\u001b[0;34m[\u001b[0m\u001b[0;34m'obsmode'\u001b[0m\u001b[0;34m]\u001b[0m \u001b[0;34m==\u001b[0m \u001b[0;34m'SKY'\u001b[0m\u001b[0;34m\u001b[0m\u001b[0m\n\u001b[1;32m      7\u001b[0m     \u001b[0mhotmask\u001b[0m \u001b[0;34m=\u001b[0m \u001b[0mi\u001b[0m\u001b[0;34m[\u001b[0m\u001b[0;34m'obsmode'\u001b[0m\u001b[0;34m]\u001b[0m \u001b[0;34m==\u001b[0m \u001b[0;34m'HOT'\u001b[0m\u001b[0;34m\u001b[0m\u001b[0m\n",
      "\u001b[0;31mNameError\u001b[0m: name 'data_list' is not defined"
     ]
    }
   ],
   "source": [
    "#classify obsmode\n",
    "data_list2 = []\n",
    "hot_list = []\n",
    "\n",
    "for i in data_list:\n",
    "    skymask = i['obsmode'] == 'SKY'\n",
    "    hotmask = i['obsmode'] == 'HOT'\n",
    "    data_list2.append(np.array(i)[skymask])\n",
    "    hot_list.append(np.array(i)[hotmask])\n",
    "    \n",
    "print(np.array(hot_list).shape)"
   ]
  },
  {
   "cell_type": "code",
   "execution_count": 7,
   "metadata": {},
   "outputs": [
    {
     "ename": "NameError",
     "evalue": "name 'data_list' is not defined",
     "output_type": "error",
     "traceback": [
      "\u001b[0;31m---------------------------------------------------------------------------\u001b[0m",
      "\u001b[0;31mNameError\u001b[0m                                 Traceback (most recent call last)",
      "\u001b[0;32m<ipython-input-7-1cb445e0f401>\u001b[0m in \u001b[0;36m<module>\u001b[0;34m()\u001b[0m\n\u001b[1;32m      1\u001b[0m \u001b[0mtp_list\u001b[0m \u001b[0;34m=\u001b[0m \u001b[0;34m[\u001b[0m\u001b[0;34m]\u001b[0m\u001b[0;34m\u001b[0m\u001b[0m\n\u001b[1;32m      2\u001b[0m \u001b[0;34m\u001b[0m\u001b[0m\n\u001b[0;32m----> 3\u001b[0;31m \u001b[0;32mfor\u001b[0m \u001b[0mi\u001b[0m \u001b[0;32min\u001b[0m \u001b[0mdata_list\u001b[0m\u001b[0;34m:\u001b[0m\u001b[0;34m\u001b[0m\u001b[0m\n\u001b[0m\u001b[1;32m      4\u001b[0m     \u001b[0msequence1\u001b[0m \u001b[0;34m=\u001b[0m \u001b[0;34m[\u001b[0m\u001b[0;34m]\u001b[0m\u001b[0;34m\u001b[0m\u001b[0m\n\u001b[1;32m      5\u001b[0m     \u001b[0mel_80_mask\u001b[0m \u001b[0;34m=\u001b[0m \u001b[0mi\u001b[0m\u001b[0;34m[\u001b[0m\u001b[0;34m'scannum'\u001b[0m\u001b[0;34m]\u001b[0m \u001b[0;34m==\u001b[0m \u001b[0;34m'80.0'\u001b[0m\u001b[0;34m\u001b[0m\u001b[0m\n",
      "\u001b[0;31mNameError\u001b[0m: name 'data_list' is not defined"
     ]
    }
   ],
   "source": [
    "tp_list = []\n",
    "\n",
    "for i in data_list:\n",
    "    sequence1 = []\n",
    "    el_80_mask = i['scannum'] == '80.0'\n",
    "    el_70_mask = i['scannum'] == '70.0'\n",
    "    el_60_mask = i['scannum'] == '60.0'\n",
    "    el_45_mask = i['scannum'] == '45.0'\n",
    "    el_30_mask = i['scannum'] == '30.0'\n",
    "    el_25_mask = i['scannum'] == '25.0'\n",
    "    el_20_mask = i['scannum'] == '20.0'\n",
    "    \n",
    "    sequence1.append(np.mean(np.array(i[el_80_mask])))\n",
    "    sequence1.append(np.mean(np.array(i[el_70_mask])))\n",
    "    sequence1.append(np.mean(np.array(i[el_60_mask])))\n",
    "    sequence1.append(np.mean(np.array(i[el_45_mask])))\n",
    "    sequence1.append(np.mean(np.array(i[el_30_mask])))\n",
    "    sequence1.append(np.mean(np.array(i[el_25_mask])))\n",
    "    sequence1.append(np.mean(np.array(i[el_20_mask])))\n",
    "    \n",
    "    tp_list.append(sequence1)"
   ]
  },
  {
   "cell_type": "code",
   "execution_count": 8,
   "metadata": {},
   "outputs": [
    {
     "data": {
      "text/plain": [
       "(0,)"
      ]
     },
     "execution_count": 8,
     "metadata": {},
     "output_type": "execute_result"
    }
   ],
   "source": [
    "np.array(tp_list).shape"
   ]
  },
  {
   "cell_type": "code",
   "execution_count": 9,
   "metadata": {},
   "outputs": [
    {
     "name": "stdout",
     "output_type": "stream",
     "text": [
      "(0,)\n",
      "(0,)\n"
     ]
    }
   ],
   "source": [
    "# calc tau\n",
    "#log(p_hot-p_sky)のlistの作成   \n",
    "\n",
    "hot_list_mean = []\n",
    "for i in hot_list:\n",
    "    hot_list_mean.append(np.mean(np.array(i)))\n",
    "    \n",
    "print(np.array(hot_list_mean).shape)\n",
    "\n",
    "print(np.array(tp_list).shape)"
   ]
  },
  {
   "cell_type": "code",
   "execution_count": 10,
   "metadata": {
    "collapsed": true
   },
   "outputs": [],
   "source": [
    "d_hot_sky = []\n",
    "d_hot_sky_tempo = []\n",
    "\n",
    "tp_list = np.array(tp_list)\n",
    "\n",
    "\n",
    "for j in range(len(tp_list)):\n",
    "    d_hot_sky1=[]\n",
    "    hot_list_mean_ = hot_list_mean[j]\n",
    "    for i in tp_list[j]:\n",
    "        #print(i)\n",
    "        #print(hot_list_mean)\n",
    "        #print(i)\n",
    "        d_temp = hot_list_mean_ - i\n",
    "        #print(d_temp)\n",
    "        #print(d_temp)\n",
    "        try:\n",
    "            d_temp2 = math.log(d_temp)\n",
    "        except:\n",
    "            d_temp2 = 0\n",
    "        d_hot_sky1.append(d_temp2)\n",
    "    d_hot_sky.append(d_hot_sky1)"
   ]
  },
  {
   "cell_type": "code",
   "execution_count": 11,
   "metadata": {},
   "outputs": [
    {
     "data": {
      "text/plain": [
       "(0,)"
      ]
     },
     "execution_count": 11,
     "metadata": {},
     "output_type": "execute_result"
    }
   ],
   "source": [
    "np.array(d_hot_sky).shape"
   ]
  },
  {
   "cell_type": "code",
   "execution_count": 12,
   "metadata": {},
   "outputs": [
    {
     "name": "stdout",
     "output_type": "stream",
     "text": [
      "(0,)\n"
     ]
    }
   ],
   "source": [
    "#seczの計算  \n",
    "z = [80, 70, 60, 45, 30, 25, 20]\n",
    "_z = []\n",
    "for i in range(len(z)):\n",
    "    __z = 90 - z[i]\n",
    "    _z.append(__z)\n",
    "\n",
    "secz = []\n",
    "for i in range(len(_z)):\n",
    "    secz_temp = (_z[i]/180)*math.pi\n",
    "    secz.append(1/math.cos(secz_temp))\n",
    "\n",
    "#print(d_hot_sky1)\n",
    "#print(d_hot_sky2)\n",
    "\n",
    "#print(secz)\n",
    "\n",
    "_secz = sorted(secz, reverse=False)\n",
    "#print(secz)\n",
    "import matplotlib.pyplot as plt2\n",
    "#fig = plt2.figure(figsize=(20.0, 6.0))\n",
    "#ax = fig.add_subplot(111)\n",
    "#ax.plot(d_hot_sky1)\n",
    "#plt2.plot(secz, d_hot_sky[0])\n",
    "#plt2.plot(secz, d_hot_sky[1])\n",
    "#plt2.show\n",
    "\n",
    "print(np.array(d_hot_sky).shape)"
   ]
  },
  {
   "cell_type": "code",
   "execution_count": null,
   "metadata": {
    "collapsed": true
   },
   "outputs": [],
   "source": []
  },
  {
   "cell_type": "code",
   "execution_count": 13,
   "metadata": {
    "collapsed": true
   },
   "outputs": [],
   "source": [
    "fit_array_list =[]\n",
    "\n",
    "for i in d_hot_sky:\n",
    "    try:\n",
    "        fit = np.polyfit(secz, np.array(i),1)\n",
    "        fit_array_list.append(fit)\n",
    "    except:\n",
    "        fit_array_list.append(np.zeros(2))\n",
    "    \n",
    "#print(np.array(fit_array_list[1][0][1]))\n",
    "\n",
    "\n",
    "fit_array_list_debug=[]\n",
    "\n",
    "\n",
    "        \n"
   ]
  },
  {
   "cell_type": "code",
   "execution_count": 14,
   "metadata": {},
   "outputs": [
    {
     "ename": "IndexError",
     "evalue": "list index out of range",
     "output_type": "error",
     "traceback": [
      "\u001b[0;31m---------------------------------------------------------------------------\u001b[0m",
      "\u001b[0;31mIndexError\u001b[0m                                Traceback (most recent call last)",
      "\u001b[0;32m<ipython-input-14-98eb3ff24419>\u001b[0m in \u001b[0;36m<module>\u001b[0;34m()\u001b[0m\n\u001b[1;32m      3\u001b[0m \u001b[0;34m\u001b[0m\u001b[0m\n\u001b[1;32m      4\u001b[0m \u001b[0;32mfor\u001b[0m \u001b[0mi\u001b[0m\u001b[0;34m,\u001b[0m \u001b[0m_ax\u001b[0m \u001b[0;32min\u001b[0m \u001b[0menumerate\u001b[0m\u001b[0;34m(\u001b[0m\u001b[0max\u001b[0m\u001b[0;34m)\u001b[0m\u001b[0;34m:\u001b[0m\u001b[0;34m\u001b[0m\u001b[0m\n\u001b[0;32m----> 5\u001b[0;31m     \u001b[0;32mif\u001b[0m \u001b[0;34m(\u001b[0m\u001b[0;34m-\u001b[0m\u001b[0;36m1\u001b[0m\u001b[0;34m*\u001b[0m\u001b[0mfit_array_list\u001b[0m\u001b[0;34m[\u001b[0m\u001b[0mi\u001b[0m\u001b[0;34m]\u001b[0m\u001b[0;34m[\u001b[0m\u001b[0;36m0\u001b[0m\u001b[0;34m]\u001b[0m \u001b[0;34m>=\u001b[0m \u001b[0;36m1\u001b[0m\u001b[0;34m)\u001b[0m \u001b[0;32mor\u001b[0m \u001b[0;34m(\u001b[0m\u001b[0;34m-\u001b[0m\u001b[0;36m1\u001b[0m\u001b[0;34m*\u001b[0m\u001b[0mfit_array_list\u001b[0m\u001b[0;34m[\u001b[0m\u001b[0mi\u001b[0m\u001b[0;34m]\u001b[0m\u001b[0;34m[\u001b[0m\u001b[0;36m0\u001b[0m\u001b[0;34m]\u001b[0m \u001b[0;34m<=\u001b[0m \u001b[0;36m0\u001b[0m\u001b[0;34m)\u001b[0m\u001b[0;34m:\u001b[0m\u001b[0;34m\u001b[0m\u001b[0m\n\u001b[0m\u001b[1;32m      6\u001b[0m         \u001b[0m_ax\u001b[0m\u001b[0;34m.\u001b[0m\u001b[0mtext\u001b[0m\u001b[0;34m(\u001b[0m\u001b[0;36m0.3\u001b[0m\u001b[0;34m,\u001b[0m \u001b[0;36m0.5\u001b[0m\u001b[0;34m,\u001b[0m \u001b[0;34m'bad data'\u001b[0m\u001b[0;34m,\u001b[0m \u001b[0mtransform\u001b[0m \u001b[0;34m=\u001b[0m \u001b[0m_ax\u001b[0m\u001b[0;34m.\u001b[0m\u001b[0mtransAxes\u001b[0m\u001b[0;34m,\u001b[0m \u001b[0mfontsize\u001b[0m\u001b[0;34m=\u001b[0m\u001b[0;36m25\u001b[0m\u001b[0;34m)\u001b[0m\u001b[0;34m\u001b[0m\u001b[0m\n\u001b[1;32m      7\u001b[0m     \u001b[0;32melse\u001b[0m\u001b[0;34m:\u001b[0m\u001b[0;34m\u001b[0m\u001b[0m\n",
      "\u001b[0;31mIndexError\u001b[0m: list index out of range"
     ]
    },
    {
     "data": {
      "image/png": "[encoded data removed]",
      "text/plain": [
       "<matplotlib.figure.Figure at 0x7faa89935b00>"
      ]
     },
     "metadata": {},
     "output_type": "display_data"
    }
   ],
   "source": [
    "fig = plt.figure(figsize=(16,16))\n",
    "ax = [fig.add_subplot(4, 4, i+1) for i in range(16)]\n",
    "    \n",
    "for i, _ax in enumerate(ax):\n",
    "    if (-1*fit_array_list[i][0] >= 1) or (-1*fit_array_list[i][0] <= 0):\n",
    "        _ax.text(0.3, 0.5, 'bad data', transform = _ax.transAxes, fontsize=25)\n",
    "    else:\n",
    "        try:\n",
    "            _ax.plot(secz, np.poly1d(fit_array_list[i])(secz))\n",
    "            _ax.plot(secz, d_hot_sky[i], 'o')\n",
    "            _ax.text(0.1, 0.1, 'tau = {:.4f}'.format(-1*fit_array_list[i][0]), transform = _ax.transAxes)\n",
    "        except:\n",
    "            _ax.text(0.3, 0.5, 'bad data', transform = _ax.transAxes, fontsize=25)\n",
    "\n",
    "    _ax.set_xlabel('secZ')\n",
    "    _ax.set_ylabel(\"count\")\n",
    "    _ax.set_yscale(\"log\")\n",
    "    _ax.set_title('IF : {}'.format(i+1))\n",
    "    _ax.legend()\n",
    "    _ax.grid()\n",
    "    \n",
    "plt.tight_layout()\n",
    "plt.show()"
   ]
  },
  {
   "cell_type": "code",
   "execution_count": null,
   "metadata": {
    "collapsed": true
   },
   "outputs": [],
   "source": []
  },
  {
   "cell_type": "code",
   "execution_count": null,
   "metadata": {
    "collapsed": true,
    "scrolled": true
   },
   "outputs": [],
   "source": []
  },
  {
   "cell_type": "code",
   "execution_count": null,
   "metadata": {
    "collapsed": true
   },
   "outputs": [],
   "source": []
  },
  {
   "cell_type": "code",
   "execution_count": null,
   "metadata": {
    "collapsed": true
   },
   "outputs": [],
   "source": []
  },
  {
   "cell_type": "code",
   "execution_count": null,
   "metadata": {
    "collapsed": true
   },
   "outputs": [],
   "source": []
  },
  {
   "cell_type": "code",
   "execution_count": null,
   "metadata": {
    "collapsed": true
   },
   "outputs": [],
   "source": []
  },
  {
   "cell_type": "code",
   "execution_count": null,
   "metadata": {
    "collapsed": true
   },
   "outputs": [],
   "source": []
  },
  {
   "cell_type": "code",
   "execution_count": null,
   "metadata": {
    "collapsed": true
   },
   "outputs": [],
   "source": []
  },
  {
   "cell_type": "code",
   "execution_count": null,
   "metadata": {
    "collapsed": true
   },
   "outputs": [],
   "source": []
  },
  {
   "cell_type": "code",
   "execution_count": null,
   "metadata": {
    "collapsed": true
   },
   "outputs": [],
   "source": []
  },
  {
   "cell_type": "code",
   "execution_count": null,
   "metadata": {
    "collapsed": true
   },
   "outputs": [],
   "source": []
  },
  {
   "cell_type": "code",
   "execution_count": null,
   "metadata": {
    "collapsed": true
   },
   "outputs": [],
   "source": []
  },
  {
   "cell_type": "code",
   "execution_count": null,
   "metadata": {
    "collapsed": true
   },
   "outputs": [],
   "source": []
  },
  {
   "cell_type": "code",
   "execution_count": null,
   "metadata": {
    "collapsed": true
   },
   "outputs": [],
   "source": []
  },
  {
   "cell_type": "code",
   "execution_count": null,
   "metadata": {
    "collapsed": true
   },
   "outputs": [],
   "source": []
  },
  {
   "cell_type": "code",
   "execution_count": null,
   "metadata": {
    "collapsed": true
   },
   "outputs": [],
   "source": []
  },
  {
   "cell_type": "code",
   "execution_count": null,
   "metadata": {
    "collapsed": true
   },
   "outputs": [],
   "source": []
  }
 ],
 "metadata": {
  "kernelspec": {
   "display_name": "Python 3",
   "language": "python",
   "name": "python3"
  },
  "language_info": {
   "codemirror_mode": {
    "name": "ipython",
    "version": 3
   },
   "file_extension": ".py",
   "mimetype": "text/x-python",
   "name": "python",
   "nbconvert_exporter": "python",
   "pygments_lexer": "ipython3",
   "version": "3.6.1"
  }
 },
 "nbformat": 4,
 "nbformat_minor": 2
}
