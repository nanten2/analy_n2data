{
 "cells": [
  {
   "cell_type": "code",
   "execution_count": 9,
   "metadata": {
    "collapsed": true
   },
   "outputs": [],
   "source": [
    "import sys\n",
    "if not sys.argv[1] == \"-f\":\n",
    "    path = sys.argv[1]\n",
    "    IF = \"01\"\n",
    "    mode = \"commandline\"\n",
    "else:\n",
    "    # 手動で解析する場合はデータのあるpathを指定してください\n",
    "    path = \"/home/amigos/hdd/data/observation/otf_planet2018/n20190928012625_12CO_2-1_otfplanet_jupiter\"\n",
    "    path2 = \"/home/amigos/hdd/data/observation/otf_planet2018/n20190928012625_12CO_2-1_otfplanet_jupiter\"\n",
    "    IF = \"03\"#XFFTSのboard番号　1-->\"01\"  12-->\"12\"\n",
    "    mode = \"notebook\""
   ]
  },
  {
   "cell_type": "code",
   "execution_count": 10,
   "metadata": {},
   "outputs": [
    {
     "data": {
      "text/plain": [
       "'/home/amigos/hdd/data/observation/otf_planet2018/n20190928012625_12CO_2-1_otfplanet_jupiter'"
      ]
     },
     "execution_count": 10,
     "metadata": {},
     "output_type": "execute_result"
    }
   ],
   "source": [
    "path"
   ]
  },
  {
   "cell_type": "code",
   "execution_count": 11,
   "metadata": {
    "collapsed": true
   },
   "outputs": [],
   "source": [
    "import necstdb\n",
    "import numpy\n",
    "import matplotlib.pyplot as plt\n",
    "import os\n",
    "import pandas\n",
    "from datetime import datetime as dt"
   ]
  },
  {
   "cell_type": "code",
   "execution_count": 12,
   "metadata": {
    "collapsed": true
   },
   "outputs": [],
   "source": [
    "import sys\n",
    "sys.path.append(\"/home/amigos/git/analy_n2data/script\")"
   ]
  },
  {
   "cell_type": "code",
   "execution_count": 13,
   "metadata": {},
   "outputs": [
    {
     "ename": "KeyError",
     "evalue": "'name'",
     "output_type": "error",
     "traceback": [
      "\u001b[0;31m---------------------------------------------------------------------------\u001b[0m",
      "\u001b[0;31mKeyError\u001b[0m                                  Traceback (most recent call last)",
      "\u001b[0;32m<ipython-input-13-0d17a903d754>\u001b[0m in \u001b[0;36m<module>\u001b[0;34m()\u001b[0m\n\u001b[1;32m      4\u001b[0m \u001b[0;31m#\"04\"は4IF目のこと。11IF目なら\"11\"\u001b[0m\u001b[0;34m\u001b[0m\u001b[0;34m\u001b[0m\u001b[0m\n\u001b[1;32m      5\u001b[0m \u001b[0;31m#for i in iflist:\u001b[0m\u001b[0;34m\u001b[0m\u001b[0;34m\u001b[0m\u001b[0m\n\u001b[0;32m----> 6\u001b[0;31m \u001b[0md\u001b[0m\u001b[0;34m,\u001b[0m \u001b[0mdata\u001b[0m \u001b[0;34m=\u001b[0m \u001b[0mmake_dset\u001b[0m\u001b[0;34m.\u001b[0m\u001b[0mget_data\u001b[0m\u001b[0;34m(\u001b[0m\u001b[0mpath\u001b[0m\u001b[0;34m,\u001b[0m \u001b[0mIF\u001b[0m\u001b[0;34m)\u001b[0m\u001b[0;34m\u001b[0m\u001b[0m\n\u001b[0m\u001b[1;32m      7\u001b[0m \u001b[0md\u001b[0m \u001b[0;34m=\u001b[0m \u001b[0mnumpy\u001b[0m\u001b[0;34m.\u001b[0m\u001b[0marray\u001b[0m\u001b[0;34m(\u001b[0m\u001b[0md\u001b[0m\u001b[0;34m)\u001b[0m\u001b[0;34m\u001b[0m\u001b[0m\n\u001b[1;32m      8\u001b[0m \u001b[0mdata\u001b[0m \u001b[0;34m=\u001b[0m \u001b[0mnumpy\u001b[0m\u001b[0;34m.\u001b[0m\u001b[0marray\u001b[0m\u001b[0;34m(\u001b[0m\u001b[0mdata\u001b[0m\u001b[0;34m)\u001b[0m\u001b[0;34m\u001b[0m\u001b[0m\n",
      "\u001b[0;32m/home/amigos/git/analy_n2data/script/make_dset.py\u001b[0m in \u001b[0;36mget_data\u001b[0;34m(path, array_num)\u001b[0m\n\u001b[1;32m     43\u001b[0m     \u001b[0;31m#nn = n.open_table(array_table)\u001b[0m\u001b[0;34m\u001b[0m\u001b[0;34m\u001b[0m\u001b[0m\n\u001b[1;32m     44\u001b[0m     \u001b[0;31m### open file\u001b[0m\u001b[0;34m\u001b[0m\u001b[0;34m\u001b[0m\u001b[0m\n\u001b[0;32m---> 45\u001b[0;31m     \u001b[0mnn\u001b[0m \u001b[0;34m=\u001b[0m \u001b[0mn\u001b[0m\u001b[0;34m.\u001b[0m\u001b[0mopen_table\u001b[0m\u001b[0;34m(\u001b[0m\u001b[0;34m\"xffts_board{}\"\u001b[0m\u001b[0;34m.\u001b[0m\u001b[0mformat\u001b[0m\u001b[0;34m(\u001b[0m\u001b[0marray_num\u001b[0m\u001b[0;34m)\u001b[0m\u001b[0;34m)\u001b[0m\u001b[0;34m\u001b[0m\u001b[0m\n\u001b[0m\u001b[1;32m     46\u001b[0m     \u001b[0mdd\u001b[0m \u001b[0;34m=\u001b[0m \u001b[0mn\u001b[0m\u001b[0;34m.\u001b[0m\u001b[0mopen_table\u001b[0m\u001b[0;34m(\u001b[0m\u001b[0;34m\"obsmode\"\u001b[0m\u001b[0;34m)\u001b[0m\u001b[0;34m\u001b[0m\u001b[0m\n\u001b[1;32m     47\u001b[0m     \u001b[0;31m### read\u001b[0m\u001b[0;34m\u001b[0m\u001b[0;34m\u001b[0m\u001b[0m\n",
      "\u001b[0;32m/home/amigos/.pyenv/versions/anaconda3-4.4.0/lib/python3.6/site-packages/necstdb/necstdb.py\u001b[0m in \u001b[0;36mopen_table\u001b[0;34m(self, name, mode)\u001b[0m\n\u001b[1;32m     53\u001b[0m \u001b[0;34m\u001b[0m\u001b[0m\n\u001b[1;32m     54\u001b[0m     \u001b[0;32mdef\u001b[0m \u001b[0mopen_table\u001b[0m\u001b[0;34m(\u001b[0m\u001b[0mself\u001b[0m\u001b[0;34m,\u001b[0m \u001b[0mname\u001b[0m\u001b[0;34m,\u001b[0m \u001b[0mmode\u001b[0m\u001b[0;34m=\u001b[0m\u001b[0;34m'rb'\u001b[0m\u001b[0;34m)\u001b[0m\u001b[0;34m:\u001b[0m\u001b[0;34m\u001b[0m\u001b[0m\n\u001b[0;32m---> 55\u001b[0;31m         \u001b[0;32mreturn\u001b[0m \u001b[0mtable\u001b[0m\u001b[0;34m(\u001b[0m\u001b[0mself\u001b[0m\u001b[0;34m.\u001b[0m\u001b[0mpath\u001b[0m\u001b[0;34m,\u001b[0m \u001b[0mname\u001b[0m\u001b[0;34m,\u001b[0m \u001b[0mmode\u001b[0m\u001b[0;34m)\u001b[0m\u001b[0;34m\u001b[0m\u001b[0m\n\u001b[0m\u001b[1;32m     56\u001b[0m \u001b[0;34m\u001b[0m\u001b[0m\n\u001b[1;32m     57\u001b[0m     \u001b[0;32mdef\u001b[0m \u001b[0mcheckout\u001b[0m\u001b[0;34m(\u001b[0m\u001b[0mself\u001b[0m\u001b[0;34m,\u001b[0m \u001b[0msaveto\u001b[0m\u001b[0;34m,\u001b[0m \u001b[0mcompression\u001b[0m\u001b[0;34m=\u001b[0m\u001b[0;32mNone\u001b[0m\u001b[0;34m)\u001b[0m\u001b[0;34m:\u001b[0m\u001b[0;34m\u001b[0m\u001b[0m\n",
      "\u001b[0;32m/home/amigos/.pyenv/versions/anaconda3-4.4.0/lib/python3.6/site-packages/necstdb/necstdb.py\u001b[0m in \u001b[0;36m__init__\u001b[0;34m(self, dbpath, name, mode)\u001b[0m\n\u001b[1;32m    105\u001b[0m     \u001b[0;32mdef\u001b[0m \u001b[0m__init__\u001b[0m\u001b[0;34m(\u001b[0m\u001b[0mself\u001b[0m\u001b[0;34m,\u001b[0m \u001b[0mdbpath\u001b[0m\u001b[0;34m,\u001b[0m \u001b[0mname\u001b[0m\u001b[0;34m,\u001b[0m \u001b[0mmode\u001b[0m\u001b[0;34m)\u001b[0m\u001b[0;34m:\u001b[0m\u001b[0;34m\u001b[0m\u001b[0m\n\u001b[1;32m    106\u001b[0m         \u001b[0mself\u001b[0m\u001b[0;34m.\u001b[0m\u001b[0mdbpath\u001b[0m \u001b[0;34m=\u001b[0m \u001b[0mdbpath\u001b[0m\u001b[0;34m\u001b[0m\u001b[0m\n\u001b[0;32m--> 107\u001b[0;31m         \u001b[0mself\u001b[0m\u001b[0;34m.\u001b[0m\u001b[0mopen\u001b[0m\u001b[0;34m(\u001b[0m\u001b[0mname\u001b[0m\u001b[0;34m,\u001b[0m \u001b[0mmode\u001b[0m\u001b[0;34m)\u001b[0m\u001b[0;34m\u001b[0m\u001b[0m\n\u001b[0m\u001b[1;32m    108\u001b[0m         \u001b[0;32mpass\u001b[0m\u001b[0;34m\u001b[0m\u001b[0m\n\u001b[1;32m    109\u001b[0m \u001b[0;34m\u001b[0m\u001b[0m\n",
      "\u001b[0;32m/home/amigos/.pyenv/versions/anaconda3-4.4.0/lib/python3.6/site-packages/necstdb/necstdb.py\u001b[0m in \u001b[0;36mopen\u001b[0;34m(self, table, mode)\u001b[0m\n\u001b[1;32m    113\u001b[0m \u001b[0;34m\u001b[0m\u001b[0m\n\u001b[1;32m    114\u001b[0m         \u001b[0;32mif\u001b[0m \u001b[0;32mnot\u001b[0m\u001b[0;34m(\u001b[0m\u001b[0mpdata\u001b[0m\u001b[0;34m.\u001b[0m\u001b[0mexists\u001b[0m\u001b[0;34m(\u001b[0m\u001b[0;34m)\u001b[0m \u001b[0;32mand\u001b[0m \u001b[0mpheader\u001b[0m\u001b[0;34m.\u001b[0m\u001b[0mexists\u001b[0m\u001b[0;34m(\u001b[0m\u001b[0;34m)\u001b[0m\u001b[0;34m)\u001b[0m\u001b[0;34m:\u001b[0m\u001b[0;34m\u001b[0m\u001b[0m\n\u001b[0;32m--> 115\u001b[0;31m             \u001b[0;32mraise\u001b[0m\u001b[0;34m(\u001b[0m\u001b[0mException\u001b[0m\u001b[0;34m(\u001b[0m\u001b[0;34m\"table '{name}' does not exist\"\u001b[0m\u001b[0;34m.\u001b[0m\u001b[0mformat\u001b[0m\u001b[0;34m(\u001b[0m\u001b[0;34m**\u001b[0m\u001b[0mlocals\u001b[0m\u001b[0;34m(\u001b[0m\u001b[0;34m)\u001b[0m\u001b[0;34m)\u001b[0m\u001b[0;34m)\u001b[0m\u001b[0;34m)\u001b[0m\u001b[0;34m\u001b[0m\u001b[0m\n\u001b[0m\u001b[1;32m    116\u001b[0m \u001b[0;34m\u001b[0m\u001b[0m\n\u001b[1;32m    117\u001b[0m         \u001b[0mself\u001b[0m\u001b[0;34m.\u001b[0m\u001b[0mfdata\u001b[0m \u001b[0;34m=\u001b[0m \u001b[0mpdata\u001b[0m\u001b[0;34m.\u001b[0m\u001b[0mopen\u001b[0m\u001b[0;34m(\u001b[0m\u001b[0mmode\u001b[0m\u001b[0;34m)\u001b[0m\u001b[0;34m\u001b[0m\u001b[0m\n",
      "\u001b[0;31mKeyError\u001b[0m: 'name'"
     ]
    }
   ],
   "source": [
    "iflist = [\"01\",\"02\",\"03\",\"04\",\"05\",\"06\",\"07\",\"08\",\"09\",\"10\",\"11\",\"12\",\"13\",\"14\",\"15\",\"16\"]\n",
    "import make_dset\n",
    "#dlist = []\n",
    "#\"04\"は4IF目のこと。11IF目なら\"11\"\n",
    "#for i in iflist:\n",
    "d, data = make_dset.get_data(path, IF)\n",
    "d = numpy.array(d)\n",
    "data = numpy.array(data)\n",
    "xffts_data = data.T[2:].T\n",
    "# dlist.append(xffts_data)"
   ]
  },
  {
   "cell_type": "code",
   "execution_count": 14,
   "metadata": {},
   "outputs": [
    {
     "ename": "NameError",
     "evalue": "name 'd' is not defined",
     "output_type": "error",
     "traceback": [
      "\u001b[0;31m---------------------------------------------------------------------------\u001b[0m",
      "\u001b[0;31mNameError\u001b[0m                                 Traceback (most recent call last)",
      "\u001b[0;32m<ipython-input-14-c94b040a806e>\u001b[0m in \u001b[0;36m<module>\u001b[0;34m()\u001b[0m\n\u001b[0;32m----> 1\u001b[0;31m \u001b[0mplt\u001b[0m\u001b[0;34m.\u001b[0m\u001b[0mplot\u001b[0m\u001b[0;34m(\u001b[0m\u001b[0md\u001b[0m\u001b[0;34m.\u001b[0m\u001b[0mT\u001b[0m\u001b[0;34m[\u001b[0m\u001b[0;36m0\u001b[0m\u001b[0;34m]\u001b[0m\u001b[0;34m)\u001b[0m\u001b[0;34m\u001b[0m\u001b[0m\n\u001b[0m\u001b[1;32m      2\u001b[0m \u001b[0mplt\u001b[0m\u001b[0;34m.\u001b[0m\u001b[0mshow\u001b[0m\u001b[0;34m(\u001b[0m\u001b[0;34m)\u001b[0m\u001b[0;34m\u001b[0m\u001b[0m\n\u001b[1;32m      3\u001b[0m \u001b[0monmask\u001b[0m \u001b[0;34m=\u001b[0m \u001b[0md\u001b[0m\u001b[0;34m.\u001b[0m\u001b[0mT\u001b[0m\u001b[0;34m[\u001b[0m\u001b[0;36m0\u001b[0m\u001b[0;34m]\u001b[0m \u001b[0;34m==\u001b[0m \u001b[0;34m\"ON\"\u001b[0m\u001b[0;34m\u001b[0m\u001b[0m\n",
      "\u001b[0;31mNameError\u001b[0m: name 'd' is not defined"
     ]
    }
   ],
   "source": [
    "plt.plot(d.T[0])\n",
    "plt.show()\n",
    "onmask = d.T[0] == \"ON\""
   ]
  },
  {
   "cell_type": "code",
   "execution_count": 15,
   "metadata": {
    "collapsed": true
   },
   "outputs": [],
   "source": [
    "n = necstdb.opendb(path)\n",
    "n2 = necstdb.opendb(path2)"
   ]
  },
  {
   "cell_type": "code",
   "execution_count": 16,
   "metadata": {},
   "outputs": [],
   "source": [
    "nn = n.open_table(\"status_encoder\")\n",
    "nn2 = n2.open_table(\"status_encoder\")"
   ]
  },
  {
   "cell_type": "code",
   "execution_count": 17,
   "metadata": {
    "collapsed": true
   },
   "outputs": [],
   "source": [
    "enc = nn.read()\n",
    "enc = numpy.array(enc)\n",
    "enc2 = nn2.read()\n",
    "enc2 = numpy.array(enc2)"
   ]
  },
  {
   "cell_type": "code",
   "execution_count": 18,
   "metadata": {
    "collapsed": true
   },
   "outputs": [],
   "source": [
    "enc_az = enc.T[1].astype(numpy.float64)\n",
    "enc_el = enc.T[2].astype(numpy.float64)\n",
    "enc_time = enc.T[4].astype(numpy.float64)\n",
    "\n",
    "enc_az2 = enc2.T[1].astype(numpy.float64)\n",
    "enc_el2 = enc2.T[2].astype(numpy.float64)\n",
    "enc_time2 = enc2.T[4].astype(numpy.float64)"
   ]
  },
  {
   "cell_type": "code",
   "execution_count": 19,
   "metadata": {
    "collapsed": true
   },
   "outputs": [],
   "source": [
    "dtime_list = [dt.utcfromtimestamp(i) for i in enc_time]\n",
    "dtime_list2 = [dt.utcfromtimestamp(i) for i in enc_time2]"
   ]
  },
  {
   "cell_type": "code",
   "execution_count": null,
   "metadata": {
    "collapsed": true
   },
   "outputs": [],
   "source": [
    "from astropy.coordinates import get_body, AltAz, EarthLocation, SkyCoord\n",
    "import astropy.units as u\n",
    "from datetime import datetime as dt\n",
    "from astropy.time import Time\n",
    "nanten2 = EarthLocation(lat = -22.96995611*u.deg, lon = -67.70308139*u.deg, height = 4863.85*u.m)\n",
    "import kisa_rev\n",
    "import calc_coord\n",
    "from numpy import deg2rad"
   ]
  },
  {
   "cell_type": "code",
   "execution_count": null,
   "metadata": {
    "collapsed": true
   },
   "outputs": [],
   "source": [
    "target_list = get_body(\"jupiter\", Time(dtime_list))\n",
    "target_list2 = get_body(\"jupiter\", Time(dtime_list2))"
   ]
  },
  {
   "cell_type": "code",
   "execution_count": null,
   "metadata": {
    "collapsed": true
   },
   "outputs": [],
   "source": [
    "target_list.location = nanten2\n",
    "target_list2.location = nanten2"
   ]
  },
  {
   "cell_type": "code",
   "execution_count": null,
   "metadata": {
    "collapsed": true
   },
   "outputs": [],
   "source": [
    "planet_az = target_list.altaz.az.deg\n",
    "planet_el = target_list.altaz.alt.deg\n",
    "\n",
    "planet_az2 = target_list2.altaz.az.deg\n",
    "planet_el2 = target_list2.altaz.alt.deg"
   ]
  },
  {
   "cell_type": "code",
   "execution_count": null,
   "metadata": {
    "collapsed": true
   },
   "outputs": [],
   "source": [
    "dd2 = [kisa_rev.apply_kisa_test(deg2rad(planet_az[i]), deg2rad(planet_el[i]), \"/home/amigos/ros/src/necst/lib/hosei_230.txt\") for i in range(len(planet_az))]"
   ]
  },
  {
   "cell_type": "code",
   "execution_count": null,
   "metadata": {
    "collapsed": true
   },
   "outputs": [],
   "source": [
    "dd2_2 = [kisa_rev.apply_kisa_test(deg2rad(planet_az2[i]), deg2rad(planet_el2[i]), \"/home/amigos/ros/src/necst/lib/hosei_230.txt\") for i in range(len(planet_az2))]"
   ]
  },
  {
   "cell_type": "code",
   "execution_count": null,
   "metadata": {
    "collapsed": true
   },
   "outputs": [],
   "source": [
    "dd2 = numpy.array(dd2)\n",
    "dd2_2 = numpy.array(dd2_2)"
   ]
  },
  {
   "cell_type": "code",
   "execution_count": null,
   "metadata": {},
   "outputs": [],
   "source": [
    "# hosei_enc_az = enc_az/3600 + dd2.T[0]/3600\n",
    "# hosei_enc_el = enc_el/3600 + dd2.T[1]/3600\n",
    "\n",
    "# hosei_enc_az2 = enc_az2/3600 + dd2_2.T[0]/3600\n",
    "# hosei_enc_el2 = enc_el2/3600 + dd2_2.T[1]/3600\n",
    "len(planet_az)\n",
    "len(dd2)"
   ]
  },
  {
   "cell_type": "code",
   "execution_count": null,
   "metadata": {
    "collapsed": true
   },
   "outputs": [],
   "source": [
    "hosei_planet_az = planet_az - dd2.T[0]/3600\n",
    "hosei_planet_el = planet_el - dd2.T[1]/3600\n",
    "hosei_planet_az2 = planet_az2 - dd2_2.T[0]/3600\n",
    "hosei_planet_el2 = planet_el2 - dd2_2.T[1]/3600"
   ]
  },
  {
   "cell_type": "code",
   "execution_count": null,
   "metadata": {
    "collapsed": true
   },
   "outputs": [],
   "source": [
    "# len(hosei_enc_az)\n",
    "# dd2.T[1]/3600\n"
   ]
  },
  {
   "cell_type": "code",
   "execution_count": null,
   "metadata": {
    "scrolled": false
   },
   "outputs": [],
   "source": [
    "%matplotlib notebook\n",
    "#plt.plot(hosei_enc_az, hosei_enc_el, \".\")\n",
    "# plt.plot(hosei_planet_az - enc_az/3600, hosei_planet_el - enc_el/3600, \".\")\n",
    "# plt.plot(hosei_planet_az - enc_az/3600, hosei_planet_el - enc_el/3600)\n",
    "plt.plot(hosei_planet_az2 - enc_az2/3600, hosei_planet_el2 - enc_el2/3600, \".\", alpha=0.01)\n",
    "plt.plot(hosei_planet_az2- enc_az2/3600, hosei_planet_el2 - enc_el2/3600)\n",
    "#plt.plot(enc_az/3600, enc_el/3600, \".\")\n",
    "# plt.plot(hosei_enc_az - planet_az, hosei_enc_el- planet_el, \".\")\n",
    "# plt.plot(hosei_enc_az - planet_az , hosei_enc_el - planet_el)\n",
    "# plt.plot(hosei_enc_az2 - planet_az2, hosei_enc_el2- planet_el2, \".\")_\n",
    "# plt.plot(hosei_enc_az2 - planet_az2, hosei_enc_el2 - planet_el2)\n",
    "#plt.plot(enc_az - planet_az , enc_el - planet_el, \".\")\n",
    "#plt.plot(hosei_enc_az  , hosei_enc_el,  \".\")\n",
    "#plt.plot(planet_az, planet_el, \".\")\n",
    "plt.grid()\n",
    "plt.xlabel(\"Az (deg)\")\n",
    "plt.ylabel(\"El (deg)\")\n",
    "# plt.xlim(-1,1)\n",
    "# plt.ylim(-1,1)\n",
    "plt.show()"
   ]
  },
  {
   "cell_type": "code",
   "execution_count": 116,
   "metadata": {
    "collapsed": true
   },
   "outputs": [],
   "source": [
    "obs_mode = d.T[0]"
   ]
  },
  {
   "cell_type": "code",
   "execution_count": 117,
   "metadata": {
    "collapsed": true
   },
   "outputs": [],
   "source": [
    "hotmask = obs_mode == \"HOT\"\n",
    "offmask = obs_mode == \"OFF\"\n",
    "onmask = obs_mode == \"ON\""
   ]
  },
  {
   "cell_type": "code",
   "execution_count": 118,
   "metadata": {},
   "outputs": [
    {
     "name": "stderr",
     "output_type": "stream",
     "text": [
      "/home/amigos/.pyenv/versions/anaconda3-4.4.0/lib/python3.6/site-packages/numpy/core/fromnumeric.py:3257: RuntimeWarning: Mean of empty slice.\n",
      "  out=out, **kwargs)\n",
      "/home/amigos/.pyenv/versions/anaconda3-4.4.0/lib/python3.6/site-packages/numpy/core/_methods.py:154: RuntimeWarning: invalid value encountered in true_divide\n",
      "  ret, rcount, out=ret, casting='unsafe', subok=False)\n"
     ]
    }
   ],
   "source": [
    "hot = numpy.mean(xffts_data[hotmask], axis=0)\n",
    "off = numpy.mean(xffts_data[offmask], axis=0)\n",
    "on = numpy.mean(xffts_data[onmask], axis=0)"
   ]
  },
  {
   "cell_type": "code",
   "execution_count": 119,
   "metadata": {
    "collapsed": true
   },
   "outputs": [],
   "source": [
    "def chopper_wheel(on, off, hot, temprature = 300):\n",
    "    Tastar = temprature * (on - off)/(hot - off)\n",
    "    return Tastar"
   ]
  },
  {
   "cell_type": "code",
   "execution_count": 120,
   "metadata": {},
   "outputs": [
    {
     "ename": "NameError",
     "evalue": "name 'dlist' is not defined",
     "output_type": "error",
     "traceback": [
      "\u001b[0;31m----------------------------------------------------------\u001b[0m",
      "\u001b[0;31mNameError\u001b[0m                Traceback (most recent call last)",
      "\u001b[0;32m<ipython-input-120-84a31e25c867>\u001b[0m in \u001b[0;36m<module>\u001b[0;34m()\u001b[0m\n\u001b[1;32m      1\u001b[0m \u001b[0mTlist\u001b[0m \u001b[0;34m=\u001b[0m \u001b[0;34m[\u001b[0m\u001b[0;34m]\u001b[0m\u001b[0;34m\u001b[0m\u001b[0m\n\u001b[0;32m----> 2\u001b[0;31m \u001b[0;32mfor\u001b[0m \u001b[0mi\u001b[0m  \u001b[0;32min\u001b[0m \u001b[0mdlist\u001b[0m\u001b[0;34m:\u001b[0m\u001b[0;34m\u001b[0m\u001b[0m\n\u001b[0m\u001b[1;32m      3\u001b[0m     \u001b[0mhot\u001b[0m \u001b[0;34m=\u001b[0m \u001b[0mnumpy\u001b[0m\u001b[0;34m.\u001b[0m\u001b[0mmean\u001b[0m\u001b[0;34m(\u001b[0m\u001b[0mi\u001b[0m\u001b[0;34m[\u001b[0m\u001b[0mhotmask\u001b[0m\u001b[0;34m]\u001b[0m\u001b[0;34m,\u001b[0m \u001b[0maxis\u001b[0m\u001b[0;34m=\u001b[0m\u001b[0;36m0\u001b[0m\u001b[0;34m)\u001b[0m\u001b[0;34m\u001b[0m\u001b[0m\n\u001b[1;32m      4\u001b[0m     \u001b[0moff\u001b[0m \u001b[0;34m=\u001b[0m \u001b[0mnumpy\u001b[0m\u001b[0;34m.\u001b[0m\u001b[0mmean\u001b[0m\u001b[0;34m(\u001b[0m\u001b[0mi\u001b[0m\u001b[0;34m[\u001b[0m\u001b[0moffmask\u001b[0m\u001b[0;34m]\u001b[0m\u001b[0;34m,\u001b[0m \u001b[0maxis\u001b[0m\u001b[0;34m=\u001b[0m\u001b[0;36m0\u001b[0m\u001b[0;34m)\u001b[0m\u001b[0;34m\u001b[0m\u001b[0m\n\u001b[1;32m      5\u001b[0m     \u001b[0mon\u001b[0m \u001b[0;34m=\u001b[0m \u001b[0mnumpy\u001b[0m\u001b[0;34m.\u001b[0m\u001b[0mmean\u001b[0m\u001b[0;34m(\u001b[0m\u001b[0mi\u001b[0m\u001b[0;34m[\u001b[0m\u001b[0monmask\u001b[0m\u001b[0;34m]\u001b[0m\u001b[0;34m,\u001b[0m \u001b[0maxis\u001b[0m\u001b[0;34m=\u001b[0m\u001b[0;36m0\u001b[0m\u001b[0;34m)\u001b[0m\u001b[0;34m\u001b[0m\u001b[0m\n",
      "\u001b[0;31mNameError\u001b[0m: name 'dlist' is not defined"
     ]
    }
   ],
   "source": [
    "Tlist = []\n",
    "for i  in dlist:\n",
    "    hot = numpy.mean(i[hotmask], axis=0)\n",
    "    off = numpy.mean(i[offmask], axis=0)\n",
    "    on = numpy.mean(i[onmask], axis=0)\n",
    "    T = chopper_wheel(on, off, hot)\n",
    "    Tlist.append(T)"
   ]
  },
  {
   "cell_type": "code",
   "execution_count": null,
   "metadata": {
    "collapsed": true
   },
   "outputs": [],
   "source": [
    "numpy.shape(Tlist)"
   ]
  },
  {
   "cell_type": "code",
   "execution_count": null,
   "metadata": {
    "collapsed": true
   },
   "outputs": [],
   "source": [
    "# x = numpy.linspace(0, 2000, 32768)#XFFTS bw = 0-2000MHz\n",
    "# fig, ax = plt.subplots(1, 2, figsize=(14, 4))\n",
    "# ax[0].plot(x, T)\n",
    "# #ax[0].set_xlim(xmin, xmax)\n",
    "# #ax[0].set_ylim(ymin, ymax)\n",
    "# ax[0].grid(True)\n",
    "# ax[0].set_xlabel(\"MHz\")\n",
    "# ax[0].set_ylabel(\"T [K]\")\n",
    "# ax[0].set_title(\"Spectra Plot\")\n",
    "\n",
    "# ax[1].plot(x, on, label=\"ON\")\n",
    "# ax[1].plot(x, off, label=\"OFF\")\n",
    "# ax[1].plot(x, hot, label=\"HOT\")\n",
    "# # ax[1].set_xlim(-1500, -1200)\n",
    "# # ax[1].set_ylim(3000,10000)\n",
    "# ax[1].set_xlabel(\"MHz\")\n",
    "# ax[1].set_ylabel(\"Count\")\n",
    "# ax[1].grid(True)\n",
    "# ax[1].legend()\n",
    "# #ax[1].set_yscale(\"log\")\n",
    "# ax[1].set_title(\"band chracter plot\")\n",
    "\n",
    "# result_path = path.replace(\"data\", \"analysis\")\n",
    "# if not os.path.exists(result_path):\n",
    "#     os.makedirs(result_path, exist_ok=True)\n",
    "# plt.savefig(os.path.join(result_path, \"result_IF{}.png\".format(IF)))\n",
    "# if mode == \"notebook\":\n",
    "#     plt.show()"
   ]
  },
  {
   "cell_type": "code",
   "execution_count": null,
   "metadata": {
    "collapsed": true
   },
   "outputs": [],
   "source": [
    "fig = plt.figure(figsize=(16,16))\n",
    "ax = [fig.add_subplot(4, 4, i+1) for i in range(16)]\n",
    "x = numpy.linspace(0, 2000, 32768)#XFFTS bw = 0-2000MHz\n",
    "    \n",
    "# plot hot\n",
    "for i, (_ax, _tsys) in enumerate(zip(ax, Tlist)):\n",
    "    _ax.plot(x, Tlist[i], \"b-\", label=\"hot\")\n",
    "    #_ax0 = _ax.twinx()\n",
    "    #_ax0.plot(x, tsys_list[i], \"g.\", label=\"Tsys\", alpha=0.1)\n",
    "    _ax.set_xlabel('frequency [MHz]')\n",
    "    _ax.set_ylabel(\"T*\")\n",
    "    #_ax.set_yscale(\"log\")\n",
    "    #_ax0.set_ylabel('Tsys [K]')\n",
    "    _ax.set_title('IF : {}'.format(i+1))\n",
    "    #tsys_av = numpy.mean(_tsys)\n",
    "    #_ax.text(0.05, 0.05, 'Tsys = %.2f'%(tsys_av), transform=_ax0.transAxes)\n",
    "    #_ax0.set_ylim(0, 600)\n",
    "    #_ax.legend()\n",
    "    _ax.grid()"
   ]
  },
  {
   "cell_type": "code",
   "execution_count": null,
   "metadata": {
    "collapsed": true
   },
   "outputs": [],
   "source": [
    "plt.show()"
   ]
  },
  {
   "cell_type": "code",
   "execution_count": null,
   "metadata": {
    "collapsed": true
   },
   "outputs": [],
   "source": []
  },
  {
   "cell_type": "code",
   "execution_count": null,
   "metadata": {
    "collapsed": true
   },
   "outputs": [],
   "source": []
  }
 ],
 "metadata": {
  "kernelspec": {
   "display_name": "Python 3",
   "language": "python",
   "name": "python3"
  },
  "language_info": {
   "codemirror_mode": {
    "name": "ipython",
    "version": 3
   },
   "file_extension": ".py",
   "mimetype": "text/x-python",
   "name": "python",
   "nbconvert_exporter": "python",
   "pygments_lexer": "ipython3",
   "version": "3.6.1"
  }
 },
 "nbformat": 4,
 "nbformat_minor": 2
}
