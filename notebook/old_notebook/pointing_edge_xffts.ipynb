{
 "cells": [
  {
   "cell_type": "code",
   "execution_count": 1,
   "metadata": {
    "collapsed": true
   },
   "outputs": [],
   "source": [
    "import time\n",
    "st = time.time()\n",
    "import sys\n",
    "sys.path.append('/home/amigos/ros/src/necst/lib')\n",
    "if not sys.argv[1] == \"-f\":\n",
    "    path = sys.argv[1]\n",
    "    array_num = \"05\" #sys.argv[2]\n",
    "    mode = \"commandline\"\n",
    "else:\n",
    "    # 手動で解析する場合はデータのあるpathを指定してください\n",
    "    path = \"/home/amigos/hdd/data/ps_edge_pointing/n20190917054633_12CO_2-1_crossedge_moon_pointing/\"\n",
    "    mode = \"notebook\""
   ]
  },
  {
   "cell_type": "code",
   "execution_count": 2,
   "metadata": {
    "collapsed": true
   },
   "outputs": [],
   "source": [
    "import necstdb\n",
    "import numpy\n",
    "import matplotlib.pyplot as plt\n",
    "import pickle\n",
    "import os\n",
    "from scipy.optimize import curve_fit\n",
    "import sys\n",
    "\n",
    "para_init1 = numpy.array([75, -1000, 0.0001])###\n",
    "para_init2 = numpy.array([-75, 1000, 0.0001])###"
   ]
  },
  {
   "cell_type": "code",
   "execution_count": 3,
   "metadata": {
    "collapsed": true
   },
   "outputs": [],
   "source": [
    "sys.path.append(\"/home/amigos/git/analy_n2data3/script\")"
   ]
  },
  {
   "cell_type": "code",
   "execution_count": 4,
   "metadata": {},
   "outputs": [
    {
     "name": "stdout",
     "output_type": "stream",
     "text": [
      "['01', '02', '03', '04', '05', '06', '07', '08', '09', '10', '11', '12', '13', '14', '15', '16']\n"
     ]
    }
   ],
   "source": [
    "import make_dset\n",
    "if not os.path.exists(os.path.join(path, \"obsmode.npy\")):\n",
    "    _d, data = make_dset.get_data(path, \"05\")\n",
    "    numpy.save(os.path.join(path, \"obsmode.npy\"), d)\n",
    "else:\n",
    "    _d = numpy.load(os.path.join(path, \"obsmode.npy\"))\n",
    "    data = make_dset.get_data2(path, \"05\")"
   ]
  },
  {
   "cell_type": "code",
   "execution_count": 5,
   "metadata": {
    "collapsed": true
   },
   "outputs": [],
   "source": [
    "_d = numpy.array(_d)\n",
    "#time = data.T[1].tolist()\n",
    "mode = _d.T[0].tolist()\n",
    "subscan = _d.T[1].tolist()\n",
    "_lam = _d.T[2].tolist()\n",
    "_bet = _d.T[3].tolist()"
   ]
  },
  {
   "cell_type": "code",
   "execution_count": 6,
   "metadata": {
    "collapsed": true
   },
   "outputs": [],
   "source": [
    "ori_d = []\n",
    "ori_d = data.T[2:].T"
   ]
  },
  {
   "cell_type": "code",
   "execution_count": 7,
   "metadata": {
    "collapsed": true
   },
   "outputs": [],
   "source": [
    "def gaussian(x, a, mu, gamma):\n",
    "    return a * numpy.exp(- gamma * (x - mu) **2) "
   ]
  },
  {
   "cell_type": "code",
   "execution_count": 8,
   "metadata": {
    "collapsed": true
   },
   "outputs": [],
   "source": [
    "def calc_integdata(IF, data_list, mode_list, lam, bet, scan_list, integ_mi, integ_ma):\n",
    "\n",
    "#     data_list = data_list[IF-1]\n",
    "#     mode_list = mode_list[IF-1]\n",
    "#     lam = lam[IF-1]\n",
    "#     bet = bet[IF-1]\n",
    "#     scan_list = scan_list[IF-1]\n",
    "    \n",
    "    data_list = data_list[0]\n",
    "    mode_list = mode_list[0]\n",
    "    lam = lam[0]\n",
    "    bet = bet[0]\n",
    "    scan_list = scan_list[0]\n",
    "    print(scan_list)\n",
    "    xmask = []\n",
    "    ymask = []\n",
    "    hotmask = []\n",
    "    offmask = []\n",
    "    print(mode_list)\n",
    "    print(scan_list)\n",
    "    for i in range(len(mode_list)):  \n",
    "        if mode_list[i] == 'HOT':\n",
    "            xmask.append(0)\n",
    "            ymask.append(0)\n",
    "            hotmask.append(1)\n",
    "            offmask.append(0)\n",
    "        elif mode_list[i] == 'OFF':\n",
    "            xmask.append(0)\n",
    "            ymask.append(0)\n",
    "            hotmask.append(0)\n",
    "            offmask.append(1)\n",
    "        elif scan_list[i] == 1 and mode_list[i] == 'ON':\n",
    "            xmask.append(1)\n",
    "            ymask.append(0)\n",
    "            hotmask.append(0)\n",
    "            offmask.append(0)\n",
    "        elif scan_list[i] == 2 and mode_list[i] == 'ON':\n",
    "            xmask.append(0)\n",
    "            ymask.append(1)\n",
    "            hotmask.append(0)\n",
    "            offmask.append(0)\n",
    "    \n",
    "# calc Ta*\n",
    "    integlist = []\n",
    "    for i in range(len(data_list)):\n",
    "        l = data_list[i]\n",
    "        integlist.append(numpy.sum(l[int(integ_mi):int(integ_ma)]))\n",
    "\n",
    "    tmp = []\n",
    "    HOT = []\n",
    "    print(hotmask)\n",
    "    for i in range(len(hotmask)):\n",
    "        if hotmask[i] == 1:\n",
    "            HOT.append(integlist[i])\n",
    "        else:\n",
    "            pass\n",
    "    for i in range(numpy.sum(hotmask) -1):\n",
    "        t = []\n",
    "        for j in range(int(len(hotmask)/4)):\n",
    "            t.append(HOT[i])\n",
    "        tmp.extend(t)\n",
    "    tmp.append(HOT[numpy.sum(hotmask) -1])\n",
    "    HOTlist = numpy.array(tmp)\n",
    "    \n",
    "    tmp = []\n",
    "    OFF = []\n",
    "    for i in range(len(offmask)):\n",
    "        if offmask[i] == 1:\n",
    "            OFF.append(integlist[i])\n",
    "        else:\n",
    "            pass\n",
    "    for i in range(numpy.sum(offmask)):\n",
    "        t = []\n",
    "        for j in range(int(len(offmask)/4)):\n",
    "            t.append(OFF[i])\n",
    "        tmp.extend(t)\n",
    "    tmp.append(OFF[numpy.sum(offmask) -1])\n",
    "    OFFlist = numpy.array(tmp)\n",
    "    \n",
    "    ONlist = numpy.array(integlist)\n",
    "    \n",
    "    print(len(ONlist))\n",
    "    print(len(OFFlist))\n",
    "    print(len(HOTlist))\n",
    "    Taslist = (ONlist - OFFlist)/(HOTlist - OFFlist) * 300\n",
    "    \n",
    "    \n",
    "# create data for plot\n",
    "    xscan_Ta = []\n",
    "    xscan_x = []\n",
    "    xscan_y = []\n",
    "    \n",
    "    yscan_Ta = []\n",
    "    yscan_x = []\n",
    "    yscan_y = []\n",
    "\n",
    "    for i in range(len(xmask)):\n",
    "        if xmask[i] == 1:\n",
    "            xscan_Ta.append(Taslist[i])\n",
    "            xscan_x.append(lam[i])\n",
    "            xscan_y.append(bet[i])\n",
    "        else:\n",
    "            pass\n",
    "\n",
    "    for i in range(len(ymask)):\n",
    "        if ymask[i] == 1:\n",
    "            yscan_Ta.append(Taslist[i])\n",
    "            yscan_x.append(lam[i])\n",
    "            yscan_y.append(bet[i])\n",
    "        else:\n",
    "            pass\n",
    "\n",
    "    xscan_x = list(map(float, xscan_x))\n",
    "    xscan_y = list(map(float, xscan_y))\n",
    "    yscan_x = list(map(float, yscan_x))\n",
    "    yscan_y = list(map(float, yscan_y))\n",
    "    return xscan_Ta, xscan_x, xscan_y, yscan_Ta, yscan_x, yscan_y"
   ]
  },
  {
   "cell_type": "code",
   "execution_count": 9,
   "metadata": {
    "collapsed": true
   },
   "outputs": [],
   "source": [
    "# n = n2df.Read(os.path.join(path, \"edge.ndf\"))    \n",
    "# _n = n.read_all()\n",
    "# d = []\n",
    "# for i in range(25):\n",
    "#     _d = []\n",
    "#     for j in range(len(_n)):\n",
    "#         _d.append(_n[j][i])\n",
    "#     d.append(_d)"
   ]
  },
  {
   "cell_type": "code",
   "execution_count": 10,
   "metadata": {
    "collapsed": true
   },
   "outputs": [],
   "source": [
    "# time = d[0]\n",
    "# mode = d[21]\n",
    "# mode = list(map(lambda x:x.decode() ,mode))\n",
    "# subscan = d[22]\n",
    "# _lam = d[23]\n",
    "# _bet = d[24]"
   ]
  },
  {
   "cell_type": "code",
   "execution_count": 11,
   "metadata": {
    "collapsed": true
   },
   "outputs": [],
   "source": [
    "data_list = []\n",
    "mode_list = []\n",
    "scan_list = []\n",
    "lam = []\n",
    "bet = []"
   ]
  },
  {
   "cell_type": "code",
   "execution_count": 12,
   "metadata": {},
   "outputs": [
    {
     "name": "stdout",
     "output_type": "stream",
     "text": [
      "5415\n"
     ]
    }
   ],
   "source": [
    "for h in range(1):#20\n",
    "    d_ = ori_d\n",
    "    #d_ = d[h]# [h+1]\n",
    "    d_list = []\n",
    "    m_list = []\n",
    "    s_list = []\n",
    "    la_list = []\n",
    "    be_list = []\n",
    "    tmp = numpy.zeros(32768)\n",
    "    print(len(d_))\n",
    "    for i in range(len(d_)):\n",
    "        #print(subscan[i], mode[i])\n",
    "        #print(type(subscan[i]), type(mode[i]))\n",
    "        if subscan[i] == \"1.0\" and mode[i] == 'ON':\n",
    "            #tmp += pickle.loads(d_[i])\n",
    "            tmp += d_[i]\n",
    "            if subscan[i+1] != subscan[i] or i == len(d_)-1 or _lam[i+1] != _lam[i]:\n",
    "                d_list.append(tmp)\n",
    "                m_list.append('ON')\n",
    "                la_list.append(_lam[i])\n",
    "                be_list.append(_bet[i])\n",
    "                s_list.append(1)\n",
    "                tmp = numpy.zeros(32768)\n",
    "            else:\n",
    "                pass\n",
    "        elif subscan[i] == \"2.0\" and mode[i] == 'ON':\n",
    "            #tmp += pickle.loads(d_[i])\n",
    "            tmp += d_[i]\n",
    "            if subscan[i+1] != subscan[i] or i == len(d_)-1 or _lam[i+1] != _lam[i]:\n",
    "                d_list.append(tmp)\n",
    "                m_list.append('ON')\n",
    "                la_list.append(_lam[i])\n",
    "                be_list.append(_bet[i])\n",
    "                s_list.append(1)\n",
    "                tmp = numpy.zeros(32768)\n",
    "            else:\n",
    "                pass\n",
    "        elif subscan[i] == \"3.0\" and mode[i] == 'ON':\n",
    "            #tmp += pickle.loads(d_[i])\n",
    "            tmp += d_[i]\n",
    "            if subscan[i+1] != subscan[i] or i == len(d_)-1 or _bet[i+1] != _bet[i]:\n",
    "                d_list.append(tmp)\n",
    "                m_list.append('ON')\n",
    "                la_list.append(_lam[i])\n",
    "                be_list.append(_bet[i])\n",
    "                s_list.append(2)\n",
    "                tmp = numpy.zeros(32768)\n",
    "            else:\n",
    "                pass\n",
    "        elif subscan[i] == \"4.0\" and mode[i] == 'ON':\n",
    "            #tmp += pickle.loads(d_[i])\n",
    "            tmp += d_[i]\n",
    "            if subscan[i+1] != subscan[i] or i == len(d_)-1 or _bet[i+1] != _bet[i]:\n",
    "                d_list.append(tmp)\n",
    "                m_list.append('ON')\n",
    "                la_list.append(_lam[i])\n",
    "                be_list.append(_bet[i])\n",
    "                s_list.append(2)\n",
    "                tmp = numpy.zeros(32768)\n",
    "            else:\n",
    "                pass\n",
    "        elif mode[i] == 'OFF':\n",
    "            #tmp += pickle.loads(d_[i])\n",
    "            tmp += d_[i]\n",
    "            if i == len(d_)-1:\n",
    "                d_list.append(tmp)\n",
    "                m_list.append('OFF')\n",
    "                la_list.append(0)\n",
    "                be_list.append(0)\n",
    "                if subscan[i] == \"1.0\" or \"2.0\":\n",
    "                    s_list.append(1)\n",
    "                else:\n",
    "                    s_list.append(2)\n",
    "                tmp = numpy.zeros(32768)\n",
    "            else: \n",
    "                if mode[i+1] != 'OFF':\n",
    "                    d_list.append(tmp)\n",
    "                    m_list.append('OFF')\n",
    "                    la_list.append(0)\n",
    "                    be_list.append(0)\n",
    "                    if subscan[i] == '1.0' or '2.0':\n",
    "                        s_list.append(1)\n",
    "                    else:\n",
    "                        s_list.append(2)\n",
    "                    tmp = numpy.zeros(32768)\n",
    "                else:\n",
    "                    pass\n",
    "        elif mode[i] == 'HOT':\n",
    "            #tmp += pickle.loads(d_[i])\n",
    "            tmp += d_[i]\n",
    "            if i == len(d_)-1:\n",
    "                d_list.append(tmp)\n",
    "                m_list.append('HOT')\n",
    "                la_list.append(0)\n",
    "                be_list.append(0)\n",
    "                if subscan[i] == \"1.0\" or \"2.0\":\n",
    "                    s_list.append(1)\n",
    "                else:\n",
    "                    s_list.append(2)\n",
    "                tmp = numpy.zeros(32768)\n",
    "            else:\n",
    "                if mode[i+1] != 'HOT':\n",
    "                    d_list.append(tmp)\n",
    "                    m_list.append('HOT')\n",
    "                    la_list.append(0)\n",
    "                    be_list.append(0)\n",
    "                    if subscan[i] == \"1.0\" or \"2.0\":\n",
    "                        s_list.append(1)\n",
    "                    else:\n",
    "                        s_list.append(2)\n",
    "                    tmp = numpy.zeros(32768)\n",
    "                else:\n",
    "                    pass\n",
    "                    \n",
    "    data_list.append(d_list)\n",
    "    mode_list.append(m_list)\n",
    "    lam.append(la_list)\n",
    "    bet.append(be_list)\n",
    "    scan_list.append(s_list)"
   ]
  },
  {
   "cell_type": "code",
   "execution_count": 13,
   "metadata": {
    "collapsed": true
   },
   "outputs": [],
   "source": [
    "integ_mi = 5000\n",
    "integ_ma = 10000"
   ]
  },
  {
   "cell_type": "code",
   "execution_count": 14,
   "metadata": {},
   "outputs": [
    {
     "data": {
      "text/plain": [
       "93"
      ]
     },
     "execution_count": 14,
     "metadata": {},
     "output_type": "execute_result"
    }
   ],
   "source": [
    "len(mode_list[0])"
   ]
  },
  {
   "cell_type": "code",
   "execution_count": 15,
   "metadata": {},
   "outputs": [
    {
     "name": "stdout",
     "output_type": "stream",
     "text": [
      "[1, 1, 1, 1, 1, 1, 1, 1, 1, 1, 1, 1, 1, 1, 1, 1, 1, 1, 1, 1, 1, 1, 1, 1, 1, 1, 1, 1, 1, 1, 1, 1, 1, 1, 1, 1, 1, 1, 1, 1, 1, 1, 1, 1, 1, 1, 1, 1, 2, 2, 2, 2, 2, 2, 2, 2, 2, 2, 2, 2, 2, 2, 2, 2, 2, 2, 2, 2, 2, 1, 1, 2, 2, 2, 2, 2, 2, 2, 2, 2, 2, 2, 2, 2, 2, 2, 2, 2, 2, 2, 2, 2, 1]\n",
      "['HOT', 'OFF', 'ON', 'ON', 'ON', 'ON', 'ON', 'ON', 'ON', 'ON', 'ON', 'ON', 'ON', 'ON', 'ON', 'ON', 'ON', 'ON', 'ON', 'ON', 'ON', 'ON', 'ON', 'HOT', 'OFF', 'ON', 'ON', 'ON', 'ON', 'ON', 'ON', 'ON', 'ON', 'ON', 'ON', 'ON', 'ON', 'ON', 'ON', 'ON', 'ON', 'ON', 'ON', 'ON', 'ON', 'ON', 'HOT', 'OFF', 'ON', 'ON', 'ON', 'ON', 'ON', 'ON', 'ON', 'ON', 'ON', 'ON', 'ON', 'ON', 'ON', 'ON', 'ON', 'ON', 'ON', 'ON', 'ON', 'ON', 'ON', 'HOT', 'OFF', 'ON', 'ON', 'ON', 'ON', 'ON', 'ON', 'ON', 'ON', 'ON', 'ON', 'ON', 'ON', 'ON', 'ON', 'ON', 'ON', 'ON', 'ON', 'ON', 'ON', 'ON', 'HOT']\n",
      "[1, 1, 1, 1, 1, 1, 1, 1, 1, 1, 1, 1, 1, 1, 1, 1, 1, 1, 1, 1, 1, 1, 1, 1, 1, 1, 1, 1, 1, 1, 1, 1, 1, 1, 1, 1, 1, 1, 1, 1, 1, 1, 1, 1, 1, 1, 1, 1, 2, 2, 2, 2, 2, 2, 2, 2, 2, 2, 2, 2, 2, 2, 2, 2, 2, 2, 2, 2, 2, 1, 1, 2, 2, 2, 2, 2, 2, 2, 2, 2, 2, 2, 2, 2, 2, 2, 2, 2, 2, 2, 2, 2, 1]\n",
      "[1, 0, 0, 0, 0, 0, 0, 0, 0, 0, 0, 0, 0, 0, 0, 0, 0, 0, 0, 0, 0, 0, 0, 1, 0, 0, 0, 0, 0, 0, 0, 0, 0, 0, 0, 0, 0, 0, 0, 0, 0, 0, 0, 0, 0, 0, 1, 0, 0, 0, 0, 0, 0, 0, 0, 0, 0, 0, 0, 0, 0, 0, 0, 0, 0, 0, 0, 0, 0, 1, 0, 0, 0, 0, 0, 0, 0, 0, 0, 0, 0, 0, 0, 0, 0, 0, 0, 0, 0, 0, 0, 0, 1]\n",
      "93\n",
      "93\n",
      "93\n"
     ]
    }
   ],
   "source": [
    "ret1 = calc_integdata(1, data_list, mode_list, lam, bet, scan_list, integ_mi, integ_ma)"
   ]
  },
  {
   "cell_type": "code",
   "execution_count": 16,
   "metadata": {
    "collapsed": true
   },
   "outputs": [],
   "source": [
    "xscan_Ta = ret1[0]\n",
    "xscan_x = ret1[1]\n",
    "xscan_y = ret1[2]\n",
    "yscan_Ta = ret1[3]\n",
    "yscan_x = ret1[4]\n",
    "yscan_y = ret1[5]"
   ]
  },
  {
   "cell_type": "code",
   "execution_count": 17,
   "metadata": {},
   "outputs": [
    {
     "data": {
      "text/plain": [
       "<matplotlib.colorbar.Colorbar at 0x7ff8e4703390>"
      ]
     },
     "execution_count": 17,
     "metadata": {},
     "output_type": "execute_result"
    }
   ],
   "source": [
    "fig = plt.figure()\n",
    "    \n",
    "ax = fig.add_subplot(1,1,1, aspect = 1)\n",
    "    \n",
    "im = ax.scatter(xscan_x, xscan_y, c = xscan_Ta, vmin = 0, vmax = 280, cmap=\"plasma\")\n",
    "ax.scatter(yscan_x, yscan_y, c = yscan_Ta, vmin = 0, vmax = 280)\n",
    "    \n",
    "fig.colorbar(im)"
   ]
  },
  {
   "cell_type": "code",
   "execution_count": 18,
   "metadata": {
    "collapsed": true
   },
   "outputs": [],
   "source": [
    "xscan_tmp = numpy.roll(xscan_Ta,1)\n",
    "xscan_tmp[0] = 0\n",
    "yscan_tmp = numpy.roll(yscan_Ta, 1)\n",
    "yscan_tmp[0] = 0\n",
    "    \n",
    "xscan_dif = xscan_Ta - xscan_tmp\n",
    "yscan_dif = yscan_Ta - yscan_tmp"
   ]
  },
  {
   "cell_type": "code",
   "execution_count": 19,
   "metadata": {
    "scrolled": false
   },
   "outputs": [
    {
     "name": "stdout",
     "output_type": "stream",
     "text": [
      "\u001b[31m[ERROR OCCURRED]\u001b[0m\n",
      " Optimal parameters not found: Number of calls to function has reached maxfev = 800.\n"
     ]
    },
    {
     "data": {
      "image/png": "[encoded data removed]",
      "text/plain": [
       "<Figure size 432x288 with 2 Axes>"
      ]
     },
     "metadata": {},
     "output_type": "display_data"
    },
    {
     "data": {
      "image/png": "[encoded data removed]",
      "text/plain": [
       "<Figure size 1296x576 with 7 Axes>"
      ]
     },
     "metadata": {},
     "output_type": "display_data"
    }
   ],
   "source": [
    "# Gaussian Fitting function add errorbar\n",
    "try:\n",
    "    x_az = numpy.linspace(xscan_x[0], xscan_x[-1], 2000)\n",
    "    \n",
    "# dAz fitting\n",
    "    popt_az1, pcov_az1 = curve_fit(gaussian, xscan_x[:21], xscan_dif[:21], p0 = para_init1)\n",
    "    error_az1 = numpy.sqrt(numpy.diag(pcov_az1))\n",
    "#print(\"error\",error_az1)\n",
    "    popt_az2, pcov_az2 = curve_fit(gaussian, xscan_x[21:], xscan_dif[21:], p0 = para_init2)\n",
    "    error_az2 = numpy.sqrt(numpy.diag(pcov_az2))\n",
    "#print(\"error\",error_az2)\n",
    "\n",
    "    gaus_az1 = gaussian(x_az[:1000], popt_az1[0], popt_az1[1], popt_az1[2])\n",
    "    gaus_az2 = gaussian(x_az[1000:], popt_az2[0], popt_az2[1], popt_az2[2])\n",
    "\n",
    "    x_el = numpy.linspace(yscan_y[0], yscan_y[-1], 2000)\n",
    "# El fitting\n",
    "    popt_el1, pcov_el1 = curve_fit(gaussian, yscan_y[:21], yscan_dif[:21], p0 = para_init1)\n",
    "    error_el1 = numpy.sqrt(numpy.diag(pcov_el1))\n",
    "    popt_el2, pcov_el2 = curve_fit(gaussian, yscan_y[21:], yscan_dif[21:], p0 = para_init2)\n",
    "    error_el2 = numpy.sqrt(numpy.diag(pcov_el2))\n",
    "\n",
    "    gaus_el1 = gaussian(x_el[:1000], popt_el1[0], popt_el1[1], popt_el1[2])\n",
    "    gaus_el2 = gaussian(x_el[1000:], popt_el2[0], popt_el2[1], popt_el2[2])\n",
    "\n",
    "\n",
    "# dAz dEl\n",
    "    dAz_mi = popt_az1[1]\n",
    "    dAz_pu = popt_az2[1]\n",
    "    dEl_mi = popt_el1[1]\n",
    "    dEl_pu = popt_el2[1]\n",
    "    dAz = (dAz_mi + dAz_pu)/2\n",
    "    dEl = (dEl_mi + dEl_pu)/2\n",
    "\n",
    "\n",
    "# Dif plot\n",
    "    fig2 = plt.figure(figsize = (18, 8))\n",
    "\n",
    "    axlist = [fig2.add_subplot(3,2,i+1) for i in range(6)]\n",
    "\n",
    "    axlist[0].plot(xscan_x, xscan_Ta, \"o\")\n",
    "    axlist[0].vlines(dAz_mi, 0, 300, linestyle = \"dashed\")\n",
    "    axlist[0].vlines(dAz_pu, 0, 300, linestyle = \"dashed\")\n",
    "    axlist[0].vlines(dAz, 0, 300)\n",
    "    axlist[0].set_ylabel(\"Ta* [K]\")\n",
    "\n",
    "    axlist[1].plot(yscan_y, yscan_Ta, \"o\")\n",
    "    axlist[1].vlines(dEl_mi, 0, 300, linestyle = \"dashed\")\n",
    "    axlist[1].vlines(dEl_pu, 0, 300, linestyle = \"dashed\")\n",
    "    axlist[1].vlines(dEl, 0, 300)\n",
    "    axlist[1].set_ylabel(\"Ta* [K]\")\n",
    "\n",
    "    axlist[2].plot(xscan_x, xscan_dif, \"o\")\n",
    "    axlist[2].plot(x_az[:1000], gaus_az1, color=\"k\")\n",
    "    axlist[2].plot(x_az[1000:], gaus_az2, color=\"k\")\n",
    "    axlist[2].set_xlabel(\"dAz [arcsec]\")\n",
    "    axlist[2].set_ylabel(\"differential [K]\")\n",
    "\n",
    "    axlist[3].plot(yscan_y, yscan_dif, \"o\")\n",
    "    axlist[3].plot(x_el[:1000], gaus_el1, color=\"k\")\n",
    "    axlist[3].plot(x_el[1000:], gaus_el2, color=\"k\")\n",
    "    axlist[3].set_xlabel(\"dEl [arcsec]\")\n",
    "    axlist[3].set_ylabel(\"differential [K]\")\n",
    "\n",
    "    axlist[4].set_visible(False)\n",
    "    axlist[5].set_visible(False)\n",
    "\n",
    "    plt.axes([0.45,0.28, 0.25, 0.2])\n",
    "    plt.axis(\"off\")\n",
    "    plt.text(0,0,\"dAz = {}\".format(round(dAz, 2)) + \"              dEl = {}\".format(round(dEl, 2)) + \"   (arcsec)\", fontsize = 16)\n",
    "    plt.text(0, -0.3, \"DATA PATH :   {}\".format(path), fontsize=10)\n",
    "\n",
    "    [a.grid() for a in axlist]\n",
    "\n",
    "except Exception as e:\n",
    "    print(\"\\033[31m[ERROR OCCURRED]\\033[0m\\n\", e)\n",
    "    fig2 = plt.figure(figsize = (18, 8))\n",
    "\n",
    "    axlist = [fig2.add_subplot(3,2,i+1) for i in range(6)]\n",
    "\n",
    "    axlist[0].plot(xscan_x, xscan_Ta, \"o\")\n",
    "    axlist[0].set_ylabel(\"Ta* [K]\")\n",
    "\n",
    "    axlist[1].plot(yscan_y, yscan_Ta, \"o\")\n",
    "    axlist[1].set_ylabel(\"Ta* [K]\")\n",
    "\n",
    "    axlist[2].plot(xscan_x, xscan_dif, \"o\")\n",
    "    axlist[2].set_xlabel(\"dAz [arcsec]\")\n",
    "    axlist[2].set_ylabel(\"differential [K]\")\n",
    "\n",
    "    axlist[3].plot(yscan_y, yscan_dif, \"o\")\n",
    "    axlist[3].set_xlabel(\"dEl [arcsec]\")\n",
    "    axlist[3].set_ylabel(\"differential [K]\")\n",
    "\n",
    "    axlist[4].set_visible(False)\n",
    "    axlist[5].set_visible(False)\n",
    "\n",
    "    plt.axes([0.45,0.28, 0.25, 0.2])\n",
    "    plt.axis(\"off\")\n",
    "    plt.text(0,0, \"ERROR OCCURRED\", fontsize = 16)\n",
    "    plt.text(0, -0.3, \"DATA PATH :   {}\".format(path), fontsize=10)\n",
    "\n",
    "            \n",
    "    [a.grid() for a in axlist]\n",
    "    \n",
    "finally:\n",
    "    plt.show()\n"
   ]
  },
  {
   "cell_type": "code",
   "execution_count": 20,
   "metadata": {},
   "outputs": [
    {
     "name": "stdout",
     "output_type": "stream",
     "text": [
      "elasped time 20.534 [s]\n"
     ]
    }
   ],
   "source": [
    "print(\"elasped time {:.3f} [s]\".format(time.time()-st))"
   ]
  },
  {
   "cell_type": "code",
   "execution_count": null,
   "metadata": {
    "collapsed": true
   },
   "outputs": [],
   "source": []
  },
  {
   "cell_type": "code",
   "execution_count": null,
   "metadata": {
    "collapsed": true
   },
   "outputs": [],
   "source": []
  },
  {
   "cell_type": "code",
   "execution_count": null,
   "metadata": {
    "collapsed": true
   },
   "outputs": [],
   "source": []
  },
  {
   "cell_type": "code",
   "execution_count": null,
   "metadata": {
    "collapsed": true
   },
   "outputs": [],
   "source": []
  },
  {
   "cell_type": "code",
   "execution_count": null,
   "metadata": {
    "collapsed": true
   },
   "outputs": [],
   "source": []
  }
 ],
 "metadata": {
  "kernelspec": {
   "display_name": "Python 3",
   "language": "python",
   "name": "python3"
  },
  "language_info": {
   "codemirror_mode": {
    "name": "ipython",
    "version": 3
   },
   "file_extension": ".py",
   "mimetype": "text/x-python",
   "name": "python",
   "nbconvert_exporter": "python",
   "pygments_lexer": "ipython3",
   "version": "3.6.3"
  }
 },
 "nbformat": 4,
 "nbformat_minor": 2
}
