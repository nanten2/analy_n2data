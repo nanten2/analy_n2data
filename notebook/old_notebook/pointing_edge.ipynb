{
 "cells": [
  {
   "cell_type": "code",
   "execution_count": 3,
   "metadata": {
    "collapsed": true
   },
   "outputs": [],
   "source": [
    "from astropy.io import fits\n",
    "import matplotlib.pyplot as plt\n",
    "import numpy\n",
    "from scipy.optimize import curve_fit"
   ]
  },
  {
   "cell_type": "code",
   "execution_count": 8,
   "metadata": {
    "collapsed": true
   },
   "outputs": [
    {
     "data": {
      "text/plain": [
       "XTENSION= 'BINTABLE'           / binary table extension                         \n",
       "BITPIX  =                    8 / array data type                                \n",
       "NAXIS   =                    2 / number of array dimensions                     \n",
       "NAXIS1  =                66125 / length of dimension 1                          \n",
       "NAXIS2  =                   93 / length of dimension 2                          \n",
       "PCOUNT  =                    0 / number of group parameters                     \n",
       "GCOUNT  =                    1 / number of groups                               \n",
       "TFIELDS =                   72 / number of table fields                         \n",
       "TTYPE1  = 'OBJECT  '                                                            \n",
       "TFORM1  = '16A     '                                                            \n",
       "TTYPE2  = 'BANDWID '                                                            \n",
       "TFORM2  = '1D      '                                                            \n",
       "TUNIT2  = 'Hz      '                                                            \n",
       "TTYPE3  = 'DATE-OBS'                                                            \n",
       "TFORM3  = '22A     '                                                            \n",
       "TTYPE4  = 'EXPOSURE'                                                            \n",
       "TFORM4  = '1D      '                                                            \n",
       "TUNIT4  = 's       '                                                            \n",
       "TTYPE5  = 'TSYS    '                                                            \n",
       "TFORM5  = '1D      '                                                            \n",
       "TUNIT5  = 'K       '                                                            \n",
       "TTYPE6  = 'DATA    '                                                            \n",
       "TFORM6  = '16384E  '                                                            \n",
       "TUNIT6  = 'K       '                                                            \n",
       "TTYPE7  = 'TDIM6   '                                                            \n",
       "TFORM7  = '3E      '                                                            \n",
       "TTYPE8  = 'TUNIT6  '                                                            \n",
       "TFORM8  = '16A     '                                                            \n",
       "TTYPE9  = 'CTYPE1  '                                                            \n",
       "TFORM9  = '8A      '                                                            \n",
       "TTYPE10 = 'CRVAL1  '                                                            \n",
       "TFORM10 = '1D      '                                                            \n",
       "TTYPE11 = 'CRPIX1  '                                                            \n",
       "TFORM11 = '1D      '                                                            \n",
       "TTYPE12 = 'CDELT1  '                                                            \n",
       "TFORM12 = '1D      '                                                            \n",
       "TTYPE13 = 'CTYPE2  '                                                            \n",
       "TFORM13 = '8A      '                                                            \n",
       "TTYPE14 = 'CRVAL2  '                                                            \n",
       "TFORM14 = '1D      '                                                            \n",
       "TTYPE15 = 'CTYPE3  '                                                            \n",
       "TFORM15 = '8A      '                                                            \n",
       "TTYPE16 = 'CRVAL3  '                                                            \n",
       "TFORM16 = '1D      '                                                            \n",
       "TTYPE17 = 'T_VLSR  '                                                            \n",
       "TFORM17 = '1D      '                                                            \n",
       "TTYPE18 = 'OBSERVER'                                                            \n",
       "TFORM18 = '16A     '                                                            \n",
       "TTYPE19 = 'SCAN    '                                                            \n",
       "TFORM19 = '1J      '                                                            \n",
       "TTYPE20 = 'OBSMODE '                                                            \n",
       "TFORM20 = '8A      '                                                            \n",
       "TTYPE21 = 'MOLECULE'                                                            \n",
       "TFORM21 = '16A     '                                                            \n",
       "TTYPE22 = 'TRANSITI'                                                            \n",
       "TFORM22 = '16A     '                                                            \n",
       "TTYPE23 = 'TEMPSCAL'                                                            \n",
       "TFORM23 = '16A     '                                                            \n",
       "TTYPE24 = 'FRONTEND'                                                            \n",
       "TFORM24 = '16A     '                                                            \n",
       "TTYPE25 = 'BACKEND '                                                            \n",
       "TFORM25 = '16A     '                                                            \n",
       "TTYPE26 = 'THOT    '                                                            \n",
       "TFORM26 = '1D      '                                                            \n",
       "TUNIT26 = 'K       '                                                            \n",
       "TTYPE27 = 'TCOLD   '                                                            \n",
       "TFORM27 = '1D      '                                                            \n",
       "TUNIT27 = 'K       '                                                            \n",
       "TTYPE28 = 'FREQRES '                                                            \n",
       "TFORM28 = '1D      '                                                            \n",
       "TUNIT28 = 'MHz     '                                                            \n",
       "TTYPE29 = 'TIMESYS '                                                            \n",
       "TFORM29 = '16A     '                                                            \n",
       "TTYPE30 = 'VELDEF  '                                                            \n",
       "TFORM30 = '8A      '                                                            \n",
       "TTYPE31 = 'VFRAME  '                                                            \n",
       "TFORM31 = '1D      '                                                            \n",
       "TUNIT31 = 'km/s    '                                                            \n",
       "TTYPE32 = 'VFRAME2 '                                                            \n",
       "TFORM32 = '1D      '                                                            \n",
       "TUNIT32 = 'km/s    '                                                            \n",
       "TTYPE33 = 'OBSFREQ '                                                            \n",
       "TFORM33 = '1D      '                                                            \n",
       "TUNIT33 = 'MHz     '                                                            \n",
       "TTYPE34 = 'IMAGFREQ'                                                            \n",
       "TFORM34 = '1D      '                                                            \n",
       "TUNIT34 = 'MHz     '                                                            \n",
       "TTYPE35 = 'LST     '                                                            \n",
       "TFORM35 = '1J      '                                                            \n",
       "TUNIT35 = 'sec     '                                                            \n",
       "TTYPE36 = 'AZIMUTH '                                                            \n",
       "TFORM36 = '1D      '                                                            \n",
       "TUNIT36 = 'deg     '                                                            \n",
       "TTYPE37 = 'ELEVATIO'                                                            \n",
       "TFORM37 = '1D      '                                                            \n",
       "TUNIT37 = 'deg     '                                                            \n",
       "TTYPE38 = 'TAU     '                                                            \n",
       "TFORM38 = '1D      '                                                            \n",
       "TTYPE39 = 'HUMIDITY'                                                            \n",
       "TFORM39 = '1D      '                                                            \n",
       "TUNIT39 = '%       '                                                            \n",
       "TTYPE40 = 'TAMBIENT'                                                            \n",
       "TFORM40 = '1D      '                                                            \n",
       "TUNIT40 = 'K       '                                                            \n",
       "TTYPE41 = 'PRESSURE'                                                            \n",
       "TFORM41 = '1D      '                                                            \n",
       "TUNIT41 = 'mm Hg   '                                                            \n",
       "TTYPE42 = 'WINDSPEE'                                                            \n",
       "TFORM42 = '1D      '                                                            \n",
       "TUNIT42 = 'm/s     '                                                            \n",
       "TTYPE43 = 'WINDDIRE'                                                            \n",
       "TFORM43 = '1D      '                                                            \n",
       "TUNIT43 = 'deg     '                                                            \n",
       "TTYPE44 = 'BEAMEFF '                                                            \n",
       "TFORM44 = '1D      '                                                            \n",
       "TTYPE45 = 'RESTFREQ'                                                            \n",
       "TFORM45 = '1D      '                                                            \n",
       "TUNIT45 = 'MHz     '                                                            \n",
       "TTYPE46 = 'SIG     '                                                            \n",
       "TFORM46 = '1A      '                                                            \n",
       "TTYPE47 = 'CAL     '                                                            \n",
       "TFORM47 = '1A      '                                                            \n",
       "TTYPE48 = 'SOBSMODE'                                                            \n",
       "TFORM48 = '8A      '                                                            \n",
       "TTYPE49 = 'QUALITY '                                                            \n",
       "TFORM49 = '1J      '                                                            \n",
       "TTYPE50 = 'AOSLEN  '                                                            \n",
       "TFORM50 = '1D      '                                                            \n",
       "TUNIT50 = 's       '                                                            \n",
       "TTYPE51 = 'LOFREQ  '                                                            \n",
       "TFORM51 = '1D      '                                                            \n",
       "TUNIT51 = 'MHz     '                                                            \n",
       "TTYPE52 = 'SYNTH   '                                                            \n",
       "TFORM52 = '1D      '                                                            \n",
       "TUNIT52 = 'MHz     '                                                            \n",
       "TTYPE53 = 'FREQSWAM'                                                            \n",
       "TFORM53 = '1D      '                                                            \n",
       "TUNIT53 = 'Hz      '                                                            \n",
       "TTYPE54 = 'COORDSYS'                                                            \n",
       "TFORM54 = '8A      '                                                            \n",
       "TTYPE55 = 'COSYDEL '                                                            \n",
       "TFORM55 = '8A      '                                                            \n",
       "TTYPE56 = 'LAMDEL  '                                                            \n",
       "TFORM56 = '1D      '                                                            \n",
       "TUNIT56 = 'arcsec  '                                                            \n",
       "TTYPE57 = 'BETDEL  '                                                            \n",
       "TFORM57 = '1D      '                                                            \n",
       "TUNIT57 = 'arcsec  '                                                            \n",
       "TTYPE58 = 'OTADEL  '                                                            \n",
       "TFORM58 = '1A      '                                                            \n",
       "TTYPE59 = 'OTFVLAM '                                                            \n",
       "TFORM59 = '1D      '                                                            \n",
       "TUNIT59 = 'arcsec/s'                                                            \n",
       "TTYPE60 = 'OTFVBET '                                                            \n",
       "TFORM60 = '1D      '                                                            \n",
       "TUNIT60 = 'arcsec/s'                                                            \n",
       "TTYPE61 = 'OTFSCANN'                                                            \n",
       "TFORM61 = '1D      '                                                            \n",
       "TTYPE62 = 'OTFLEN  '                                                            \n",
       "TFORM62 = '1D      '                                                            \n",
       "TUNIT62 = 's       '                                                            \n",
       "TTYPE63 = 'SUBSCAN '                                                            \n",
       "TFORM63 = '1J      '                                                            \n",
       "TTYPE64 = 'MJD     '                                                            \n",
       "TFORM64 = '1J      '                                                            \n",
       "TUNIT64 = 'day     '                                                            \n",
       "TTYPE65 = 'SECOFDAY'                                                            \n",
       "TFORM65 = '1D      '                                                            \n",
       "TUNIT65 = 's       '                                                            \n",
       "TTYPE66 = 'SIDEBAND'                                                            \n",
       "TFORM66 = '1A      '                                                            \n",
       "TTYPE67 = '_2NDSB  '                                                            \n",
       "TFORM67 = '1A      '                                                            \n",
       "TTYPE68 = '_3RDSB  '                                                            \n",
       "TFORM68 = '1A      '                                                            \n",
       "TTYPE69 = '_2NDLO  '                                                            \n",
       "TFORM69 = '1D      '                                                            \n",
       "TUNIT69 = 'MHz     '                                                            \n",
       "TTYPE70 = '_3RDLO  '                                                            \n",
       "TFORM70 = '1D      '                                                            \n",
       "TUNIT70 = 'MHz     '                                                            \n",
       "TTYPE71 = 'SUBREF  '                                                            \n",
       "TFORM71 = '1D      '                                                            \n",
       "TTYPE72 = 'LOCKSTAT'                                                            \n",
       "TFORM72 = '1A      '                                                            "
      ]
     },
     "execution_count": 8,
     "metadata": {},
     "output_type": "execute_result"
    }
   ],
   "source": [
    "# check header\n",
    "hdu[1].header"
   ]
  },
  {
   "cell_type": "code",
   "execution_count": 4,
   "metadata": {
    "collapsed": true
   },
   "outputs": [],
   "source": [
    "# open file\n",
    "hdu = fits.open(\"/mnt/castor/home1/amigos/kohno/NANTEN2/std_ps/moon_data/n20180927084536_12CO_2-1_crossedge_moon_pointing.fits\")"
   ]
  },
  {
   "cell_type": "code",
   "execution_count": 5,
   "metadata": {
    "scrolled": true
   },
   "outputs": [
    {
     "name": "stdout",
     "output_type": "stream",
     "text": [
      "['HOT' 'OFF' 'ON' 'ON' 'ON' 'ON' 'ON' 'ON' 'ON' 'ON' 'ON' 'ON' 'ON' 'ON'\n",
      " 'ON' 'ON' 'ON' 'ON' 'ON' 'ON' 'ON' 'ON' 'ON' 'HOT' 'OFF' 'ON' 'ON' 'ON'\n",
      " 'ON' 'ON' 'ON' 'ON' 'ON' 'ON' 'ON' 'ON' 'ON' 'ON' 'ON' 'ON' 'ON' 'ON'\n",
      " 'ON' 'ON' 'ON' 'ON' 'HOT' 'OFF' 'ON' 'ON' 'ON' 'ON' 'ON' 'ON' 'ON' 'ON'\n",
      " 'ON' 'ON' 'ON' 'ON' 'ON' 'ON' 'ON' 'ON' 'ON' 'ON' 'ON' 'ON' 'ON' 'HOT'\n",
      " 'OFF' 'ON' 'ON' 'ON' 'ON' 'ON' 'ON' 'ON' 'ON' 'ON' 'ON' 'ON' 'ON' 'ON'\n",
      " 'ON' 'ON' 'ON' 'ON' 'ON' 'ON' 'ON' 'ON' 'HOT']\n"
     ]
    }
   ],
   "source": [
    "# check SOBSMODE\n",
    "mode = hdu[1].data[\"SOBSMODE\"]\n",
    "print(mode)"
   ]
  },
  {
   "cell_type": "code",
   "execution_count": 6,
   "metadata": {},
   "outputs": [
    {
     "data": {
      "text/plain": [
       "array([1, 1, 1, 1, 1, 1, 1, 1, 1, 1, 1, 1, 1, 1, 1, 1, 1, 1, 1, 1, 1, 1,\n",
       "       1, 1, 1, 1, 1, 1, 1, 1, 1, 1, 1, 1, 1, 1, 1, 1, 1, 1, 1, 1, 1, 1,\n",
       "       1, 1, 2, 2, 2, 2, 2, 2, 2, 2, 2, 2, 2, 2, 2, 2, 2, 2, 2, 2, 2, 2,\n",
       "       2, 2, 2, 2, 2, 2, 2, 2, 2, 2, 2, 2, 2, 2, 2, 2, 2, 2, 2, 2, 2, 2,\n",
       "       2, 2, 2, 2, 2], dtype=int32)"
      ]
     },
     "execution_count": 6,
     "metadata": {},
     "output_type": "execute_result"
    }
   ],
   "source": [
    "# define axis / mask\n",
    "lam = hdu[1].data[\"LAMDEL\"]\n",
    "bet = hdu[1].data[\"BETDEL\"]\n",
    "subscan = hdu[1].data[\"SUBSCAN\"]\n",
    "\n",
    "onmask = mode == \"ON\"\n",
    "hotmask = mode == \"HOT\"\n",
    "offmask = mode == \"OFF\"\n",
    "xmask = (subscan == 1) & onmask\n",
    "ymask = (subscan == 2) & onmask\n",
    "subscan"
   ]
  },
  {
   "cell_type": "code",
   "execution_count": 7,
   "metadata": {
    "collapsed": true
   },
   "outputs": [],
   "source": [
    "# calc Ta*\n",
    "integlist = numpy.sum(hdu[1].data[\"DATA\"][:, 3000:15000], axis = 1) ### range\n",
    "\n",
    "tmp = []\n",
    "HOT = integlist[hotmask]\n",
    "for i in range(numpy.sum(hotmask) -1):\n",
    "    tmp.extend([HOT[i] for j in range(int(len(hotmask)/4))])\n",
    "tmp.append(HOT[numpy.sum(hotmask) -1])\n",
    "HOTlist = numpy.array(tmp)\n",
    "\n",
    "tmp = []\n",
    "OFF = integlist[offmask]\n",
    "for i in range(numpy.sum(offmask)):\n",
    "    tmp.extend([OFF[i] for j in range(int(len(offmask)/4))])\n",
    "tmp.append(OFF[numpy.sum(offmask) -1])\n",
    "OFFlist = numpy.array(tmp)   \n",
    "\n",
    "ONlist = integlist\n",
    "        \n",
    "\n",
    "Taslist = (ONlist - OFFlist)/(HOTlist - OFFlist) * 300"
   ]
  },
  {
   "cell_type": "code",
   "execution_count": 8,
   "metadata": {
    "collapsed": true
   },
   "outputs": [],
   "source": [
    "# create data for plot\n",
    "xscan_Ta = Taslist[xmask]\n",
    "xscan_x= lam[xmask]\n",
    "xscan_y= bet[xmask]\n",
    "\n",
    "yscan_Ta = Taslist[ymask]\n",
    "yscan_x= lam[ymask]\n",
    "yscan_y= bet[ymask]"
   ]
  },
  {
   "cell_type": "code",
   "execution_count": 9,
   "metadata": {
    "collapsed": true
   },
   "outputs": [],
   "source": [
    "# Differential function\n",
    "\n",
    "xscan_tmp = numpy.roll(xscan_Ta,1)\n",
    "xscan_tmp[0] = 0\n",
    "yscan_tmp = numpy.roll(yscan_Ta, 1)\n",
    "yscan_tmp[0] = 0\n",
    "\n",
    "xscan_dif = xscan_Ta - xscan_tmp\n",
    "yscan_dif = yscan_Ta - yscan_tmp"
   ]
  },
  {
   "cell_type": "code",
   "execution_count": null,
   "metadata": {
    "collapsed": true,
    "scrolled": true
   },
   "outputs": [],
   "source": [
    "# Gaussian Fitting function add errorbar\n",
    "def gaussian(x, a, mu, gamma):\n",
    "    return a * numpy.exp(- gamma * (x - mu) **2) \n",
    "\n",
    "x_az = numpy.linspace(xscan_x[0], xscan_x[-1], 2000)\n",
    "para_init1 = numpy.array([75, -1000, 0.0001])###\n",
    "para_init2 = numpy.array([-75, 1000, 0.0001])###\n",
    "\n",
    "# dAz fitting\n",
    "popt_az1, pcov_az1 = curve_fit(gaussian, xscan_x[:21], xscan_dif[:21], p0 = para_init1)\n",
    "error_az1 = numpy.sqrt(numpy.diag(pcov_az1))\n",
    "#print(\"error\",error_az1)\n",
    "popt_az2, pcov_az2 = curve_fit(gaussian, xscan_x[21:], xscan_dif[21:], p0 = para_init2)\n",
    "error_az2 = numpy.sqrt(numpy.diag(pcov_az2))\n",
    "#print(\"error\",error_az2)\n",
    "\n",
    "\n",
    "gaus_az1 = gaussian(x_az[:1000], popt_az1[0], popt_az1[1], popt_az1[2])\n",
    "gaus_az2 = gaussian(x_az[1000:], popt_az2[0], popt_az2[1], popt_az2[2])\n",
    "\n",
    "x_el = numpy.linspace(yscan_y[0], yscan_y[-1], 2000)\n",
    "\n",
    "# El fitting\n",
    "popt_el1, pcov_el1 = curve_fit(gaussian, yscan_y[:21], yscan_dif[:21], p0 = para_init1)\n",
    "error_el1 = numpy.sqrt(numpy.diag(pcov_el1))\n",
    "#print(\"error\", error_el1)\n",
    "popt_el2, pcov_el2 = curve_fit(gaussian, yscan_y[21:], yscan_dif[21:], p0 = para_init2)\n",
    "error_el2 = numpy.sqrt(numpy.diag(pcov_el2))\n",
    "#print(\"error\", error_el2)\n",
    "\n",
    "gaus_el1 = gaussian(x_el[:1000], popt_el1[0], popt_el1[1], popt_el1[2])\n",
    "gaus_el2 = gaussian(x_el[1000:], popt_el2[0], popt_el2[1], popt_el2[2])"
   ]
  },
  {
   "cell_type": "code",
   "execution_count": 1,
   "metadata": {},
   "outputs": [
    {
     "ename": "NameError",
     "evalue": "name 'popt_az1' is not defined",
     "output_type": "error",
     "traceback": [
      "\u001b[0;31m---------------------------------------------------------------------------\u001b[0m",
      "\u001b[0;31mNameError\u001b[0m                                 Traceback (most recent call last)",
      "\u001b[0;32m<ipython-input-1-23fce51ba794>\u001b[0m in \u001b[0;36m<module>\u001b[0;34m\u001b[0m\n\u001b[0;32m----> 1\u001b[0;31m \u001b[0mdAz_mi\u001b[0m \u001b[0;34m=\u001b[0m \u001b[0mpopt_az1\u001b[0m\u001b[0;34m[\u001b[0m\u001b[0;36m1\u001b[0m\u001b[0;34m]\u001b[0m\u001b[0;34m\u001b[0m\u001b[0m\n\u001b[0m\u001b[1;32m      2\u001b[0m \u001b[0mdAz_pu\u001b[0m \u001b[0;34m=\u001b[0m \u001b[0mpopt_az2\u001b[0m\u001b[0;34m[\u001b[0m\u001b[0;36m1\u001b[0m\u001b[0;34m]\u001b[0m\u001b[0;34m\u001b[0m\u001b[0m\n\u001b[1;32m      3\u001b[0m \u001b[0mdEl_mi\u001b[0m \u001b[0;34m=\u001b[0m \u001b[0mpopt_el1\u001b[0m\u001b[0;34m[\u001b[0m\u001b[0;36m1\u001b[0m\u001b[0;34m]\u001b[0m\u001b[0;34m\u001b[0m\u001b[0m\n\u001b[1;32m      4\u001b[0m \u001b[0mdEl_pu\u001b[0m \u001b[0;34m=\u001b[0m \u001b[0mpopt_el2\u001b[0m\u001b[0;34m[\u001b[0m\u001b[0;36m1\u001b[0m\u001b[0;34m]\u001b[0m\u001b[0;34m\u001b[0m\u001b[0m\n\u001b[1;32m      5\u001b[0m \u001b[0;34m\u001b[0m\u001b[0m\n",
      "\u001b[0;31mNameError\u001b[0m: name 'popt_az1' is not defined"
     ]
    }
   ],
   "source": [
    "dAz_mi = popt_az1[1]\n",
    "dAz_pu = popt_az2[1]\n",
    "dEl_mi = popt_el1[1]\n",
    "dEl_pu = popt_el2[1]\n",
    "\n",
    "dAz = (dAz_mi + dAz_pu)/2\n",
    "dEl = (dEl_mi + dEl_pu)/2\n",
    "\n",
    "print(\"dAz_mi =\", dAz_mi, \"    dAz_pu =\", dAz_pu, \"    dAz =\", dAz, \"(arcsec)\")\n",
    "print(\"dEl_mi =\", dEl_mi, \"    dEl_pu =\", dEl_pu, \"    dEl =\", dEl, \"(arcsec)\")"
   ]
  },
  {
   "cell_type": "code",
   "execution_count": 977,
   "metadata": {
    "scrolled": false
   },
   "outputs": [
    {
     "data": {
      "image/png": "[encoded data removed]",
      "text/plain": [
       "<matplotlib.figure.Figure at 0x7fc22240ae48>"
      ]
     },
     "metadata": {},
     "output_type": "display_data"
    }
   ],
   "source": [
    "# Dif plot\n",
    "fig = plt.figure(figsize = (18, 8))\n",
    "\n",
    "axlist = [fig.add_subplot(3,2,i+1) for i in range(6)]\n",
    "\n",
    "axlist[0].plot(xscan_x, xscan_Ta, \"o\")\n",
    "axlist[0].vlines(dAz_mi, 0, 300, linestyle = \"dashed\")\n",
    "axlist[0].vlines(dAz_pu, 0, 300, linestyle = \"dashed\")\n",
    "axlist[0].vlines(dAz, 0, 300)\n",
    "axlist[0].set_ylabel(\"Ta* [K]\")\n",
    "\n",
    "axlist[1].plot(yscan_y, yscan_Ta, \"o\")\n",
    "axlist[1].vlines(dEl_mi, 0, 300, linestyle = \"dashed\")\n",
    "axlist[1].vlines(dEl_pu, 0, 300, linestyle = \"dashed\")\n",
    "axlist[1].vlines(dEl, 0, 300)\n",
    "axlist[1].set_ylabel(\"Ta* [K]\")\n",
    "\n",
    "axlist[2].plot(xscan_x, xscan_dif, \"o\")\n",
    "axlist[2].plot(x_az[:1000], gaus_az1, color=\"k\")\n",
    "axlist[2].plot(x_az[1000:], gaus_az2, color=\"k\")\n",
    "axlist[2].set_xlabel(\"dAz [arcsec]\")\n",
    "axlist[2].set_ylabel(\"differential [K]\")\n",
    "\n",
    "axlist[3].plot(yscan_y, yscan_dif, \"o\")\n",
    "axlist[3].plot(x_el[:1000], gaus_el1, color=\"k\")\n",
    "axlist[3].plot(x_el[1000:], gaus_el2, color=\"k\")\n",
    "axlist[3].set_xlabel(\"dEl [arcsec]\")\n",
    "axlist[3].set_ylabel(\"differential [K]\")\n",
    "\n",
    "axlist[4].set_visible(False)\n",
    "axlist[5].set_visible(False)\n",
    "\n",
    "plt.axes([0.57,0.28, 0.25, 0.2])\n",
    "plt.axis(\"off\")\n",
    "plt.text(0,0,\"dAz = {}\".format(round(dAz, 2)) + \"              dEl = {}\".format(round(dEl, 2)) + \"   (arcsec)\", fontsize = 18)\n",
    "\n",
    "    \n",
    "[a.grid() for a in axlist]\n",
    "plt.show()"
   ]
  },
  {
   "cell_type": "code",
   "execution_count": 978,
   "metadata": {},
   "outputs": [
    {
     "data": {
      "image/png": "[encoded data removed]",
      "text/plain": [
       "<matplotlib.figure.Figure at 0x7fc2226b1828>"
      ]
     },
     "metadata": {},
     "output_type": "display_data"
    }
   ],
   "source": [
    "fig = plt.figure()\n",
    "\n",
    "ax = fig.add_subplot(1,1,1, aspect = 1)\n",
    "\n",
    "im = ax.scatter(xscan_x, xscan_y, c = xscan_Ta, vmin = 0, vmax = 280)\n",
    "ax.scatter(yscan_x, yscan_y, c = yscan_Ta, vmin = 0, vmax = 280)\n",
    "\n",
    "fig.colorbar(im)\n",
    "\n",
    "plt.show()"
   ]
  },
  {
   "cell_type": "code",
   "execution_count": 1,
   "metadata": {},
   "outputs": [
    {
     "ename": "NameError",
     "evalue": "name 'plt' is not defined",
     "output_type": "error",
     "traceback": [
      "\u001b[0;31m---------------------------------------------------------------------------\u001b[0m",
      "\u001b[0;31mNameError\u001b[0m                                 Traceback (most recent call last)",
      "\u001b[0;32m<ipython-input-1-f1bf3c7fac7b>\u001b[0m in \u001b[0;36m<module>\u001b[0;34m\u001b[0m\n\u001b[0;32m----> 1\u001b[0;31m \u001b[0mfig\u001b[0m \u001b[0;34m=\u001b[0m \u001b[0mplt\u001b[0m\u001b[0;34m.\u001b[0m\u001b[0mfigure\u001b[0m\u001b[0;34m(\u001b[0m\u001b[0mfigsize\u001b[0m \u001b[0;34m=\u001b[0m \u001b[0;34m(\u001b[0m\u001b[0;36m18\u001b[0m\u001b[0;34m,\u001b[0m \u001b[0;36m8\u001b[0m\u001b[0;34m)\u001b[0m\u001b[0;34m)\u001b[0m\u001b[0;34m\u001b[0m\u001b[0m\n\u001b[0m\u001b[1;32m      2\u001b[0m \u001b[0;34m\u001b[0m\u001b[0m\n\u001b[1;32m      3\u001b[0m \u001b[0maxlist\u001b[0m \u001b[0;34m=\u001b[0m \u001b[0;34m[\u001b[0m\u001b[0mfig\u001b[0m\u001b[0;34m.\u001b[0m\u001b[0madd_subplot\u001b[0m\u001b[0;34m(\u001b[0m\u001b[0;36m3\u001b[0m\u001b[0;34m,\u001b[0m\u001b[0;36m2\u001b[0m\u001b[0;34m,\u001b[0m\u001b[0mi\u001b[0m\u001b[0;34m+\u001b[0m\u001b[0;36m1\u001b[0m\u001b[0;34m)\u001b[0m \u001b[0;32mfor\u001b[0m \u001b[0mi\u001b[0m \u001b[0;32min\u001b[0m \u001b[0mrange\u001b[0m\u001b[0;34m(\u001b[0m\u001b[0;36m6\u001b[0m\u001b[0;34m)\u001b[0m\u001b[0;34m]\u001b[0m\u001b[0;34m\u001b[0m\u001b[0m\n\u001b[1;32m      4\u001b[0m \u001b[0;34m\u001b[0m\u001b[0m\n\u001b[1;32m      5\u001b[0m \u001b[0maxlist\u001b[0m\u001b[0;34m[\u001b[0m\u001b[0;36m0\u001b[0m\u001b[0;34m]\u001b[0m\u001b[0;34m.\u001b[0m\u001b[0mplot\u001b[0m\u001b[0;34m(\u001b[0m\u001b[0mxscan_x\u001b[0m\u001b[0;34m,\u001b[0m \u001b[0mxscan_Ta\u001b[0m\u001b[0;34m,\u001b[0m \u001b[0;34m\"o\"\u001b[0m\u001b[0;34m)\u001b[0m\u001b[0;34m\u001b[0m\u001b[0m\n",
      "\u001b[0;31mNameError\u001b[0m: name 'plt' is not defined"
     ]
    }
   ],
   "source": [
    "fig = plt.figure(figsize = (18, 8))\n",
    "\n",
    "axlist = [fig.add_subplot(3,2,i+1) for i in range(6)]\n",
    "\n",
    "axlist[0].plot(xscan_x, xscan_Ta, \"o\")\n",
    "axlist[0].set_ylabel(\"Ta* [K]\")\n",
    "\n",
    "axlist[1].plot(yscan_y, yscan_Ta, \"o\")\n",
    "axlist[1].set_ylabel(\"Ta* [K]\")\n",
    "\n",
    "axlist[2].plot(xscan_x, xscan_dif, \"o\")\n",
    "axlist[2].set_xlabel(\"dAz [arcsec]\")\n",
    "axlist[2].set_ylabel(\"differential [K]\")\n",
    "\n",
    "axlist[3].plot(yscan_y, yscan_dif, \"o\")\n",
    "axlist[3].set_xlabel(\"dEl [arcsec]\")\n",
    "axlist[3].set_ylabel(\"differential [K]\")\n",
    "\n",
    "axlist[4].set_visible(False)\n",
    "axlist[5].set_visible(False)\n",
    "\n",
    "plt.axes([0.57,0.28, 0.25, 0.2])\n",
    "plt.axis(\"off\")\n",
    "\n",
    "    \n",
    "[a.grid() for a in axlist]\n",
    "plt.show()"
   ]
  },
  {
   "cell_type": "code",
   "execution_count": null,
   "metadata": {
    "collapsed": true
   },
   "outputs": [],
   "source": []
  },
  {
   "cell_type": "code",
   "execution_count": null,
   "metadata": {
    "collapsed": true
   },
   "outputs": [],
   "source": []
  }
 ],
 "metadata": {
  "kernelspec": {
   "display_name": "Python 3",
   "language": "python",
   "name": "python3"
  },
  "language_info": {
   "codemirror_mode": {
    "name": "ipython",
    "version": 3
   },
   "file_extension": ".py",
   "mimetype": "text/x-python",
   "name": "python",
   "nbconvert_exporter": "python",
   "pygments_lexer": "ipython3",
   "version": "3.6.1"
  }
 },
 "nbformat": 4,
 "nbformat_minor": 2
}
