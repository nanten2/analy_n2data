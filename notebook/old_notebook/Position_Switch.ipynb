{
 "cells": [
  {
   "cell_type": "markdown",
   "metadata": {},
   "source": [
    "### 観測データ\n",
    "解析に必要なデータ\n",
    "- XFFTS data\n",
    "- encoder (doppler計算できない)\n",
    "- weather status\n",
    "- hosei copy\n",
    "- obs copy\n",
    "\n",
    "\n",
    "### 解析フロー\n",
    "\n",
    "- doppler tracking[o]\n",
    "- Chopper Wheel [o]\n",
    "- baseline fitting [o]\n",
    "- Scaling(from standard object?) [x]\n",
    "- regrid [o]\n",
    "    - rms [o]\n",
    "    - distance [o]\n",
    "- +header [o]\n",
    "- 3d-fits[o]"
   ]
  },
  {
   "cell_type": "code",
   "execution_count": 3,
   "metadata": {
    "collapsed": true
   },
   "outputs": [],
   "source": [
    "import sys\n",
    "sys.path.append(\"/home/amigos/git/analy_n2data/script/\")\n",
    "if not sys.argv[1] == \"-f\":\n",
    "    analy_dir = sys.argv[1]\n",
    "    mode = \"commandline\"\n",
    "else:\n",
    "    # 手動で解析する場合はデータのあるpathを指定してください\n",
    "    analy_dir = '/home/amigos/data/position_switching2019/n20190910070230_12CO_2-1_otf_OriKL'\n",
    "    mode = \"notebook\""
   ]
  },
  {
   "cell_type": "code",
   "execution_count": 4,
   "metadata": {},
   "outputs": [
    {
     "name": "stdout",
     "output_type": "stream",
     "text": [
      "hosei_230.txt\t       ps_OriKL.obs  vobs.npy\t  xffts.ndf\r\n",
      "Position_Switch.ipynb  result_2.png  weather.csv\r\n"
     ]
    }
   ],
   "source": [
    "!ls /home/amigos/data/position_switching2019/n20190910070230_12CO_2-1_otf_OriKL"
   ]
  },
  {
   "cell_type": "code",
   "execution_count": 5,
   "metadata": {},
   "outputs": [],
   "source": [
    "import subprocess\n",
    "import os\n",
    "import numpy\n",
    "import matplotlib.pyplot as plt\n",
    "from tqdm import tqdm\n",
    "from joblib import Parallel, delayed\n",
    "import numba\n",
    "from astropy.io import fits\n",
    "import glob\n",
    "from scipy import interpolate\n",
    "import time\n",
    "###以下独自\n",
    "import n2df\n",
    "import read_obsfile\n",
    "import analy_doppler_nanten"
   ]
  },
  {
   "cell_type": "code",
   "execution_count": 6,
   "metadata": {
    "collapsed": true
   },
   "outputs": [],
   "source": [
    "obspath = glob.glob(os.path.join(analy_dir, \"*obs\"))\n",
    "obs = read_obsfile.read(obspath[0])"
   ]
  },
  {
   "cell_type": "code",
   "execution_count": 7,
   "metadata": {},
   "outputs": [
    {
     "name": "stdout",
     "output_type": "stream",
     "text": [
      "       timestamp     intemp    outtemp    inhumi   outhumi     winddir  \\\n",
      "0   1.568099e+09  14.740496  16.663495  1.746055  8.437842  268.509277   \n",
      "1   1.568099e+09  14.810425  16.097329  1.253461  8.311794  268.074180   \n",
      "2   1.568099e+09  14.811832  15.982456  1.695537  8.097386  268.863563   \n",
      "3   1.568099e+09  14.837831  16.488035  1.659967  8.482275  268.134019   \n",
      "4   1.568099e+09  14.928241  16.653690  1.032765  8.378077  268.141979   \n",
      "5   1.568099e+09  15.313717  16.406448  1.371025  8.637743  268.399959   \n",
      "6   1.568099e+09  14.961168  16.134271  1.314186  8.189721  268.061565   \n",
      "7   1.568099e+09  14.519615  16.018124  1.844449  8.897255  268.820033   \n",
      "8   1.568099e+09  14.434453  16.531663  1.163975  8.938106  268.670793   \n",
      "9   1.568099e+09  15.088346  16.342548  1.343973  8.843993  268.731970   \n",
      "10  1.568099e+09  15.194354  16.410667  1.982708  8.056381  268.379736   \n",
      "11  1.568099e+09  15.309828  16.774947  1.790766  8.630956  268.593643   \n",
      "12  1.568099e+09  14.693460  16.420562  1.203439  8.825708  268.483637   \n",
      "13  1.568099e+09  14.749531  15.979396  1.598979  8.497541  268.341425   \n",
      "14  1.568099e+09  14.737268  16.623062  1.901574  8.737621  268.559525   \n",
      "15  1.568099e+09  14.560438  15.909663  1.932003  8.630705  268.153942   \n",
      "16  1.568099e+09  14.446061  16.540687  1.910444  8.821888  268.246761   \n",
      "17  1.568099e+09  15.244773  15.924582  1.665260  8.541870  268.175348   \n",
      "18  1.568099e+09  15.216291  15.960660  1.907894  8.058748  268.166125   \n",
      "19  1.568099e+09  15.017148  16.073471  1.471705  8.925985  268.463735   \n",
      "\n",
      "      windsp       press      rain  cabin_temp1  cabin_temp2  dome_temp1  \\\n",
      "0   6.436121  570.454544  0.474442    22.163618    32.552094   10.481898   \n",
      "1   6.665523  570.455813  0.897465    21.778135    32.128456   10.512437   \n",
      "2   6.009403  570.874857  0.543224    21.811218    32.230205    9.813989   \n",
      "3   5.839901  570.361330  0.048608    21.442801    31.718217   10.605312   \n",
      "4   6.318423  570.373921  0.608544    21.450335    31.606467   10.288964   \n",
      "5   6.523996  570.157786  0.671031    21.942161    31.709378   10.034704   \n",
      "6   6.672829  571.016294  0.399449    21.992899    31.692567   10.205108   \n",
      "7   6.686702  570.550111  0.181385    21.865449    31.967553   10.624966   \n",
      "8   6.659168  570.809693  0.792674    21.384695    31.848853   10.105084   \n",
      "9   6.630700  570.681686  0.878870    21.374914    32.236128   10.706714   \n",
      "10  6.068448  570.696984  0.739178    22.025549    32.257982   10.398545   \n",
      "11  6.419316  570.823143  0.953447    21.555447    32.185571   10.292981   \n",
      "12  6.238481  570.113752  0.302046    22.056682    32.240846   10.547476   \n",
      "13  6.100167  570.265932  0.164775    22.226224    32.375205   10.023927   \n",
      "14  6.592341  570.392241  0.734718    22.276686    31.934879    9.911709   \n",
      "15  6.760903  570.432986  0.873789    22.162757    31.841074   10.568413   \n",
      "16  6.161832  570.819865  0.715112    21.672334    32.459779   10.467180   \n",
      "17  6.389231  570.478865  0.524185    21.701840    32.526727   10.528250   \n",
      "18  6.111441  570.310947  0.623804    22.120584    32.468006   10.523512   \n",
      "19  6.060207  570.521526  0.342801    22.020026    32.336668    9.913906   \n",
      "\n",
      "    dome_temp2  gen_temp1  gen_temp2  scan_num obs_mode  \n",
      "0    12.972259  10.190839  13.296082         0      HOT  \n",
      "1    12.924323  10.248072  13.419726         0      OFF  \n",
      "2    13.449109  10.151342  13.244154         0       ON  \n",
      "3    12.935575  10.151263  13.031882         1      NaN  \n",
      "4    13.223084  10.039277  13.698290         1      HOT  \n",
      "5    13.579097  10.132850  13.119169         1      OFF  \n",
      "6    13.616142  10.156302  13.446154         1       ON  \n",
      "7    13.311197  10.786465  13.100008         2      NaN  \n",
      "8    13.191935  10.517687  13.108608         2      HOT  \n",
      "9    13.181764  10.052699  13.726328         2      OFF  \n",
      "10   13.301545  10.288037  13.697347         2       ON  \n",
      "11   13.562101  10.205538  13.885919         3      NaN  \n",
      "12   13.183771   9.880466  13.127463         3      HOT  \n",
      "13   13.686729  10.741508  13.348080         3      OFF  \n",
      "14   13.400436  10.743886  13.784507         3       ON  \n",
      "15   13.367694  10.422339  12.916177         4      NaN  \n",
      "16   12.993615  10.590578  13.872480         4      HOT  \n",
      "17   13.689900   9.914986  13.481415         4      OFF  \n",
      "18   13.694618  10.158355  13.599707         4       ON  \n",
      "19   13.546303  10.320243  12.970059         5      HOT  \n",
      "570.5296137994848 8.547079760335851 16.296787675242527\n"
     ]
    }
   ],
   "source": [
    "import log_weather\n",
    "import numpy\n",
    "###気象情報の読み込み\n",
    "weather_data = log_weather.Weather_log(os.path.join(analy_dir, \"weather.csv\")).read()\n",
    "print(weather_data)\n",
    "#気象データの確認\n",
    "press = numpy.mean(weather_data[\"press\"])\n",
    "humi = numpy.mean(weather_data[\"outhumi\"])\n",
    "temp = numpy.mean(weather_data[\"outtemp\"])\n",
    "lamda = 1300\n",
    "print(press, humi, temp)\n",
    "\n",
    "cabin_temp = weather_data[\"cabin_temp1\"]"
   ]
  },
  {
   "cell_type": "code",
   "execution_count": 8,
   "metadata": {
    "collapsed": true
   },
   "outputs": [],
   "source": [
    "###config \n",
    "array_num = 2#1~16IF "
   ]
  },
  {
   "cell_type": "markdown",
   "metadata": {},
   "source": [
    "### 分光データの読み出し\n"
   ]
  },
  {
   "cell_type": "code",
   "execution_count": 9,
   "metadata": {},
   "outputs": [
    {
     "name": "stderr",
     "output_type": "stream",
     "text": [
      "100%|██████████| 1485/1485 [00:00<00:00, 16010.44it/s]\n",
      "100%|██████████| 1485/1485 [00:00<00:00, 280060.32it/s]\n",
      "100%|██████████| 1485/1485 [00:00<00:00, 927280.25it/s]\n",
      "100%|██████████| 1485/1485 [00:00<00:00, 351438.33it/s]"
     ]
    },
    {
     "name": "stdout",
     "output_type": "stream",
     "text": [
      "CPU times: user 28 ms, sys: 80 ms, total: 108 ms\n",
      "Wall time: 125 ms\n"
     ]
    },
    {
     "name": "stderr",
     "output_type": "stream",
     "text": [
      "\n"
     ]
    }
   ],
   "source": [
    "%%time\n",
    "n = n2df.Read(os.path.join(analy_dir, \"xffts.ndf\"))\n",
    "array_data = n.read_onearray(array_num)#1IFの分光データ\n",
    "obs_mode = n.read_obs_mode()#観測モード（ON/OFF/HOT）\n",
    "scan_num = n.read_scan_num()#スキャンライン（0,1,2,3,4,...）\n",
    "###array_data, scan_num, obs_mode = n.read_for_otf(1)#3分くらいかかた\n",
    "timestamp = n.read_timestamp()"
   ]
  },
  {
   "cell_type": "markdown",
   "metadata": {},
   "source": [
    "### Doppler tracking"
   ]
  },
  {
   "cell_type": "code",
   "execution_count": 109,
   "metadata": {},
   "outputs": [
    {
     "data": {
      "text/plain": [
       "dict_keys(['offset_Az', 'offset_El', 'lambda_on', 'beta_on', 'lambda_off', 'beta_off', 'coordsys', 'object', 'vlsr', 'tuning_vlsr', 'cosydel', 'lamdel', 'betdel', 'otadel', 'lamdel_off', 'betdel_off', 'otadel_off', 'acc', 'observer', 'obsmode', 'purpose', 'tsys', 'nSeq', 'nON', 'exposure', 'exposure_off', 'load_interval', 'cold_flag', 'pllref_if', 'multiple', 'pllharmonic', 'pllsideband', 'pllreffreq', 'restfreq_1', 'obsfreq_1', 'molecule_1', 'transiti_1', 'lo1st_sb_1', 'if1st_freq_1', 'lo2nd_sb_1', 'lo3rd_sb_1', 'lo3rd_freq_1', 'if3rd_freq_1', 'start_ch_1', 'end_ch_1', 'restfreq_2', 'obsfreq_2', 'molecule_2', 'transiti_2', 'lo1st_sb_2', 'if1st_freq_2', 'lo2nd_sb_2', 'lo3rd_sb_2', 'lo3rd_freq_2', 'if3rd_freq_2', 'start_ch_2', 'end_ch_2', 'fpga_integtime'])"
      ]
     },
     "execution_count": 109,
     "metadata": {},
     "output_type": "execute_result"
    }
   ],
   "source": [
    "obs.keys()"
   ]
  },
  {
   "cell_type": "code",
   "execution_count": 10,
   "metadata": {
    "collapsed": true
   },
   "outputs": [],
   "source": [
    "on_x = obs[\"lambda_on\"]\n",
    "on_y = obs[\"beta_on\"]\n",
    "off_x = obs[\"lambda_off\"]\n",
    "off_y = obs[\"beta_off\"]"
   ]
  },
  {
   "cell_type": "code",
   "execution_count": 11,
   "metadata": {},
   "outputs": [
    {
     "name": "stdout",
     "output_type": "stream",
     "text": [
      " vobs.npy already exists\n"
     ]
    }
   ],
   "source": [
    "d = analy_doppler_nanten.doppler_nanten()\n",
    "from numpy import deg2rad\n",
    "if not os.path.exists(os.path.join(analy_dir, \"vobs.npy\")):\n",
    "    vobs = []\n",
    "    for i in range(len(array_data)):\n",
    "        if obs_mode[i] == \"ON\":\n",
    "            vobs.append(d.calc_vobs(deg2rad(on_x), deg2rad(on_y), timestamp[i]))\n",
    "        elif obs_mode[i] == \"OFF\" or obs_mode[i] == \"HOT\":\n",
    "            vobs.append(d.calc_vobs(deg2rad(off_x), deg2rad(off_y), timestamp[i]))\n",
    "    numpy.save(os.path.join(analy_dir, \"vobs\"), vobs)\n",
    "else:\n",
    "    print(\" vobs.npy already exists\")"
   ]
  },
  {
   "cell_type": "code",
   "execution_count": 12,
   "metadata": {
    "scrolled": true
   },
   "outputs": [
    {
     "name": "stderr",
     "output_type": "stream",
     "text": [
      "  2%|▏         | 29/1485 [00:00<00:05, 282.70it/s]"
     ]
    },
    {
     "name": "stdout",
     "output_type": "stream",
     "text": [
      "vobsは全て正\n"
     ]
    },
    {
     "name": "stderr",
     "output_type": "stream",
     "text": [
      "100%|██████████| 1485/1485 [00:04<00:00, 343.37it/s]\n",
      " 72%|███████▏  | 1074/1485 [00:00<00:00, 10739.91it/s]"
     ]
    },
    {
     "name": "stdout",
     "output_type": "stream",
     "text": [
      "[  -48.   -47.   -46. ... 32716. 32717. 32718.] 32767\n"
     ]
    },
    {
     "name": "stderr",
     "output_type": "stream",
     "text": [
      "100%|██████████| 1485/1485 [00:00<00:00, 9756.46it/s] \n"
     ]
    },
    {
     "data": {
      "text/plain": [
       "(1485, 32767)"
      ]
     },
     "execution_count": 12,
     "metadata": {},
     "output_type": "execute_result"
    }
   ],
   "source": [
    "vobs = numpy.load(os.path.join(analy_dir, \"vobs.npy\"))\n",
    "\n",
    "# For debug\n",
    "if numpy.count_nonzero(vobs>0) == len(vobs):\n",
    "    print(\"vobsは全て正\")\n",
    "elif numpy.count_nonzero(vobs<0) == len(vobs):\n",
    "    print(\"vobsは全て負\")\n",
    "else:\n",
    "    print(\"vobsは正も負もある\")\n",
    "\n",
    "# config\n",
    "dv = 0.167#km/s\n",
    "ch = numpy.linspace(0, 32767, 32768)\n",
    "bch = list(map(int, vobs//dv))#ch数の移動\n",
    "slide_ch = (vobs/dv) - bch#interpolationによる移動量\n",
    "\n",
    "dp_data = []\n",
    "xx_data = []\n",
    "for i in tqdm(range(len(vobs))):\n",
    "    f = interpolate.interp1d(ch, array_data[i])\n",
    "    ch2 = ch+slide_ch[i]\n",
    "    if slide_ch[i] > 0:\n",
    "        n = f(ch2[:-1])\n",
    "    elif slide_ch[i] <0:\n",
    "        n = f(ch2[1:])\n",
    "    new_p = n\n",
    "    xx = ch[:-1] - bch[i]\n",
    "    yy = new_p\n",
    "    xx_data.append(xx)\n",
    "    dp_data.append(yy)\n",
    "    \n",
    "xx_data = numpy.array(xx_data)\n",
    "xx_min = numpy.max(xx_data.T[0])#regridの最小値\n",
    "xx_max = numpy.min(xx_data.T[-1])#regirdの最大値\n",
    "\n",
    "new_xx = numpy.arange(xx_min, xx_max+1, 1)\n",
    "print(new_xx, len(new_xx))\n",
    "vlen = len(new_xx)\n",
    "\n",
    "mask_list= []\n",
    "for i in range(len(xx_data)):\n",
    "    mask = (xx_data[i] >= xx_min) & (xx_data[i] <= xx_max)\n",
    "    mask_list.append(mask)\n",
    "    \n",
    "new_yy_list = []\n",
    "for i in tqdm(range(len(xx_data))):\n",
    "    new_yy_list.append(dp_data[i][mask_list[i]])\n",
    "    \n",
    "len(new_xx)\n",
    "origin_array_data = array_data\n",
    "array_data = new_yy_list\n",
    "numpy.shape(array_data)"
   ]
  },
  {
   "cell_type": "code",
   "execution_count": 13,
   "metadata": {
    "collapsed": true
   },
   "outputs": [],
   "source": [
    "###index探し\n",
    "obs_mode = numpy.array(obs_mode)\n",
    "scan_num = numpy.array(scan_num)\n",
    "\n",
    "offmask = obs_mode == \"OFF\"\n",
    "offindex = numpy.where(offmask == True)\n",
    "\n",
    "hotmask = obs_mode == \"HOT\"\n",
    "hotindex = numpy.where(hotmask == True)\n",
    "\n",
    "onmask = obs_mode == \"ON\"\n",
    "onindex = numpy.where(onmask == True)\n",
    "\n",
    "max_scannum = numpy.max(scan_num)#Caution! scan num starts from 0, so scan number of 26 indicates 27 times scan"
   ]
  },
  {
   "cell_type": "markdown",
   "metadata": {},
   "source": [
    "### hot/offの積分"
   ]
  },
  {
   "cell_type": "code",
   "execution_count": 14,
   "metadata": {},
   "outputs": [
    {
     "name": "stderr",
     "output_type": "stream",
     "text": [
      "100%|██████████| 6/6 [00:00<00:00, 324.32it/s]"
     ]
    },
    {
     "name": "stdout",
     "output_type": "stream",
     "text": [
      "[0 1 2 3 4 5]\n"
     ]
    },
    {
     "name": "stderr",
     "output_type": "stream",
     "text": [
      "\n"
     ]
    }
   ],
   "source": [
    "#HOT積分\n",
    "print(numpy.unique(scan_num[hotindex[0]]))#HOT のscan number\n",
    "hotnum = numpy.unique(scan_num[hotindex[0]])#HOTの数\n",
    "\n",
    "hotdata = []\n",
    "\n",
    "for i in tqdm(hotnum):#i = scan number\n",
    "    mask = scan_num == i#特定のscannumのindexを抜き出す\n",
    "    index = numpy.where(mask == True)#特定のscannumのindex変数\n",
    "   ### \n",
    "    c = numpy.in1d(index[0], hotindex[0])#特定のscannumのindex&HOT index\n",
    "    c = numpy.where(c == True)[0]\n",
    "    ###\n",
    "    mm = index[0][c]#scan numの値でフィルターしたhot\n",
    "    #print(mm)\n",
    "    ###積分\n",
    "    tmp = [array_data[j] for j in mm]\n",
    "    hotdata.append(sum(tmp)/len(tmp))\n",
    "    pass\n",
    "\n",
    "#下は擬似データの質が低いための処理。将来的に削除\n",
    "#hotdata = numpy.array(hotdata)\n",
    "#hotdata = hotdata + 5000"
   ]
  },
  {
   "cell_type": "code",
   "execution_count": 15,
   "metadata": {},
   "outputs": [
    {
     "name": "stderr",
     "output_type": "stream",
     "text": [
      "100%|██████████| 5/5 [00:00<00:00, 292.61it/s]"
     ]
    },
    {
     "name": "stdout",
     "output_type": "stream",
     "text": [
      "[0 1 2 3 4]\n"
     ]
    },
    {
     "name": "stderr",
     "output_type": "stream",
     "text": [
      "\n"
     ]
    }
   ],
   "source": [
    "##OFFの積分\n",
    "print(numpy.unique(scan_num[offindex[0]]))#HOT のscan number\n",
    "offnum = numpy.unique(scan_num[offindex[0]])#HOTの数\n",
    "\n",
    "offdata = []\n",
    "scan_num = numpy.array(scan_num)\n",
    "\n",
    "for i in tqdm(offnum):\n",
    "    mask = scan_num == i#特定のscannumのindexを抜き出す\n",
    "    index = numpy.where(mask == True)#特定のscannumのindex変数\n",
    "   ### \n",
    "    c = numpy.in1d(index[0], offindex[0])#特定のscannumのindex&HOT index\n",
    "    c = numpy.where(c == True)[0]#scannumとhotで絞ったindex\n",
    "    mm = index[0][c]#scan numの値でフィルターしたhot\n",
    "    tmp = [array_data[j] for j in mm]\n",
    "    offdata.append(sum(tmp)/len(tmp))"
   ]
  },
  {
   "cell_type": "code",
   "execution_count": 16,
   "metadata": {},
   "outputs": [
    {
     "name": "stderr",
     "output_type": "stream",
     "text": [
      "100%|██████████| 5/5 [00:00<00:00, 271.56it/s]"
     ]
    },
    {
     "name": "stdout",
     "output_type": "stream",
     "text": [
      "[0 1 2 3 4]\n"
     ]
    },
    {
     "name": "stderr",
     "output_type": "stream",
     "text": [
      "\n"
     ]
    }
   ],
   "source": [
    "##ONの積分\n",
    "print(numpy.unique(scan_num[onindex[0]]))#HOT のscan number\n",
    "on_num = numpy.unique(scan_num[onindex[0]])#HOTの数\n",
    "\n",
    "ondata = []\n",
    "scan_num = numpy.array(scan_num)\n",
    "\n",
    "for i in tqdm(on_num):\n",
    "    mask = scan_num == i#特定のscannumのindexを抜き出す\n",
    "    index = numpy.where(mask == True)#特定のscannumのindex変数\n",
    "   ### \n",
    "    c = numpy.in1d(index[0], onindex[0])#特定のscannumのindex&HOT index\n",
    "    c = numpy.where(c == True)[0]#scannumとhotで絞ったindex\n",
    "    mm = index[0][c]#scan numの値でフィルターしたhot\n",
    "    tmp = [array_data[j] for j in mm]\n",
    "    ondata.append(sum(tmp)/len(tmp))"
   ]
  },
  {
   "cell_type": "code",
   "execution_count": 17,
   "metadata": {},
   "outputs": [],
   "source": [
    "# ###Choper wheel\n",
    "@numba.jit\n",
    "def chopper_wheel(on, off, hot, temprature = 300):\n",
    "    Tastar = temprature * (on - off)/(hot - off)\n",
    "    return Tastar"
   ]
  },
  {
   "cell_type": "code",
   "execution_count": 18,
   "metadata": {
    "collapsed": true
   },
   "outputs": [],
   "source": [
    "chdata = [chopper_wheel(ondata[i], offdata[i], hotdata[i]) for i in range(len(ondata))]"
   ]
  },
  {
   "cell_type": "markdown",
   "metadata": {},
   "source": [
    "## Baseline fitting"
   ]
  },
  {
   "cell_type": "code",
   "execution_count": 19,
   "metadata": {},
   "outputs": [
    {
     "name": "stderr",
     "output_type": "stream",
     "text": [
      "100%|██████████| 5/5 [00:00<00:00, 216.55it/s]"
     ]
    },
    {
     "name": "stdout",
     "output_type": "stream",
     "text": [
      "3000 7500 8500 30000\n"
     ]
    },
    {
     "name": "stderr",
     "output_type": "stream",
     "text": [
      "\n"
     ]
    }
   ],
   "source": [
    "#baseline fitting parameter\n",
    "center = 8000\n",
    "width = 1000\n",
    "start = 3000\n",
    "end = 30000\n",
    "\n",
    "#baseline fitting function\n",
    "def f(x, a, b, c):\n",
    "    return a*x**2 + b*x + c\n",
    "\n",
    "def  baseline_fitting(arr_x, arr_y, index1, index2, index3, index4):\n",
    "    tmpdata_y1 = arr_y[index1:index2]\n",
    "    tmpdata_y2 = arr_y[index3:index4]\n",
    "    tmpdata_x1 = arr_x[index1:index2]\n",
    "    tmpdata_x2 = arr_x[index3:index4]\n",
    "    x = numpy.concatenate([tmpdata_x1, tmpdata_x2])\n",
    "    y = numpy.concatenate([tmpdata_y1, tmpdata_y2])\n",
    "    param = numpy.polyfit(x, y, 2)\n",
    "    arr_y = arr_y - f(arr_x, *param)\n",
    "    return arr_y\n",
    "    \n",
    "#ch\n",
    "xindex = numpy.linspace(0, vlen, vlen)\n",
    "\n",
    "#baseline fitting index\n",
    "index1 = int(start)\n",
    "index2 = int(center - width/2)\n",
    "index3 = int(center + width/2)\n",
    "index4 = int(end)\n",
    "print(index1, index2, index3, index4)\n",
    "\n",
    "testoffset = numpy.linspace(1, vlen, vlen)\n",
    "\n",
    "for i in tqdm(range(len(chdata))):\n",
    "    chdata[i] = chdata[i] + testoffset#ベースラインフィッティングできているかの確認のため\n",
    "    origin = chdata[i]#for debug, this will be deleted\n",
    "    chdata[i] = baseline_fitting(xindex, chdata[i], index1, index2, index3, index4)\n",
    "    \n",
    "    \n",
    "#plt.plot(chdata[i], label=\"after chopper wheel\")#after chopper wheel\n",
    "#plt.plot(origin, label=\"before chopper wheel\")#before chopper wheel\n",
    "#plt.legend()\n",
    "#plt.grid()"
   ]
  },
  {
   "cell_type": "code",
   "execution_count": 20,
   "metadata": {
    "collapsed": true
   },
   "outputs": [],
   "source": [
    "#Vlsrの計算\n",
    "vlsr = (new_xx - 16384)*dv"
   ]
  },
  {
   "cell_type": "code",
   "execution_count": 146,
   "metadata": {},
   "outputs": [
    {
     "data": {
      "image/png": "[encoded data removed]",
      "text/plain": [
       "<Figure size 1008x288 with 3 Axes>"
      ]
     },
     "metadata": {},
     "output_type": "display_data"
    }
   ],
   "source": [
    "fig, ax = plt.subplots(1, 3, figsize=(14, 4))\n",
    "ax[0].plot(vlsr, chdata[0])\n",
    "ax[0].set_xlim(-1500, -1200)\n",
    "ax[0].set_ylim(-5, 40)\n",
    "ax[0].grid(True)\n",
    "ax[0].set_xlabel(\"Vlsr [km/s]\")\n",
    "ax[0].set_ylabel(\"T [K]\")\n",
    "ax[0].set_title(\"Spectra Plot\")\n",
    "\n",
    "ax[1].plot(vlsr, ondata[0], label=\"ON\")\n",
    "ax[1].plot(vlsr, offdata[0], label=\"OFF\")\n",
    "ax[1].plot(vlsr, hotdata[0], label=\"HOT\")\n",
    "ax[1].set_xlim(-1500, -1200)\n",
    "ax[1].set_ylim(3000,10000)\n",
    "ax[1].set_xlabel(\"Vlsr [km/s]\")\n",
    "ax[1].set_ylabel(\"Count\")\n",
    "ax[1].grid(True)\n",
    "ax[1].legend()\n",
    "ax[1].set_title(\"band chracter plot\")\n",
    "\n",
    "ax[2].set_axis_off()\n",
    "ax[2].invert_yaxis()\n",
    "template = \"\"\"\n",
    "UT {start_time}\n",
    "Object :{obs[object]}\n",
    "data : {analy_dir}\n",
    "Start(Az, El) = (0, 45)\n",
    "End(Az,El)    = (0, 50)\n",
    "Mean Hot Counts = {mean_hot:.2f}    RMS = {rms_hot:.2f}\n",
    "Mean ON Counts = {mean_on:.2f}    RMS = {rms_on:.2f}\n",
    "Mean OFF Counts = {mean_off:.2f}    RMS = {rms_off:.2f}\n",
    "Mean HOT/OFF = {yfactor:.2f} [dB]\n",
    "Elasped time = 30.0 [min]\n",
    "software = ipynb\n",
    "\"\"\"\n",
    "from datetime import datetime\n",
    "d = datetime.utcfromtimestamp(timestamp[0])\n",
    "start_time = d.strftime(\"%Y-%m-%d %H:%M:%S\")\n",
    "mean_hot = numpy.mean(hotdata[0])\n",
    "mean_off = numpy.mean(offdata[0])\n",
    "mean_on = numpy.mean(ondata[0])\n",
    "# rms_hot = numpy.sqrt(numpy.square(hotdata[0]**2))\n",
    "# rms_off = numpy.sqrt(numpy.mean(offdata[0]**2))\n",
    "# rms_on = numpy.sqrt(numpy.mean(ondata[0]**2))\n",
    "rms_hot = numpy.std(hotdata[0])\n",
    "rms_off = numpy.std(offdata[0])\n",
    "rms_on = numpy.std(ondata[0])\n",
    "yfactor = 10*numpy.log10(numpy.mean(hotdata[0]/offdata[0]))\n",
    "ax[2].text(0, 1.1, template.format(**locals()), linespacing=2, fontsize=12)\n",
    "\n",
    "plt.tight_layout()\n",
    "plt.show()"
   ]
  },
  {
   "cell_type": "markdown",
   "metadata": {
    "collapsed": true
   },
   "source": [
    "### astropyでfitsに書き出す"
   ]
  },
  {
   "cell_type": "markdown",
   "metadata": {},
   "source": [
    "ヘッダーの作成"
   ]
  }
 ],
 "metadata": {
  "kernelspec": {
   "display_name": "Python 3",
   "language": "python",
   "name": "python3"
  },
  "language_info": {
   "codemirror_mode": {
    "name": "ipython",
    "version": 3
   },
   "file_extension": ".py",
   "mimetype": "text/x-python",
   "name": "python",
   "nbconvert_exporter": "python",
   "pygments_lexer": "ipython3",
   "version": "3.6.3"
  },
  "widgets": {
   "state": {
    "69cef02b5de64cd28537b73db5eaafe1": {
     "views": [
      {
       "cell_index": 46
      }
     ]
    },
    "a1def446d82c496b9beef01c766bc416": {
     "views": [
      {
       "cell_index": 46
      }
     ]
    },
    "c8da718324cb4a21bc4082d13c81de6b": {
     "views": [
      {
       "cell_index": 46
      }
     ]
    }
   },
   "version": "1.2.0"
  }
 },
 "nbformat": 4,
 "nbformat_minor": 2
}
