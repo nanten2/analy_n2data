{
 "cells": [
  {
   "cell_type": "code",
   "execution_count": 818,
   "metadata": {
    "collapsed": true
   },
   "outputs": [],
   "source": [
    "from astropy.io import fits\n",
    "import matplotlib.pyplot as plt\n",
    "import numpy\n",
    "from scipy.optimize import curve_fit"
   ]
  },
  {
   "cell_type": "code",
   "execution_count": 1128,
   "metadata": {
    "collapsed": true
   },
   "outputs": [],
   "source": [
    "# open file（ex : 2016/12/17 OriKL 12CO 2-1）\n",
    "hdu = fits.open(\"/mnt/castor/home1/amigos/kohno/NANTEN2/std_ps/n20181109092808_12CO_2-1_cross_IRC10216_pointing.fits\")\n",
    "#hdu = fits.open(\"../data/old-data/radio_pointing_line_9/n20161217090246_12CO_2-1_cross_OriKL_pointing/n20161217090246_12CO_2-1_cross_OriKL_pointing.fits\")"
   ]
  },
  {
   "cell_type": "code",
   "execution_count": 1129,
   "metadata": {
    "collapsed": true
   },
   "outputs": [
    {
     "data": {
      "text/plain": [
       "XTENSION= 'BINTABLE'           / binary table extension                         \n",
       "BITPIX  =                    8 / array data type                                \n",
       "NAXIS   =                    2 / number of array dimensions                     \n",
       "NAXIS1  =                66125 / length of dimension 1                          \n",
       "NAXIS2  =                   24 / length of dimension 2                          \n",
       "PCOUNT  =                    0 / number of group parameters                     \n",
       "GCOUNT  =                    1 / number of groups                               \n",
       "TFIELDS =                   72 / number of table fields                         \n",
       "TTYPE1  = 'OBJECT  '                                                            \n",
       "TFORM1  = '16A     '                                                            \n",
       "TTYPE2  = 'BANDWID '                                                            \n",
       "TFORM2  = '1D      '                                                            \n",
       "TUNIT2  = 'Hz      '                                                            \n",
       "TTYPE3  = 'DATE-OBS'                                                            \n",
       "TFORM3  = '22A     '                                                            \n",
       "TTYPE4  = 'EXPOSURE'                                                            \n",
       "TFORM4  = '1D      '                                                            \n",
       "TUNIT4  = 's       '                                                            \n",
       "TTYPE5  = 'TSYS    '                                                            \n",
       "TFORM5  = '1D      '                                                            \n",
       "TUNIT5  = 'K       '                                                            \n",
       "TTYPE6  = 'DATA    '                                                            \n",
       "TFORM6  = '16384E  '                                                            \n",
       "TUNIT6  = 'K       '                                                            \n",
       "TTYPE7  = 'TDIM6   '                                                            \n",
       "TFORM7  = '3E      '                                                            \n",
       "TTYPE8  = 'TUNIT6  '                                                            \n",
       "TFORM8  = '16A     '                                                            \n",
       "TTYPE9  = 'CTYPE1  '                                                            \n",
       "TFORM9  = '8A      '                                                            \n",
       "TTYPE10 = 'CRVAL1  '                                                            \n",
       "TFORM10 = '1D      '                                                            \n",
       "TTYPE11 = 'CRPIX1  '                                                            \n",
       "TFORM11 = '1D      '                                                            \n",
       "TTYPE12 = 'CDELT1  '                                                            \n",
       "TFORM12 = '1D      '                                                            \n",
       "TTYPE13 = 'CTYPE2  '                                                            \n",
       "TFORM13 = '8A      '                                                            \n",
       "TTYPE14 = 'CRVAL2  '                                                            \n",
       "TFORM14 = '1D      '                                                            \n",
       "TTYPE15 = 'CTYPE3  '                                                            \n",
       "TFORM15 = '8A      '                                                            \n",
       "TTYPE16 = 'CRVAL3  '                                                            \n",
       "TFORM16 = '1D      '                                                            \n",
       "TTYPE17 = 'T_VLSR  '                                                            \n",
       "TFORM17 = '1D      '                                                            \n",
       "TTYPE18 = 'OBSERVER'                                                            \n",
       "TFORM18 = '16A     '                                                            \n",
       "TTYPE19 = 'SCAN    '                                                            \n",
       "TFORM19 = '1J      '                                                            \n",
       "TTYPE20 = 'OBSMODE '                                                            \n",
       "TFORM20 = '8A      '                                                            \n",
       "TTYPE21 = 'MOLECULE'                                                            \n",
       "TFORM21 = '16A     '                                                            \n",
       "TTYPE22 = 'TRANSITI'                                                            \n",
       "TFORM22 = '16A     '                                                            \n",
       "TTYPE23 = 'TEMPSCAL'                                                            \n",
       "TFORM23 = '16A     '                                                            \n",
       "TTYPE24 = 'FRONTEND'                                                            \n",
       "TFORM24 = '16A     '                                                            \n",
       "TTYPE25 = 'BACKEND '                                                            \n",
       "TFORM25 = '16A     '                                                            \n",
       "TTYPE26 = 'THOT    '                                                            \n",
       "TFORM26 = '1D      '                                                            \n",
       "TUNIT26 = 'K       '                                                            \n",
       "TTYPE27 = 'TCOLD   '                                                            \n",
       "TFORM27 = '1D      '                                                            \n",
       "TUNIT27 = 'K       '                                                            \n",
       "TTYPE28 = 'FREQRES '                                                            \n",
       "TFORM28 = '1D      '                                                            \n",
       "TUNIT28 = 'MHz     '                                                            \n",
       "TTYPE29 = 'TIMESYS '                                                            \n",
       "TFORM29 = '16A     '                                                            \n",
       "TTYPE30 = 'VELDEF  '                                                            \n",
       "TFORM30 = '8A      '                                                            \n",
       "TTYPE31 = 'VFRAME  '                                                            \n",
       "TFORM31 = '1D      '                                                            \n",
       "TUNIT31 = 'km/s    '                                                            \n",
       "TTYPE32 = 'VFRAME2 '                                                            \n",
       "TFORM32 = '1D      '                                                            \n",
       "TUNIT32 = 'km/s    '                                                            \n",
       "TTYPE33 = 'OBSFREQ '                                                            \n",
       "TFORM33 = '1D      '                                                            \n",
       "TUNIT33 = 'MHz     '                                                            \n",
       "TTYPE34 = 'IMAGFREQ'                                                            \n",
       "TFORM34 = '1D      '                                                            \n",
       "TUNIT34 = 'MHz     '                                                            \n",
       "TTYPE35 = 'LST     '                                                            \n",
       "TFORM35 = '1J      '                                                            \n",
       "TUNIT35 = 'sec     '                                                            \n",
       "TTYPE36 = 'AZIMUTH '                                                            \n",
       "TFORM36 = '1D      '                                                            \n",
       "TUNIT36 = 'deg     '                                                            \n",
       "TTYPE37 = 'ELEVATIO'                                                            \n",
       "TFORM37 = '1D      '                                                            \n",
       "TUNIT37 = 'deg     '                                                            \n",
       "TTYPE38 = 'TAU     '                                                            \n",
       "TFORM38 = '1D      '                                                            \n",
       "TTYPE39 = 'HUMIDITY'                                                            \n",
       "TFORM39 = '1D      '                                                            \n",
       "TUNIT39 = '%       '                                                            \n",
       "TTYPE40 = 'TAMBIENT'                                                            \n",
       "TFORM40 = '1D      '                                                            \n",
       "TUNIT40 = 'K       '                                                            \n",
       "TTYPE41 = 'PRESSURE'                                                            \n",
       "TFORM41 = '1D      '                                                            \n",
       "TUNIT41 = 'mm Hg   '                                                            \n",
       "TTYPE42 = 'WINDSPEE'                                                            \n",
       "TFORM42 = '1D      '                                                            \n",
       "TUNIT42 = 'm/s     '                                                            \n",
       "TTYPE43 = 'WINDDIRE'                                                            \n",
       "TFORM43 = '1D      '                                                            \n",
       "TUNIT43 = 'deg     '                                                            \n",
       "TTYPE44 = 'BEAMEFF '                                                            \n",
       "TFORM44 = '1D      '                                                            \n",
       "TTYPE45 = 'RESTFREQ'                                                            \n",
       "TFORM45 = '1D      '                                                            \n",
       "TUNIT45 = 'MHz     '                                                            \n",
       "TTYPE46 = 'SIG     '                                                            \n",
       "TFORM46 = '1A      '                                                            \n",
       "TTYPE47 = 'CAL     '                                                            \n",
       "TFORM47 = '1A      '                                                            \n",
       "TTYPE48 = 'SOBSMODE'                                                            \n",
       "TFORM48 = '8A      '                                                            \n",
       "TTYPE49 = 'QUALITY '                                                            \n",
       "TFORM49 = '1J      '                                                            \n",
       "TTYPE50 = 'AOSLEN  '                                                            \n",
       "TFORM50 = '1D      '                                                            \n",
       "TUNIT50 = 's       '                                                            \n",
       "TTYPE51 = 'LOFREQ  '                                                            \n",
       "TFORM51 = '1D      '                                                            \n",
       "TUNIT51 = 'MHz     '                                                            \n",
       "TTYPE52 = 'SYNTH   '                                                            \n",
       "TFORM52 = '1D      '                                                            \n",
       "TUNIT52 = 'MHz     '                                                            \n",
       "TTYPE53 = 'FREQSWAM'                                                            \n",
       "TFORM53 = '1D      '                                                            \n",
       "TUNIT53 = 'Hz      '                                                            \n",
       "TTYPE54 = 'COORDSYS'                                                            \n",
       "TFORM54 = '8A      '                                                            \n",
       "TTYPE55 = 'COSYDEL '                                                            \n",
       "TFORM55 = '8A      '                                                            \n",
       "TTYPE56 = 'LAMDEL  '                                                            \n",
       "TFORM56 = '1D      '                                                            \n",
       "TUNIT56 = 'arcsec  '                                                            \n",
       "TTYPE57 = 'BETDEL  '                                                            \n",
       "TFORM57 = '1D      '                                                            \n",
       "TUNIT57 = 'arcsec  '                                                            \n",
       "TTYPE58 = 'OTADEL  '                                                            \n",
       "TFORM58 = '1A      '                                                            \n",
       "TTYPE59 = 'OTFVLAM '                                                            \n",
       "TFORM59 = '1D      '                                                            \n",
       "TUNIT59 = 'arcsec/s'                                                            \n",
       "TTYPE60 = 'OTFVBET '                                                            \n",
       "TFORM60 = '1D      '                                                            \n",
       "TUNIT60 = 'arcsec/s'                                                            \n",
       "TTYPE61 = 'OTFSCANN'                                                            \n",
       "TFORM61 = '1D      '                                                            \n",
       "TTYPE62 = 'OTFLEN  '                                                            \n",
       "TFORM62 = '1D      '                                                            \n",
       "TUNIT62 = 's       '                                                            \n",
       "TTYPE63 = 'SUBSCAN '                                                            \n",
       "TFORM63 = '1J      '                                                            \n",
       "TTYPE64 = 'MJD     '                                                            \n",
       "TFORM64 = '1J      '                                                            \n",
       "TUNIT64 = 'day     '                                                            \n",
       "TTYPE65 = 'SECOFDAY'                                                            \n",
       "TFORM65 = '1D      '                                                            \n",
       "TUNIT65 = 's       '                                                            \n",
       "TTYPE66 = 'SIDEBAND'                                                            \n",
       "TFORM66 = '1A      '                                                            \n",
       "TTYPE67 = '_2NDSB  '                                                            \n",
       "TFORM67 = '1A      '                                                            \n",
       "TTYPE68 = '_3RDSB  '                                                            \n",
       "TFORM68 = '1A      '                                                            \n",
       "TTYPE69 = '_2NDLO  '                                                            \n",
       "TFORM69 = '1D      '                                                            \n",
       "TUNIT69 = 'MHz     '                                                            \n",
       "TTYPE70 = '_3RDLO  '                                                            \n",
       "TFORM70 = '1D      '                                                            \n",
       "TUNIT70 = 'MHz     '                                                            \n",
       "TTYPE71 = 'SUBREF  '                                                            \n",
       "TFORM71 = '1D      '                                                            \n",
       "TTYPE72 = 'LOCKSTAT'                                                            \n",
       "TFORM72 = '1A      '                                                            "
      ]
     },
     "execution_count": 1129,
     "metadata": {},
     "output_type": "execute_result"
    }
   ],
   "source": [
    "# check header\n",
    "hdu[1].header"
   ]
  },
  {
   "cell_type": "code",
   "execution_count": 1130,
   "metadata": {
    "collapsed": true
   },
   "outputs": [],
   "source": [
    "# option\n",
    "\n",
    "# for baseline fitting to avoid spurious \n",
    "mi = int(5000)\n",
    "ma = int(15000) \n",
    "width = int(500)\n",
    "\n",
    "# integration range\n",
    "integ_mi = int(8000)\n",
    "integ_ma = int(9000)\n",
    "\n",
    "# for gaussian fitting\n",
    "para_init = numpy.array([25000., 0.1, 0.0001])\n",
    "\n",
    "# for gaussian fitting, linear function\n",
    "#linear = False  # if True, add linear function\n",
    "#para_init_lin = numpy.array([5000., 0.1, 0.00001, 5000.])"
   ]
  },
  {
   "cell_type": "code",
   "execution_count": 1131,
   "metadata": {},
   "outputs": [
    {
     "name": "stdout",
     "output_type": "stream",
     "text": [
      "['HOT' 'OFF' 'ON' 'OFF' 'ON' 'OFF' 'ON' 'OFF' 'ON' 'HOT' 'OFF' 'ON' 'OFF'\n",
      " 'ON' 'OFF' 'ON' 'OFF' 'ON' 'HOT' 'OFF' 'ON' 'OFF' 'ON' 'HOT']\n"
     ]
    }
   ],
   "source": [
    "# check SOBSMODE\n",
    "mode = hdu[1].data[\"SOBSMODE\"]\n",
    "print(mode)"
   ]
  },
  {
   "cell_type": "code",
   "execution_count": 1156,
   "metadata": {},
   "outputs": [
    {
     "data": {
      "text/plain": [
       "array([  0.,   0., -60.,   0., -30.,   0.,   0.,   0.,  30.,   0.,   0.,\n",
       "        60.,   0.,   0.,   0.,   0.,   0.,   0.,   0.,   0.,   0.,   0.,\n",
       "         0.,   0.])"
      ]
     },
     "execution_count": 1156,
     "metadata": {},
     "output_type": "execute_result"
    }
   ],
   "source": [
    "# define axis / mask\n",
    "lam = hdu[1].data[\"LAMDEL\"]\n",
    "bet = hdu[1].data[\"BETDEL\"]\n",
    "subscan = hdu[1].data[\"SUBSCAN\"]\n",
    "\n",
    "onmask = mode == \"ON\"\n",
    "hotmask = mode == \"HOT\"\n",
    "offmask = mode == \"OFF\"\n",
    "xmask = (subscan == 1) & onmask\n",
    "ymask = (subscan == 2) & onmask\n",
    "lam"
   ]
  },
  {
   "cell_type": "code",
   "execution_count": null,
   "metadata": {
    "collapsed": true
   },
   "outputs": [],
   "source": [
    "## get index\n",
    "ind_hot = numpy.where(hotmask == True)\n",
    "ind_list_hot = [ind_hot[0][i] for i in range(len(ind_hot[0]))]\n",
    "\n",
    "ind_off = numpy.where(offmask == True)\n",
    "ind_list_off = [ind_off[0][i] for i in range(len(ind_off[0]))]"
   ]
  },
  {
   "cell_type": "code",
   "execution_count": 1134,
   "metadata": {
    "collapsed": true
   },
   "outputs": [],
   "source": [
    "# calc Ta*\n",
    "data = hdu[1].data[\"DATA\"]\n",
    "\n",
    "HOTlist = numpy.zeros((len(hotmask),16384))\n",
    "for i in range(len(ind_list_hot)-1):\n",
    "    HOTlist[ind_list_hot[i]:ind_list_hot[i+1]] = data[ind_list_hot[i]]\n",
    "HOTlist[ind_list_hot[-1]:(len(hotmask))] = data[ind_list_hot[-1]]\n",
    "\n",
    "OFFlist = numpy.zeros((len(offmask),16384))\n",
    "for i in range(len(ind_list_off)-1):\n",
    "    OFFlist[ind_list_off[i]:ind_list_off[i+1]] = data[ind_list_off[i]]\n",
    "OFFlist[ind_list_off[-1]:(len(offmask))] = data[ind_list_off[-1]]\n",
    "\n",
    "ONlist = numpy.array(data)\n",
    "\n",
    "Taslist = (ONlist - OFFlist)/(HOTlist - OFFlist) * 300"
   ]
  },
  {
   "cell_type": "code",
   "execution_count": 1135,
   "metadata": {
    "collapsed": true
   },
   "outputs": [],
   "source": [
    "# baseline fitting\n",
    "def f(x, a, b, c):\n",
    "    return a*x**2 + b*x + c\n",
    "\n",
    "x = numpy.linspace(0, 16384, 16384)\n",
    "\n",
    "\n",
    "rTaslist_tmp = []\n",
    "rtmp = []\n",
    "for i in range(len(Taslist)):\n",
    "    base = []\n",
    "    start = numpy.argmax(Taslist[i][mi:ma]) + (mi - width)\n",
    "    end = numpy.argmax(Taslist[i][mi:ma]) + (mi + width)\n",
    "    dif = end - start\n",
    "    base.extend(Taslist[i])\n",
    "    base[start:end] = []\n",
    "    param = numpy.polyfit(x[:16384-dif], base, 2)\n",
    "    rTas = Taslist[i] - f(x, *param)\n",
    "    rTaslist_tmp.append(rTas)\n",
    "rTaslist = numpy.array(rTaslist_tmp)"
   ]
  },
  {
   "cell_type": "code",
   "execution_count": 1136,
   "metadata": {
    "collapsed": true
   },
   "outputs": [],
   "source": [
    "# create data for plot\n",
    "if numpy.sum(subscan):\n",
    "    xscan_Ta = rTaslist[xmask]\n",
    "    xscan_x= lam[xmask]\n",
    "    xscan_y= bet[xmask]\n",
    "\n",
    "    yscan_Ta = rTaslist[ymask]\n",
    "    yscan_x= lam[ymask]\n",
    "    yscan_y= bet[ymask]\n",
    "    \n",
    "else:\n",
    "    xscan_Ta = rTaslist[onmask][:5]\n",
    "    xscan_x= lam[onmask][:5]\n",
    "    xscan_y= bet[onmask][:5]\n",
    "\n",
    "    yscan_Ta = rTaslist[onmask][5:]\n",
    "    yscan_x= lam[onmask][5:]\n",
    "    yscan_y= bet[onmask][5:]"
   ]
  },
  {
   "cell_type": "code",
   "execution_count": 1137,
   "metadata": {
    "collapsed": true
   },
   "outputs": [],
   "source": [
    "# TA* integration\n",
    "xscan_integ = numpy.sum(xscan_Ta[:, int(integ_mi):int(integ_ma)], axis=1)\n",
    "yscan_integ = numpy.sum(yscan_Ta[:, int(integ_mi):int(integ_ma)], axis=1)"
   ]
  },
  {
   "cell_type": "code",
   "execution_count": 1138,
   "metadata": {
    "collapsed": true,
    "scrolled": true
   },
   "outputs": [],
   "source": [
    "# Gaussian Fitting function\n",
    "def gaussian(x, a, mu, gamma):\n",
    "    return a * numpy.exp(- gamma * (x - mu) **2)\n",
    "\n",
    "# Az fitting\n",
    "popt_az, pcov_az = curve_fit(gaussian, xscan_x, xscan_integ, p0 = para_init, maxfev = 10000)\n",
    "error_az = numpy.sqrt(numpy.diag(pcov_az))\n",
    "\n",
    "x_g = numpy.linspace(xscan_x[0], xscan_x[-1], 1001)\n",
    "gaus_az = gaussian(x_g, popt_az[0], popt_az[1], popt_az[2])\n",
    "\n",
    "\n",
    "# El fitting\n",
    "popt_el, pcov_el = curve_fit(gaussian, yscan_y, yscan_integ, p0 = para_init, maxfev = 10000)\n",
    "error_el = numpy.sqrt(numpy.diag(pcov_el))\n",
    "\n",
    "gaus_el = gaussian(x_g, popt_el[0], popt_el[1], popt_el[2])"
   ]
  },
  {
   "cell_type": "code",
   "execution_count": 1139,
   "metadata": {
    "collapsed": true
   },
   "outputs": [],
   "source": [
    "dAz = popt_az[1]\n",
    "dEl = popt_el[1]\n",
    "hpbw_az =  1/numpy.sqrt(2*popt_az[2]) *2.35\n",
    "hpbw_el = 1/numpy.sqrt(2*popt_el[2]) *2.35"
   ]
  },
  {
   "cell_type": "code",
   "execution_count": 1150,
   "metadata": {
    "scrolled": false
   },
   "outputs": [
    {
     "data": {
      "image/png": "[encoded data removed]",
      "text/plain": [
       "<matplotlib.figure.Figure at 0x7f97b5efc1d0>"
      ]
     },
     "metadata": {},
     "output_type": "display_data"
    }
   ],
   "source": [
    "fig = plt.figure(figsize = (20,20))\n",
    "\n",
    "index_max = numpy.argmax(xscan_Ta[2][4000:12000]) + 4000 \n",
    "\n",
    "lim_mi = int(index_max - 800)\n",
    "lim_ma = int(index_max + 800)\n",
    "\n",
    "\n",
    "axlist = [fig.add_subplot(5,5,i+1) for i in range(25)]\n",
    "\n",
    "axlist[2].plot(yscan_Ta[0])\n",
    "axlist[2].set_title(\"(0, 60)\")\n",
    "axlist[2].set_xlim(lim_mi, lim_ma)\n",
    "axlist[2].set_ylim(-10,50)\n",
    "axlist[2].grid()\n",
    "\n",
    "axlist[7].plot(yscan_Ta[1])\n",
    "axlist[7].set_title(\"(0, 30)\")\n",
    "axlist[7].set_xlim(lim_mi, lim_ma)\n",
    "axlist[7].set_ylim(-10,50)\n",
    "axlist[7].grid()\n",
    "\n",
    "axlist[10].plot(xscan_Ta[0])\n",
    "axlist[10].set_title(\"(-60, 0)\")\n",
    "axlist[10].set_xlim(lim_mi, lim_ma)\n",
    "axlist[10].set_ylim(-10,50)\n",
    "axlist[10].grid()\n",
    "\n",
    "axlist[11].plot(xscan_Ta[1])\n",
    "axlist[11].set_title(\"(-30, 0)\")\n",
    "axlist[11].set_xlim(lim_mi, lim_ma)\n",
    "axlist[11].set_ylim(-10,50)\n",
    "axlist[11].grid()\n",
    "\n",
    "# axlist[12].plot(xscan_Ta[2])\n",
    "axlist[12].plot(yscan_Ta[2])\n",
    "axlist[12].set_title(\"(0, 0)\")\n",
    "axlist[12].set_xlim(lim_mi, lim_ma)\n",
    "axlist[12].set_ylim(-10,50)\n",
    "axlist[12].grid()\n",
    "\n",
    "axlist[13].plot(xscan_Ta[3])\n",
    "axlist[13].set_title(\"(30, 0)\")\n",
    "axlist[13].set_xlim(lim_mi, lim_ma)\n",
    "axlist[13].set_ylim(-10,50)\n",
    "axlist[13].grid()\n",
    "\n",
    "axlist[14].plot(xscan_Ta[4])\n",
    "axlist[14].set_title(\"(60, 0)\")\n",
    "axlist[14].set_xlim(lim_mi, lim_ma)\n",
    "axlist[14].set_ylim(-10,50)\n",
    "axlist[14].grid()\n",
    "\n",
    "axlist[17].plot(yscan_Ta[3])\n",
    "axlist[17].set_title(\"(0, -30)\")\n",
    "axlist[17].set_xlim(lim_mi, lim_ma)\n",
    "axlist[17].set_ylim(-10,50)\n",
    "axlist[17].grid()\n",
    "\n",
    "axlist[22].plot(yscan_Ta[4])\n",
    "axlist[22].set_title(\"(0, -60)\")\n",
    "axlist[22].set_xlim(lim_mi, lim_ma)\n",
    "axlist[22].set_ylim(-10,50)\n",
    "axlist[22].grid()\n",
    "\n",
    "axlist[0].set_visible(False)\n",
    "axlist[1].set_visible(False)\n",
    "axlist[3].set_visible(False)\n",
    "axlist[4].set_visible(False)\n",
    "axlist[5].set_visible(False)\n",
    "axlist[6].set_visible(False)\n",
    "axlist[8].set_visible(False)\n",
    "axlist[9].set_visible(False)\n",
    "axlist[15].set_visible(False)\n",
    "axlist[16].set_visible(False)\n",
    "axlist[18].set_visible(False)\n",
    "axlist[19].set_visible(False)\n",
    "axlist[20].set_visible(False)\n",
    "axlist[21].set_visible(False)\n",
    "axlist[23].set_visible(False)\n",
    "axlist[24].set_visible(False)\n",
    "\n",
    "plt.axes([0.625,0.25, 0.25, 0.1])\n",
    "plt.axis(\"off\")\n",
    "plt.text(0, 0.4, \"OBJECT :   {}\".format(hdu[1].data[\"OBJECT\"][0]), fontsize=18)\n",
    "\n",
    "plt.text(0,0,\"dAz = {}\".format(round(dAz, 2)) + \"                   dEl = {}\".format(round(dEl, 2)) + \"   (arcsec)\", fontsize = 18)\n",
    "plt.text(0,-0.2,\"HPBW_AZ = {}\".format(round(hpbw_az, 2)) + \"      HPBW_EL = {}\".format(round(hpbw_el, 2)), fontsize = 18)\n",
    "\n",
    "\n",
    "plt.show()"
   ]
  },
  {
   "cell_type": "code",
   "execution_count": 1141,
   "metadata": {
    "scrolled": false
   },
   "outputs": [
    {
     "data": {
      "image/png": "[encoded data removed]",
      "text/plain": [
       "<matplotlib.figure.Figure at 0x7f97b86490b8>"
      ]
     },
     "metadata": {},
     "output_type": "display_data"
    }
   ],
   "source": [
    "# plot\n",
    "\n",
    "fig = plt.figure(figsize = (15, 5))\n",
    "\n",
    "axlist = [fig.add_subplot(1,2,i+1) for i in range(2)]\n",
    "\n",
    "axlist[0].plot(xscan_x, xscan_integ, \"o\")\n",
    "axlist[0].errorbar(xscan_x, xscan_integ, yerr = error_az[0], fmt = \"b+\")\n",
    "axlist[0].plot(x_g, gaus_az)\n",
    "axlist[0].set_xlabel(\"dAz [arcsec]\")\n",
    "axlist[0].set_ylabel(\"Ta* [K]\")\n",
    "\n",
    "axlist[1].plot(yscan_y, yscan_integ, \"o\")\n",
    "axlist[1].errorbar(yscan_y, yscan_integ, yerr = error_el[0], fmt = \"b+\")\n",
    "axlist[1].plot(x_g, gaus_el)\n",
    "axlist[1].set_xlabel(\"dEl [arcsec]\")\n",
    "axlist[1].set_ylabel(\"Ta* [K]\")\n",
    "\n",
    "\n",
    "    \n",
    "[a.grid() for a in axlist]\n",
    "plt.show()"
   ]
  },
  {
   "cell_type": "code",
   "execution_count": 731,
   "metadata": {},
   "outputs": [
    {
     "name": "stderr",
     "output_type": "stream",
     "text": [
      "/home/amigos/.pyenv/versions/anaconda3-4.3.1/lib/python3.6/site-packages/scipy/optimize/minpack.py:794: OptimizeWarning: Covariance of the parameters could not be estimated\n",
      "  category=OptimizeWarning)\n"
     ]
    }
   ],
   "source": [
    "# Gaussian Fitting function\n",
    "# option linear function(ax+b)\n",
    "# def gaussian(x, a, mu, gamma, c):\n",
    "#     return a * numpy.exp(- gamma * (x - mu) **2) + c\n",
    "\n",
    "# # Az fitting\n",
    "# popt_az, pcov_az = curve_fit(gaussian, xscan_x, xscan_integ, p0 = para_init_lin)\n",
    "# error_az = numpy.sqrt(numpy.diag(pcov_az))\n",
    "\n",
    "# x_g = numpy.linspace(xscan_x[0], xscan_x[-1], 1001)\n",
    "# gaus_az = gaussian(x_g, popt_az[0], popt_az[1], popt_az[2], popt_az[3])\n",
    "\n",
    "\n",
    "# # El fitting\n",
    "# popt_el, pcov_el = curve_fit(gaussian, yscan_y, yscan_integ, p0 = para_init_lin)\n",
    "# error_el = numpy.sqrt(numpy.diag(pcov_el))\n",
    "\n",
    "# gaus_el = gaussian(x_g, popt_el[0], popt_el[1], popt_el[2], popt_el[3])"
   ]
  }
 ],
 "metadata": {
  "kernelspec": {
   "display_name": "Python 3",
   "language": "python",
   "name": "python3"
  },
  "language_info": {
   "codemirror_mode": {
    "name": "ipython",
    "version": 3
   },
   "file_extension": ".py",
   "mimetype": "text/x-python",
   "name": "python",
   "nbconvert_exporter": "python",
   "pygments_lexer": "ipython3",
   "version": "3.7.0"
  }
 },
 "nbformat": 4,
 "nbformat_minor": 2
}
