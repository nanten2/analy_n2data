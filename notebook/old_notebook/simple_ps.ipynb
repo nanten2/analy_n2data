{
 "cells": [
  {
   "cell_type": "code",
   "execution_count": 43,
   "metadata": {
    "collapsed": true
   },
   "outputs": [],
   "source": [
    "import sys\n",
    "if not sys.argv[1] == \"-f\":\n",
    "    path = sys.argv[1]\n",
    "    IF = \"01\"\n",
    "    mode = \"commandline\"\n",
    "else:\n",
    "    # 手動で解析する場合はデータのあるpathを指定してください\n",
    "    path = \"/home/amigos/hdd/observation/simple_ps/20190918_130031\"\n",
    "    IF = \"03\"#XFFTSのboard番号　1-->\"01\"  12-->\"12\"\n",
    "    mode = \"notebook\""
   ]
  },
  {
   "cell_type": "code",
   "execution_count": 44,
   "metadata": {
    "collapsed": true
   },
   "outputs": [],
   "source": [
    "import necstdb\n",
    "import numpy\n",
    "import matplotlib.pyplot as plt\n",
    "import os\n",
    "import pandas"
   ]
  },
  {
   "cell_type": "code",
   "execution_count": 45,
   "metadata": {
    "collapsed": true
   },
   "outputs": [],
   "source": [
    "import sys\n",
    "sys.path.append(\"/home/amigos/git/analy_n2data/script\")"
   ]
  },
  {
   "cell_type": "code",
   "execution_count": 46,
   "metadata": {},
   "outputs": [
    {
     "name": "stderr",
     "output_type": "stream",
     "text": [
      "100%|██████████| 3/3 [00:00<00:00, 6894.75it/s]"
     ]
    },
    {
     "name": "stdout",
     "output_type": "stream",
     "text": [
      "['1568811636.2150817', '1568811637.1554942', 'HOT', '0.0', '', '']\n",
      "1 9\n",
      "['1568811667.8353288', '1568811668.7883174', 'OFF', '0.0', '', '']\n",
      "240 246\n",
      "['1568811663.7674167', '1568811664.717207', 'ON', '0.0', '0.0', '0.0']\n",
      "208 215\n"
     ]
    },
    {
     "name": "stderr",
     "output_type": "stream",
     "text": [
      "\n"
     ]
    }
   ],
   "source": [
    "import make_dset\n",
    "#\"04\"は4IF目のこと。11IF目なら\"11\"\n",
    "d, data = make_dset.get_data(path, IF)"
   ]
  },
  {
   "cell_type": "code",
   "execution_count": 47,
   "metadata": {
    "collapsed": true
   },
   "outputs": [],
   "source": [
    "d = numpy.array(d)\n",
    "data = numpy.array(data)"
   ]
  },
  {
   "cell_type": "code",
   "execution_count": 48,
   "metadata": {
    "collapsed": true
   },
   "outputs": [],
   "source": [
    "xffts_data = data.T[2:].T"
   ]
  },
  {
   "cell_type": "code",
   "execution_count": 49,
   "metadata": {
    "collapsed": true
   },
   "outputs": [],
   "source": [
    "obs_mode = d.T[0]"
   ]
  },
  {
   "cell_type": "code",
   "execution_count": 50,
   "metadata": {
    "collapsed": true
   },
   "outputs": [],
   "source": [
    "hotmask = obs_mode == \"HOT\"\n",
    "offmask = obs_mode == \"OFF\"\n",
    "onmask = obs_mode == \"ON\""
   ]
  },
  {
   "cell_type": "code",
   "execution_count": 51,
   "metadata": {
    "collapsed": true
   },
   "outputs": [],
   "source": [
    "hot = numpy.mean(xffts_data[hotmask], axis=0)\n",
    "off = numpy.mean(xffts_data[offmask], axis=0)\n",
    "on = numpy.mean(xffts_data[onmask], axis=0)"
   ]
  },
  {
   "cell_type": "code",
   "execution_count": 52,
   "metadata": {
    "collapsed": true
   },
   "outputs": [],
   "source": [
    "def chopper_wheel(on, off, hot, temprature = 300):\n",
    "    Tastar = temprature * (on - off)/(hot - off)\n",
    "    return Tastar"
   ]
  },
  {
   "cell_type": "code",
   "execution_count": 53,
   "metadata": {
    "collapsed": true
   },
   "outputs": [],
   "source": [
    "T = chopper_wheel(on, off, hot)"
   ]
  },
  {
   "cell_type": "code",
   "execution_count": 56,
   "metadata": {},
   "outputs": [
    {
     "data": {
      "image/png": "[encoded data removed]",
      "text/plain": [
       "<Figure size 1008x288 with 2 Axes>"
      ]
     },
     "metadata": {},
     "output_type": "display_data"
    }
   ],
   "source": [
    "x = numpy.linspace(0, 2000, 32768)#XFFTS bw = 0-2000MHz\n",
    "fig, ax = plt.subplots(1, 2, figsize=(14, 4))\n",
    "ax[0].plot(x, T)\n",
    "#ax[0].set_xlim(xmin, xmax)\n",
    "#ax[0].set_ylim(ymin, ymax)\n",
    "ax[0].grid(True)\n",
    "ax[0].set_xlabel(\"MHz\")\n",
    "ax[0].set_ylabel(\"T [K]\")\n",
    "ax[0].set_title(\"Spectra Plot\")\n",
    "\n",
    "ax[1].plot(x, on, label=\"ON\")\n",
    "ax[1].plot(x, off, label=\"OFF\")\n",
    "ax[1].plot(x, hot, label=\"HOT\")\n",
    "# ax[1].set_xlim(-1500, -1200)\n",
    "# ax[1].set_ylim(3000,10000)\n",
    "ax[1].set_xlabel(\"MHz\")\n",
    "ax[1].set_ylabel(\"Count\")\n",
    "ax[1].grid(True)\n",
    "ax[1].legend()\n",
    "#ax[1].set_yscale(\"log\")\n",
    "ax[1].set_title(\"band chracter plot\")\n",
    "\n",
    "result_path = path.replace(\"data\", \"analysis\")\n",
    "if not os.path.exists(result_path):\n",
    "    os.makedirs(result_path, exist_ok=True)\n",
    "plt.savefig(os.path.join(result_path, \"result_IF{}.png\".format(IF)))\n",
    "if mode == \"notebook\":\n",
    "    plt.show()"
   ]
  },
  {
   "cell_type": "code",
   "execution_count": null,
   "metadata": {
    "collapsed": true
   },
   "outputs": [],
   "source": []
  },
  {
   "cell_type": "code",
   "execution_count": null,
   "metadata": {
    "collapsed": true
   },
   "outputs": [],
   "source": []
  }
 ],
 "metadata": {
  "kernelspec": {
   "display_name": "Python 3",
   "language": "python",
   "name": "python3"
  },
  "language_info": {
   "codemirror_mode": {
    "name": "ipython",
    "version": 3
   },
   "file_extension": ".py",
   "mimetype": "text/x-python",
   "name": "python",
   "nbconvert_exporter": "python",
   "pygments_lexer": "ipython3",
   "version": "3.6.3"
  }
 },
 "nbformat": 4,
 "nbformat_minor": 2
}
