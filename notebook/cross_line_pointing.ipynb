{
 "cells": [
  {
   "cell_type": "code",
   "execution_count": 1,
   "metadata": {
    "collapsed": true
   },
   "outputs": [],
   "source": [
    "import sys\n",
<<<<<<< HEAD
    "sys.path.append(\"/home/amigos/git/analy_n2data/\")"
=======
    "sys.path.append(\"../\")"
>>>>>>> cf169dfa36cb4fd00489b7ca35b455d252cc033a
   ]
  },
  {
   "cell_type": "code",
   "execution_count": 2,
   "metadata": {
    "collapsed": true
   },
   "outputs": [],
   "source": [
<<<<<<< HEAD
    "#path = \"/home/amigos/nfs_hdd/data/radio_pointing_line_9/n20191206081730_12CO_2-1_cross_IRC10216_pointing/\"\n",
    "path = \"/home/amigos/nfs_hdd/data/radio_pointing_line_9/n20191206093630_12CO_2-1_cross_OriKL_pointing/\""
=======
    "path = \"/home/amigos/seigyo/hdd3/data/radio_pointing_line_9/n20191123074432_12CO_2-1_cross_IRC10216_pointing\""
>>>>>>> cf169dfa36cb4fd00489b7ca35b455d252cc033a
   ]
  },
  {
   "cell_type": "code",
   "execution_count": 3,
   "metadata": {
    "collapsed": true
   },
   "outputs": [],
   "source": [
    "import n2analy\n",
    "import numpy\n",
    "from scipy.optimize import curve_fit\n",
    "import matplotlib.pyplot as plt\n",
    "#%matplotlib inline\n",
    "plt.rcParams[\"font.family\"] = \"Arial,freesans\"\n",
    "plt.rcParams[\"figure.facecolor\"] = \"white\""
   ]
  },
  {
   "cell_type": "code",
   "execution_count": 4,
   "metadata": {},
   "outputs": [
    {
     "name": "stderr",
     "output_type": "stream",
     "text": [
<<<<<<< HEAD
      "100%|██████████| 3/3 [00:00<00:00, 37.72it/s]"
=======
      "100%|██████████| 3/3 [00:00<00:00, 24.99it/s]"
>>>>>>> cf169dfa36cb4fd00489b7ca35b455d252cc033a
     ]
    },
    {
     "name": "stdout",
     "output_type": "stream",
     "text": [
      "read end\n",
      "HOT 0.0\n",
<<<<<<< HEAD
      "0.0 OFF -30.0 -30.0\n",
      "0.0 OFF -30.0 -60.0\n",
      "0.0 OFF -30.0 0.0\n",
      "0.0 OFF -30.0 30.0\n",
      "0.0 OFF -30.0 60.0\n",
      "0.0 OFF -60.0 -30.0\n",
=======
      "0.0 OFF -120.0 -120.0\n",
      "0.0 OFF -120.0 -60.0\n",
      "0.0 OFF -120.0 0.0\n",
      "0.0 OFF -120.0 120.0\n",
      "0.0 OFF -120.0 60.0\n",
      "0.0 OFF -60.0 -120.0\n",
>>>>>>> cf169dfa36cb4fd00489b7ca35b455d252cc033a
      "0.0 OFF -60.0 -60.0\n",
      "0.0 OFF -60.0 0.0\n",
      "0.0 OFF -60.0 120.0\n",
      "0.0 OFF -60.0 60.0\n",
      "0.0 OFF 0.0 -120.0\n",
      "0.0 OFF 0.0 -60.0\n",
      "0.0 OFF 0.0 0.0\n",
      "0.0 OFF 0.0 120.0\n",
      "0.0 OFF 0.0 60.0\n",
      "0.0 OFF 120.0 -120.0\n",
      "0.0 OFF 120.0 -60.0\n",
      "0.0 OFF 120.0 0.0\n",
      "0.0 OFF 120.0 120.0\n",
      "0.0 OFF 120.0 60.0\n",
      "0.0 OFF 60.0 -120.0\n",
      "0.0 OFF 60.0 -60.0\n",
      "0.0 OFF 60.0 0.0\n",
      "0.0 OFF 60.0 120.0\n",
      "0.0 OFF 60.0 60.0\n",
      "1.0 OFF -120.0 -120.0\n",
      "1.0 OFF -120.0 -60.0\n",
      "1.0 OFF -120.0 120.0\n",
      "1.0 OFF -120.0 60.0\n",
      "1.0 OFF -60.0 -120.0\n",
      "1.0 OFF -60.0 -60.0\n",
      "1.0 OFF -60.0 120.0\n",
      "1.0 OFF -60.0 60.0\n",
      "1.0 OFF 0.0 -120.0\n",
      "1.0 OFF 0.0 -60.0\n",
      "1.0 OFF 0.0 120.0\n",
      "1.0 OFF 0.0 60.0\n",
      "1.0 OFF 120.0 -120.0\n",
      "1.0 OFF 120.0 -60.0\n",
      "1.0 OFF 120.0 120.0\n",
      "1.0 OFF 120.0 60.0\n",
      "1.0 OFF 60.0 -120.0\n",
      "1.0 OFF 60.0 -60.0\n",
      "1.0 OFF 60.0 120.0\n",
      "1.0 OFF 60.0 60.0\n",
      "2.0 OFF -120.0 -120.0\n",
      "2.0 OFF -120.0 -60.0\n",
      "2.0 OFF -120.0 0.0\n",
      "2.0 OFF -120.0 120.0\n",
      "2.0 OFF -120.0 60.0\n",
      "2.0 OFF -60.0 -120.0\n",
      "2.0 OFF -60.0 -60.0\n",
      "2.0 OFF -60.0 0.0\n",
      "2.0 OFF -60.0 120.0\n",
      "2.0 OFF -60.0 60.0\n",
      "2.0 OFF 120.0 -120.0\n",
      "2.0 OFF 120.0 -60.0\n",
      "2.0 OFF 120.0 0.0\n",
      "2.0 OFF 120.0 120.0\n",
      "2.0 OFF 120.0 60.0\n",
      "2.0 OFF 60.0 -120.0\n",
      "2.0 OFF 60.0 -60.0\n",
      "2.0 OFF 60.0 0.0\n",
      "2.0 OFF 60.0 120.0\n",
      "2.0 OFF 60.0 60.0\n",
<<<<<<< HEAD
      "0.0 ON -30.0 -30.0\n",
      "0.0 ON -30.0 -60.0\n",
      "0.0 ON -30.0 0.0\n",
      "0.0 ON -30.0 30.0\n",
      "0.0 ON -30.0 60.0\n",
      "0.0 ON -60.0 -30.0\n",
=======
      "0.0 ON -120.0 -120.0\n",
      "0.0 ON -120.0 -60.0\n",
      "0.0 ON -120.0 0.0\n",
      "0.0 ON -120.0 120.0\n",
      "0.0 ON -120.0 60.0\n",
      "0.0 ON -60.0 -120.0\n",
>>>>>>> cf169dfa36cb4fd00489b7ca35b455d252cc033a
      "0.0 ON -60.0 -60.0\n",
      "0.0 ON -60.0 0.0\n",
      "0.0 ON -60.0 120.0\n",
      "0.0 ON -60.0 60.0\n",
      "0.0 ON 0.0 -120.0\n",
      "0.0 ON 0.0 -60.0\n",
      "0.0 ON 0.0 0.0\n",
      "0.0 ON 0.0 120.0\n",
      "0.0 ON 0.0 60.0\n",
      "0.0 ON 120.0 -120.0\n",
      "0.0 ON 120.0 -60.0\n",
      "0.0 ON 120.0 0.0\n",
      "0.0 ON 120.0 120.0\n",
      "0.0 ON 120.0 60.0\n",
      "0.0 ON 60.0 -120.0\n",
      "0.0 ON 60.0 -60.0\n",
      "0.0 ON 60.0 0.0\n",
      "0.0 ON 60.0 120.0\n",
      "0.0 ON 60.0 60.0\n",
      "1.0 ON -120.0 -120.0\n",
      "1.0 ON -120.0 -60.0\n",
      "1.0 ON -120.0 120.0\n",
      "1.0 ON -120.0 60.0\n",
      "1.0 ON -60.0 -120.0\n",
      "1.0 ON -60.0 -60.0\n",
      "1.0 ON -60.0 120.0\n",
      "1.0 ON -60.0 60.0\n",
      "1.0 ON 0.0 -120.0\n",
      "1.0 ON 0.0 -60.0\n",
      "1.0 ON 0.0 120.0\n",
      "1.0 ON 0.0 60.0\n",
      "1.0 ON 120.0 -120.0\n",
      "1.0 ON 120.0 -60.0\n",
      "1.0 ON 120.0 120.0\n",
      "1.0 ON 120.0 60.0\n",
      "1.0 ON 60.0 -120.0\n",
      "1.0 ON 60.0 -60.0\n",
      "1.0 ON 60.0 120.0\n",
      "1.0 ON 60.0 60.0\n",
      "2.0 ON -120.0 -120.0\n",
      "2.0 ON -120.0 -60.0\n",
      "2.0 ON -120.0 0.0\n",
      "2.0 ON -120.0 120.0\n",
      "2.0 ON -120.0 60.0\n",
      "2.0 ON -60.0 -120.0\n",
      "2.0 ON -60.0 -60.0\n",
      "2.0 ON -60.0 0.0\n",
      "2.0 ON -60.0 120.0\n",
      "2.0 ON -60.0 60.0\n",
      "2.0 ON 120.0 -120.0\n",
      "2.0 ON 120.0 -60.0\n",
      "2.0 ON 120.0 0.0\n",
      "2.0 ON 120.0 120.0\n",
      "2.0 ON 120.0 60.0\n",
      "2.0 ON 60.0 -120.0\n",
      "2.0 ON 60.0 -60.0\n",
      "2.0 ON 60.0 0.0\n",
<<<<<<< HEAD
      "2.0 ON 60.0 30.0\n",
=======
      "2.0 ON 60.0 120.0\n",
>>>>>>> cf169dfa36cb4fd00489b7ca35b455d252cc033a
      "2.0 ON 60.0 60.0\n"
     ]
    },
    {
     "name": "stderr",
     "output_type": "stream",
     "text": [
      "\n"
     ]
    }
   ],
   "source": [
    "IF = \"01\"\n",
    "data = n2analy.get_data(path, IF)"
   ]
  },
  {
   "cell_type": "code",
   "execution_count": 5,
   "metadata": {},
   "outputs": [
    {
     "data": {
      "text/html": [
<<<<<<< HEAD
       "<pre>&lt;xarray.DataArray (t: 5495, GHz: 32768)&gt;\n",
       "array([[1.26716785e+10, 1.26716785e+10, 1.26716785e+10, ...,\n",
       "        2.07071429e+11, 2.19209548e+11, 2.12139950e+11],\n",
       "       [1.25865257e+10, 1.25865257e+10, 1.25865257e+10, ...,\n",
       "        2.01916514e+11, 2.11753353e+11, 2.10904236e+11],\n",
       "       [1.29417503e+10, 1.29417503e+10, 1.29417503e+10, ...,\n",
       "        2.07760196e+11, 2.19725169e+11, 2.16363827e+11],\n",
       "       ...,\n",
       "       [1.26751519e+10, 1.26751519e+10, 1.26751519e+10, ...,\n",
       "        2.13340652e+11, 2.32063877e+11, 2.24325927e+11],\n",
       "       [1.26093169e+10, 1.26093169e+10, 1.26093169e+10, ...,\n",
       "        2.13053456e+11, 2.33610002e+11, 2.26003157e+11],\n",
       "       [1.27246582e+10, 1.27246582e+10, 1.27246582e+10, ...,\n",
       "        2.17929974e+11, 2.26151809e+11, 2.33387262e+11]])\n",
       "Coordinates:\n",
       "  * t        (t) float64 1.576e+09 1.576e+09 1.576e+09 ... 1.576e+09 1.576e+09\n",
=======
       "<pre>&lt;xarray.DataArray (t: 5584, GHz: 32768)&gt;\n",
       "array([[2.02631926e+10, 2.02631926e+10, 2.02631926e+10, ...,\n",
       "        1.38180379e+11, 2.27061039e+11, 1.05944433e+11],\n",
       "       [2.02033705e+10, 2.02033705e+10, 2.02033705e+10, ...,\n",
       "        1.37524101e+11, 2.24909558e+11, 1.05150063e+11],\n",
       "       [1.99970673e+10, 1.99970673e+10, 1.99970673e+10, ...,\n",
       "        1.39106697e+11, 2.34119758e+11, 1.06410353e+11],\n",
       "       ...,\n",
       "       [2.03791524e+10, 2.03791524e+10, 2.03791524e+10, ...,\n",
       "        1.41153468e+11, 2.36775621e+11, 1.06704724e+11],\n",
       "       [2.01783788e+10, 2.01783788e+10, 2.01783788e+10, ...,\n",
       "        1.40205244e+11, 2.34747986e+11, 1.06083336e+11],\n",
       "       [2.01554084e+10, 2.01554084e+10, 2.01554084e+10, ...,\n",
       "        1.38354704e+11, 2.31111623e+11, 1.05745269e+11]])\n",
       "Coordinates:\n",
       "  * t        (t) float64 1.574e+09 1.574e+09 1.574e+09 ... 1.574e+09 1.574e+09\n",
>>>>>>> cf169dfa36cb4fd00489b7ca35b455d252cc033a
       "  * GHz      (GHz) float64 0.0 6.104e-05 0.0001221 0.0001831 ... 2.0 2.0 2.0 2.0\n",
       "    obsmode  (t) &lt;U21 &#x27;0&#x27; &#x27;0&#x27; &#x27;0&#x27; &#x27;0&#x27; &#x27;0&#x27; &#x27;0&#x27; &#x27;0&#x27; ... &#x27;0&#x27; &#x27;0&#x27; &#x27;0&#x27; &#x27;0&#x27; &#x27;0&#x27; &#x27;0&#x27;\n",
       "    scannum  (t) &lt;U21 &#x27;0&#x27; &#x27;0&#x27; &#x27;0&#x27; &#x27;0&#x27; &#x27;0&#x27; &#x27;0&#x27; &#x27;0&#x27; ... &#x27;0&#x27; &#x27;0&#x27; &#x27;0&#x27; &#x27;0&#x27; &#x27;0&#x27; &#x27;0&#x27;\n",
       "    x        (t) &lt;U21 &#x27;0&#x27; &#x27;0&#x27; &#x27;0&#x27; &#x27;0&#x27; &#x27;0&#x27; &#x27;0&#x27; &#x27;0&#x27; ... &#x27;0&#x27; &#x27;0&#x27; &#x27;0&#x27; &#x27;0&#x27; &#x27;0&#x27; &#x27;0&#x27;\n",
       "    y        (t) &lt;U21 &#x27;0&#x27; &#x27;0&#x27; &#x27;0&#x27; &#x27;0&#x27; &#x27;0&#x27; &#x27;0&#x27; &#x27;0&#x27; ... &#x27;0&#x27; &#x27;0&#x27; &#x27;0&#x27; &#x27;0&#x27; &#x27;0&#x27; &#x27;0&#x27;</pre>"
      ],
      "text/plain": [
<<<<<<< HEAD
       "<xarray.DataArray (t: 5495, GHz: 32768)>\n",
       "array([[1.26716785e+10, 1.26716785e+10, 1.26716785e+10, ...,\n",
       "        2.07071429e+11, 2.19209548e+11, 2.12139950e+11],\n",
       "       [1.25865257e+10, 1.25865257e+10, 1.25865257e+10, ...,\n",
       "        2.01916514e+11, 2.11753353e+11, 2.10904236e+11],\n",
       "       [1.29417503e+10, 1.29417503e+10, 1.29417503e+10, ...,\n",
       "        2.07760196e+11, 2.19725169e+11, 2.16363827e+11],\n",
       "       ...,\n",
       "       [1.26751519e+10, 1.26751519e+10, 1.26751519e+10, ...,\n",
       "        2.13340652e+11, 2.32063877e+11, 2.24325927e+11],\n",
       "       [1.26093169e+10, 1.26093169e+10, 1.26093169e+10, ...,\n",
       "        2.13053456e+11, 2.33610002e+11, 2.26003157e+11],\n",
       "       [1.27246582e+10, 1.27246582e+10, 1.27246582e+10, ...,\n",
       "        2.17929974e+11, 2.26151809e+11, 2.33387262e+11]])\n",
       "Coordinates:\n",
       "  * t        (t) float64 1.576e+09 1.576e+09 1.576e+09 ... 1.576e+09 1.576e+09\n",
=======
       "<xarray.DataArray (t: 5584, GHz: 32768)>\n",
       "array([[2.02631926e+10, 2.02631926e+10, 2.02631926e+10, ...,\n",
       "        1.38180379e+11, 2.27061039e+11, 1.05944433e+11],\n",
       "       [2.02033705e+10, 2.02033705e+10, 2.02033705e+10, ...,\n",
       "        1.37524101e+11, 2.24909558e+11, 1.05150063e+11],\n",
       "       [1.99970673e+10, 1.99970673e+10, 1.99970673e+10, ...,\n",
       "        1.39106697e+11, 2.34119758e+11, 1.06410353e+11],\n",
       "       ...,\n",
       "       [2.03791524e+10, 2.03791524e+10, 2.03791524e+10, ...,\n",
       "        1.41153468e+11, 2.36775621e+11, 1.06704724e+11],\n",
       "       [2.01783788e+10, 2.01783788e+10, 2.01783788e+10, ...,\n",
       "        1.40205244e+11, 2.34747986e+11, 1.06083336e+11],\n",
       "       [2.01554084e+10, 2.01554084e+10, 2.01554084e+10, ...,\n",
       "        1.38354704e+11, 2.31111623e+11, 1.05745269e+11]])\n",
       "Coordinates:\n",
       "  * t        (t) float64 1.574e+09 1.574e+09 1.574e+09 ... 1.574e+09 1.574e+09\n",
>>>>>>> cf169dfa36cb4fd00489b7ca35b455d252cc033a
       "  * GHz      (GHz) float64 0.0 6.104e-05 0.0001221 0.0001831 ... 2.0 2.0 2.0 2.0\n",
       "    obsmode  (t) <U21 '0' '0' '0' '0' '0' '0' '0' ... '0' '0' '0' '0' '0' '0'\n",
       "    scannum  (t) <U21 '0' '0' '0' '0' '0' '0' '0' ... '0' '0' '0' '0' '0' '0'\n",
       "    x        (t) <U21 '0' '0' '0' '0' '0' '0' '0' ... '0' '0' '0' '0' '0' '0'\n",
       "    y        (t) <U21 '0' '0' '0' '0' '0' '0' '0' ... '0' '0' '0' '0' '0' '0'"
      ]
     },
     "execution_count": 5,
     "metadata": {},
     "output_type": "execute_result"
    }
   ],
   "source": [
    "data"
   ]
  },
  {
   "cell_type": "code",
   "execution_count": 6,
   "metadata": {
    "collapsed": true
   },
   "outputs": [],
   "source": [
    "obsmode = data[\"obsmode\"]\n",
    "scannum = data[\"scannum\"]\n",
    "x = data[\"x\"]\n",
    "y = data[\"y\"]"
   ]
  },
  {
   "cell_type": "code",
   "execution_count": 7,
   "metadata": {},
   "outputs": [
    {
     "data": {
      "text/plain": [
       "array(['0', 'HOT', 'OFF', 'ON'], dtype='<U21')"
      ]
     },
     "execution_count": 7,
     "metadata": {},
     "output_type": "execute_result"
    }
   ],
   "source": [
    "numpy.unique(obsmode)"
   ]
  },
  {
   "cell_type": "code",
   "execution_count": 8,
   "metadata": {
    "collapsed": true
   },
   "outputs": [],
   "source": [
    "xm60mask = x == '-60.0'\n",
    "xm30mask = x == '-30.0'\n",
    "x0mask = x == '0.0'\n",
    "x30mask = x == '30.0'\n",
    "x60mask = x == '60.0'\n",
    "\n",
    "\n",
    "ym60mask = y == '-60.0'\n",
    "ym30mask = y == '-30.0'\n",
    "y0mask = y == '0.0'\n",
    "y30mask = y == '30.0'\n",
    "y60mask = y == '60.0'\n",
    "\n",
    "onmask = obsmode == \"ON\"\n",
    "offmask = obsmode == \"OFF\"\n",
    "hotmask = obsmode == \"HOT\""
   ]
  },
  {
   "cell_type": "code",
   "execution_count": 9,
<<<<<<< HEAD
   "metadata": {
    "collapsed": true
   },
   "outputs": [],
=======
   "metadata": {},
   "outputs": [
    {
     "name": "stderr",
     "output_type": "stream",
     "text": [
      "/home/amigos/.local/share/virtualenvs/analy-Eyq-irNF/lib/python3.7/site-packages/xarray/core/nanops.py:140: RuntimeWarning: Mean of empty slice\n",
      "  return np.nanmean(a, axis=axis, dtype=dtype)\n",
      "/home/amigos/.local/share/virtualenvs/analy-Eyq-irNF/lib/python3.7/site-packages/xarray/core/nanops.py:140: RuntimeWarning: Mean of empty slice\n",
      "  return np.nanmean(a, axis=axis, dtype=dtype)\n",
      "/home/amigos/.local/share/virtualenvs/analy-Eyq-irNF/lib/python3.7/site-packages/xarray/core/nanops.py:140: RuntimeWarning: Mean of empty slice\n",
      "  return np.nanmean(a, axis=axis, dtype=dtype)\n",
      "/home/amigos/.local/share/virtualenvs/analy-Eyq-irNF/lib/python3.7/site-packages/xarray/core/nanops.py:140: RuntimeWarning: Mean of empty slice\n",
      "  return np.nanmean(a, axis=axis, dtype=dtype)\n"
     ]
    }
   ],
>>>>>>> cf169dfa36cb4fd00489b7ca35b455d252cc033a
   "source": [
    "xy = ['-60.0', '-30.0', '0.0', '30.0', '60.0']\n",
    "onxlist = []\n",
    "for i in xy:\n",
    "    mask1 = x == i\n",
    "    mask = numpy.logical_and(mask1, onmask)\n",
    "    onxlist.append(numpy.mean(data[mask], axis=0))\n",
    "    \n",
    "onylist = []\n",
    "for i in xy:\n",
    "    mask1 = y == i\n",
    "    mask = numpy.logical_and(mask1, onmask)\n",
    "    onylist.append(numpy.mean(data[mask], axis=0))"
   ]
  },
  {
   "cell_type": "code",
   "execution_count": 10,
<<<<<<< HEAD
   "metadata": {
    "collapsed": true
   },
   "outputs": [],
=======
   "metadata": {},
   "outputs": [
    {
     "name": "stderr",
     "output_type": "stream",
     "text": [
      "/home/amigos/.local/share/virtualenvs/analy-Eyq-irNF/lib/python3.7/site-packages/xarray/core/nanops.py:140: RuntimeWarning: Mean of empty slice\n",
      "  return np.nanmean(a, axis=axis, dtype=dtype)\n",
      "/home/amigos/.local/share/virtualenvs/analy-Eyq-irNF/lib/python3.7/site-packages/xarray/core/nanops.py:140: RuntimeWarning: Mean of empty slice\n",
      "  return np.nanmean(a, axis=axis, dtype=dtype)\n",
      "/home/amigos/.local/share/virtualenvs/analy-Eyq-irNF/lib/python3.7/site-packages/xarray/core/nanops.py:140: RuntimeWarning: Mean of empty slice\n",
      "  return np.nanmean(a, axis=axis, dtype=dtype)\n",
      "/home/amigos/.local/share/virtualenvs/analy-Eyq-irNF/lib/python3.7/site-packages/xarray/core/nanops.py:140: RuntimeWarning: Mean of empty slice\n",
      "  return np.nanmean(a, axis=axis, dtype=dtype)\n"
     ]
    }
   ],
>>>>>>> cf169dfa36cb4fd00489b7ca35b455d252cc033a
   "source": [
    "xy = ['-60.0', '-30.0', '0.0', '30.0', '60.0']\n",
    "offxlist = []\n",
    "for i in xy:\n",
    "    mask1 = x == i\n",
    "    mask = numpy.logical_and(mask1, offmask)\n",
    "    offxlist.append(numpy.mean(data[mask], axis=0))\n",
    "    \n",
    "offylist = []\n",
    "for i in xy:\n",
    "    mask1 = y == i\n",
    "    mask = numpy.logical_and(mask1, offmask)\n",
    "    offylist.append(numpy.mean(data[mask], axis=0))"
   ]
  },
  {
   "cell_type": "code",
   "execution_count": 15,
   "metadata": {},
   "outputs": [
    {
     "data": {
      "image/png": "iVBORw0KGgoAAAANSUhEUgAAAXUAAAD8CAYAAACINTRsAAAABHNCSVQICAgIfAhkiAAAAAlwSFlz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\nEDTqhBDiIWjUCSHEQ/x//4WzYdXI2H4AAAAASUVORK5CYII=\n",
      "text/plain": [
       "<matplotlib.figure.Figure at 0x7fc927be4a58>"
      ]
     },
     "metadata": {},
     "output_type": "display_data"
    }
   ],
   "source": [
    "plt.plot(offmask, label=\"off\")\n",
    "plt.plot(mask1 , label=\"mask1\")\n",
    "plt.legend()\n",
    "plt.show()"
   ]
  },
  {
   "cell_type": "code",
   "execution_count": 11,
   "metadata": {
    "collapsed": true
   },
   "outputs": [],
   "source": [
    "hotlist = []\n",
    "\n",
    "for i in [\"1.0\", \"2.0\"]:\n",
    "    mask1 = scannum == i\n",
    "    mask = numpy.logical_and(mask1, hotmask)\n",
    "    hotlist.append(numpy.mean(data[mask], axis=0))"
   ]
  },
  {
   "cell_type": "code",
   "execution_count": 12,
<<<<<<< HEAD
   "metadata": {
    "collapsed": true
   },
=======
   "metadata": {},
>>>>>>> cf169dfa36cb4fd00489b7ca35b455d252cc033a
   "outputs": [],
   "source": [
    "xscan_Ta = []\n",
    "for i in range(5):\n",
    "    xscan_Ta.append(300*(onxlist[i] - offxlist[i])/(hotlist[0] - offxlist[i]))\n",
    "    \n",
    "yscan_Ta = []\n",
    "for i in range(5):\n",
    "    yscan_Ta.append(300*(onylist[i] - offylist[i])/(hotlist[1] - offylist[i]))"
   ]
  },
  {
   "cell_type": "code",
   "execution_count": 13,
<<<<<<< HEAD
   "metadata": {
    "collapsed": true
   },
=======
   "metadata": {},
>>>>>>> cf169dfa36cb4fd00489b7ca35b455d252cc033a
   "outputs": [],
   "source": [
    "def f(x, a, b, c):\n",
    "    return a*x**2 + b*x + c\n",
    "def f(x, a, b, c, d):\n",
    "    return a*x**3 + b*x**2+ c*x + d\n",
    "\n",
    "# def f(x, a, b):\n",
    "#     return a*x + b\n",
    "\n",
    "def gaussian(x, a, mu, gamma):\n",
    "    return a * numpy.exp(- gamma * (x - mu) **2)"
   ]
  },
  {
   "cell_type": "code",
   "execution_count": 14,
<<<<<<< HEAD
   "metadata": {
    "collapsed": true
   },
=======
   "metadata": {},
>>>>>>> cf169dfa36cb4fd00489b7ca35b455d252cc033a
   "outputs": [],
   "source": [
    "arr_x = numpy.linspace(0, 32768, 32768)\n",
    "def  baseline_fitting(arr_x, arr_y, index1, index2, index3, index4):\n",
    "    tmpdata_y1 = arr_y[index1:index2]\n",
    "    tmpdata_y2 = arr_y[index3:index4]\n",
    "    tmpdata_x1 = arr_x[index1:index2]\n",
    "    tmpdata_x2 = arr_x[index3:index4]\n",
    "    x = numpy.concatenate([tmpdata_x1, tmpdata_x2])\n",
    "    y = numpy.concatenate([tmpdata_y1, tmpdata_y2])\n",
    "    #param = numpy.polyfit(x, y, 2)\n",
    "    param = numpy.polyfit(x, y, 3)\n",
    "    arr_y = arr_y - f(arr_x, *param)\n",
    "    return arr_y"
   ]
  },
  {
   "cell_type": "code",
   "execution_count": 15,
<<<<<<< HEAD
   "metadata": {
    "collapsed": true
   },
=======
   "metadata": {},
>>>>>>> cf169dfa36cb4fd00489b7ca35b455d252cc033a
   "outputs": [],
   "source": [
    "\n",
    "for i in range(5):\n",
    "    xscan_Ta[i] = baseline_fitting(arr_x, xscan_Ta[i], 19000, 19500, 21000, 22000)\n",
    "    yscan_Ta[i] = baseline_fitting(arr_x, yscan_Ta[i], 19000, 19500, 21000, 22000)\n",
    "    \n",
    "xscan_integ = []\n",
    "yscan_integ = []\n",
    "\n",
    "\n",
    "mi = 19500\n",
    "ma = 21000\n",
    "for i in range(5):\n",
    "    xscan_integ .append(numpy.sum(xscan_Ta[i][mi:ma]))\n",
    "    yscan_integ .append(numpy.sum(yscan_Ta[i][mi:ma]))"
   ]
  },
  {
   "cell_type": "code",
   "execution_count": 16,
   "metadata": {},
   "outputs": [
    {
     "data": {
      "image/png": "iVBORw0KGgoAAAANSUhEUgAAAX4AAAD8CAYAAABw1c+bAAAABHNCSVQICAgIfAhkiAAAAAlwSFlz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\nrkJggg==\n",
      "text/plain": [
       "<matplotlib.figure.Figure at 0x7f465a20b1d0>"
      ]
     },
     "metadata": {},
     "output_type": "display_data"
    }
   ],
   "source": [
    "#xscan_integ\n",
    "xscan_x = [-60, -30, 0, 30, 60]\n",
    "xscan_y = [0, 0, 0, 0, 0]\n",
    "#yscan_integ\n",
    "yscan_x = [0, 0, 0, 0, 0]\n",
    "yscan_y = [-60, -30, 0, 30, 60]\n",
    "\n",
    "plt.plot(xscan_x, xscan_integ, label=\"x\")\n",
    "plt.plot(yscan_y, yscan_integ, label=\"y\")\n",
    "plt.legend()\n",
    "plt.show()"
   ]
  },
  {
   "cell_type": "code",
<<<<<<< HEAD
   "execution_count": null,
   "metadata": {
    "collapsed": true
   },
   "outputs": [],
=======
   "execution_count": 17,
   "metadata": {},
   "outputs": [
    {
     "name": "stderr",
     "output_type": "stream",
     "text": [
      "/home/amigos/.local/share/virtualenvs/analy-Eyq-irNF/lib/python3.7/site-packages/ipykernel_launcher.py:10: RuntimeWarning: overflow encountered in exp\n",
      "  # Remove the CWD from sys.path while we load stuff.\n",
      "/home/amigos/.local/share/virtualenvs/analy-Eyq-irNF/lib/python3.7/site-packages/scipy/optimize/minpack.py:808: OptimizeWarning: Covariance of the parameters could not be estimated\n",
      "  category=OptimizeWarning)\n",
      "/home/amigos/.local/share/virtualenvs/analy-Eyq-irNF/lib/python3.7/site-packages/ipykernel_launcher.py:13: RuntimeWarning: invalid value encountered in sqrt\n",
      "  del sys.path[0]\n",
      "/home/amigos/.local/share/virtualenvs/analy-Eyq-irNF/lib/python3.7/site-packages/ipykernel_launcher.py:21: RuntimeWarning: invalid value encountered in sqrt\n"
     ]
    },
    {
     "name": "stdout",
     "output_type": "stream",
     "text": [
      "<xarray.DataArray ()>\n",
      "array(1184)\n"
     ]
    },
    {
     "ename": "NameError",
     "evalue": "name 'savefig' is not defined",
     "output_type": "error",
     "traceback": [
      "\u001b[0;31m---------------------------------------------------------------------------\u001b[0m",
      "\u001b[0;31mNameError\u001b[0m                                 Traceback (most recent call last)",
      "\u001b[0;32m<ipython-input-17-5fed4be37bbc>\u001b[0m in \u001b[0;36m<module>\u001b[0;34m\u001b[0m\n\u001b[1;32m    200\u001b[0m \u001b[0;34m\u001b[0m\u001b[0m\n\u001b[1;32m    201\u001b[0m \u001b[0;32mfinally\u001b[0m\u001b[0;34m:\u001b[0m\u001b[0;34m\u001b[0m\u001b[0m\n\u001b[0;32m--> 202\u001b[0;31m     \u001b[0;32mif\u001b[0m \u001b[0msavefig\u001b[0m\u001b[0;34m:\u001b[0m\u001b[0;34m\u001b[0m\u001b[0m\n\u001b[0m\u001b[1;32m    203\u001b[0m         \u001b[0;31m#plt.savefig(savepath_filename)\u001b[0m\u001b[0;34m\u001b[0m\u001b[0;34m\u001b[0m\u001b[0m\n\u001b[1;32m    204\u001b[0m         \u001b[0;32mpass\u001b[0m\u001b[0;34m\u001b[0m\u001b[0m\n",
      "\u001b[0;31mNameError\u001b[0m: name 'savefig' is not defined"
     ]
    },
    {
     "data": {
      "image/png": "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\n",
      "text/plain": [
       "<Figure size 1080x360 with 2 Axes>"
      ]
     },
     "metadata": {
      "needs_background": "light"
     },
     "output_type": "display_data"
    },
    {
     "data": {
      "image/png": "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\n",
      "text/plain": [
       "<Figure size 1440x1440 with 26 Axes>"
      ]
     },
     "metadata": {
      "needs_background": "light"
     },
     "output_type": "display_data"
    }
   ],
>>>>>>> cf169dfa36cb4fd00489b7ca35b455d252cc033a
   "source": [
    "para_init = numpy.array([20000., 0.1, 0.0001])\n",
    "# Gaussian Fitting function\n",
    "# Az fitting\n",
    "try:\n",
    "    popt_az, pcov_az = curve_fit(gaussian, xscan_x, xscan_integ, p0 = para_init, maxfev=10000)\n",
    "    error_az = numpy.sqrt(numpy.diag(pcov_az))\n",
    "\n",
    "    x_g = numpy.linspace(xscan_x[0], xscan_x[-1], 1001)\n",
    "    gaus_az = gaussian(x_g, popt_az[0], popt_az[1], popt_az[2])\n",
    "\n",
    "# El fitting\n",
    "    popt_el, pcov_el = curve_fit(gaussian, yscan_y, yscan_integ, p0 = para_init, maxfev=10000)\n",
    "    error_el = numpy.sqrt(numpy.diag(pcov_el))\n",
    "\n",
    "    gaus_el = gaussian(x_g, popt_el[0], popt_el[1], popt_el[2])\n",
    "\n",
    "\n",
    "# dAz dEl\n",
    "    dAz = popt_az[1]\n",
    "    dEl = popt_el[1]\n",
    "    hpbw_az =  1/numpy.sqrt(2*popt_az[2]) *2.35\n",
    "    hpbw_el = 1/numpy.sqrt(2*popt_el[2]) *2.35\n",
    "\n",
    "\n",
    "# plot\n",
    "    \n",
    "    fig = plt.figure(figsize = (15, 5))\n",
    "\n",
    "    axlist = [fig.add_subplot(1,2,i+1) for i in range(2)]\n",
    "\n",
    "    axlist[0].plot(xscan_x, xscan_integ, \"o\")\n",
    "    #axlist[0].errorbar(xscan_x, xscan_integ, yerr = error_az[0], fmt = \"b+\")\n",
    "    axlist[0].plot(x_g, gaus_az)\n",
    "    axlist[0].set_xlabel(\"dAz [arcsec]\")\n",
    "    axlist[0].set_ylabel(\"Ta* [K]\")\n",
    "\n",
    "    axlist[1].plot(yscan_y, yscan_integ, \"o\")\n",
    "    #axlist[1].errorbar(yscan_y, yscan_integ, yerr = error_el[0], fmt = \"b+\")\n",
    "    axlist[1].plot(x_g, gaus_el)\n",
    "    axlist[1].set_xlabel(\"dEl [arcsec]\")\n",
    "    axlist[1].set_ylabel(\"Ta* [K]\")\n",
    "    \n",
    "    [a.grid() for a in axlist]\n",
    "\n",
    "try:\n",
    "    fig2 = plt.figure(figsize = (20,20))\n",
    "        \n",
    "    index_max = numpy.argmax(xscan_Ta[2][19800:21000])# + 4000 \n",
    "    print(index_max)\n",
    "    lim_mi = int(index_max - 800)\n",
    "    lim_ma = int(index_max + 800)\n",
    "    lim_mi = 21000\n",
    "    lim_ma = 22000\n",
    "\n",
    "    axlist = [fig2.add_subplot(5,5,i+1) for i in range(25)]\n",
    "    axlist[2].plot(yscan_Ta[0])\n",
    "    axlist[2].set_title(\"(0, 60)\")\n",
    "    axlist[2].set_xlim(lim_mi, lim_ma)\n",
    "    axlist[2].set_ylim(-5,15)\n",
    "\n",
    "    axlist[7].plot(yscan_Ta[1])\n",
    "    axlist[7].set_title(\"(0, 30)\")\n",
    "    axlist[7].set_xlim(lim_mi, lim_ma)\n",
    "    axlist[7].set_ylim(-5,15)\n",
    "\n",
    "    axlist[10].plot(xscan_Ta[0])\n",
    "    axlist[10].set_title(\"(-60, 0)\")\n",
    "    axlist[10].set_xlim(lim_mi, lim_ma)\n",
    "    axlist[10].set_ylim(-5,15)\n",
    "\n",
    "    axlist[11].plot(xscan_Ta[1])\n",
    "    axlist[11].set_title(\"(-30, 0)\")\n",
    "    axlist[11].set_xlim(lim_mi, lim_ma)\n",
    "    axlist[11].set_ylim(-5,15)\n",
    "\n",
    "    axlist[12].plot(xscan_Ta[2])\n",
    "    #axlist[12].plot(yscan_Ta[2])\n",
    "    axlist[12].set_title(\"(0, 0)\")\n",
    "    axlist[12].set_xlim(lim_mi, lim_ma)\n",
    "    axlist[12].set_ylim(-5,15)\n",
    "\n",
    "    axlist[13].plot(xscan_Ta[3])\n",
    "    axlist[13].set_title(\"(30, 0)\")\n",
    "    axlist[13].set_xlim(lim_mi, lim_ma)\n",
    "    axlist[13].set_ylim(-5,15)\n",
    "\n",
    "    axlist[14].plot(xscan_Ta[4])\n",
    "    axlist[14].set_title(\"(60, 0)\")\n",
    "    axlist[14].set_xlim(lim_mi, lim_ma)\n",
    "    axlist[14].set_ylim(-5,15)\n",
    "\n",
    "    axlist[17].plot(yscan_Ta[3])\n",
    "    axlist[17].set_title(\"(0, -30)\")\n",
    "    axlist[17].set_xlim(lim_mi, lim_ma)\n",
    "    axlist[17].set_ylim(-5,15)\n",
    "\n",
    "    axlist[22].plot(yscan_Ta[4])\n",
    "    axlist[22].set_title(\"(0, -60)\")\n",
    "    axlist[22].set_xlim(lim_mi, lim_ma)\n",
    "    axlist[22].set_ylim(-5,15)\n",
    "\n",
    "        \n",
    "    for i in [2,7,11,12,13,14,17,10,22]:\n",
    "        axlist[i].set_ylim(-10, 10\n",
    "                          )\n",
    "        axlist[i].set_xlim(19000, 22000)\n",
    "        \n",
    "    axlist[0].set_visible(False)\n",
    "    axlist[1].set_visible(False)\n",
    "    axlist[3].set_visible(False)\n",
    "    axlist[4].set_visible(False)\n",
    "    axlist[5].set_visible(False)\n",
    "    axlist[6].set_visible(False)\n",
    "    axlist[8].set_visible(False)\n",
    "    axlist[9].set_visible(False)\n",
    "    axlist[15].set_visible(False)\n",
    "    axlist[16].set_visible(False)\n",
    "    axlist[18].set_visible(False)\n",
    "    axlist[19].set_visible(False)\n",
    "    axlist[20].set_visible(False)\n",
    "    axlist[21].set_visible(False)\n",
    "    axlist[23].set_visible(False)\n",
    "    axlist[24].set_visible(False)\n",
    "\n",
    "    [a.grid() for a in axlist]\n",
    "\n",
    "    plt.axes([0.625,0.25, 0.25, 0.1])\n",
    "    plt.axis(\"off\")\n",
    "    #plt.text(0, 0.5, \"OBJECT :   {}\".format(hdu[1].data[\"OBJECT\"][0]), fontsize=10)\n",
    "    plt.text(0,0,\"dAz = {}\".format(round(dAz, 2)) + \"               dEl = {}\".format(round(dEl, 2)) + \"   (arcsec)\", fontsize = 10)\n",
    "    plt.text(0,-0.5,\"HPBW_AZ = {}\".format(round(hpbw_az, 2)) + \"  HPBW_EL = {}\".format(round(hpbw_el, 2)), fontsize = 10)\n",
    "    plt.text(0, -1.0, \"DATA PATH :   {}\".format(path), fontsize=6)\n",
    "\n",
    "except Exception as e:\n",
    "    print(\"\\033[31m[ERROR OCCURRED]\\033[0m\\n\", e)\n",
    "        \n",
    "    # same as above\n",
    "    fig2 = plt.figure(figsize = (20,20))\n",
    "        \n",
    "    axlist = [fig2.add_subplot(5,5,i+1) for i in range(25)]\n",
    "\n",
    "    axlist[2].plot(yscan_Ta[0])\n",
    "    axlist[2].set_title(\"(0, 60)\")\n",
    "    for i in [2,7,11,12,13,14,17,10,22]:\n",
    "        #axlist[i].set_ylim(-5,10)\n",
    "        #axlist[i].set_xlim(20000, 22000)\n",
    "        axlist[i].set_ylim(-10, 10)\n",
    "        axlist[i].set_xlim(19000, 22000)\n",
    "\n",
    "    axlist[7].plot(yscan_Ta[1])\n",
    "    axlist[7].set_title(\"(0, 30)\")\n",
    "  \n",
    "    axlist[10].plot(xscan_Ta[0])\n",
    "    axlist[10].set_title(\"(-60, 0)\")\n",
    "\n",
    "    axlist[11].plot(xscan_Ta[1])\n",
    "    axlist[11].set_title(\"(-30, 0)\")\n",
    "\n",
    "    \n",
    "    axlist[12].plot(xscan_Ta[2])\n",
    "    #axlist[12].plot(yscan_Ta[2])\n",
    "    axlist[12].set_title(\"(0, 0)\")\n",
    "\n",
    "    axlist[13].plot(xscan_Ta[3])\n",
    "    axlist[13].set_title(\"(30, 0)\")\n",
    "\n",
    "    axlist[14].plot(xscan_Ta[4])\n",
    "    axlist[14].set_title(\"(60, 0)\")\n",
    "\n",
    "    axlist[17].plot(yscan_Ta[3])\n",
    "    axlist[17].set_title(\"(0, -30)\")\n",
    "\n",
    "    axlist[22].plot(yscan_Ta[4])\n",
    "    axlist[22].set_title(\"(0, -60)\")\n",
    "\n",
    "    axlist[0].set_visible(False)\n",
    "    axlist[1].set_visible(False)\n",
    "    axlist[3].set_visible(False)\n",
    "    axlist[4].set_visible(False)\n",
    "    axlist[5].set_visible(False)\n",
    "    axlist[6].set_visible(False)\n",
    "    axlist[8].set_visible(False)\n",
    "    axlist[9].set_visible(False)\n",
    "    axlist[15].set_visible(False)\n",
    "    axlist[16].set_visible(False)\n",
    "    axlist[18].set_visible(False)\n",
    "    axlist[19].set_visible(False)\n",
    "    axlist[20].set_visible(False)\n",
    "    axlist[21].set_visible(False)\n",
    "    axlist[23].set_visible(False)\n",
    "    axlist[24].set_visible(False)\n",
    "\n",
    "    plt.axes([0.625,0.25, 0.25, 0.1])\n",
    "    plt.axis(\"off\")\n",
    "    plt.text(0, 0.5, \"ERROR OCCURRED\", fontsize=10)\n",
    "    #plt.text(0, 0, \"OBJECT :   {}\".format(hdu[1].data[\"OBJECT\"][0]), fontsize=10)\n",
    "    plt.text(0, -0.5, \"DATA PATH :   {}\".format(path), fontsize=6)\n",
    "\n",
    "    [a.grid() for a in axlist]\n",
    "\n",
    "finally:\n",
    "    if savefig:\n",
    "        #plt.savefig(savepath_filename)\n",
    "        pass\n",
    "    if plot:\n",
    "        plt.show()\n",
    "    else:\n",
    "        pass"
   ]
  },
  {
   "cell_type": "code",
   "execution_count": null,
<<<<<<< HEAD
   "metadata": {
    "collapsed": true
   },
   "outputs": [],
   "source": []
  },
  {
   "cell_type": "code",
   "execution_count": null,
   "metadata": {
    "collapsed": true
   },
   "outputs": [],
   "source": []
  },
  {
   "cell_type": "code",
   "execution_count": null,
   "metadata": {
    "collapsed": true
   },
=======
   "metadata": {},
>>>>>>> cf169dfa36cb4fd00489b7ca35b455d252cc033a
   "outputs": [],
   "source": []
  }
 ],
 "metadata": {
  "kernelspec": {
   "display_name": "Python 3",
   "language": "python",
   "name": "python3"
  },
  "language_info": {
   "codemirror_mode": {
    "name": "ipython",
    "version": 3
   },
   "file_extension": ".py",
   "mimetype": "text/x-python",
   "name": "python",
   "nbconvert_exporter": "python",
   "pygments_lexer": "ipython3",
   "version": "3.6.1"
  }
 },
 "nbformat": 4,
 "nbformat_minor": 2
}
