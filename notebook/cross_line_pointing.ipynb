{
 "cells": [
  {
   "cell_type": "code",
   "execution_count": 1,
   "metadata": {
    "collapsed": true
   },
   "outputs": [],
   "source": [
    "import sys\n",
    "sys.path.append(\"/home/amigos/git/analy_n2data/\")"
   ]
  },
  {
   "cell_type": "code",
   "execution_count": 2,
   "metadata": {
    "collapsed": true
   },
   "outputs": [],
   "source": [
    "#path = \"/home/amigos/nfs_hdd/data/radio_pointing_line_9/n20191206081730_12CO_2-1_cross_IRC10216_pointing/\"\n",
    "path = \"/home/amigos/nfs_hdd/data/radio_pointing_line_9/n20191206093630_12CO_2-1_cross_OriKL_pointing/\""
   ]
  },
  {
   "cell_type": "code",
   "execution_count": 3,
   "metadata": {
    "collapsed": true
   },
   "outputs": [],
   "source": [
    "import n2analy\n",
    "import numpy\n",
    "from scipy.optimize import curve_fit\n",
    "import matplotlib.pyplot as plt\n",
    "#%matplotlib inline\n",
    "plt.rcParams[\"font.family\"] = \"Arial,freesans\"\n",
    "plt.rcParams[\"figure.facecolor\"] = \"white\""
   ]
  },
  {
   "cell_type": "code",
   "execution_count": 4,
   "metadata": {},
   "outputs": [
    {
     "name": "stderr",
     "output_type": "stream",
     "text": [
      "100%|██████████| 3/3 [00:00<00:00, 37.72it/s]"
     ]
    },
    {
     "name": "stdout",
     "output_type": "stream",
     "text": [
      "read end\n",
      "HOT 0.0\n",
      "0.0 OFF -30.0 -30.0\n",
      "0.0 OFF -30.0 -60.0\n",
      "0.0 OFF -30.0 0.0\n",
      "0.0 OFF -30.0 30.0\n",
      "0.0 OFF -30.0 60.0\n",
      "0.0 OFF -60.0 -30.0\n",
      "0.0 OFF -60.0 -60.0\n",
      "0.0 OFF -60.0 0.0\n",
      "0.0 OFF -60.0 30.0\n",
      "0.0 OFF -60.0 60.0\n",
      "0.0 OFF 0.0 -30.0\n",
      "0.0 OFF 0.0 -60.0\n",
      "0.0 OFF 0.0 0.0\n",
      "0.0 OFF 0.0 30.0\n",
      "0.0 OFF 0.0 60.0\n",
      "0.0 OFF 30.0 -30.0\n",
      "0.0 OFF 30.0 -60.0\n",
      "0.0 OFF 30.0 0.0\n",
      "0.0 OFF 30.0 30.0\n",
      "0.0 OFF 30.0 60.0\n",
      "0.0 OFF 60.0 -30.0\n",
      "0.0 OFF 60.0 -60.0\n",
      "0.0 OFF 60.0 0.0\n",
      "0.0 OFF 60.0 30.0\n",
      "0.0 OFF 60.0 60.0\n",
      "1.0 OFF -30.0 -30.0\n",
      "1.0 OFF -30.0 -60.0\n",
      "1.0 OFF -30.0 30.0\n",
      "1.0 OFF -30.0 60.0\n",
      "1.0 OFF -60.0 -30.0\n",
      "1.0 OFF -60.0 -60.0\n",
      "1.0 OFF -60.0 30.0\n",
      "1.0 OFF -60.0 60.0\n",
      "1.0 OFF 0.0 -30.0\n",
      "1.0 OFF 0.0 -60.0\n",
      "1.0 OFF 0.0 30.0\n",
      "1.0 OFF 0.0 60.0\n",
      "1.0 OFF 30.0 -30.0\n",
      "1.0 OFF 30.0 -60.0\n",
      "1.0 OFF 30.0 30.0\n",
      "1.0 OFF 30.0 60.0\n",
      "1.0 OFF 60.0 -30.0\n",
      "1.0 OFF 60.0 -60.0\n",
      "1.0 OFF 60.0 30.0\n",
      "1.0 OFF 60.0 60.0\n",
      "2.0 OFF -30.0 -30.0\n",
      "2.0 OFF -30.0 -60.0\n",
      "2.0 OFF -30.0 0.0\n",
      "2.0 OFF -30.0 30.0\n",
      "2.0 OFF -30.0 60.0\n",
      "2.0 OFF -60.0 -30.0\n",
      "2.0 OFF -60.0 -60.0\n",
      "2.0 OFF -60.0 0.0\n",
      "2.0 OFF -60.0 30.0\n",
      "2.0 OFF -60.0 60.0\n",
      "2.0 OFF 30.0 -30.0\n",
      "2.0 OFF 30.0 -60.0\n",
      "2.0 OFF 30.0 0.0\n",
      "2.0 OFF 30.0 30.0\n",
      "2.0 OFF 30.0 60.0\n",
      "2.0 OFF 60.0 -30.0\n",
      "2.0 OFF 60.0 -60.0\n",
      "2.0 OFF 60.0 0.0\n",
      "2.0 OFF 60.0 30.0\n",
      "2.0 OFF 60.0 60.0\n",
      "0.0 ON -30.0 -30.0\n",
      "0.0 ON -30.0 -60.0\n",
      "0.0 ON -30.0 0.0\n",
      "0.0 ON -30.0 30.0\n",
      "0.0 ON -30.0 60.0\n",
      "0.0 ON -60.0 -30.0\n",
      "0.0 ON -60.0 -60.0\n",
      "0.0 ON -60.0 0.0\n",
      "0.0 ON -60.0 30.0\n",
      "0.0 ON -60.0 60.0\n",
      "0.0 ON 0.0 -30.0\n",
      "0.0 ON 0.0 -60.0\n",
      "0.0 ON 0.0 0.0\n",
      "0.0 ON 0.0 30.0\n",
      "0.0 ON 0.0 60.0\n",
      "0.0 ON 30.0 -30.0\n",
      "0.0 ON 30.0 -60.0\n",
      "0.0 ON 30.0 0.0\n",
      "0.0 ON 30.0 30.0\n",
      "0.0 ON 30.0 60.0\n",
      "0.0 ON 60.0 -30.0\n",
      "0.0 ON 60.0 -60.0\n",
      "0.0 ON 60.0 0.0\n",
      "0.0 ON 60.0 30.0\n",
      "0.0 ON 60.0 60.0\n",
      "1.0 ON -30.0 -30.0\n",
      "1.0 ON -30.0 -60.0\n",
      "1.0 ON -30.0 30.0\n",
      "1.0 ON -30.0 60.0\n",
      "1.0 ON -60.0 -30.0\n",
      "1.0 ON -60.0 -60.0\n",
      "1.0 ON -60.0 30.0\n",
      "1.0 ON -60.0 60.0\n",
      "1.0 ON 0.0 -30.0\n",
      "1.0 ON 0.0 -60.0\n",
      "1.0 ON 0.0 30.0\n",
      "1.0 ON 0.0 60.0\n",
      "1.0 ON 30.0 -30.0\n",
      "1.0 ON 30.0 -60.0\n",
      "1.0 ON 30.0 30.0\n",
      "1.0 ON 30.0 60.0\n",
      "1.0 ON 60.0 -30.0\n",
      "1.0 ON 60.0 -60.0\n",
      "1.0 ON 60.0 30.0\n",
      "1.0 ON 60.0 60.0\n",
      "2.0 ON -30.0 -30.0\n",
      "2.0 ON -30.0 -60.0\n",
      "2.0 ON -30.0 0.0\n",
      "2.0 ON -30.0 30.0\n",
      "2.0 ON -30.0 60.0\n",
      "2.0 ON -60.0 -30.0\n",
      "2.0 ON -60.0 -60.0\n",
      "2.0 ON -60.0 0.0\n",
      "2.0 ON -60.0 30.0\n",
      "2.0 ON -60.0 60.0\n",
      "2.0 ON 30.0 -30.0\n",
      "2.0 ON 30.0 -60.0\n",
      "2.0 ON 30.0 0.0\n",
      "2.0 ON 30.0 30.0\n",
      "2.0 ON 30.0 60.0\n",
      "2.0 ON 60.0 -30.0\n",
      "2.0 ON 60.0 -60.0\n",
      "2.0 ON 60.0 0.0\n",
      "2.0 ON 60.0 30.0\n",
      "2.0 ON 60.0 60.0\n"
     ]
    },
    {
     "name": "stderr",
     "output_type": "stream",
     "text": [
      "\n"
     ]
    }
   ],
   "source": [
    "IF = \"01\"\n",
    "data = n2analy.get_data(path, IF)"
   ]
  },
  {
   "cell_type": "code",
   "execution_count": 5,
   "metadata": {},
   "outputs": [
    {
     "data": {
      "text/html": [
       "<pre>&lt;xarray.DataArray (t: 5495, GHz: 32768)&gt;\n",
       "array([[1.26716785e+10, 1.26716785e+10, 1.26716785e+10, ...,\n",
       "        2.07071429e+11, 2.19209548e+11, 2.12139950e+11],\n",
       "       [1.25865257e+10, 1.25865257e+10, 1.25865257e+10, ...,\n",
       "        2.01916514e+11, 2.11753353e+11, 2.10904236e+11],\n",
       "       [1.29417503e+10, 1.29417503e+10, 1.29417503e+10, ...,\n",
       "        2.07760196e+11, 2.19725169e+11, 2.16363827e+11],\n",
       "       ...,\n",
       "       [1.26751519e+10, 1.26751519e+10, 1.26751519e+10, ...,\n",
       "        2.13340652e+11, 2.32063877e+11, 2.24325927e+11],\n",
       "       [1.26093169e+10, 1.26093169e+10, 1.26093169e+10, ...,\n",
       "        2.13053456e+11, 2.33610002e+11, 2.26003157e+11],\n",
       "       [1.27246582e+10, 1.27246582e+10, 1.27246582e+10, ...,\n",
       "        2.17929974e+11, 2.26151809e+11, 2.33387262e+11]])\n",
       "Coordinates:\n",
       "  * t        (t) float64 1.576e+09 1.576e+09 1.576e+09 ... 1.576e+09 1.576e+09\n",
       "  * GHz      (GHz) float64 0.0 6.104e-05 0.0001221 0.0001831 ... 2.0 2.0 2.0 2.0\n",
       "    obsmode  (t) &lt;U21 &#x27;0&#x27; &#x27;0&#x27; &#x27;0&#x27; &#x27;0&#x27; &#x27;0&#x27; &#x27;0&#x27; &#x27;0&#x27; ... &#x27;0&#x27; &#x27;0&#x27; &#x27;0&#x27; &#x27;0&#x27; &#x27;0&#x27; &#x27;0&#x27;\n",
       "    scannum  (t) &lt;U21 &#x27;0&#x27; &#x27;0&#x27; &#x27;0&#x27; &#x27;0&#x27; &#x27;0&#x27; &#x27;0&#x27; &#x27;0&#x27; ... &#x27;0&#x27; &#x27;0&#x27; &#x27;0&#x27; &#x27;0&#x27; &#x27;0&#x27; &#x27;0&#x27;\n",
       "    x        (t) &lt;U21 &#x27;0&#x27; &#x27;0&#x27; &#x27;0&#x27; &#x27;0&#x27; &#x27;0&#x27; &#x27;0&#x27; &#x27;0&#x27; ... &#x27;0&#x27; &#x27;0&#x27; &#x27;0&#x27; &#x27;0&#x27; &#x27;0&#x27; &#x27;0&#x27;\n",
       "    y        (t) &lt;U21 &#x27;0&#x27; &#x27;0&#x27; &#x27;0&#x27; &#x27;0&#x27; &#x27;0&#x27; &#x27;0&#x27; &#x27;0&#x27; ... &#x27;0&#x27; &#x27;0&#x27; &#x27;0&#x27; &#x27;0&#x27; &#x27;0&#x27; &#x27;0&#x27;</pre>"
      ],
      "text/plain": [
       "<xarray.DataArray (t: 5495, GHz: 32768)>\n",
       "array([[1.26716785e+10, 1.26716785e+10, 1.26716785e+10, ...,\n",
       "        2.07071429e+11, 2.19209548e+11, 2.12139950e+11],\n",
       "       [1.25865257e+10, 1.25865257e+10, 1.25865257e+10, ...,\n",
       "        2.01916514e+11, 2.11753353e+11, 2.10904236e+11],\n",
       "       [1.29417503e+10, 1.29417503e+10, 1.29417503e+10, ...,\n",
       "        2.07760196e+11, 2.19725169e+11, 2.16363827e+11],\n",
       "       ...,\n",
       "       [1.26751519e+10, 1.26751519e+10, 1.26751519e+10, ...,\n",
       "        2.13340652e+11, 2.32063877e+11, 2.24325927e+11],\n",
       "       [1.26093169e+10, 1.26093169e+10, 1.26093169e+10, ...,\n",
       "        2.13053456e+11, 2.33610002e+11, 2.26003157e+11],\n",
       "       [1.27246582e+10, 1.27246582e+10, 1.27246582e+10, ...,\n",
       "        2.17929974e+11, 2.26151809e+11, 2.33387262e+11]])\n",
       "Coordinates:\n",
       "  * t        (t) float64 1.576e+09 1.576e+09 1.576e+09 ... 1.576e+09 1.576e+09\n",
       "  * GHz      (GHz) float64 0.0 6.104e-05 0.0001221 0.0001831 ... 2.0 2.0 2.0 2.0\n",
       "    obsmode  (t) <U21 '0' '0' '0' '0' '0' '0' '0' ... '0' '0' '0' '0' '0' '0'\n",
       "    scannum  (t) <U21 '0' '0' '0' '0' '0' '0' '0' ... '0' '0' '0' '0' '0' '0'\n",
       "    x        (t) <U21 '0' '0' '0' '0' '0' '0' '0' ... '0' '0' '0' '0' '0' '0'\n",
       "    y        (t) <U21 '0' '0' '0' '0' '0' '0' '0' ... '0' '0' '0' '0' '0' '0'"
      ]
     },
     "execution_count": 5,
     "metadata": {},
     "output_type": "execute_result"
    }
   ],
   "source": [
    "data"
   ]
  },
  {
   "cell_type": "code",
   "execution_count": 6,
   "metadata": {
    "collapsed": true
   },
   "outputs": [],
   "source": [
    "obsmode = data[\"obsmode\"]\n",
    "scannum = data[\"scannum\"]\n",
    "x = data[\"x\"]\n",
    "y = data[\"y\"]"
   ]
  },
  {
   "cell_type": "code",
   "execution_count": 7,
   "metadata": {},
   "outputs": [
    {
     "data": {
      "text/plain": [
       "array(['0', 'HOT', 'OFF', 'ON'], dtype='<U21')"
      ]
     },
     "execution_count": 7,
     "metadata": {},
     "output_type": "execute_result"
    }
   ],
   "source": [
    "numpy.unique(obsmode)"
   ]
  },
  {
   "cell_type": "code",
   "execution_count": 8,
   "metadata": {
    "collapsed": true
   },
   "outputs": [],
   "source": [
    "xm60mask = x == '-60.0'\n",
    "xm30mask = x == '-30.0'\n",
    "x0mask = x == '0.0'\n",
    "x30mask = x == '30.0'\n",
    "x60mask = x == '60.0'\n",
    "\n",
    "\n",
    "ym60mask = y == '-60.0'\n",
    "ym30mask = y == '-30.0'\n",
    "y0mask = y == '0.0'\n",
    "y30mask = y == '30.0'\n",
    "y60mask = y == '60.0'\n",
    "\n",
    "onmask = obsmode == \"ON\"\n",
    "offmask = obsmode == \"OFF\"\n",
    "hotmask = obsmode == \"HOT\""
   ]
  },
  {
   "cell_type": "code",
   "execution_count": 9,
   "metadata": {
    "collapsed": true
   },
   "outputs": [],
   "source": [
    "xy = ['-60.0', '-30.0', '0.0', '30.0', '60.0']\n",
    "onxlist = []\n",
    "for i in xy:\n",
    "    mask1 = x == i\n",
    "    mask = numpy.logical_and(mask1, onmask)\n",
    "    onxlist.append(numpy.mean(data[mask], axis=0))\n",
    "    \n",
    "onylist = []\n",
    "for i in xy:\n",
    "    mask1 = y == i\n",
    "    mask = numpy.logical_and(mask1, onmask)\n",
    "    onylist.append(numpy.mean(data[mask], axis=0))"
   ]
  },
  {
   "cell_type": "code",
   "execution_count": 10,
   "metadata": {
    "collapsed": true
   },
   "outputs": [],
   "source": [
    "xy = ['-60.0', '-30.0', '0.0', '30.0', '60.0']\n",
    "offxlist = []\n",
    "for i in xy:\n",
    "    mask1 = x == i\n",
    "    mask = numpy.logical_and(mask1, offmask)\n",
    "    offxlist.append(numpy.mean(data[mask], axis=0))\n",
    "    \n",
    "offylist = []\n",
    "for i in xy:\n",
    "    mask1 = y == i\n",
    "    mask = numpy.logical_and(mask1, offmask)\n",
    "    offylist.append(numpy.mean(data[mask], axis=0))"
   ]
  },
  {
   "cell_type": "code",
   "execution_count": 15,
   "metadata": {},
   "outputs": [
    {
     "data": {
      "image/png": "[encoded data removed]",
      "text/plain": [
       "<matplotlib.figure.Figure at 0x7fc927be4a58>"
      ]
     },
     "metadata": {},
     "output_type": "display_data"
    }
   ],
   "source": [
    "plt.plot(offmask, label=\"off\")\n",
    "plt.plot(mask1 , label=\"mask1\")\n",
    "plt.legend()\n",
    "plt.show()"
   ]
  },
  {
   "cell_type": "code",
   "execution_count": 11,
   "metadata": {
    "collapsed": true
   },
   "outputs": [],
   "source": [
    "hotlist = []\n",
    "\n",
    "for i in [\"1.0\", \"2.0\"]:\n",
    "    mask1 = scannum == i\n",
    "    mask = numpy.logical_and(mask1, hotmask)\n",
    "    hotlist.append(numpy.mean(data[mask], axis=0))"
   ]
  },
  {
   "cell_type": "code",
   "execution_count": 12,
   "metadata": {
    "collapsed": true
   },
   "outputs": [],
   "source": [
    "xscan_Ta = []\n",
    "for i in range(5):\n",
    "    xscan_Ta.append(300*(onxlist[i] - offxlist[i])/(hotlist[0] - offxlist[i]))\n",
    "    \n",
    "yscan_Ta = []\n",
    "for i in range(5):\n",
    "    yscan_Ta.append(300*(onylist[i] - offylist[i])/(hotlist[1] - offylist[i]))"
   ]
  },
  {
   "cell_type": "code",
   "execution_count": 13,
   "metadata": {
    "collapsed": true
   },
   "outputs": [],
   "source": [
    "def f(x, a, b, c):\n",
    "    return a*x**2 + b*x + c\n",
    "def f(x, a, b, c, d):\n",
    "    return a*x**3 + b*x**2+ c*x + d\n",
    "\n",
    "# def f(x, a, b):\n",
    "#     return a*x + b\n",
    "\n",
    "def gaussian(x, a, mu, gamma):\n",
    "    return a * numpy.exp(- gamma * (x - mu) **2)"
   ]
  },
  {
   "cell_type": "code",
   "execution_count": 14,
   "metadata": {
    "collapsed": true
   },
   "outputs": [],
   "source": [
    "arr_x = numpy.linspace(0, 32768, 32768)\n",
    "def  baseline_fitting(arr_x, arr_y, index1, index2, index3, index4):\n",
    "    tmpdata_y1 = arr_y[index1:index2]\n",
    "    tmpdata_y2 = arr_y[index3:index4]\n",
    "    tmpdata_x1 = arr_x[index1:index2]\n",
    "    tmpdata_x2 = arr_x[index3:index4]\n",
    "    x = numpy.concatenate([tmpdata_x1, tmpdata_x2])\n",
    "    y = numpy.concatenate([tmpdata_y1, tmpdata_y2])\n",
    "    #param = numpy.polyfit(x, y, 2)\n",
    "    param = numpy.polyfit(x, y, 3)\n",
    "    arr_y = arr_y - f(arr_x, *param)\n",
    "    return arr_y"
   ]
  },
  {
   "cell_type": "code",
   "execution_count": 15,
   "metadata": {
    "collapsed": true
   },
   "outputs": [],
   "source": [
    "\n",
    "for i in range(5):\n",
    "    xscan_Ta[i] = baseline_fitting(arr_x, xscan_Ta[i], 19000, 19500, 21000, 22000)\n",
    "    yscan_Ta[i] = baseline_fitting(arr_x, yscan_Ta[i], 19000, 19500, 21000, 22000)\n",
    "    \n",
    "xscan_integ = []\n",
    "yscan_integ = []\n",
    "\n",
    "\n",
    "mi = 19500\n",
    "ma = 21000\n",
    "for i in range(5):\n",
    "    xscan_integ .append(numpy.sum(xscan_Ta[i][mi:ma]))\n",
    "    yscan_integ .append(numpy.sum(yscan_Ta[i][mi:ma]))"
   ]
  },
  {
   "cell_type": "code",
   "execution_count": 16,
   "metadata": {},
   "outputs": [
    {
     "data": {
      "image/png": "[encoded data removed]",
      "text/plain": [
       "<matplotlib.figure.Figure at 0x7f465a20b1d0>"
      ]
     },
     "metadata": {},
     "output_type": "display_data"
    }
   ],
   "source": [
    "#xscan_integ\n",
    "xscan_x = [-60, -30, 0, 30, 60]\n",
    "xscan_y = [0, 0, 0, 0, 0]\n",
    "#yscan_integ\n",
    "yscan_x = [0, 0, 0, 0, 0]\n",
    "yscan_y = [-60, -30, 0, 30, 60]\n",
    "\n",
    "plt.plot(xscan_x, xscan_integ, label=\"x\")\n",
    "plt.plot(yscan_y, yscan_integ, label=\"y\")\n",
    "plt.legend()\n",
    "plt.show()"
   ]
  },
  {
   "cell_type": "code",
   "execution_count": null,
   "metadata": {
    "collapsed": true
   },
   "outputs": [],
   "source": [
    "para_init = numpy.array([20000., 0.1, 0.0001])\n",
    "# Gaussian Fitting function\n",
    "# Az fitting\n",
    "try:\n",
    "    popt_az, pcov_az = curve_fit(gaussian, xscan_x, xscan_integ, p0 = para_init, maxfev=10000)\n",
    "    error_az = numpy.sqrt(numpy.diag(pcov_az))\n",
    "\n",
    "    x_g = numpy.linspace(xscan_x[0], xscan_x[-1], 1001)\n",
    "    gaus_az = gaussian(x_g, popt_az[0], popt_az[1], popt_az[2])\n",
    "\n",
    "# El fitting\n",
    "    popt_el, pcov_el = curve_fit(gaussian, yscan_y, yscan_integ, p0 = para_init, maxfev=10000)\n",
    "    error_el = numpy.sqrt(numpy.diag(pcov_el))\n",
    "\n",
    "    gaus_el = gaussian(x_g, popt_el[0], popt_el[1], popt_el[2])\n",
    "\n",
    "\n",
    "# dAz dEl\n",
    "    dAz = popt_az[1]\n",
    "    dEl = popt_el[1]\n",
    "    hpbw_az =  1/numpy.sqrt(2*popt_az[2]) *2.35\n",
    "    hpbw_el = 1/numpy.sqrt(2*popt_el[2]) *2.35\n",
    "\n",
    "\n",
    "# plot\n",
    "    \n",
    "    fig = plt.figure(figsize = (15, 5))\n",
    "\n",
    "    axlist = [fig.add_subplot(1,2,i+1) for i in range(2)]\n",
    "\n",
    "    axlist[0].plot(xscan_x, xscan_integ, \"o\")\n",
    "    #axlist[0].errorbar(xscan_x, xscan_integ, yerr = error_az[0], fmt = \"b+\")\n",
    "    axlist[0].plot(x_g, gaus_az)\n",
    "    axlist[0].set_xlabel(\"dAz [arcsec]\")\n",
    "    axlist[0].set_ylabel(\"Ta* [K]\")\n",
    "\n",
    "    axlist[1].plot(yscan_y, yscan_integ, \"o\")\n",
    "    #axlist[1].errorbar(yscan_y, yscan_integ, yerr = error_el[0], fmt = \"b+\")\n",
    "    axlist[1].plot(x_g, gaus_el)\n",
    "    axlist[1].set_xlabel(\"dEl [arcsec]\")\n",
    "    axlist[1].set_ylabel(\"Ta* [K]\")\n",
    "    \n",
    "    [a.grid() for a in axlist]\n",
    "\n",
    "try:\n",
    "    fig2 = plt.figure(figsize = (20,20))\n",
    "        \n",
    "    index_max = numpy.argmax(xscan_Ta[2][19800:21000])# + 4000 \n",
    "    print(index_max)\n",
    "    lim_mi = int(index_max - 800)\n",
    "    lim_ma = int(index_max + 800)\n",
    "    lim_mi = 21000\n",
    "    lim_ma = 22000\n",
    "\n",
    "    axlist = [fig2.add_subplot(5,5,i+1) for i in range(25)]\n",
    "    axlist[2].plot(yscan_Ta[0])\n",
    "    axlist[2].set_title(\"(0, 60)\")\n",
    "    axlist[2].set_xlim(lim_mi, lim_ma)\n",
    "    axlist[2].set_ylim(-5,15)\n",
    "\n",
    "    axlist[7].plot(yscan_Ta[1])\n",
    "    axlist[7].set_title(\"(0, 30)\")\n",
    "    axlist[7].set_xlim(lim_mi, lim_ma)\n",
    "    axlist[7].set_ylim(-5,15)\n",
    "\n",
    "    axlist[10].plot(xscan_Ta[0])\n",
    "    axlist[10].set_title(\"(-60, 0)\")\n",
    "    axlist[10].set_xlim(lim_mi, lim_ma)\n",
    "    axlist[10].set_ylim(-5,15)\n",
    "\n",
    "    axlist[11].plot(xscan_Ta[1])\n",
    "    axlist[11].set_title(\"(-30, 0)\")\n",
    "    axlist[11].set_xlim(lim_mi, lim_ma)\n",
    "    axlist[11].set_ylim(-5,15)\n",
    "\n",
    "    axlist[12].plot(xscan_Ta[2])\n",
    "    #axlist[12].plot(yscan_Ta[2])\n",
    "    axlist[12].set_title(\"(0, 0)\")\n",
    "    axlist[12].set_xlim(lim_mi, lim_ma)\n",
    "    axlist[12].set_ylim(-5,15)\n",
    "\n",
    "    axlist[13].plot(xscan_Ta[3])\n",
    "    axlist[13].set_title(\"(30, 0)\")\n",
    "    axlist[13].set_xlim(lim_mi, lim_ma)\n",
    "    axlist[13].set_ylim(-5,15)\n",
    "\n",
    "    axlist[14].plot(xscan_Ta[4])\n",
    "    axlist[14].set_title(\"(60, 0)\")\n",
    "    axlist[14].set_xlim(lim_mi, lim_ma)\n",
    "    axlist[14].set_ylim(-5,15)\n",
    "\n",
    "    axlist[17].plot(yscan_Ta[3])\n",
    "    axlist[17].set_title(\"(0, -30)\")\n",
    "    axlist[17].set_xlim(lim_mi, lim_ma)\n",
    "    axlist[17].set_ylim(-5,15)\n",
    "\n",
    "    axlist[22].plot(yscan_Ta[4])\n",
    "    axlist[22].set_title(\"(0, -60)\")\n",
    "    axlist[22].set_xlim(lim_mi, lim_ma)\n",
    "    axlist[22].set_ylim(-5,15)\n",
    "\n",
    "        \n",
    "    for i in [2,7,11,12,13,14,17,10,22]:\n",
    "        axlist[i].set_ylim(-10, 10\n",
    "                          )\n",
    "        axlist[i].set_xlim(19000, 22000)\n",
    "        \n",
    "    axlist[0].set_visible(False)\n",
    "    axlist[1].set_visible(False)\n",
    "    axlist[3].set_visible(False)\n",
    "    axlist[4].set_visible(False)\n",
    "    axlist[5].set_visible(False)\n",
    "    axlist[6].set_visible(False)\n",
    "    axlist[8].set_visible(False)\n",
    "    axlist[9].set_visible(False)\n",
    "    axlist[15].set_visible(False)\n",
    "    axlist[16].set_visible(False)\n",
    "    axlist[18].set_visible(False)\n",
    "    axlist[19].set_visible(False)\n",
    "    axlist[20].set_visible(False)\n",
    "    axlist[21].set_visible(False)\n",
    "    axlist[23].set_visible(False)\n",
    "    axlist[24].set_visible(False)\n",
    "\n",
    "    [a.grid() for a in axlist]\n",
    "\n",
    "    plt.axes([0.625,0.25, 0.25, 0.1])\n",
    "    plt.axis(\"off\")\n",
    "    #plt.text(0, 0.5, \"OBJECT :   {}\".format(hdu[1].data[\"OBJECT\"][0]), fontsize=10)\n",
    "    plt.text(0,0,\"dAz = {}\".format(round(dAz, 2)) + \"               dEl = {}\".format(round(dEl, 2)) + \"   (arcsec)\", fontsize = 10)\n",
    "    plt.text(0,-0.5,\"HPBW_AZ = {}\".format(round(hpbw_az, 2)) + \"  HPBW_EL = {}\".format(round(hpbw_el, 2)), fontsize = 10)\n",
    "    plt.text(0, -1.0, \"DATA PATH :   {}\".format(path), fontsize=6)\n",
    "\n",
    "except Exception as e:\n",
    "    print(\"\\033[31m[ERROR OCCURRED]\\033[0m\\n\", e)\n",
    "        \n",
    "    # same as above\n",
    "    fig2 = plt.figure(figsize = (20,20))\n",
    "        \n",
    "    axlist = [fig2.add_subplot(5,5,i+1) for i in range(25)]\n",
    "\n",
    "    axlist[2].plot(yscan_Ta[0])\n",
    "    axlist[2].set_title(\"(0, 60)\")\n",
    "    for i in [2,7,11,12,13,14,17,10,22]:\n",
    "        #axlist[i].set_ylim(-5,10)\n",
    "        #axlist[i].set_xlim(20000, 22000)\n",
    "        axlist[i].set_ylim(-10, 10)\n",
    "        axlist[i].set_xlim(19000, 22000)\n",
    "\n",
    "    axlist[7].plot(yscan_Ta[1])\n",
    "    axlist[7].set_title(\"(0, 30)\")\n",
    "  \n",
    "    axlist[10].plot(xscan_Ta[0])\n",
    "    axlist[10].set_title(\"(-60, 0)\")\n",
    "\n",
    "    axlist[11].plot(xscan_Ta[1])\n",
    "    axlist[11].set_title(\"(-30, 0)\")\n",
    "\n",
    "    \n",
    "    axlist[12].plot(xscan_Ta[2])\n",
    "    #axlist[12].plot(yscan_Ta[2])\n",
    "    axlist[12].set_title(\"(0, 0)\")\n",
    "\n",
    "    axlist[13].plot(xscan_Ta[3])\n",
    "    axlist[13].set_title(\"(30, 0)\")\n",
    "\n",
    "    axlist[14].plot(xscan_Ta[4])\n",
    "    axlist[14].set_title(\"(60, 0)\")\n",
    "\n",
    "    axlist[17].plot(yscan_Ta[3])\n",
    "    axlist[17].set_title(\"(0, -30)\")\n",
    "\n",
    "    axlist[22].plot(yscan_Ta[4])\n",
    "    axlist[22].set_title(\"(0, -60)\")\n",
    "\n",
    "    axlist[0].set_visible(False)\n",
    "    axlist[1].set_visible(False)\n",
    "    axlist[3].set_visible(False)\n",
    "    axlist[4].set_visible(False)\n",
    "    axlist[5].set_visible(False)\n",
    "    axlist[6].set_visible(False)\n",
    "    axlist[8].set_visible(False)\n",
    "    axlist[9].set_visible(False)\n",
    "    axlist[15].set_visible(False)\n",
    "    axlist[16].set_visible(False)\n",
    "    axlist[18].set_visible(False)\n",
    "    axlist[19].set_visible(False)\n",
    "    axlist[20].set_visible(False)\n",
    "    axlist[21].set_visible(False)\n",
    "    axlist[23].set_visible(False)\n",
    "    axlist[24].set_visible(False)\n",
    "\n",
    "    plt.axes([0.625,0.25, 0.25, 0.1])\n",
    "    plt.axis(\"off\")\n",
    "    plt.text(0, 0.5, \"ERROR OCCURRED\", fontsize=10)\n",
    "    #plt.text(0, 0, \"OBJECT :   {}\".format(hdu[1].data[\"OBJECT\"][0]), fontsize=10)\n",
    "    plt.text(0, -0.5, \"DATA PATH :   {}\".format(path), fontsize=6)\n",
    "\n",
    "    [a.grid() for a in axlist]\n",
    "\n",
    "finally:\n",
    "    if savefig:\n",
    "        #plt.savefig(savepath_filename)\n",
    "        pass\n",
    "    if plot:\n",
    "        plt.show()\n",
    "    else:\n",
    "        pass"
   ]
  },
  {
   "cell_type": "code",
   "execution_count": null,
   "metadata": {
    "collapsed": true
   },
   "outputs": [],
   "source": []
  },
  {
   "cell_type": "code",
   "execution_count": null,
   "metadata": {
    "collapsed": true
   },
   "outputs": [],
   "source": []
  },
  {
   "cell_type": "code",
   "execution_count": null,
   "metadata": {
    "collapsed": true
   },
   "outputs": [],
   "source": []
  }
 ],
 "metadata": {
  "kernelspec": {
   "display_name": "Python 3",
   "language": "python",
   "name": "python3"
  },
  "language_info": {
   "codemirror_mode": {
    "name": "ipython",
    "version": 3
   },
   "file_extension": ".py",
   "mimetype": "text/x-python",
   "name": "python",
   "nbconvert_exporter": "python",
   "pygments_lexer": "ipython3",
   "version": "3.6.1"
  }
 },
 "nbformat": 4,
 "nbformat_minor": 2
}
